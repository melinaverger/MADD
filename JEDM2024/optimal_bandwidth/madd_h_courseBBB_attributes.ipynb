{
 "cells": [
  {
   "cell_type": "code",
   "execution_count": 1,
   "id": "2fff4d94",
   "metadata": {},
   "outputs": [],
   "source": [
    "import pandas as pd\n",
    "import numpy as np\n",
    "import maddpkg\n",
    "from sklearn.model_selection import cross_val_score\n",
    "from sklearn.metrics import accuracy_score\n",
    "from sklearn.linear_model import LogisticRegression\n",
    "import matplotlib.pyplot as plt"
   ]
  },
  {
   "cell_type": "code",
   "execution_count": 2,
   "id": "ee9a3a6d",
   "metadata": {},
   "outputs": [],
   "source": [
    "# Load train and test sets\n",
    "\n",
    "X_train = pd.read_csv(\"./data_courseBBB/X_train_stClick_7030.csv\")\n",
    "X_test = pd.read_csv(\"./data_courseBBB/X_test_stClick_7030.csv\")\n",
    "y_train = pd.read_csv(\"./data_courseBBB/y_train_stClick_7030.csv\").values.ravel()\n",
    "y_test = pd.read_csv(\"./data_courseBBB/y_test_stClick_7030.csv\").values.ravel()"
   ]
  },
  {
   "cell_type": "code",
   "execution_count": 3,
   "id": "9961cdbc",
   "metadata": {},
   "outputs": [
    {
     "data": {
      "text/html": [
       "<style>#sk-container-id-1 {color: black;}#sk-container-id-1 pre{padding: 0;}#sk-container-id-1 div.sk-toggleable {background-color: white;}#sk-container-id-1 label.sk-toggleable__label {cursor: pointer;display: block;width: 100%;margin-bottom: 0;padding: 0.3em;box-sizing: border-box;text-align: center;}#sk-container-id-1 label.sk-toggleable__label-arrow:before {content: \"▸\";float: left;margin-right: 0.25em;color: #696969;}#sk-container-id-1 label.sk-toggleable__label-arrow:hover:before {color: black;}#sk-container-id-1 div.sk-estimator:hover label.sk-toggleable__label-arrow:before {color: black;}#sk-container-id-1 div.sk-toggleable__content {max-height: 0;max-width: 0;overflow: hidden;text-align: left;background-color: #f0f8ff;}#sk-container-id-1 div.sk-toggleable__content pre {margin: 0.2em;color: black;border-radius: 0.25em;background-color: #f0f8ff;}#sk-container-id-1 input.sk-toggleable__control:checked~div.sk-toggleable__content {max-height: 200px;max-width: 100%;overflow: auto;}#sk-container-id-1 input.sk-toggleable__control:checked~label.sk-toggleable__label-arrow:before {content: \"▾\";}#sk-container-id-1 div.sk-estimator input.sk-toggleable__control:checked~label.sk-toggleable__label {background-color: #d4ebff;}#sk-container-id-1 div.sk-label input.sk-toggleable__control:checked~label.sk-toggleable__label {background-color: #d4ebff;}#sk-container-id-1 input.sk-hidden--visually {border: 0;clip: rect(1px 1px 1px 1px);clip: rect(1px, 1px, 1px, 1px);height: 1px;margin: -1px;overflow: hidden;padding: 0;position: absolute;width: 1px;}#sk-container-id-1 div.sk-estimator {font-family: monospace;background-color: #f0f8ff;border: 1px dotted black;border-radius: 0.25em;box-sizing: border-box;margin-bottom: 0.5em;}#sk-container-id-1 div.sk-estimator:hover {background-color: #d4ebff;}#sk-container-id-1 div.sk-parallel-item::after {content: \"\";width: 100%;border-bottom: 1px solid gray;flex-grow: 1;}#sk-container-id-1 div.sk-label:hover label.sk-toggleable__label {background-color: #d4ebff;}#sk-container-id-1 div.sk-serial::before {content: \"\";position: absolute;border-left: 1px solid gray;box-sizing: border-box;top: 0;bottom: 0;left: 50%;z-index: 0;}#sk-container-id-1 div.sk-serial {display: flex;flex-direction: column;align-items: center;background-color: white;padding-right: 0.2em;padding-left: 0.2em;position: relative;}#sk-container-id-1 div.sk-item {position: relative;z-index: 1;}#sk-container-id-1 div.sk-parallel {display: flex;align-items: stretch;justify-content: center;background-color: white;position: relative;}#sk-container-id-1 div.sk-item::before, #sk-container-id-1 div.sk-parallel-item::before {content: \"\";position: absolute;border-left: 1px solid gray;box-sizing: border-box;top: 0;bottom: 0;left: 50%;z-index: -1;}#sk-container-id-1 div.sk-parallel-item {display: flex;flex-direction: column;z-index: 1;position: relative;background-color: white;}#sk-container-id-1 div.sk-parallel-item:first-child::after {align-self: flex-end;width: 50%;}#sk-container-id-1 div.sk-parallel-item:last-child::after {align-self: flex-start;width: 50%;}#sk-container-id-1 div.sk-parallel-item:only-child::after {width: 0;}#sk-container-id-1 div.sk-dashed-wrapped {border: 1px dashed gray;margin: 0 0.4em 0.5em 0.4em;box-sizing: border-box;padding-bottom: 0.4em;background-color: white;}#sk-container-id-1 div.sk-label label {font-family: monospace;font-weight: bold;display: inline-block;line-height: 1.2em;}#sk-container-id-1 div.sk-label-container {text-align: center;}#sk-container-id-1 div.sk-container {/* jupyter's `normalize.less` sets `[hidden] { display: none; }` but bootstrap.min.css set `[hidden] { display: none !important; }` so we also need the `!important` here to be able to override the default hidden behavior on the sphinx rendered scikit-learn.org. See: https://github.com/scikit-learn/scikit-learn/issues/21755 */display: inline-block !important;position: relative;}#sk-container-id-1 div.sk-text-repr-fallback {display: none;}</style><div id=\"sk-container-id-1\" class=\"sk-top-container\"><div class=\"sk-text-repr-fallback\"><pre>LogisticRegression(random_state=0)</pre><b>In a Jupyter environment, please rerun this cell to show the HTML representation or trust the notebook. <br />On GitHub, the HTML representation is unable to render, please try loading this page with nbviewer.org.</b></div><div class=\"sk-container\" hidden><div class=\"sk-item\"><div class=\"sk-estimator sk-toggleable\"><input class=\"sk-toggleable__control sk-hidden--visually\" id=\"sk-estimator-id-1\" type=\"checkbox\" checked><label for=\"sk-estimator-id-1\" class=\"sk-toggleable__label sk-toggleable__label-arrow\">LogisticRegression</label><div class=\"sk-toggleable__content\"><pre>LogisticRegression(random_state=0)</pre></div></div></div></div></div>"
      ],
      "text/plain": [
       "LogisticRegression(random_state=0)"
      ]
     },
     "execution_count": 3,
     "metadata": {},
     "output_type": "execute_result"
    }
   ],
   "source": [
    "# Learn a classifier\n",
    "\n",
    "model = LogisticRegression(random_state=0)\n",
    "model.fit(X_train, y_train)"
   ]
  },
  {
   "cell_type": "code",
   "execution_count": 4,
   "id": "15d16b28",
   "metadata": {},
   "outputs": [
    {
     "name": "stdout",
     "output_type": "stream",
     "text": [
      "Accuracy on the train set with cross-validation: \n",
      " - 0.72 with a standard deviation of 0.01\n",
      "Accuracy on the test set: \n",
      " - 0.72\n"
     ]
    }
   ],
   "source": [
    "NB_FOLD = 5\n",
    "scores_train = cross_val_score(model, X_train, y_train, cv=NB_FOLD)\n",
    "print(\"Accuracy on the train set with cross-validation: \\n - %0.2f with a standard deviation of %0.2f\" % (scores_train.mean(), scores_train.std()))\n",
    "print(f\"Accuracy on the test set: \\n - {round(accuracy_score(y_test, model.predict(X_test)), 2)}\")"
   ]
  },
  {
   "cell_type": "code",
   "execution_count": 5,
   "id": "9ec01792",
   "metadata": {},
   "outputs": [],
   "source": [
    "# Predicted probabilities of positive predictions\n",
    "\n",
    "y_pp = model.predict_proba(X_test)[:, 1] "
   ]
  },
  {
   "cell_type": "code",
   "execution_count": 6,
   "id": "9d4b8eaf",
   "metadata": {},
   "outputs": [],
   "source": [
    "sensitive_feature = \"gender\""
   ]
  },
  {
   "cell_type": "markdown",
   "id": "6c4957cd",
   "metadata": {},
   "source": [
    "## MADD(e)"
   ]
  },
  {
   "cell_type": "code",
   "execution_count": 7,
   "id": "35169d15",
   "metadata": {},
   "outputs": [],
   "source": [
    "e = np.linspace(start=0.0001, stop=1, num=10000, endpoint=False)"
   ]
  },
  {
   "cell_type": "code",
   "execution_count": 8,
   "id": "12adf081",
   "metadata": {},
   "outputs": [],
   "source": [
    "madd = [maddpkg.MADD(X_test, y_pp, sensitive_feature, ei) for ei in e]"
   ]
  },
  {
   "cell_type": "code",
   "execution_count": 9,
   "id": "fd5413d7",
   "metadata": {},
   "outputs": [
    {
     "name": "stdout",
     "output_type": "stream",
     "text": [
      "MADD minimum: 0.0\n",
      "e associated: 0.50005\n"
     ]
    }
   ],
   "source": [
    "madd_min_ind = np.argmin(madd)\n",
    "print(\"MADD minimum:\", madd[madd_min_ind])\n",
    "print(\"e associated:\", e[madd_min_ind])"
   ]
  },
  {
   "cell_type": "code",
   "execution_count": 10,
   "id": "c5aa229c",
   "metadata": {},
   "outputs": [],
   "source": [
    "#plt.plot(e, madd)\n",
    "#plt.plot(e[madd_min_ind], madd[madd_min_ind], \"o\", label=\"MADD minimum\")\n",
    "#plt.xlabel(\"e\")\n",
    "#plt.ylabel(\"MADD\")\n",
    "#plt.title(\"MADD(e) with real-data (OULAD course BBB, logistic classifier, \" + sensitive_feature + \")\")"
   ]
  },
  {
   "cell_type": "markdown",
   "id": "ec766ef5",
   "metadata": {},
   "source": [
    "## MADD(e) focus on [0, 1]*optimal order"
   ]
  },
  {
   "cell_type": "code",
   "execution_count": 11,
   "id": "2d12f823",
   "metadata": {},
   "outputs": [
    {
     "name": "stdout",
     "output_type": "stream",
     "text": [
      "1404\n",
      "186\n",
      "0.21546010543476263\n"
     ]
    }
   ],
   "source": [
    "n0 = len(X_test[X_test[sensitive_feature] == 0])\n",
    "n1 = len(X_test[X_test[sensitive_feature] == 1])\n",
    "order = ( (n0**(1/2) + n1**(1/2)) / (n0*n1)**(1/2) )**(2/3)\n",
    "print(n0)\n",
    "print(n1)\n",
    "print(order)"
   ]
  },
  {
   "cell_type": "code",
   "execution_count": 12,
   "id": "e0d88e91",
   "metadata": {},
   "outputs": [],
   "source": [
    "e = np.linspace(start=0.0001, stop=order, num=10000, endpoint=False)"
   ]
  },
  {
   "cell_type": "code",
   "execution_count": 13,
   "id": "6f38ee00",
   "metadata": {},
   "outputs": [],
   "source": [
    "madd = [maddpkg.MADD(X_test, y_pp, sensitive_feature, ei) for ei in e]"
   ]
  },
  {
   "cell_type": "code",
   "execution_count": 14,
   "id": "55c74783",
   "metadata": {},
   "outputs": [
    {
     "name": "stdout",
     "output_type": "stream",
     "text": [
      "MADD minimum: 0.10426431394173336\n",
      "e associated: 0.20001878587509014\n"
     ]
    }
   ],
   "source": [
    "madd_min_ind = np.argmin(madd)\n",
    "print(\"MADD minimum:\", madd[madd_min_ind])\n",
    "print(\"e associated:\", e[madd_min_ind])"
   ]
  },
  {
   "cell_type": "code",
   "execution_count": 15,
   "id": "03c89b6e",
   "metadata": {},
   "outputs": [
    {
     "data": {
      "text/plain": [
       "Text(0.5, 1.0, 'MADD(e) with real-data (OULAD course BBB, logistic classifier, gender)')"
      ]
     },
     "execution_count": 15,
     "metadata": {},
     "output_type": "execute_result"
    },
    {
     "data": {
      "image/png": "[encoded data removed]",
      "text/plain": [
       "<Figure size 640x480 with 1 Axes>"
      ]
     },
     "metadata": {},
     "output_type": "display_data"
    }
   ],
   "source": [
    "plt.plot(e, madd)\n",
    "plt.plot(e[madd_min_ind], madd[madd_min_ind], \"o\", label=\"MADD minimum\")\n",
    "plt.xlabel(\"e\")\n",
    "plt.ylabel(\"MADD\")\n",
    "plt.title(\"MADD(e) with real-data (OULAD course BBB, logistic classifier, \" + sensitive_feature + \")\")"
   ]
  },
  {
   "cell_type": "code",
   "execution_count": 22,
   "id": "be811dae",
   "metadata": {},
   "outputs": [],
   "source": [
    "ind_cv = np.where(e< 0.065)[0][-1]"
   ]
  },
  {
   "cell_type": "code",
   "execution_count": 23,
   "id": "81bcc073",
   "metadata": {},
   "outputs": [
    {
     "data": {
      "text/plain": [
       "0.20981527433140335"
      ]
     },
     "execution_count": 23,
     "metadata": {},
     "output_type": "execute_result"
    }
   ],
   "source": [
    "madd[ind_cv]"
   ]
  },
  {
   "cell_type": "code",
   "execution_count": null,
   "id": "64e38af0",
   "metadata": {},
   "outputs": [],
   "source": []
  }
 ],
 "metadata": {
  "kernelspec": {
   "display_name": "env",
   "language": "python",
   "name": "env"
  },
  "language_info": {
   "codemirror_mode": {
    "name": "ipython",
    "version": 3
   },
   "file_extension": ".py",
   "mimetype": "text/x-python",
   "name": "python",
   "nbconvert_exporter": "python",
   "pygments_lexer": "ipython3",
   "version": "3.10.4"
  }
 },
 "nbformat": 4,
 "nbformat_minor": 5
}
