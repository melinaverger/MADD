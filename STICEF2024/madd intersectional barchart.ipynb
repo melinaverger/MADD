{
 "cells": [
  {
   "cell_type": "code",
   "execution_count": 1,
   "id": "927364f4",
   "metadata": {},
   "outputs": [],
   "source": [
    "#import sys\n",
    "#sys.path.append(\"./venv_multiatt/lib/python3.10/site-packages\")"
   ]
  },
  {
   "cell_type": "code",
   "execution_count": 12,
   "id": "f369d4cc",
   "metadata": {},
   "outputs": [],
   "source": [
    "import maddpkg\n",
    "import pandas as pd\n",
    "import numpy as np\n",
    "import matplotlib.pyplot as plt\n",
    "from sklearn.model_selection import train_test_split\n",
    "from sklearn.tree import DecisionTreeClassifier\n",
    "from sklearn.metrics import accuracy_score"
   ]
  },
  {
   "cell_type": "code",
   "execution_count": 13,
   "id": "c6233a12",
   "metadata": {},
   "outputs": [],
   "source": [
    "seed = 0"
   ]
  },
  {
   "cell_type": "markdown",
   "id": "495a4e8d",
   "metadata": {},
   "source": [
    "## Data"
   ]
  },
  {
   "cell_type": "code",
   "execution_count": 14,
   "id": "b728fdbd-6741-49d6-8113-b6f58e806ccc",
   "metadata": {},
   "outputs": [],
   "source": [
    "path_to_data = \"./data_courseBBB_age_binarized/\"\n",
    "X_train = pd.read_csv(path_to_data + \"X_train_stClick_7030.csv\")\n",
    "X_test = pd.read_csv(path_to_data + \"X_test_stClick_7030.csv\")\n",
    "y_train = pd.read_csv(path_to_data + \"y_train_stClick_7030.csv\").values.ravel()\n",
    "y_test = pd.read_csv(path_to_data + \"y_test_stClick_7030.csv\").values.ravel()"
   ]
  },
  {
   "cell_type": "code",
   "execution_count": 15,
   "id": "98eab957-bc12-45f5-9821-a54e0cfe7032",
   "metadata": {},
   "outputs": [
    {
     "name": "stdout",
     "output_type": "stream",
     "text": [
      "(3709, 8)\n",
      "(1590, 8)\n"
     ]
    }
   ],
   "source": [
    "print(X_train.shape)\n",
    "print(X_test.shape)"
   ]
  },
  {
   "cell_type": "code",
   "execution_count": 16,
   "id": "690b2d92-7592-458c-8554-7a3f1592e161",
   "metadata": {},
   "outputs": [
    {
     "data": {
      "text/plain": [
       "Index(['gender', 'highest_education', 'poverty', 'age', 'disability',\n",
       "       'num_of_prev_attempts', 'studied_credits', 'sum_click'],\n",
       "      dtype='object')"
      ]
     },
     "execution_count": 16,
     "metadata": {},
     "output_type": "execute_result"
    }
   ],
   "source": [
    "X_test.columns"
   ]
  },
  {
   "cell_type": "code",
   "execution_count": 17,
   "id": "665679c1",
   "metadata": {},
   "outputs": [
    {
     "name": "stdout",
     "output_type": "stream",
     "text": [
      "[1 0]\n",
      "[0. 1.]\n",
      "[0. 1.]\n",
      "[1. 0.]\n"
     ]
    }
   ],
   "source": [
    "print(X_test[\"age\"].unique())\n",
    "print(X_test[\"disability\"].unique())\n",
    "print(X_test[\"gender\"].unique())\n",
    "print(X_test[\"poverty\"].unique())"
   ]
  },
  {
   "cell_type": "markdown",
   "id": "327fcc77",
   "metadata": {},
   "source": [
    "## Model learning"
   ]
  },
  {
   "cell_type": "code",
   "execution_count": 19,
   "id": "ab7ba082",
   "metadata": {},
   "outputs": [
    {
     "data": {
      "text/html": [
       "<style>#sk-container-id-1 {color: black;}#sk-container-id-1 pre{padding: 0;}#sk-container-id-1 div.sk-toggleable {background-color: white;}#sk-container-id-1 label.sk-toggleable__label {cursor: pointer;display: block;width: 100%;margin-bottom: 0;padding: 0.3em;box-sizing: border-box;text-align: center;}#sk-container-id-1 label.sk-toggleable__label-arrow:before {content: \"▸\";float: left;margin-right: 0.25em;color: #696969;}#sk-container-id-1 label.sk-toggleable__label-arrow:hover:before {color: black;}#sk-container-id-1 div.sk-estimator:hover label.sk-toggleable__label-arrow:before {color: black;}#sk-container-id-1 div.sk-toggleable__content {max-height: 0;max-width: 0;overflow: hidden;text-align: left;background-color: #f0f8ff;}#sk-container-id-1 div.sk-toggleable__content pre {margin: 0.2em;color: black;border-radius: 0.25em;background-color: #f0f8ff;}#sk-container-id-1 input.sk-toggleable__control:checked~div.sk-toggleable__content {max-height: 200px;max-width: 100%;overflow: auto;}#sk-container-id-1 input.sk-toggleable__control:checked~label.sk-toggleable__label-arrow:before {content: \"▾\";}#sk-container-id-1 div.sk-estimator input.sk-toggleable__control:checked~label.sk-toggleable__label {background-color: #d4ebff;}#sk-container-id-1 div.sk-label input.sk-toggleable__control:checked~label.sk-toggleable__label {background-color: #d4ebff;}#sk-container-id-1 input.sk-hidden--visually {border: 0;clip: rect(1px 1px 1px 1px);clip: rect(1px, 1px, 1px, 1px);height: 1px;margin: -1px;overflow: hidden;padding: 0;position: absolute;width: 1px;}#sk-container-id-1 div.sk-estimator {font-family: monospace;background-color: #f0f8ff;border: 1px dotted black;border-radius: 0.25em;box-sizing: border-box;margin-bottom: 0.5em;}#sk-container-id-1 div.sk-estimator:hover {background-color: #d4ebff;}#sk-container-id-1 div.sk-parallel-item::after {content: \"\";width: 100%;border-bottom: 1px solid gray;flex-grow: 1;}#sk-container-id-1 div.sk-label:hover label.sk-toggleable__label {background-color: #d4ebff;}#sk-container-id-1 div.sk-serial::before {content: \"\";position: absolute;border-left: 1px solid gray;box-sizing: border-box;top: 0;bottom: 0;left: 50%;z-index: 0;}#sk-container-id-1 div.sk-serial {display: flex;flex-direction: column;align-items: center;background-color: white;padding-right: 0.2em;padding-left: 0.2em;position: relative;}#sk-container-id-1 div.sk-item {position: relative;z-index: 1;}#sk-container-id-1 div.sk-parallel {display: flex;align-items: stretch;justify-content: center;background-color: white;position: relative;}#sk-container-id-1 div.sk-item::before, #sk-container-id-1 div.sk-parallel-item::before {content: \"\";position: absolute;border-left: 1px solid gray;box-sizing: border-box;top: 0;bottom: 0;left: 50%;z-index: -1;}#sk-container-id-1 div.sk-parallel-item {display: flex;flex-direction: column;z-index: 1;position: relative;background-color: white;}#sk-container-id-1 div.sk-parallel-item:first-child::after {align-self: flex-end;width: 50%;}#sk-container-id-1 div.sk-parallel-item:last-child::after {align-self: flex-start;width: 50%;}#sk-container-id-1 div.sk-parallel-item:only-child::after {width: 0;}#sk-container-id-1 div.sk-dashed-wrapped {border: 1px dashed gray;margin: 0 0.4em 0.5em 0.4em;box-sizing: border-box;padding-bottom: 0.4em;background-color: white;}#sk-container-id-1 div.sk-label label {font-family: monospace;font-weight: bold;display: inline-block;line-height: 1.2em;}#sk-container-id-1 div.sk-label-container {text-align: center;}#sk-container-id-1 div.sk-container {/* jupyter's `normalize.less` sets `[hidden] { display: none; }` but bootstrap.min.css set `[hidden] { display: none !important; }` so we also need the `!important` here to be able to override the default hidden behavior on the sphinx rendered scikit-learn.org. See: https://github.com/scikit-learn/scikit-learn/issues/21755 */display: inline-block !important;position: relative;}#sk-container-id-1 div.sk-text-repr-fallback {display: none;}</style><div id=\"sk-container-id-1\" class=\"sk-top-container\"><div class=\"sk-text-repr-fallback\"><pre>DecisionTreeClassifier(random_state=0)</pre><b>In a Jupyter environment, please rerun this cell to show the HTML representation or trust the notebook. <br />On GitHub, the HTML representation is unable to render, please try loading this page with nbviewer.org.</b></div><div class=\"sk-container\" hidden><div class=\"sk-item\"><div class=\"sk-estimator sk-toggleable\"><input class=\"sk-toggleable__control sk-hidden--visually\" id=\"sk-estimator-id-1\" type=\"checkbox\" checked><label for=\"sk-estimator-id-1\" class=\"sk-toggleable__label sk-toggleable__label-arrow\">DecisionTreeClassifier</label><div class=\"sk-toggleable__content\"><pre>DecisionTreeClassifier(random_state=0)</pre></div></div></div></div></div>"
      ],
      "text/plain": [
       "DecisionTreeClassifier(random_state=0)"
      ]
     },
     "execution_count": 19,
     "metadata": {},
     "output_type": "execute_result"
    }
   ],
   "source": [
    "model = DecisionTreeClassifier(random_state=seed)\n",
    "model.fit(X_train, y_train)"
   ]
  },
  {
   "cell_type": "code",
   "execution_count": 20,
   "id": "d61fdf1b",
   "metadata": {},
   "outputs": [
    {
     "name": "stdout",
     "output_type": "stream",
     "text": [
      "0.7081761006289308\n",
      "0.6981132075471698\n"
     ]
    }
   ],
   "source": [
    "print(accuracy_score(y_test, model.predict(X_test)))\n",
    "print(len(y_test[y_test == 1]) / len(y_test))"
   ]
  },
  {
   "cell_type": "markdown",
   "id": "61c6d568",
   "metadata": {},
   "source": [
    "## Evaluation"
   ]
  },
  {
   "cell_type": "code",
   "execution_count": 27,
   "id": "3ace94bb",
   "metadata": {},
   "outputs": [],
   "source": [
    "nb_sf = 4\n",
    "sf = [\"gender\", \"poverty\", \"disability\", \"age\"]\n",
    "rez = dict()"
   ]
  },
  {
   "cell_type": "code",
   "execution_count": 28,
   "id": "d4375013",
   "metadata": {},
   "outputs": [
    {
     "name": "stdout",
     "output_type": "stream",
     "text": [
      "['gender1', 'gender0', 'poverty1', 'poverty0', 'disability1', 'disability0', 'age1', 'age0']\n"
     ]
    }
   ],
   "source": [
    "sf_detailed = list()\n",
    "\n",
    "for sf_name in sf:\n",
    "    sf_detailed.append(sf_name+\"1\")\n",
    "    sf_detailed.append(sf_name+\"0\")\n",
    "    \n",
    "print(sf_detailed)"
   ]
  },
  {
   "cell_type": "code",
   "execution_count": 29,
   "id": "cfc7059f",
   "metadata": {
    "scrolled": true
   },
   "outputs": [
    {
     "name": "stdout",
     "output_type": "stream",
     "text": [
      "[('gender1', 'poverty1', 'disability1', 'age1'), ('gender1', 'poverty1', 'disability1', 'age0'), ('gender1', 'poverty1', 'disability0', 'age1'), ('gender1', 'poverty1', 'disability0', 'age0'), ('gender1', 'poverty0', 'disability1', 'age1'), ('gender1', 'poverty0', 'disability1', 'age0'), ('gender1', 'poverty0', 'disability0', 'age1'), ('gender1', 'poverty0', 'disability0', 'age0'), ('gender0', 'poverty1', 'disability1', 'age1'), ('gender0', 'poverty1', 'disability1', 'age0'), ('gender0', 'poverty1', 'disability0', 'age1'), ('gender0', 'poverty1', 'disability0', 'age0'), ('gender0', 'poverty0', 'disability1', 'age1'), ('gender0', 'poverty0', 'disability1', 'age0'), ('gender0', 'poverty0', 'disability0', 'age1'), ('gender0', 'poverty0', 'disability0', 'age0')]\n",
      "Length: 16\n"
     ]
    }
   ],
   "source": [
    "from itertools import combinations\n",
    "\n",
    "combi_all = list(combinations(sf_detailed, 4))\n",
    "combi = list()\n",
    "\n",
    "for elem in combi_all:\n",
    "    count_identical = 0\n",
    "    for i in range(len(elem) - 1):\n",
    "        if elem[i][:3] == elem[i+1][:3]:\n",
    "            count_identical += 1\n",
    "    if count_identical == 0:\n",
    "        combi.append(elem)\n",
    "\n",
    "print(combi)\n",
    "print(\"Length:\", len(combi))"
   ]
  },
  {
   "cell_type": "code",
   "execution_count": 30,
   "id": "d4a229f8",
   "metadata": {},
   "outputs": [
    {
     "data": {
      "text/plain": [
       "[('gender1', 'poverty1', 'disability1', 'age1'),\n",
       " ('gender1', 'poverty1', 'disability1', 'age0'),\n",
       " ('gender1', 'poverty1', 'disability0', 'age1'),\n",
       " ('gender1', 'poverty1', 'disability0', 'age0'),\n",
       " ('gender1', 'poverty0', 'disability1', 'age1'),\n",
       " ('gender1', 'poverty0', 'disability1', 'age0'),\n",
       " ('gender1', 'poverty0', 'disability0', 'age1'),\n",
       " ('gender1', 'poverty0', 'disability0', 'age0'),\n",
       " ('gender0', 'poverty1', 'disability1', 'age1'),\n",
       " ('gender0', 'poverty1', 'disability1', 'age0'),\n",
       " ('gender0', 'poverty1', 'disability0', 'age1'),\n",
       " ('gender0', 'poverty1', 'disability0', 'age0'),\n",
       " ('gender0', 'poverty0', 'disability1', 'age1'),\n",
       " ('gender0', 'poverty0', 'disability1', 'age0'),\n",
       " ('gender0', 'poverty0', 'disability0', 'age1'),\n",
       " ('gender0', 'poverty0', 'disability0', 'age0')]"
      ]
     },
     "execution_count": 30,
     "metadata": {},
     "output_type": "execute_result"
    }
   ],
   "source": [
    "combi"
   ]
  },
  {
   "cell_type": "code",
   "execution_count": 31,
   "id": "e097db26",
   "metadata": {},
   "outputs": [
    {
     "name": "stdout",
     "output_type": "stream",
     "text": [
      "{('gender1', 'poverty1', 'disability1', 'age1'): {'madd': 1.4240705734089478, 'accuracy': 0.3333333333333333}, ('gender1', 'poverty1', 'disability1', 'age0'): {'madd': 0.6253164556962025, 'accuracy': 0.7}, ('gender1', 'poverty1', 'disability0', 'age1'): {'madd': 0.3426437727860755, 'accuracy': 0.5}, ('gender1', 'poverty1', 'disability0', 'age0'): {'madd': 0.059390803245913254, 'accuracy': 0.6363636363636364}, ('gender1', 'poverty0', 'disability1', 'age1'): {'madd': 0.631843926998112, 'accuracy': 1.0}, ('gender1', 'poverty0', 'disability1', 'age0'): {'madd': 0.35835962145110406, 'accuracy': 0.8}, ('gender1', 'poverty0', 'disability0', 'age1'): {'madd': 0.07606798346348187, 'accuracy': 0.7428571428571429}, ('gender1', 'poverty0', 'disability0', 'age0'): {'madd': 0.01540632717864289, 'accuracy': 0.6818181818181818}, ('gender0', 'poverty1', 'disability1', 'age1'): {'madd': 0.594260175050177, 'accuracy': 0.4838709677419355}, ('gender0', 'poverty1', 'disability1', 'age0'): {'madd': 0.2626459143968872, 'accuracy': 0.6875}, ('gender0', 'poverty1', 'disability0', 'age1'): {'madd': 0.06890552908252029, 'accuracy': 0.7307692307692307}, ('gender0', 'poverty1', 'disability0', 'age0'): {'madd': 0.1996224668392808, 'accuracy': 0.6848249027237354}, ('gender0', 'poverty0', 'disability1', 'age1'): {'madd': 0.6382708200890019, 'accuracy': 0.8235294117647058}, ('gender0', 'poverty0', 'disability1', 'age0'): {'madd': 0.19023245894647053, 'accuracy': 0.5925925925925926}, ('gender0', 'poverty0', 'disability0', 'age1'): {'madd': 0.3325051759834369, 'accuracy': 0.7714285714285715}, ('gender0', 'poverty0', 'disability0', 'age0'): {'madd': 0.13265533023328546, 'accuracy': 0.7554179566563467}}\n"
     ]
    }
   ],
   "source": [
    "for i in range(len(combi)): # 16\n",
    "\n",
    "    x_ = X_test.copy()\n",
    "\n",
    "    for j in range(len(combi[i])): # 4\n",
    "        \n",
    "        elem = combi[i][j]\n",
    "        \n",
    "        num = int(elem[-1])\n",
    "        sf_name = elem[:-1]\n",
    "        \n",
    "        x_ = x_[x_[sf_name] == num]\n",
    "        \n",
    "    # calcul des index, madd et accuracy\n",
    "    y_test_ = y_test[x_.index]\n",
    "    y_pred_ = model.predict(x_)\n",
    "    acc = accuracy_score(y_test_, y_pred_) # for this group\n",
    "    \n",
    "    y_pp_group = model.predict_proba(x_)[:, 1] \n",
    "    y_pp_rest = model.predict_proba(X_test[~X_test.index.isin(x_.index)])[:, 1] \n",
    "    madd = maddpkg.MADD(h=\"auto\", pred_proba_sf0=np.array(y_pp_group), pred_proba_sf1=np.array(y_pp_rest)) # for this group vs. the rest\n",
    "    \n",
    "    rez[combi[i]] = {\"madd\": madd, \"accuracy\": acc}\n",
    "    \n",
    "print(rez)"
   ]
  },
  {
   "cell_type": "markdown",
   "id": "9f95bc0b",
   "metadata": {},
   "source": [
    "## Visualisation"
   ]
  },
  {
   "cell_type": "code",
   "execution_count": 32,
   "id": "826cc7c3",
   "metadata": {},
   "outputs": [],
   "source": [
    "madds = list()\n",
    "accs = list()\n",
    "\n",
    "for key in rez:\n",
    "    madds.append(rez[key][\"madd\"])\n",
    "    accs.append(rez[key][\"accuracy\"])"
   ]
  },
  {
   "cell_type": "code",
   "execution_count": 33,
   "id": "2fba28df",
   "metadata": {},
   "outputs": [
    {
     "data": {
      "text/plain": [
       "[('gender1', 'poverty1', 'disability1', 'age1'),\n",
       " ('gender1', 'poverty1', 'disability1', 'age0'),\n",
       " ('gender1', 'poverty1', 'disability0', 'age1'),\n",
       " ('gender1', 'poverty1', 'disability0', 'age0'),\n",
       " ('gender1', 'poverty0', 'disability1', 'age1'),\n",
       " ('gender1', 'poverty0', 'disability1', 'age0'),\n",
       " ('gender1', 'poverty0', 'disability0', 'age1'),\n",
       " ('gender1', 'poverty0', 'disability0', 'age0'),\n",
       " ('gender0', 'poverty1', 'disability1', 'age1'),\n",
       " ('gender0', 'poverty1', 'disability1', 'age0'),\n",
       " ('gender0', 'poverty1', 'disability0', 'age1'),\n",
       " ('gender0', 'poverty1', 'disability0', 'age0'),\n",
       " ('gender0', 'poverty0', 'disability1', 'age1'),\n",
       " ('gender0', 'poverty0', 'disability1', 'age0'),\n",
       " ('gender0', 'poverty0', 'disability0', 'age1'),\n",
       " ('gender0', 'poverty0', 'disability0', 'age0')]"
      ]
     },
     "execution_count": 33,
     "metadata": {},
     "output_type": "execute_result"
    }
   ],
   "source": [
    "list(rez.keys())"
   ]
  },
  {
   "cell_type": "code",
   "execution_count": 52,
   "id": "d7ca22a9-badc-4b91-bae7-544879c65734",
   "metadata": {},
   "outputs": [
    {
     "data": {
      "text/plain": [
       "(0.0, 2.0)"
      ]
     },
     "execution_count": 52,
     "metadata": {},
     "output_type": "execute_result"
    },
    {
     "data": {
      "image/png": "[encoded data removed]",
      "text/plain": [
       "<Figure size 640x480 with 1 Axes>"
      ]
     },
     "metadata": {},
     "output_type": "display_data"
    }
   ],
   "source": [
    "x = [chr(code) for code in range(65, 65+16)]\n",
    "plt.bar(x, np.array(madds), color=\"blue\", label=\"MADD\")\n",
    "plt.plot(x, [0.85 for i in range(16)], \"--\", color=\"red\")\n",
    "plt.ylim([0, 2])"
   ]
  },
  {
   "cell_type": "code",
   "execution_count": 36,
   "id": "bae866ea",
   "metadata": {},
   "outputs": [
    {
     "data": {
      "text/plain": [
       "('gender0', 'poverty1', 'disability1', 'age1')"
      ]
     },
     "execution_count": 36,
     "metadata": {},
     "output_type": "execute_result"
    }
   ],
   "source": [
    "list(rez.keys())[8]"
   ]
  },
  {
   "cell_type": "code",
   "execution_count": 23,
   "id": "61e7f827",
   "metadata": {},
   "outputs": [
    {
     "data": {
      "text/plain": [
       "('gender1', 'imd_band0', 'disability1', 'age_band1')"
      ]
     },
     "execution_count": 23,
     "metadata": {},
     "output_type": "execute_result"
    }
   ],
   "source": [
    "list(rez.keys())[4]"
   ]
  },
  {
   "cell_type": "code",
   "execution_count": 31,
   "id": "5d4eabc9",
   "metadata": {},
   "outputs": [
    {
     "name": "stdout",
     "output_type": "stream",
     "text": [
      "0.3871118703841608\n",
      "0.3055088341465988\n",
      "0.47733297522325924\n",
      "0.3474769836249912\n"
     ]
    }
   ],
   "source": [
    "y_pp0 = model.predict_proba(X_test[X_test[\"gender\"] == 0])[:, 1]\n",
    "y_pp1 = model.predict_proba(X_test[X_test[\"gender\"] == 1])[:, 1]\n",
    "print(maddpkg.MADD(h=\"auto\", pred_proba_sf0=y_pp0, pred_proba_sf1=y_pp1))\n",
    "\n",
    "y_pp0 = model.predict_proba(X_test[X_test[\"disability\"] == 0])[:, 1]\n",
    "y_pp1 = model.predict_proba(X_test[X_test[\"disability\"] == 1])[:, 1]\n",
    "print(maddpkg.MADD(h=\"auto\", pred_proba_sf0=y_pp0, pred_proba_sf1=y_pp1))\n",
    "\n",
    "y_pp0 = model.predict_proba(X_test[X_test[\"imd_band\"] == 0])[:, 1]\n",
    "y_pp1 = model.predict_proba(X_test[X_test[\"imd_band\"] == 1])[:, 1]\n",
    "print(maddpkg.MADD(h=\"auto\", pred_proba_sf0=y_pp0, pred_proba_sf1=y_pp1))\n",
    "\n",
    "y_pp0 = model.predict_proba(X_test[X_test[\"age_band\"] == 0])[:, 1]\n",
    "y_pp1 = model.predict_proba(X_test[X_test[\"age_band\"] == 1])[:, 1]\n",
    "print(maddpkg.MADD(h=\"auto\", pred_proba_sf0=y_pp0, pred_proba_sf1=y_pp1))"
   ]
  }
 ],
 "metadata": {
  "kernelspec": {
   "display_name": "venv_multiatt",
   "language": "python",
   "name": "venv_multiatt"
  },
  "language_info": {
   "codemirror_mode": {
    "name": "ipython",
    "version": 3
   },
   "file_extension": ".py",
   "mimetype": "text/x-python",
   "name": "python",
   "nbconvert_exporter": "python",
   "pygments_lexer": "ipython3",
   "version": "3.10.4"
  }
 },
 "nbformat": 4,
 "nbformat_minor": 5
}
