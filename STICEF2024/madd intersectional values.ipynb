{
 "cells": [
  {
   "cell_type": "code",
   "execution_count": 1,
   "id": "05835d7a",
   "metadata": {},
   "outputs": [],
   "source": [
    "import sys\n",
    "sys.path.append(\"../virtual environments folder/venv_sticef/lib/python3.10/site-packages\")"
   ]
  },
  {
   "cell_type": "code",
   "execution_count": 2,
   "id": "4ee37679",
   "metadata": {},
   "outputs": [],
   "source": [
    "import maddpkg\n",
    "import pandas as pd\n",
    "import pickle\n",
    "import numpy as np\n",
    "\n",
    "from sklearn.linear_model import LogisticRegression\n",
    "from sklearn.neighbors import KNeighborsClassifier\n",
    "from sklearn.tree import DecisionTreeClassifier\n",
    "from sklearn.naive_bayes import ComplementNB"
   ]
  },
  {
   "cell_type": "code",
   "execution_count": 3,
   "id": "9f45ea61",
   "metadata": {},
   "outputs": [],
   "source": [
    "import utils"
   ]
  },
  {
   "cell_type": "markdown",
   "id": "4ff3cee1",
   "metadata": {},
   "source": [
    "# Data"
   ]
  },
  {
   "cell_type": "code",
   "execution_count": 4,
   "id": "ad05ba84",
   "metadata": {},
   "outputs": [],
   "source": [
    "path_to_data = \"./data_courseBBB_age_binarized/\"\n",
    "X_train = pd.read_csv(path_to_data + \"X_train_stClick_7030.csv\")\n",
    "X_test = pd.read_csv(path_to_data + \"X_test_stClick_7030.csv\")\n",
    "y_train = pd.read_csv(path_to_data + \"y_train_stClick_7030.csv\").values.ravel()\n",
    "y_test = pd.read_csv(path_to_data + \"y_test_stClick_7030.csv\").values.ravel()"
   ]
  },
  {
   "cell_type": "markdown",
   "id": "5d8531a4",
   "metadata": {},
   "source": [
    "# Models"
   ]
  },
  {
   "cell_type": "code",
   "execution_count": 5,
   "id": "7b8663c0",
   "metadata": {},
   "outputs": [
    {
     "data": {
      "text/html": [
       "<style>#sk-container-id-1 {color: black;}#sk-container-id-1 pre{padding: 0;}#sk-container-id-1 div.sk-toggleable {background-color: white;}#sk-container-id-1 label.sk-toggleable__label {cursor: pointer;display: block;width: 100%;margin-bottom: 0;padding: 0.3em;box-sizing: border-box;text-align: center;}#sk-container-id-1 label.sk-toggleable__label-arrow:before {content: \"▸\";float: left;margin-right: 0.25em;color: #696969;}#sk-container-id-1 label.sk-toggleable__label-arrow:hover:before {color: black;}#sk-container-id-1 div.sk-estimator:hover label.sk-toggleable__label-arrow:before {color: black;}#sk-container-id-1 div.sk-toggleable__content {max-height: 0;max-width: 0;overflow: hidden;text-align: left;background-color: #f0f8ff;}#sk-container-id-1 div.sk-toggleable__content pre {margin: 0.2em;color: black;border-radius: 0.25em;background-color: #f0f8ff;}#sk-container-id-1 input.sk-toggleable__control:checked~div.sk-toggleable__content {max-height: 200px;max-width: 100%;overflow: auto;}#sk-container-id-1 input.sk-toggleable__control:checked~label.sk-toggleable__label-arrow:before {content: \"▾\";}#sk-container-id-1 div.sk-estimator input.sk-toggleable__control:checked~label.sk-toggleable__label {background-color: #d4ebff;}#sk-container-id-1 div.sk-label input.sk-toggleable__control:checked~label.sk-toggleable__label {background-color: #d4ebff;}#sk-container-id-1 input.sk-hidden--visually {border: 0;clip: rect(1px 1px 1px 1px);clip: rect(1px, 1px, 1px, 1px);height: 1px;margin: -1px;overflow: hidden;padding: 0;position: absolute;width: 1px;}#sk-container-id-1 div.sk-estimator {font-family: monospace;background-color: #f0f8ff;border: 1px dotted black;border-radius: 0.25em;box-sizing: border-box;margin-bottom: 0.5em;}#sk-container-id-1 div.sk-estimator:hover {background-color: #d4ebff;}#sk-container-id-1 div.sk-parallel-item::after {content: \"\";width: 100%;border-bottom: 1px solid gray;flex-grow: 1;}#sk-container-id-1 div.sk-label:hover label.sk-toggleable__label {background-color: #d4ebff;}#sk-container-id-1 div.sk-serial::before {content: \"\";position: absolute;border-left: 1px solid gray;box-sizing: border-box;top: 0;bottom: 0;left: 50%;z-index: 0;}#sk-container-id-1 div.sk-serial {display: flex;flex-direction: column;align-items: center;background-color: white;padding-right: 0.2em;padding-left: 0.2em;position: relative;}#sk-container-id-1 div.sk-item {position: relative;z-index: 1;}#sk-container-id-1 div.sk-parallel {display: flex;align-items: stretch;justify-content: center;background-color: white;position: relative;}#sk-container-id-1 div.sk-item::before, #sk-container-id-1 div.sk-parallel-item::before {content: \"\";position: absolute;border-left: 1px solid gray;box-sizing: border-box;top: 0;bottom: 0;left: 50%;z-index: -1;}#sk-container-id-1 div.sk-parallel-item {display: flex;flex-direction: column;z-index: 1;position: relative;background-color: white;}#sk-container-id-1 div.sk-parallel-item:first-child::after {align-self: flex-end;width: 50%;}#sk-container-id-1 div.sk-parallel-item:last-child::after {align-self: flex-start;width: 50%;}#sk-container-id-1 div.sk-parallel-item:only-child::after {width: 0;}#sk-container-id-1 div.sk-dashed-wrapped {border: 1px dashed gray;margin: 0 0.4em 0.5em 0.4em;box-sizing: border-box;padding-bottom: 0.4em;background-color: white;}#sk-container-id-1 div.sk-label label {font-family: monospace;font-weight: bold;display: inline-block;line-height: 1.2em;}#sk-container-id-1 div.sk-label-container {text-align: center;}#sk-container-id-1 div.sk-container {/* jupyter's `normalize.less` sets `[hidden] { display: none; }` but bootstrap.min.css set `[hidden] { display: none !important; }` so we also need the `!important` here to be able to override the default hidden behavior on the sphinx rendered scikit-learn.org. See: https://github.com/scikit-learn/scikit-learn/issues/21755 */display: inline-block !important;position: relative;}#sk-container-id-1 div.sk-text-repr-fallback {display: none;}</style><div id=\"sk-container-id-1\" class=\"sk-top-container\"><div class=\"sk-text-repr-fallback\"><pre>ComplementNB()</pre><b>In a Jupyter environment, please rerun this cell to show the HTML representation or trust the notebook. <br />On GitHub, the HTML representation is unable to render, please try loading this page with nbviewer.org.</b></div><div class=\"sk-container\" hidden><div class=\"sk-item\"><div class=\"sk-estimator sk-toggleable\"><input class=\"sk-toggleable__control sk-hidden--visually\" id=\"sk-estimator-id-1\" type=\"checkbox\" checked><label for=\"sk-estimator-id-1\" class=\"sk-toggleable__label sk-toggleable__label-arrow\">ComplementNB</label><div class=\"sk-toggleable__content\"><pre>ComplementNB()</pre></div></div></div></div></div>"
      ],
      "text/plain": [
       "ComplementNB()"
      ]
     },
     "execution_count": 5,
     "metadata": {},
     "output_type": "execute_result"
    }
   ],
   "source": [
    "clf_lr = LogisticRegression(random_state=0)\n",
    "clf_lr.fit(X_train, y_train)\n",
    "\n",
    "clf_kn = KNeighborsClassifier()\n",
    "clf_kn.fit(X_train, y_train)\n",
    "\n",
    "clf_dt = DecisionTreeClassifier(random_state=0)\n",
    "clf_dt.fit(X_train, y_train)\n",
    "\n",
    "clf_cnb = ComplementNB()\n",
    "clf_cnb.fit(X_train, y_train)"
   ]
  },
  {
   "cell_type": "code",
   "execution_count": 6,
   "id": "741acb4a",
   "metadata": {},
   "outputs": [
    {
     "name": "stdout",
     "output_type": "stream",
     "text": [
      "===== LR =====\n",
      "Training set: 0.7174471010617982 0.011850542736750203\n",
      "Test set: 0.7176100628930817\n",
      "===== KN =====\n",
      "Training set: 0.7554623132577453 0.008853304949139738\n",
      "Test set: 0.7333333333333333\n",
      "===== DT =====\n",
      "Training set: 0.7098981124800391 0.006428065063884526\n",
      "Test set: 0.7081761006289308\n",
      "===== NB =====\n",
      "Training set: 0.5928886075857277 0.013561995925982718\n",
      "Test set: 0.5773584905660377\n"
     ]
    }
   ],
   "source": [
    "for model, model_name in zip([clf_lr, clf_kn, clf_dt, clf_cnb], ['LR', 'KN', 'DT', 'NB']):\n",
    "    utils.show_accuracy(model, model_name, X_train, X_test, y_train, y_test)"
   ]
  },
  {
   "cell_type": "markdown",
   "id": "bf876b6b",
   "metadata": {},
   "source": [
    "**On choisit le DT car il présente une des meilleures (voire la meilleure accuracy sur 100% des data i.e. sans split 70-30) et est le modèle le plus 'fair' dans le sens de la MADD.** PS : comme le DT à un large palier de h opti, on retrouve exactement les mêmes résultats que dans le papier EIAH."
   ]
  },
  {
   "cell_type": "code",
   "execution_count": 7,
   "id": "a69e69a6",
   "metadata": {},
   "outputs": [],
   "source": [
    "MODEL = clf_dt"
   ]
  },
  {
   "cell_type": "markdown",
   "id": "5c28ba40",
   "metadata": {},
   "source": [
    "# Individual SA"
   ]
  },
  {
   "cell_type": "code",
   "execution_count": 8,
   "id": "0f6bc607",
   "metadata": {},
   "outputs": [],
   "source": [
    "y_pp_gender0, y_pp_gender1 = utils.predprob(MODEL, X_test, \"gender\")\n",
    "y_pp_age0, y_pp_age1 = utils.predprob(MODEL, X_test, \"age\")\n",
    "y_pp_poverty0, y_pp_poverty1 = utils.predprob(MODEL, X_test, \"poverty\")\n",
    "y_pp_disab0, y_pp_disab1 = utils.predprob(MODEL, X_test, \"disability\")"
   ]
  },
  {
   "cell_type": "code",
   "execution_count": 19,
   "id": "1073dc09",
   "metadata": {},
   "outputs": [
    {
     "name": "stdout",
     "output_type": "stream",
     "text": [
      "0.6863339766565573\n",
      "0.6863339766565573\n"
     ]
    }
   ],
   "source": [
    "print(maddpkg.MADD(h=0.01, pred_proba_sf0=y_pp_gender0, pred_proba_sf1=y_pp_gender1))\n",
    "print(maddpkg.MADD(h=\"auto\", pred_proba_sf0=y_pp_gender0, pred_proba_sf1=y_pp_gender1))"
   ]
  },
  {
   "cell_type": "code",
   "execution_count": 21,
   "id": "a52dea79",
   "metadata": {},
   "outputs": [
    {
     "name": "stdout",
     "output_type": "stream",
     "text": [
      "0.8371642750053545\n",
      "0.8371642750053545\n"
     ]
    }
   ],
   "source": [
    "print(maddpkg.MADD(h=0.01, pred_proba_sf0=y_pp_age0, pred_proba_sf1=y_pp_age1))\n",
    "print(maddpkg.MADD(h=\"auto\", pred_proba_sf0=y_pp_age0, pred_proba_sf1=y_pp_age1))"
   ]
  },
  {
   "cell_type": "code",
   "execution_count": 23,
   "id": "64f5ab50",
   "metadata": {},
   "outputs": [
    {
     "name": "stdout",
     "output_type": "stream",
     "text": [
      "0.8524195228669653\n",
      "0.8524195228669653\n"
     ]
    }
   ],
   "source": [
    "print(maddpkg.MADD(h=0.01, pred_proba_sf0=y_pp_poverty0, pred_proba_sf1=y_pp_poverty1))\n",
    "print(maddpkg.MADD(h=\"auto\", pred_proba_sf0=y_pp_poverty0, pred_proba_sf1=y_pp_poverty1))"
   ]
  },
  {
   "cell_type": "code",
   "execution_count": 25,
   "id": "f021c48a",
   "metadata": {},
   "outputs": [
    {
     "name": "stdout",
     "output_type": "stream",
     "text": [
      "0.6504941249708194\n",
      "0.6504941249708194\n"
     ]
    }
   ],
   "source": [
    "print(maddpkg.MADD(h=0.01, pred_proba_sf0=y_pp_disab0, pred_proba_sf1=y_pp_disab1))\n",
    "print(maddpkg.MADD(h=\"auto\", pred_proba_sf0=y_pp_disab0, pred_proba_sf1=y_pp_disab1))"
   ]
  },
  {
   "cell_type": "markdown",
   "id": "b6ea9be4",
   "metadata": {},
   "source": [
    "# Gender x disability"
   ]
  },
  {
   "cell_type": "code",
   "execution_count": 13,
   "id": "4b041f69",
   "metadata": {},
   "outputs": [],
   "source": [
    "X_test_bis = X_test.copy()"
   ]
  },
  {
   "cell_type": "code",
   "execution_count": 14,
   "id": "d9357e9a",
   "metadata": {},
   "outputs": [
    {
     "data": {
      "text/html": [
       "<div>\n",
       "<style scoped>\n",
       "    .dataframe tbody tr th:only-of-type {\n",
       "        vertical-align: middle;\n",
       "    }\n",
       "\n",
       "    .dataframe tbody tr th {\n",
       "        vertical-align: top;\n",
       "    }\n",
       "\n",
       "    .dataframe thead th {\n",
       "        text-align: right;\n",
       "    }\n",
       "</style>\n",
       "<table border=\"1\" class=\"dataframe\">\n",
       "  <thead>\n",
       "    <tr style=\"text-align: right;\">\n",
       "      <th></th>\n",
       "      <th>gender</th>\n",
       "      <th>highest_education</th>\n",
       "      <th>poverty</th>\n",
       "      <th>age</th>\n",
       "      <th>disability</th>\n",
       "      <th>num_of_prev_attempts</th>\n",
       "      <th>studied_credits</th>\n",
       "      <th>sum_click</th>\n",
       "      <th>male_notdisabled</th>\n",
       "      <th>male_disabled</th>\n",
       "      <th>female_notdisabled</th>\n",
       "      <th>female_disabled</th>\n",
       "    </tr>\n",
       "  </thead>\n",
       "  <tbody>\n",
       "    <tr>\n",
       "      <th>0</th>\n",
       "      <td>0.0</td>\n",
       "      <td>0.50</td>\n",
       "      <td>1.0</td>\n",
       "      <td>1</td>\n",
       "      <td>0.0</td>\n",
       "      <td>0.0</td>\n",
       "      <td>0.150</td>\n",
       "      <td>0.001657</td>\n",
       "      <td>0</td>\n",
       "      <td>0</td>\n",
       "      <td>1</td>\n",
       "      <td>0</td>\n",
       "    </tr>\n",
       "    <tr>\n",
       "      <th>1</th>\n",
       "      <td>1.0</td>\n",
       "      <td>0.50</td>\n",
       "      <td>0.0</td>\n",
       "      <td>1</td>\n",
       "      <td>0.0</td>\n",
       "      <td>0.0</td>\n",
       "      <td>0.050</td>\n",
       "      <td>0.030574</td>\n",
       "      <td>1</td>\n",
       "      <td>0</td>\n",
       "      <td>0</td>\n",
       "      <td>0</td>\n",
       "    </tr>\n",
       "    <tr>\n",
       "      <th>2</th>\n",
       "      <td>0.0</td>\n",
       "      <td>0.50</td>\n",
       "      <td>1.0</td>\n",
       "      <td>0</td>\n",
       "      <td>0.0</td>\n",
       "      <td>0.0</td>\n",
       "      <td>0.050</td>\n",
       "      <td>0.016364</td>\n",
       "      <td>0</td>\n",
       "      <td>0</td>\n",
       "      <td>1</td>\n",
       "      <td>0</td>\n",
       "    </tr>\n",
       "    <tr>\n",
       "      <th>3</th>\n",
       "      <td>0.0</td>\n",
       "      <td>0.25</td>\n",
       "      <td>0.0</td>\n",
       "      <td>0</td>\n",
       "      <td>0.0</td>\n",
       "      <td>0.0</td>\n",
       "      <td>0.050</td>\n",
       "      <td>0.023241</td>\n",
       "      <td>0</td>\n",
       "      <td>0</td>\n",
       "      <td>1</td>\n",
       "      <td>0</td>\n",
       "    </tr>\n",
       "    <tr>\n",
       "      <th>4</th>\n",
       "      <td>0.0</td>\n",
       "      <td>0.50</td>\n",
       "      <td>1.0</td>\n",
       "      <td>0</td>\n",
       "      <td>0.0</td>\n",
       "      <td>0.0</td>\n",
       "      <td>0.050</td>\n",
       "      <td>0.027426</td>\n",
       "      <td>0</td>\n",
       "      <td>0</td>\n",
       "      <td>1</td>\n",
       "      <td>0</td>\n",
       "    </tr>\n",
       "    <tr>\n",
       "      <th>...</th>\n",
       "      <td>...</td>\n",
       "      <td>...</td>\n",
       "      <td>...</td>\n",
       "      <td>...</td>\n",
       "      <td>...</td>\n",
       "      <td>...</td>\n",
       "      <td>...</td>\n",
       "      <td>...</td>\n",
       "      <td>...</td>\n",
       "      <td>...</td>\n",
       "      <td>...</td>\n",
       "      <td>...</td>\n",
       "    </tr>\n",
       "    <tr>\n",
       "      <th>1585</th>\n",
       "      <td>0.0</td>\n",
       "      <td>0.50</td>\n",
       "      <td>1.0</td>\n",
       "      <td>0</td>\n",
       "      <td>0.0</td>\n",
       "      <td>0.0</td>\n",
       "      <td>0.050</td>\n",
       "      <td>0.010399</td>\n",
       "      <td>0</td>\n",
       "      <td>0</td>\n",
       "      <td>1</td>\n",
       "      <td>0</td>\n",
       "    </tr>\n",
       "    <tr>\n",
       "      <th>1586</th>\n",
       "      <td>0.0</td>\n",
       "      <td>0.25</td>\n",
       "      <td>0.0</td>\n",
       "      <td>0</td>\n",
       "      <td>0.0</td>\n",
       "      <td>0.0</td>\n",
       "      <td>0.050</td>\n",
       "      <td>0.003770</td>\n",
       "      <td>0</td>\n",
       "      <td>0</td>\n",
       "      <td>1</td>\n",
       "      <td>0</td>\n",
       "    </tr>\n",
       "    <tr>\n",
       "      <th>1587</th>\n",
       "      <td>0.0</td>\n",
       "      <td>0.50</td>\n",
       "      <td>0.0</td>\n",
       "      <td>1</td>\n",
       "      <td>0.0</td>\n",
       "      <td>0.0</td>\n",
       "      <td>0.050</td>\n",
       "      <td>0.013091</td>\n",
       "      <td>0</td>\n",
       "      <td>0</td>\n",
       "      <td>1</td>\n",
       "      <td>0</td>\n",
       "    </tr>\n",
       "    <tr>\n",
       "      <th>1588</th>\n",
       "      <td>0.0</td>\n",
       "      <td>0.25</td>\n",
       "      <td>1.0</td>\n",
       "      <td>0</td>\n",
       "      <td>0.0</td>\n",
       "      <td>0.0</td>\n",
       "      <td>0.050</td>\n",
       "      <td>0.077637</td>\n",
       "      <td>0</td>\n",
       "      <td>0</td>\n",
       "      <td>1</td>\n",
       "      <td>0</td>\n",
       "    </tr>\n",
       "    <tr>\n",
       "      <th>1589</th>\n",
       "      <td>0.0</td>\n",
       "      <td>0.75</td>\n",
       "      <td>0.0</td>\n",
       "      <td>1</td>\n",
       "      <td>1.0</td>\n",
       "      <td>0.0</td>\n",
       "      <td>0.075</td>\n",
       "      <td>0.539481</td>\n",
       "      <td>0</td>\n",
       "      <td>0</td>\n",
       "      <td>0</td>\n",
       "      <td>1</td>\n",
       "    </tr>\n",
       "  </tbody>\n",
       "</table>\n",
       "<p>1590 rows × 12 columns</p>\n",
       "</div>"
      ],
      "text/plain": [
       "      gender  highest_education  poverty  age  disability  \\\n",
       "0        0.0               0.50      1.0    1         0.0   \n",
       "1        1.0               0.50      0.0    1         0.0   \n",
       "2        0.0               0.50      1.0    0         0.0   \n",
       "3        0.0               0.25      0.0    0         0.0   \n",
       "4        0.0               0.50      1.0    0         0.0   \n",
       "...      ...                ...      ...  ...         ...   \n",
       "1585     0.0               0.50      1.0    0         0.0   \n",
       "1586     0.0               0.25      0.0    0         0.0   \n",
       "1587     0.0               0.50      0.0    1         0.0   \n",
       "1588     0.0               0.25      1.0    0         0.0   \n",
       "1589     0.0               0.75      0.0    1         1.0   \n",
       "\n",
       "      num_of_prev_attempts  studied_credits  sum_click  male_notdisabled  \\\n",
       "0                      0.0            0.150   0.001657                 0   \n",
       "1                      0.0            0.050   0.030574                 1   \n",
       "2                      0.0            0.050   0.016364                 0   \n",
       "3                      0.0            0.050   0.023241                 0   \n",
       "4                      0.0            0.050   0.027426                 0   \n",
       "...                    ...              ...        ...               ...   \n",
       "1585                   0.0            0.050   0.010399                 0   \n",
       "1586                   0.0            0.050   0.003770                 0   \n",
       "1587                   0.0            0.050   0.013091                 0   \n",
       "1588                   0.0            0.050   0.077637                 0   \n",
       "1589                   0.0            0.075   0.539481                 0   \n",
       "\n",
       "      male_disabled  female_notdisabled  female_disabled  \n",
       "0                 0                   1                0  \n",
       "1                 0                   0                0  \n",
       "2                 0                   1                0  \n",
       "3                 0                   1                0  \n",
       "4                 0                   1                0  \n",
       "...             ...                 ...              ...  \n",
       "1585              0                   1                0  \n",
       "1586              0                   1                0  \n",
       "1587              0                   1                0  \n",
       "1588              0                   1                0  \n",
       "1589              0                   0                1  \n",
       "\n",
       "[1590 rows x 12 columns]"
      ]
     },
     "execution_count": 14,
     "metadata": {},
     "output_type": "execute_result"
    }
   ],
   "source": [
    "X_test_bis['male_notdisabled'] = np.where( (X_test_bis['gender'] == 1) & (X_test_bis['disability'] == 0), 1, 0 )\n",
    "X_test_bis['male_disabled'] = np.where( (X_test_bis['gender'] == 1) & (X_test_bis['disability'] == 1), 1, 0 )\n",
    "X_test_bis['female_notdisabled'] = np.where( (X_test_bis['gender'] == 0) & (X_test_bis['disability'] == 0), 1, 0 )\n",
    "X_test_bis['female_disabled'] = np.where( (X_test_bis['gender'] == 0) & (X_test_bis['disability'] == 1), 1, 0 )\n",
    "X_test_bis"
   ]
  },
  {
   "cell_type": "code",
   "execution_count": 15,
   "id": "19303cdc",
   "metadata": {},
   "outputs": [],
   "source": [
    "y_pp_mnd, y_pp_md = utils.predprob(MODEL, X_test, (\"male_notdisabled\", \"male_disabled\"), X_test_bis)\n",
    "y_pp_fnd, y_pp_fd = utils.predprob(MODEL, X_test, (\"female_notdisabled\", \"female_disabled\"), X_test_bis)"
   ]
  },
  {
   "cell_type": "code",
   "execution_count": 27,
   "id": "8eefefc2",
   "metadata": {},
   "outputs": [
    {
     "data": {
      "text/plain": [
       "0.007395795168107187"
      ]
     },
     "execution_count": 27,
     "metadata": {},
     "output_type": "execute_result"
    }
   ],
   "source": [
    "maddpkg.MADD(h=\"auto\", pred_proba_sf0=y_pp_gender0, pred_proba_sf1=y_pp_mnd)"
   ]
  },
  {
   "cell_type": "code",
   "execution_count": 28,
   "id": "712d922b",
   "metadata": {},
   "outputs": [
    {
     "data": {
      "text/plain": [
       "0.34337981706402754"
      ]
     },
     "execution_count": 28,
     "metadata": {},
     "output_type": "execute_result"
    }
   ],
   "source": [
    "maddpkg.MADD(h=\"auto\", pred_proba_sf0=y_pp_gender0, pred_proba_sf1=y_pp_md)"
   ]
  },
  {
   "cell_type": "code",
   "execution_count": 29,
   "id": "227f2759",
   "metadata": {},
   "outputs": [
    {
     "data": {
      "text/plain": [
       "0.5459860110658732"
      ]
     },
     "execution_count": 29,
     "metadata": {},
     "output_type": "execute_result"
    }
   ],
   "source": [
    "maddpkg.MADD(h=\"auto\", pred_proba_sf0=y_pp_fnd, pred_proba_sf1=y_pp_gender1)"
   ]
  },
  {
   "cell_type": "code",
   "execution_count": 30,
   "id": "20863443",
   "metadata": {},
   "outputs": [
    {
     "data": {
      "text/plain": [
       "0.1441596335741755"
      ]
     },
     "execution_count": 30,
     "metadata": {},
     "output_type": "execute_result"
    }
   ],
   "source": [
    "maddpkg.MADD(h=\"auto\", pred_proba_sf0=y_pp_fnd, pred_proba_sf1=y_pp_mnd)"
   ]
  },
  {
   "cell_type": "code",
   "execution_count": 31,
   "id": "2c703970",
   "metadata": {},
   "outputs": [
    {
     "data": {
      "text/plain": [
       "0.20303185147334354"
      ]
     },
     "execution_count": 31,
     "metadata": {},
     "output_type": "execute_result"
    }
   ],
   "source": [
    "maddpkg.MADD(h=\"auto\", pred_proba_sf0=y_pp_fnd, pred_proba_sf1=y_pp_md)"
   ]
  },
  {
   "cell_type": "code",
   "execution_count": 32,
   "id": "8b8a1ddd",
   "metadata": {},
   "outputs": [
    {
     "data": {
      "text/plain": [
       "0.026750590086546018"
      ]
     },
     "execution_count": 32,
     "metadata": {},
     "output_type": "execute_result"
    }
   ],
   "source": [
    "maddpkg.MADD(h=\"auto\", pred_proba_sf0=y_pp_fd, pred_proba_sf1=y_pp_gender1)"
   ]
  },
  {
   "cell_type": "code",
   "execution_count": 34,
   "id": "802f03f0",
   "metadata": {},
   "outputs": [
    {
     "data": {
      "text/plain": [
       "0.7004782064686423"
      ]
     },
     "execution_count": 34,
     "metadata": {},
     "output_type": "execute_result"
    }
   ],
   "source": [
    "maddpkg.MADD(h=\"auto\", pred_proba_sf0=y_pp_fd, pred_proba_sf1=y_pp_mnd)"
   ]
  },
  {
   "cell_type": "code",
   "execution_count": 35,
   "id": "19a1cb8f",
   "metadata": {},
   "outputs": [
    {
     "data": {
      "text/plain": [
       "0.42618741976893454"
      ]
     },
     "execution_count": 35,
     "metadata": {},
     "output_type": "execute_result"
    }
   ],
   "source": [
    "maddpkg.MADD(h=\"auto\", pred_proba_sf0=y_pp_fd, pred_proba_sf1=y_pp_md)"
   ]
  },
  {
   "cell_type": "code",
   "execution_count": 36,
   "id": "d120c003",
   "metadata": {},
   "outputs": [
    {
     "data": {
      "text/plain": [
       "0.6382113821138211"
      ]
     },
     "execution_count": 36,
     "metadata": {},
     "output_type": "execute_result"
    }
   ],
   "source": [
    "np.mean(y_pp_fd)"
   ]
  },
  {
   "cell_type": "code",
   "execution_count": 37,
   "id": "d5a02853",
   "metadata": {},
   "outputs": [
    {
     "data": {
      "text/plain": [
       "0.6344086021505376"
      ]
     },
     "execution_count": 37,
     "metadata": {},
     "output_type": "execute_result"
    }
   ],
   "source": [
    "np.mean(y_pp_gender1)"
   ]
  },
  {
   "cell_type": "code",
   "execution_count": 38,
   "id": "9f748fe1",
   "metadata": {},
   "outputs": [
    {
     "data": {
      "text/plain": [
       "0.4473684210526316"
      ]
     },
     "execution_count": 38,
     "metadata": {},
     "output_type": "execute_result"
    }
   ],
   "source": [
    "np.mean(y_pp_md)"
   ]
  },
  {
   "cell_type": "code",
   "execution_count": 39,
   "id": "dcefb399",
   "metadata": {},
   "outputs": [
    {
     "data": {
      "text/plain": [
       "0.3640776699029126"
      ]
     },
     "execution_count": 39,
     "metadata": {},
     "output_type": "execute_result"
    }
   ],
   "source": [
    "np.mean(y_pp_fnd)"
   ]
  },
  {
   "cell_type": "markdown",
   "id": "89626fc7",
   "metadata": {},
   "source": [
    "# Gender x poverty"
   ]
  },
  {
   "cell_type": "code",
   "execution_count": 41,
   "id": "07495f89",
   "metadata": {},
   "outputs": [],
   "source": [
    "X_test_bis['male_notpoor'] = np.where( (X_test_bis['gender'] == 1) & (X_test_bis['poverty'] == 0), 1, 0 )\n",
    "X_test_bis['male_poor'] = np.where( (X_test_bis['gender'] == 1) & (X_test_bis['poverty'] == 1), 1, 0 )\n",
    "X_test_bis['female_notpoor'] = np.where( (X_test_bis['gender'] == 0) & (X_test_bis['poverty'] == 0), 1, 0 )\n",
    "X_test_bis['female_poor'] = np.where( (X_test_bis['gender'] == 0) & (X_test_bis['poverty'] == 1), 1, 0 )"
   ]
  },
  {
   "cell_type": "code",
   "execution_count": 42,
   "id": "6c9f2274",
   "metadata": {},
   "outputs": [],
   "source": [
    "y_pp_mnp, y_pp_mp = utils.predprob(MODEL, X_test, (\"male_notpoor\", \"male_poor\"), X_test_bis)\n",
    "y_pp_fnp, y_pp_fp = utils.predprob(MODEL, X_test, (\"female_notpoor\", \"female_poor\"), X_test_bis)"
   ]
  },
  {
   "cell_type": "code",
   "execution_count": 43,
   "id": "4e8f9e4c",
   "metadata": {},
   "outputs": [
    {
     "data": {
      "text/plain": [
       "0.01947733575640556"
      ]
     },
     "execution_count": 43,
     "metadata": {},
     "output_type": "execute_result"
    }
   ],
   "source": [
    "maddpkg.MADD(h=\"auto\", pred_proba_sf0=y_pp_gender0, pred_proba_sf1=y_pp_mnp)"
   ]
  },
  {
   "cell_type": "code",
   "execution_count": 44,
   "id": "fa355ce1",
   "metadata": {},
   "outputs": [
    {
     "data": {
      "text/plain": [
       "0.5674593100335674"
      ]
     },
     "execution_count": 44,
     "metadata": {},
     "output_type": "execute_result"
    }
   ],
   "source": [
    "maddpkg.MADD(h=\"auto\", pred_proba_sf0=y_pp_gender0, pred_proba_sf1=y_pp_mp)"
   ]
  },
  {
   "cell_type": "code",
   "execution_count": 45,
   "id": "bd6f9908",
   "metadata": {},
   "outputs": [
    {
     "data": {
      "text/plain": [
       "0.5740640490823594"
      ]
     },
     "execution_count": 45,
     "metadata": {},
     "output_type": "execute_result"
    }
   ],
   "source": [
    "maddpkg.MADD(h=\"auto\", pred_proba_sf0=y_pp_fnp, pred_proba_sf1=y_pp_gender1)"
   ]
  },
  {
   "cell_type": "code",
   "execution_count": 46,
   "id": "5b8d4b58",
   "metadata": {},
   "outputs": [
    {
     "data": {
      "text/plain": [
       "0.10781698386097016"
      ]
     },
     "execution_count": 46,
     "metadata": {},
     "output_type": "execute_result"
    }
   ],
   "source": [
    "maddpkg.MADD(h=\"auto\", pred_proba_sf0=y_pp_fnp, pred_proba_sf1=y_pp_mnp)"
   ]
  },
  {
   "cell_type": "code",
   "execution_count": 47,
   "id": "33d8e17b",
   "metadata": {},
   "outputs": [
    {
     "data": {
      "text/plain": [
       "0.4554650924124988"
      ]
     },
     "execution_count": 47,
     "metadata": {},
     "output_type": "execute_result"
    }
   ],
   "source": [
    "maddpkg.MADD(h=\"auto\", pred_proba_sf0=y_pp_fnp, pred_proba_sf1=y_pp_mp)"
   ]
  },
  {
   "cell_type": "code",
   "execution_count": 49,
   "id": "0daddb1c",
   "metadata": {},
   "outputs": [
    {
     "data": {
      "text/plain": [
       "0.04462300581191248"
      ]
     },
     "execution_count": 49,
     "metadata": {},
     "output_type": "execute_result"
    }
   ],
   "source": [
    "maddpkg.MADD(h=\"auto\", pred_proba_sf0=y_pp_fp, pred_proba_sf1=y_pp_gender1)"
   ]
  },
  {
   "cell_type": "code",
   "execution_count": 48,
   "id": "cfda6bb9",
   "metadata": {},
   "outputs": [
    {
     "data": {
      "text/plain": [
       "0.7130186761580704"
      ]
     },
     "execution_count": 48,
     "metadata": {},
     "output_type": "execute_result"
    }
   ],
   "source": [
    "maddpkg.MADD(h=\"auto\", pred_proba_sf0=y_pp_fp, pred_proba_sf1=y_pp_mnp)"
   ]
  },
  {
   "cell_type": "code",
   "execution_count": 50,
   "id": "8a000558",
   "metadata": {},
   "outputs": [
    {
     "data": {
      "text/plain": [
       "0.1864307349719253"
      ]
     },
     "execution_count": 50,
     "metadata": {},
     "output_type": "execute_result"
    }
   ],
   "source": [
    "maddpkg.MADD(h=\"auto\", pred_proba_sf0=y_pp_fp, pred_proba_sf1=y_pp_mp)"
   ]
  },
  {
   "cell_type": "markdown",
   "id": "03779f92",
   "metadata": {},
   "source": [
    "# Gender x age"
   ]
  },
  {
   "cell_type": "code",
   "execution_count": 52,
   "id": "f656164f",
   "metadata": {},
   "outputs": [],
   "source": [
    "X_test_bis['male_notaged'] = np.where( (X_test_bis['gender'] == 1) & (X_test_bis['age'] == 0), 1, 0 )\n",
    "X_test_bis['male_aged'] = np.where( (X_test_bis['gender'] == 1) & (X_test_bis['age'] == 1), 1, 0 )\n",
    "X_test_bis['female_notaged'] = np.where( (X_test_bis['gender'] == 0) & (X_test_bis['age'] == 0), 1, 0 )\n",
    "X_test_bis['female_aged'] = np.where( (X_test_bis['gender'] == 0) & (X_test_bis['age'] == 1), 1, 0 )"
   ]
  },
  {
   "cell_type": "code",
   "execution_count": 53,
   "id": "2d89a673",
   "metadata": {},
   "outputs": [],
   "source": [
    "y_pp_mna, y_pp_ma = utils.predprob(MODEL, X_test, (\"male_notaged\", \"male_aged\"), X_test_bis)\n",
    "y_pp_fna, y_pp_fa = utils.predprob(MODEL, X_test, (\"female_notaged\", \"female_aged\"), X_test_bis)"
   ]
  },
  {
   "cell_type": "code",
   "execution_count": 54,
   "id": "6c35a168",
   "metadata": {},
   "outputs": [
    {
     "data": {
      "text/plain": [
       "0.012016775971046261"
      ]
     },
     "execution_count": 54,
     "metadata": {},
     "output_type": "execute_result"
    }
   ],
   "source": [
    "maddpkg.MADD(h=\"auto\", pred_proba_sf0=y_pp_gender0, pred_proba_sf1=y_pp_mna)"
   ]
  },
  {
   "cell_type": "code",
   "execution_count": 55,
   "id": "4328bf7a",
   "metadata": {},
   "outputs": [
    {
     "data": {
      "text/plain": [
       "0.6249270586619984"
      ]
     },
     "execution_count": 55,
     "metadata": {},
     "output_type": "execute_result"
    }
   ],
   "source": [
    "maddpkg.MADD(h=\"auto\", pred_proba_sf0=y_pp_gender0, pred_proba_sf1=y_pp_ma)"
   ]
  },
  {
   "cell_type": "code",
   "execution_count": 56,
   "id": "e11b21c4",
   "metadata": {},
   "outputs": [
    {
     "data": {
      "text/plain": [
       "0.7210010467218575"
      ]
     },
     "execution_count": 56,
     "metadata": {},
     "output_type": "execute_result"
    }
   ],
   "source": [
    "maddpkg.MADD(h=\"auto\", pred_proba_sf0=y_pp_fna, pred_proba_sf1=y_pp_gender1)"
   ]
  },
  {
   "cell_type": "code",
   "execution_count": 57,
   "id": "df08c0ff",
   "metadata": {},
   "outputs": [
    {
     "data": {
      "text/plain": [
       "0.057443765336951745"
      ]
     },
     "execution_count": 57,
     "metadata": {},
     "output_type": "execute_result"
    }
   ],
   "source": [
    "maddpkg.MADD(h=\"auto\", pred_proba_sf0=y_pp_fna, pred_proba_sf1=y_pp_mna)"
   ]
  },
  {
   "cell_type": "code",
   "execution_count": 58,
   "id": "325a1554",
   "metadata": {},
   "outputs": [
    {
     "data": {
      "text/plain": [
       "0.6595941287272986"
      ]
     },
     "execution_count": 58,
     "metadata": {},
     "output_type": "execute_result"
    }
   ],
   "source": [
    "maddpkg.MADD(h=\"auto\", pred_proba_sf0=y_pp_fna, pred_proba_sf1=y_pp_ma)"
   ]
  },
  {
   "cell_type": "code",
   "execution_count": 59,
   "id": "62658c90",
   "metadata": {},
   "outputs": [
    {
     "data": {
      "text/plain": [
       "0.25268817204301075"
      ]
     },
     "execution_count": 59,
     "metadata": {},
     "output_type": "execute_result"
    }
   ],
   "source": [
    "maddpkg.MADD(h=\"auto\", pred_proba_sf0=y_pp_fa, pred_proba_sf1=y_pp_gender1)"
   ]
  },
  {
   "cell_type": "code",
   "execution_count": 60,
   "id": "c2f2f474",
   "metadata": {},
   "outputs": [
    {
     "data": {
      "text/plain": [
       "0.9270342972427708"
      ]
     },
     "execution_count": 60,
     "metadata": {},
     "output_type": "execute_result"
    }
   ],
   "source": [
    "maddpkg.MADD(h=\"auto\", pred_proba_sf0=y_pp_fa, pred_proba_sf1=y_pp_mna)"
   ]
  },
  {
   "cell_type": "code",
   "execution_count": 61,
   "id": "843217f6",
   "metadata": {},
   "outputs": [
    {
     "data": {
      "text/plain": [
       "0.3192771084337349"
      ]
     },
     "execution_count": 61,
     "metadata": {},
     "output_type": "execute_result"
    }
   ],
   "source": [
    "maddpkg.MADD(h=\"auto\", pred_proba_sf0=y_pp_fa, pred_proba_sf1=y_pp_ma)"
   ]
  },
  {
   "cell_type": "markdown",
   "id": "8d82524f",
   "metadata": {},
   "source": [
    "# Disability x poverty"
   ]
  },
  {
   "cell_type": "code",
   "execution_count": 65,
   "id": "62df12ec",
   "metadata": {},
   "outputs": [],
   "source": [
    "X_test_bis['disab_notpoor'] = np.where( (X_test_bis['disability'] == 1) & (X_test_bis['poverty'] == 0), 1, 0 )\n",
    "X_test_bis['disab_poor'] = np.where( (X_test_bis['disability'] == 1) & (X_test_bis['poverty'] == 1), 1, 0 )\n",
    "X_test_bis['notdisab_notpoor'] = np.where( (X_test_bis['disability'] == 0) & (X_test_bis['poverty'] == 0), 1, 0 )\n",
    "X_test_bis['notdisab_poor'] = np.where( (X_test_bis['disability'] == 0) & (X_test_bis['poverty'] == 1), 1, 0 )"
   ]
  },
  {
   "cell_type": "code",
   "execution_count": 66,
   "id": "26dc4aca",
   "metadata": {},
   "outputs": [],
   "source": [
    "y_pp_dnp, y_pp_dp = utils.predprob(MODEL, X_test, (\"disab_notpoor\", \"disab_poor\"), X_test_bis)\n",
    "y_pp_ndnp, y_pp_ndp = utils.predprob(MODEL, X_test, (\"notdisab_notpoor\", \"notdisab_poor\"), X_test_bis)"
   ]
  },
  {
   "cell_type": "code",
   "execution_count": 67,
   "id": "a80b5b77",
   "metadata": {},
   "outputs": [
    {
     "data": {
      "text/plain": [
       "0.027538207648704953"
      ]
     },
     "execution_count": 67,
     "metadata": {},
     "output_type": "execute_result"
    }
   ],
   "source": [
    "maddpkg.MADD(h=\"auto\", pred_proba_sf0=y_pp_disab0, pred_proba_sf1=y_pp_dnp)"
   ]
  },
  {
   "cell_type": "code",
   "execution_count": 68,
   "id": "6aa97921",
   "metadata": {},
   "outputs": [
    {
     "data": {
      "text/plain": [
       "0.3957482584674513"
      ]
     },
     "execution_count": 68,
     "metadata": {},
     "output_type": "execute_result"
    }
   ],
   "source": [
    "maddpkg.MADD(h=\"auto\", pred_proba_sf0=y_pp_disab0, pred_proba_sf1=y_pp_dp)"
   ]
  },
  {
   "cell_type": "code",
   "execution_count": 72,
   "id": "f50f64e3",
   "metadata": {},
   "outputs": [
    {
     "data": {
      "text/plain": [
       "0.5466459287421872"
      ]
     },
     "execution_count": 72,
     "metadata": {},
     "output_type": "execute_result"
    }
   ],
   "source": [
    "maddpkg.MADD(h=\"auto\", pred_proba_sf0=y_pp_ndnp, pred_proba_sf1=y_pp_disab1)"
   ]
  },
  {
   "cell_type": "code",
   "execution_count": 73,
   "id": "7c255e1c",
   "metadata": {},
   "outputs": [
    {
     "data": {
      "text/plain": [
       "0.08850290813480992"
      ]
     },
     "execution_count": 73,
     "metadata": {},
     "output_type": "execute_result"
    }
   ],
   "source": [
    "maddpkg.MADD(h=\"auto\", pred_proba_sf0=y_pp_ndnp, pred_proba_sf1=y_pp_dnp)"
   ]
  },
  {
   "cell_type": "code",
   "execution_count": 71,
   "id": "f81f6d6b",
   "metadata": {},
   "outputs": [
    {
     "data": {
      "text/plain": [
       "0.2919000622388192"
      ]
     },
     "execution_count": 71,
     "metadata": {},
     "output_type": "execute_result"
    }
   ],
   "source": [
    "maddpkg.MADD(h=\"auto\", pred_proba_sf0=y_pp_ndnp, pred_proba_sf1=y_pp_dp)"
   ]
  },
  {
   "cell_type": "code",
   "execution_count": 74,
   "id": "18c1214a",
   "metadata": {},
   "outputs": [
    {
     "data": {
      "text/plain": [
       "0.1122380214300155"
      ]
     },
     "execution_count": 74,
     "metadata": {},
     "output_type": "execute_result"
    }
   ],
   "source": [
    "maddpkg.MADD(h=\"auto\", pred_proba_sf0=y_pp_ndp, pred_proba_sf1=y_pp_disab1)"
   ]
  },
  {
   "cell_type": "code",
   "execution_count": 75,
   "id": "99f1ba9f",
   "metadata": {},
   "outputs": [
    {
     "data": {
      "text/plain": [
       "0.7205058099794941"
      ]
     },
     "execution_count": 75,
     "metadata": {},
     "output_type": "execute_result"
    }
   ],
   "source": [
    "maddpkg.MADD(h=\"auto\", pred_proba_sf0=y_pp_ndp, pred_proba_sf1=y_pp_dnp)"
   ]
  },
  {
   "cell_type": "code",
   "execution_count": 76,
   "id": "ef360655",
   "metadata": {},
   "outputs": [
    {
     "data": {
      "text/plain": [
       "0.37341377158310796"
      ]
     },
     "execution_count": 76,
     "metadata": {},
     "output_type": "execute_result"
    }
   ],
   "source": [
    "maddpkg.MADD(h=\"auto\", pred_proba_sf0=y_pp_ndp, pred_proba_sf1=y_pp_dp)"
   ]
  },
  {
   "cell_type": "markdown",
   "id": "dab6e737",
   "metadata": {},
   "source": [
    "# Disability x age"
   ]
  },
  {
   "cell_type": "code",
   "execution_count": 77,
   "id": "ffa8cc9b",
   "metadata": {},
   "outputs": [],
   "source": [
    "X_test_bis['disab_notaged'] = np.where( (X_test_bis['disability'] == 1) & (X_test_bis['age'] == 0), 1, 0 )\n",
    "X_test_bis['disab_aged'] = np.where( (X_test_bis['disability'] == 1) & (X_test_bis['age'] == 1), 1, 0 )\n",
    "X_test_bis['notdisab_notaged'] = np.where( (X_test_bis['disability'] == 0) & (X_test_bis['age'] == 0), 1, 0 )\n",
    "X_test_bis['notdisab_aged'] = np.where( (X_test_bis['disability'] == 0) & (X_test_bis['age'] == 1), 1, 0 )"
   ]
  },
  {
   "cell_type": "code",
   "execution_count": 78,
   "id": "4fd9dea7",
   "metadata": {},
   "outputs": [],
   "source": [
    "y_pp_dna, y_pp_da = utils.predprob(MODEL, X_test, (\"disab_notaged\", \"disab_aged\"), X_test_bis)\n",
    "y_pp_ndna, y_pp_nda = utils.predprob(MODEL, X_test, (\"notdisab_notaged\", \"notdisab_aged\"), X_test_bis)"
   ]
  },
  {
   "cell_type": "code",
   "execution_count": 80,
   "id": "86e3abd5",
   "metadata": {},
   "outputs": [
    {
     "data": {
      "text/plain": [
       "0.008559852670349942"
      ]
     },
     "execution_count": 80,
     "metadata": {},
     "output_type": "execute_result"
    }
   ],
   "source": [
    "maddpkg.MADD(h=\"auto\", pred_proba_sf0=y_pp_disab0, pred_proba_sf1=y_pp_dna)"
   ]
  },
  {
   "cell_type": "code",
   "execution_count": 81,
   "id": "91f32598",
   "metadata": {},
   "outputs": [
    {
     "data": {
      "text/plain": [
       "0.6315342116447089"
      ]
     },
     "execution_count": 81,
     "metadata": {},
     "output_type": "execute_result"
    }
   ],
   "source": [
    "maddpkg.MADD(h=\"auto\", pred_proba_sf0=y_pp_disab0, pred_proba_sf1=y_pp_da)"
   ]
  },
  {
   "cell_type": "code",
   "execution_count": 82,
   "id": "8e8f70c8",
   "metadata": {},
   "outputs": [
    {
     "data": {
      "text/plain": [
       "0.6699142221751562"
      ]
     },
     "execution_count": 82,
     "metadata": {},
     "output_type": "execute_result"
    }
   ],
   "source": [
    "maddpkg.MADD(h=\"auto\", pred_proba_sf0=y_pp_ndna, pred_proba_sf1=y_pp_disab1)"
   ]
  },
  {
   "cell_type": "code",
   "execution_count": 83,
   "id": "74f0146e",
   "metadata": {},
   "outputs": [
    {
     "data": {
      "text/plain": [
       "0.04522305764411036"
      ]
     },
     "execution_count": 83,
     "metadata": {},
     "output_type": "execute_result"
    }
   ],
   "source": [
    "maddpkg.MADD(h=\"auto\", pred_proba_sf0=y_pp_ndna, pred_proba_sf1=y_pp_dna)"
   ]
  },
  {
   "cell_type": "code",
   "execution_count": 84,
   "id": "8fc1c971",
   "metadata": {},
   "outputs": [
    {
     "data": {
      "text/plain": [
       "0.6509543088490457"
      ]
     },
     "execution_count": 84,
     "metadata": {},
     "output_type": "execute_result"
    }
   ],
   "source": [
    "maddpkg.MADD(h=\"auto\", pred_proba_sf0=y_pp_ndna, pred_proba_sf1=y_pp_da)"
   ]
  },
  {
   "cell_type": "code",
   "execution_count": 85,
   "id": "fd17c9a2",
   "metadata": {},
   "outputs": [
    {
     "data": {
      "text/plain": [
       "0.27872781622815285"
      ]
     },
     "execution_count": 85,
     "metadata": {},
     "output_type": "execute_result"
    }
   ],
   "source": [
    "maddpkg.MADD(h=\"auto\", pred_proba_sf0=y_pp_nda, pred_proba_sf1=y_pp_disab1)"
   ]
  },
  {
   "cell_type": "code",
   "execution_count": 86,
   "id": "f8aa74c0",
   "metadata": {},
   "outputs": [
    {
     "data": {
      "text/plain": [
       "0.9105901848311027"
      ]
     },
     "execution_count": 86,
     "metadata": {},
     "output_type": "execute_result"
    }
   ],
   "source": [
    "maddpkg.MADD(h=\"auto\", pred_proba_sf0=y_pp_nda, pred_proba_sf1=y_pp_dna)"
   ]
  },
  {
   "cell_type": "code",
   "execution_count": 87,
   "id": "8f706546",
   "metadata": {},
   "outputs": [
    {
     "data": {
      "text/plain": [
       "0.3258567436387704"
      ]
     },
     "execution_count": 87,
     "metadata": {},
     "output_type": "execute_result"
    }
   ],
   "source": [
    "maddpkg.MADD(h=\"auto\", pred_proba_sf0=y_pp_nda, pred_proba_sf1=y_pp_da)"
   ]
  },
  {
   "cell_type": "markdown",
   "id": "df91052b",
   "metadata": {},
   "source": [
    "# Age x poverty"
   ]
  },
  {
   "cell_type": "code",
   "execution_count": 89,
   "id": "e86cea93",
   "metadata": {},
   "outputs": [],
   "source": [
    "X_test_bis['aged_notpoor'] = np.where( (X_test_bis['age'] == 1) & (X_test_bis['poverty'] == 0), 1, 0 )\n",
    "X_test_bis['aged_poor'] = np.where( (X_test_bis['age'] == 1) & (X_test_bis['poverty'] == 1), 1, 0 )\n",
    "X_test_bis['notaged_notpoor'] = np.where( (X_test_bis['age'] == 0) & (X_test_bis['poverty'] == 0), 1, 0 )\n",
    "X_test_bis['notaged_poor'] = np.where( (X_test_bis['age'] == 0) & (X_test_bis['poverty'] == 1), 1, 0 )"
   ]
  },
  {
   "cell_type": "code",
   "execution_count": 90,
   "id": "902404fa",
   "metadata": {},
   "outputs": [],
   "source": [
    "y_pp_anp, y_pp_ap = utils.predprob(MODEL, X_test, (\"aged_notpoor\", \"aged_poor\"), X_test_bis)\n",
    "y_pp_nanp, y_pp_nap = utils.predprob(MODEL, X_test, (\"notaged_notpoor\", \"notaged_poor\"), X_test_bis)"
   ]
  },
  {
   "cell_type": "code",
   "execution_count": 92,
   "id": "c182ec7f",
   "metadata": {},
   "outputs": [
    {
     "data": {
      "text/plain": [
       "0.8397124024012241"
      ]
     },
     "execution_count": 92,
     "metadata": {},
     "output_type": "execute_result"
    }
   ],
   "source": [
    "maddpkg.MADD(h=\"auto\", pred_proba_sf0=y_pp_poverty0, pred_proba_sf1=y_pp_nap)"
   ]
  },
  {
   "cell_type": "code",
   "execution_count": 93,
   "id": "dadb3e74",
   "metadata": {},
   "outputs": [
    {
     "data": {
      "text/plain": [
       "0.877507940196762"
      ]
     },
     "execution_count": 93,
     "metadata": {},
     "output_type": "execute_result"
    }
   ],
   "source": [
    "maddpkg.MADD(h=\"auto\", pred_proba_sf0=y_pp_poverty0, pred_proba_sf1=y_pp_ap)"
   ]
  },
  {
   "cell_type": "code",
   "execution_count": 94,
   "id": "e86e28a6",
   "metadata": {},
   "outputs": [
    {
     "data": {
      "text/plain": [
       "0.6520739965324349"
      ]
     },
     "execution_count": 94,
     "metadata": {},
     "output_type": "execute_result"
    }
   ],
   "source": [
    "maddpkg.MADD(h=\"auto\", pred_proba_sf0=y_pp_nanp, pred_proba_sf1=y_pp_nap)"
   ]
  },
  {
   "cell_type": "code",
   "execution_count": 95,
   "id": "033973b0",
   "metadata": {},
   "outputs": [
    {
     "data": {
      "text/plain": [
       "0.6898695343279726"
      ]
     },
     "execution_count": 95,
     "metadata": {},
     "output_type": "execute_result"
    }
   ],
   "source": [
    "maddpkg.MADD(h=\"auto\", pred_proba_sf0=y_pp_nanp, pred_proba_sf1=y_pp_ap)"
   ]
  },
  {
   "cell_type": "code",
   "execution_count": 96,
   "id": "ca0d662b",
   "metadata": {},
   "outputs": [
    {
     "data": {
      "text/plain": [
       "0.6394479380505678"
      ]
     },
     "execution_count": 96,
     "metadata": {},
     "output_type": "execute_result"
    }
   ],
   "source": [
    "maddpkg.MADD(h=\"auto\", pred_proba_sf0=y_pp_anp, pred_proba_sf1=y_pp_poverty1)"
   ]
  },
  {
   "cell_type": "code",
   "execution_count": 97,
   "id": "ef2e7644",
   "metadata": {},
   "outputs": [
    {
     "data": {
      "text/plain": [
       "0.6267408175848267"
      ]
     },
     "execution_count": 97,
     "metadata": {},
     "output_type": "execute_result"
    }
   ],
   "source": [
    "maddpkg.MADD(h=\"auto\", pred_proba_sf0=y_pp_anp, pred_proba_sf1=y_pp_nap)"
   ]
  },
  {
   "cell_type": "code",
   "execution_count": 98,
   "id": "9e601c7f",
   "metadata": {},
   "outputs": [
    {
     "data": {
      "text/plain": [
       "0.6645363553803645"
      ]
     },
     "execution_count": 98,
     "metadata": {},
     "output_type": "execute_result"
    }
   ],
   "source": [
    "maddpkg.MADD(h=\"auto\", pred_proba_sf0=y_pp_anp, pred_proba_sf1=y_pp_ap)"
   ]
  }
 ],
 "metadata": {
  "kernelspec": {
   "display_name": "venv_sticef",
   "language": "python",
   "name": "venv_sticef"
  },
  "language_info": {
   "codemirror_mode": {
    "name": "ipython",
    "version": 3
   },
   "file_extension": ".py",
   "mimetype": "text/x-python",
   "name": "python",
   "nbconvert_exporter": "python",
   "pygments_lexer": "ipython3",
   "version": "3.10.4"
  }
 },
 "nbformat": 4,
 "nbformat_minor": 5
}
