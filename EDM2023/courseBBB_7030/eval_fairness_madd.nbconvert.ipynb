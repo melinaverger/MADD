{
 "cells": [
  {
   "cell_type": "code",
   "execution_count": 1,
   "metadata": {
    "execution": {
     "iopub.execute_input": "2023-12-26T16:51:26.616106Z",
     "iopub.status.busy": "2023-12-26T16:51:26.615711Z",
     "iopub.status.idle": "2023-12-26T16:51:27.276900Z",
     "shell.execute_reply": "2023-12-26T16:51:27.276548Z"
    }
   },
   "outputs": [],
   "source": [
    "\"\"\"\n",
    "Author: Mélina Verger\n",
    "\n",
    "Compute model absolute density distance (MADD).\n",
    "\"\"\"\n",
    "\n",
    "# To exit script\n",
    "from sys import exit\n",
    "\n",
    "# To load the trained models\n",
    "import pickle\n",
    "\n",
    "# For data manipulation\n",
    "import pandas as pd\n",
    "import numpy as np\n",
    "from scipy.signal import find_peaks\n",
    "\n",
    "# To print with tabular format\n",
    "from tabulate import tabulate\n",
    "\n",
    "# Plotting module\n",
    "import matplotlib.pyplot as plt"
   ]
  },
  {
   "cell_type": "markdown",
   "metadata": {},
   "source": [
    "## Loading"
   ]
  },
  {
   "cell_type": "code",
   "execution_count": 2,
   "metadata": {
    "execution": {
     "iopub.execute_input": "2023-12-26T16:51:27.278710Z",
     "iopub.status.busy": "2023-12-26T16:51:27.278579Z",
     "iopub.status.idle": "2023-12-26T16:51:27.281094Z",
     "shell.execute_reply": "2023-12-26T16:51:27.280836Z"
    }
   },
   "outputs": [
    {
     "name": "stdout",
     "output_type": "stream",
     "text": [
      "stClick\n",
      "7030\n",
      "['gender', 'poverty', 'disability']\n"
     ]
    }
   ],
   "source": [
    "DATA = pickle.load(open(\"../data/DATA\", \"rb\"))\n",
    "SPLIT = pickle.load(open(\"../data/SPLIT\", \"rb\"))\n",
    "SFEATURES = pickle.load(open(\"../data/SFEATURES\", \"rb\"))\n",
    "\n",
    "print(DATA)\n",
    "print(SPLIT)\n",
    "print(SFEATURES)"
   ]
  },
  {
   "cell_type": "code",
   "execution_count": 3,
   "metadata": {
    "execution": {
     "iopub.execute_input": "2023-12-26T16:51:27.297979Z",
     "iopub.status.busy": "2023-12-26T16:51:27.297840Z",
     "iopub.status.idle": "2023-12-26T16:51:27.301913Z",
     "shell.execute_reply": "2023-12-26T16:51:27.301656Z"
    }
   },
   "outputs": [],
   "source": [
    "# Load test sets\n",
    "\n",
    "X_test = pd.read_csv(\"../data/X_test\" + \"_\" + DATA + \"_\" + SPLIT + \".csv\")\n",
    "y_test = pd.read_csv(\"../data/y_test\" + \"_\" + DATA + \"_\" + SPLIT + \".csv\")"
   ]
  },
  {
   "cell_type": "code",
   "execution_count": 4,
   "metadata": {
    "execution": {
     "iopub.execute_input": "2023-12-26T16:51:27.303306Z",
     "iopub.status.busy": "2023-12-26T16:51:27.303227Z",
     "iopub.status.idle": "2023-12-26T16:51:27.397205Z",
     "shell.execute_reply": "2023-12-26T16:51:27.396947Z"
    }
   },
   "outputs": [
    {
     "name": "stderr",
     "output_type": "stream",
     "text": [
      "/Library/Frameworks/Python.framework/Versions/3.10/lib/python3.10/site-packages/sklearn/base.py:347: InconsistentVersionWarning: Trying to unpickle estimator LogisticRegression from version 1.3.2 when using version 1.3.0. This might lead to breaking code or invalid results. Use at your own risk. For more info please refer to:\n",
      "https://scikit-learn.org/stable/model_persistence.html#security-maintainability-limitations\n",
      "  warnings.warn(\n",
      "/Library/Frameworks/Python.framework/Versions/3.10/lib/python3.10/site-packages/sklearn/base.py:347: InconsistentVersionWarning: Trying to unpickle estimator KNeighborsClassifier from version 1.3.2 when using version 1.3.0. This might lead to breaking code or invalid results. Use at your own risk. For more info please refer to:\n",
      "https://scikit-learn.org/stable/model_persistence.html#security-maintainability-limitations\n",
      "  warnings.warn(\n",
      "/Library/Frameworks/Python.framework/Versions/3.10/lib/python3.10/site-packages/sklearn/base.py:347: InconsistentVersionWarning: Trying to unpickle estimator DecisionTreeClassifier from version 1.3.2 when using version 1.3.0. This might lead to breaking code or invalid results. Use at your own risk. For more info please refer to:\n",
      "https://scikit-learn.org/stable/model_persistence.html#security-maintainability-limitations\n",
      "  warnings.warn(\n",
      "/Library/Frameworks/Python.framework/Versions/3.10/lib/python3.10/site-packages/sklearn/base.py:347: InconsistentVersionWarning: Trying to unpickle estimator ComplementNB from version 1.3.2 when using version 1.3.0. This might lead to breaking code or invalid results. Use at your own risk. For more info please refer to:\n",
      "https://scikit-learn.org/stable/model_persistence.html#security-maintainability-limitations\n",
      "  warnings.warn(\n"
     ]
    }
   ],
   "source": [
    "# Load trained models\n",
    "\n",
    "MODELS = pickle.load(open(\"../data/MODELS\", \"rb\"))  # dict with names and trained models\n",
    "models = MODELS"
   ]
  },
  {
   "cell_type": "code",
   "execution_count": 5,
   "metadata": {
    "execution": {
     "iopub.execute_input": "2023-12-26T16:51:27.398696Z",
     "iopub.status.busy": "2023-12-26T16:51:27.398578Z",
     "iopub.status.idle": "2023-12-26T16:51:27.400182Z",
     "shell.execute_reply": "2023-12-26T16:51:27.399964Z"
    }
   },
   "outputs": [],
   "source": [
    "if \"clf_svc\" in models:\n",
    "    del models[\"clf_svc\"]  # except svc model because no probability outputs "
   ]
  },
  {
   "cell_type": "markdown",
   "metadata": {},
   "source": [
    "## Separate data sets by (un-)protected groups"
   ]
  },
  {
   "cell_type": "markdown",
   "metadata": {},
   "source": [
    "/!\\ The following only works for binary sensitive features."
   ]
  },
  {
   "cell_type": "code",
   "execution_count": 6,
   "metadata": {
    "execution": {
     "iopub.execute_input": "2023-12-26T16:51:27.401609Z",
     "iopub.status.busy": "2023-12-26T16:51:27.401535Z",
     "iopub.status.idle": "2023-12-26T16:51:27.405583Z",
     "shell.execute_reply": "2023-12-26T16:51:27.405344Z"
    }
   },
   "outputs": [],
   "source": [
    "dict_subsets_test = dict()\n",
    "\n",
    "for sensfeat in SFEATURES:\n",
    "    # X_test_{sensitive feature and group 1/0}\n",
    "    dict_subsets_test[\"X\"+ \"_test_\" + sensfeat + \"_\"+ \"1\"] = X_test[X_test[sensfeat] == 1]\n",
    "    dict_subsets_test[\"X\"+ \"_test_\" + sensfeat + \"_\"+ \"0\"] = X_test[X_test[sensfeat] == 0]\n",
    "    # y_test_{sensitive feature and group 1/0}\n",
    "    dict_subsets_test[\"y\"+ \"_test_\" + sensfeat + \"_\"+ \"1\"] = y_test.loc[dict_subsets_test[\"X\" + \"_test_\" + sensfeat + \"_\" + \"1\"].index]\n",
    "    dict_subsets_test[\"y\"+ \"_test_\" + sensfeat + \"_\"+ \"0\"] = y_test.loc[dict_subsets_test[\"X\" + \"_test_\" + sensfeat + \"_\" + \"0\"].index]"
   ]
  },
  {
   "cell_type": "markdown",
   "metadata": {},
   "source": [
    "## Prediction probabilities"
   ]
  },
  {
   "cell_type": "code",
   "execution_count": 7,
   "metadata": {
    "execution": {
     "iopub.execute_input": "2023-12-26T16:51:27.407020Z",
     "iopub.status.busy": "2023-12-26T16:51:27.406940Z",
     "iopub.status.idle": "2023-12-26T16:51:27.497268Z",
     "shell.execute_reply": "2023-12-26T16:51:27.496458Z"
    }
   },
   "outputs": [],
   "source": [
    "dict_subsets_PP = dict()\n",
    "\n",
    "for mod_names in models:\n",
    "\n",
    "    if mod_names == \"clf_lr\":\n",
    "        modl = \"lr\"\n",
    "    elif mod_names == \"clf_kn\":\n",
    "        modl = \"kn\"\n",
    "    elif mod_names == \"clf_dt\":\n",
    "        modl = \"dt\" \n",
    "    elif mod_names == \"clf_rf\":\n",
    "        modl = \"rf\"\n",
    "    elif mod_names == \"clf_cnb\":\n",
    "        modl = \"cnb\"\n",
    "    elif mod_names == \"clf_mnb\":\n",
    "        modl = \"mnb\"\n",
    "    else:\n",
    "        print(\"Invalid model.\")\n",
    "        exit()\n",
    "\n",
    "    # y_PP for X_test_{sensitive feature and group 1/0}\n",
    "    for sensfeat in SFEATURES:\n",
    "        dict_subsets_PP[\"y\" + \"_PP_\" + modl + \"_\" + sensfeat + \"_\" + \"1\"] = models[mod_names].predict_proba(dict_subsets_test[\"X\"+ \"_test_\" + sensfeat + \"_\"+ \"1\"])[:, 1]  # [:, 1] because propa of being in the class 1\n",
    "        dict_subsets_PP[\"y\" + \"_PP_\" + modl + \"_\" + sensfeat + \"_\" + \"0\"] = models[mod_names].predict_proba(dict_subsets_test[\"X\"+ \"_test_\" + sensfeat + \"_\"+ \"0\"])[:, 0]  # [:, 0] because propa of being in the class 0"
   ]
  },
  {
   "cell_type": "markdown",
   "metadata": {},
   "source": [
    "## Model Absolute Density Distance (MADD)"
   ]
  },
  {
   "cell_type": "markdown",
   "metadata": {},
   "source": [
    "/!\\ The initial data vectors do not have the same length but it is handled by the density vectors transformation."
   ]
  },
  {
   "cell_type": "code",
   "execution_count": 8,
   "metadata": {
    "execution": {
     "iopub.execute_input": "2023-12-26T16:51:27.501947Z",
     "iopub.status.busy": "2023-12-26T16:51:27.501513Z",
     "iopub.status.idle": "2023-12-26T16:51:27.508810Z",
     "shell.execute_reply": "2023-12-26T16:51:27.508025Z"
    }
   },
   "outputs": [],
   "source": [
    "# Probability sampling step\n",
    "\n",
    "e = 0.1\n",
    "\n",
    "if e == 0.1:\n",
    "    nb_decimals = 1\n",
    "    nb_components = 11\n",
    "\n",
    "if e == 0.01:\n",
    "    nb_decimals = 2\n",
    "    nb_components = 101\n",
    "\n",
    "if e == 0.001:\n",
    "    nb_decimals = 3\n",
    "    nb_components = 1001\n",
    "\n",
    "if e == 0.0001:\n",
    "    nb_decimals = 4\n",
    "    nb_components = 10001\n",
    "\n",
    "NB_COMPO = nb_components\n",
    "pickle.dump(NB_COMPO, open(\"../data/NB_COMPO\", \"wb\"))"
   ]
  },
  {
   "cell_type": "code",
   "execution_count": 9,
   "metadata": {
    "execution": {
     "iopub.execute_input": "2023-12-26T16:51:27.512669Z",
     "iopub.status.busy": "2023-12-26T16:51:27.512258Z",
     "iopub.status.idle": "2023-12-26T16:51:27.520201Z",
     "shell.execute_reply": "2023-12-26T16:51:27.519086Z"
    }
   },
   "outputs": [],
   "source": [
    "def normalized_density_vector(pred_proba_array):\n",
    "\n",
    "    PP_rounded = np.around(pred_proba_array, decimals=nb_decimals)\n",
    "\n",
    "    density_vector = np.zeros(nb_components)  # empty\n",
    "    proba_values = np.linspace(0, 1, nb_components)  # 101 increasing components\n",
    "\n",
    "    for i in range(len(proba_values)):\n",
    "        compar = proba_values[i]\n",
    "        count = 0\n",
    "        for x in PP_rounded:\n",
    "            if x == compar:\n",
    "                count = count + 1\n",
    "        density_vector[i] = count\n",
    "    \n",
    "    normalized_density_vec = density_vector / np.sum(density_vector)\n",
    "\n",
    "    return normalized_density_vec"
   ]
  },
  {
   "cell_type": "code",
   "execution_count": 10,
   "metadata": {
    "execution": {
     "iopub.execute_input": "2023-12-26T16:51:27.524380Z",
     "iopub.status.busy": "2023-12-26T16:51:27.523878Z",
     "iopub.status.idle": "2023-12-26T16:51:27.529122Z",
     "shell.execute_reply": "2023-12-26T16:51:27.528392Z"
    }
   },
   "outputs": [],
   "source": [
    "def MADD(norm_densvect_1, norm_densvect_0):\n",
    "    return np.absolute(norm_densvect_1 - norm_densvect_0).sum()"
   ]
  },
  {
   "cell_type": "code",
   "execution_count": 11,
   "metadata": {
    "execution": {
     "iopub.execute_input": "2023-12-26T16:51:27.533023Z",
     "iopub.status.busy": "2023-12-26T16:51:27.532595Z",
     "iopub.status.idle": "2023-12-26T16:51:27.621386Z",
     "shell.execute_reply": "2023-12-26T16:51:27.620606Z"
    }
   },
   "outputs": [
    {
     "name": "stdout",
     "output_type": "stream",
     "text": [
      "Sensitive feature    Model        MADD\n",
      "-------------------  -------  -------------\n",
      "gender               lr                 1.5\n",
      "gender               kn                 1.2\n",
      "gender               dt                 0.7\n",
      "gender               cnb                0.2\n",
      "poverty              lr                 1.7\n",
      "poverty              kn                 1.2\n",
      "poverty              dt                 0.8\n",
      "poverty              cnb                0.5\n",
      "disability           lr                 1.3\n",
      "disability           kn                 1\n",
      "disability           dt                 0.6\n",
      "disability           cnb                1.3\n"
     ]
    }
   ],
   "source": [
    "res = list()\n",
    "\n",
    "for sensfeat in SFEATURES:\n",
    "\n",
    "    for mod_name in models:\n",
    "\n",
    "        if mod_name == \"clf_lr\":\n",
    "            modl = \"lr\"\n",
    "        elif mod_name == \"clf_kn\":\n",
    "            modl = \"kn\"  # model that generates FutureWarning\n",
    "        elif mod_name == \"clf_dt\":\n",
    "            modl = \"dt\" \n",
    "        elif mod_name == \"clf_rf\":\n",
    "            modl = \"rf\"\n",
    "        elif mod_name == \"clf_cnb\":\n",
    "            modl = \"cnb\"\n",
    "        elif mod_name == \"clf_mnb\":\n",
    "            modl = \"mnb\"\n",
    "        else:\n",
    "            print(\"Invalid model.\")\n",
    "            exit()\n",
    "    \n",
    "        subres = list()\n",
    "        subres.append(sensfeat)\n",
    "        subres.append(modl)\n",
    "\n",
    "        norm_densvect1 = normalized_density_vector(dict_subsets_PP[\"y\" + \"_PP_\" + modl + \"_\" + sensfeat + \"_\" + \"1\"])\n",
    "        norm_densvect0 = normalized_density_vector(dict_subsets_PP[\"y\" + \"_PP_\" + modl + \"_\" + sensfeat + \"_\" + \"0\"])\n",
    "        MADDvalue = round(MADD(norm_densvect1, norm_densvect0), nb_decimals)\n",
    "\n",
    "        subres.append(MADDvalue)\n",
    "\n",
    "        res.append(subres)\n",
    "\n",
    "print(tabulate(res, headers=[\"Sensitive feature\", \"Model\", \"  MADD     \"]))"
   ]
  }
 ],
 "metadata": {
  "kernelspec": {
   "display_name": "env",
   "language": "python",
   "name": "python3"
  },
  "language_info": {
   "codemirror_mode": {
    "name": "ipython",
    "version": 3
   },
   "file_extension": ".py",
   "mimetype": "text/x-python",
   "name": "python",
   "nbconvert_exporter": "python",
   "pygments_lexer": "ipython3",
   "version": "3.10.4"
  },
  "vscode": {
   "interpreter": {
    "hash": "5cef891c3fc98daa8792b401a053fdbb8f4a3a3dac726435bc2247b8e2bd1cdc"
   }
  }
 },
 "nbformat": 4,
 "nbformat_minor": 2
}
