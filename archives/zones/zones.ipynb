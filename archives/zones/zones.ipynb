{
 "cells": [
  {
   "cell_type": "code",
   "execution_count": 1,
   "metadata": {},
   "outputs": [],
   "source": [
    "\"\"\"\n",
    "Created on: Wed. 23 Nov. 2022\n",
    "Author: Mélina Verger\n",
    "\n",
    "Display zones.\n",
    "\"\"\"\n",
    "\n",
    "# To load the trained models\n",
    "import pickle\n",
    "\n",
    "# Plotting modules\n",
    "import seaborn as sns\n",
    "import matplotlib.pyplot as plt"
   ]
  },
  {
   "cell_type": "code",
   "execution_count": 2,
   "metadata": {},
   "outputs": [],
   "source": [
    "filename = \"kdes_clf_dt_gender.pickle\""
   ]
  },
  {
   "cell_type": "code",
   "execution_count": 3,
   "metadata": {},
   "outputs": [
    {
     "ename": "AttributeError",
     "evalue": "'NoneType' object has no attribute 'new_figure_manager_given_figure'",
     "output_type": "error",
     "traceback": [
      "\u001b[0;31m---------------------------------------------------------------------------\u001b[0m",
      "\u001b[0;31mAttributeError\u001b[0m                            Traceback (most recent call last)",
      "\u001b[1;32m/Users/melinaverger/Desktop/exp2/zones/zones.ipynb Cell 3\u001b[0m in \u001b[0;36m<cell line: 1>\u001b[0;34m()\u001b[0m\n\u001b[0;32m----> <a href='vscode-notebook-cell:/Users/melinaverger/Desktop/exp2/zones/zones.ipynb#X12sZmlsZQ%3D%3D?line=0'>1</a>\u001b[0m kdes \u001b[39m=\u001b[39m pickle\u001b[39m.\u001b[39;49mload(\u001b[39mopen\u001b[39;49m(filename, \u001b[39m\"\u001b[39;49m\u001b[39mrb\u001b[39;49m\u001b[39m\"\u001b[39;49m))\n",
      "File \u001b[0;32m~/Desktop/exp2/env/lib/python3.10/site-packages/matplotlib/figure.py:2911\u001b[0m, in \u001b[0;36mFigure.__setstate__\u001b[0;34m(self, state)\u001b[0m\n\u001b[1;32m   2909\u001b[0m allnums \u001b[39m=\u001b[39m plt\u001b[39m.\u001b[39mget_fignums()\n\u001b[1;32m   2910\u001b[0m num \u001b[39m=\u001b[39m \u001b[39mmax\u001b[39m(allnums) \u001b[39m+\u001b[39m \u001b[39m1\u001b[39m \u001b[39mif\u001b[39;00m allnums \u001b[39melse\u001b[39;00m \u001b[39m1\u001b[39m\n\u001b[0;32m-> 2911\u001b[0m mgr \u001b[39m=\u001b[39m plt\u001b[39m.\u001b[39;49m_backend_mod\u001b[39m.\u001b[39;49mnew_figure_manager_given_figure(num, \u001b[39mself\u001b[39m)\n\u001b[1;32m   2912\u001b[0m pylab_helpers\u001b[39m.\u001b[39mGcf\u001b[39m.\u001b[39m_set_new_active_manager(mgr)\n\u001b[1;32m   2913\u001b[0m plt\u001b[39m.\u001b[39mdraw_if_interactive()\n",
      "\u001b[0;31mAttributeError\u001b[0m: 'NoneType' object has no attribute 'new_figure_manager_given_figure'"
     ]
    }
   ],
   "source": [
    "kdes = pickle.load(open(filename, \"rb\"))"
   ]
  },
  {
   "cell_type": "code",
   "execution_count": 5,
   "metadata": {},
   "outputs": [
    {
     "ename": "NameError",
     "evalue": "name 'kdes' is not defined",
     "output_type": "error",
     "traceback": [
      "\u001b[0;31m---------------------------------------------------------------------------\u001b[0m",
      "\u001b[0;31mNameError\u001b[0m                                 Traceback (most recent call last)",
      "\u001b[1;32m/Users/melinaverger/Desktop/exp2/zones/zones.ipynb Cell 4\u001b[0m in \u001b[0;36m<cell line: 1>\u001b[0;34m()\u001b[0m\n\u001b[0;32m----> <a href='vscode-notebook-cell:/Users/melinaverger/Desktop/exp2/zones/zones.ipynb#X23sZmlsZQ%3D%3D?line=0'>1</a>\u001b[0m kdes\n",
      "\u001b[0;31mNameError\u001b[0m: name 'kdes' is not defined"
     ]
    }
   ],
   "source": [
    "kdes"
   ]
  },
  {
   "cell_type": "code",
   "execution_count": null,
   "metadata": {},
   "outputs": [],
   "source": []
  },
  {
   "cell_type": "code",
   "execution_count": 4,
   "metadata": {},
   "outputs": [
    {
     "ename": "NameError",
     "evalue": "name 'ax2' is not defined",
     "output_type": "error",
     "traceback": [
      "\u001b[0;31m---------------------------------------------------------------------------\u001b[0m",
      "\u001b[0;31mNameError\u001b[0m                                 Traceback (most recent call last)",
      "\u001b[1;32m/Users/melinaverger/Desktop/exp2/zones/zones.ipynb Cell 5\u001b[0m in \u001b[0;36m<cell line: 1>\u001b[0;34m()\u001b[0m\n\u001b[0;32m----> <a href='vscode-notebook-cell:/Users/melinaverger/Desktop/exp2/zones/zones.ipynb#W2sZmlsZQ%3D%3D?line=0'>1</a>\u001b[0m pickle\u001b[39m.\u001b[39mdump(ax2\u001b[39m.\u001b[39mget_children(), \u001b[39mopen\u001b[39m(\u001b[39m\"\u001b[39m\u001b[39m../zones/kdes_\u001b[39m\u001b[39m\"\u001b[39m \u001b[39m+\u001b[39m mod_name \u001b[39m+\u001b[39m \u001b[39m\"\u001b[39m\u001b[39m_\u001b[39m\u001b[39m\"\u001b[39m \u001b[39m+\u001b[39m sensfeat, \u001b[39m\"\u001b[39m\u001b[39mwb\u001b[39m\u001b[39m\"\u001b[39m))\n",
      "\u001b[0;31mNameError\u001b[0m: name 'ax2' is not defined"
     ]
    }
   ],
   "source": [
    "pickle.dump(ax2.get_children(), open(\"../zones/kdes_\" + mod_name + \"_\" + sensfeat, \"wb\"))"
   ]
  }
 ],
 "metadata": {
  "kernelspec": {
   "display_name": "Python 3.10.4 ('env': venv)",
   "language": "python",
   "name": "python3"
  },
  "language_info": {
   "codemirror_mode": {
    "name": "ipython",
    "version": 3
   },
   "file_extension": ".py",
   "mimetype": "text/x-python",
   "name": "python",
   "nbconvert_exporter": "python",
   "pygments_lexer": "ipython3",
   "version": "3.10.4"
  },
  "orig_nbformat": 4,
  "vscode": {
   "interpreter": {
    "hash": "6f232859c35808c32414ed7392a3d2d166834ac936b1e4fa11fad72d2414503a"
   }
  }
 },
 "nbformat": 4,
 "nbformat_minor": 2
}
