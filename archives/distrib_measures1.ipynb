{
 "cells": [
  {
   "cell_type": "code",
   "execution_count": 131,
   "metadata": {},
   "outputs": [],
   "source": [
    "\"\"\"\n",
    "Created on: Fri. 14 Oct. 2022\n",
    "Updated on: Wed. 2 Nov. 2022\n",
    "Author: Mélina Verger\n",
    "\n",
    "Manually compute a distance between the distributions of the same feature.\n",
    "\n",
    ">> Compute the intersection area (and the IoU ratio) and the normalized Euclidean distance between the 2 kde estimates curves.\n",
    "\"\"\"\n",
    "\n",
    "# To exit script\n",
    "from sys import exit\n",
    "\n",
    "# To load the trained models\n",
    "import pickle\n",
    "\n",
    "# For data manipulation\n",
    "import pandas as pd\n",
    "import numpy as np\n",
    "\n",
    "# To print with tabular format\n",
    "from tabulate import tabulate"
   ]
  },
  {
   "cell_type": "markdown",
   "metadata": {},
   "source": [
    "## Loading"
   ]
  },
  {
   "cell_type": "code",
   "execution_count": 132,
   "metadata": {},
   "outputs": [
    {
     "name": "stdout",
     "output_type": "stream",
     "text": [
      "stInfo\n",
      "7030\n",
      "['gender', 'imd_band', 'disability']\n"
     ]
    }
   ],
   "source": [
    "DATA = pickle.load(open(\"../data/DATA\", \"rb\"))\n",
    "SPLIT = pickle.load(open(\"../data/SPLIT\", \"rb\"))\n",
    "SFEATURES = pickle.load(open(\"../data/SFEATURES\", \"rb\"))\n",
    "\n",
    "print(DATA)\n",
    "print(SPLIT)\n",
    "print(SFEATURES)"
   ]
  },
  {
   "cell_type": "code",
   "execution_count": 133,
   "metadata": {},
   "outputs": [],
   "source": [
    "# Load test sets\n",
    "\n",
    "X_test = pd.read_csv(\"../data/X_test\" + \"_\" + DATA + \"_\" + SPLIT + \".csv\")\n",
    "y_test = pd.read_csv(\"../data/y_test\" + \"_\" + DATA + \"_\" + SPLIT + \".csv\")"
   ]
  },
  {
   "cell_type": "code",
   "execution_count": 134,
   "metadata": {},
   "outputs": [],
   "source": [
    "# Load trained models\n",
    "\n",
    "clf_lr = pickle.load(open(\"../models/\" + DATA + \"_\" + SPLIT + \"_clf_lr\", \"rb\"))\n",
    "# clf_svc = pickle.load(open(\"../models/\" + DATA + \"_\" + SPLIT + \"_clf_svc\", \"rb\"))\n",
    "clf_knearest = pickle.load(open(\"../models/\" + DATA + \"_\" + SPLIT + \"_clf_knearest\", \"rb\"))\n",
    "clf_dt = pickle.load(open(\"../models/\" + DATA + \"_\" + SPLIT + \"_clf_dt\", \"rb\"))\n",
    "clf_rf = pickle.load(open(\"../models/\" + DATA + \"_\" + SPLIT + \"_clf_rf\", \"rb\"))"
   ]
  },
  {
   "cell_type": "code",
   "execution_count": 135,
   "metadata": {},
   "outputs": [],
   "source": [
    "models = [clf_lr, clf_knearest, clf_dt, clf_rf]  # except svc"
   ]
  },
  {
   "cell_type": "markdown",
   "metadata": {},
   "source": [
    "## Separate data sets by (un-)protected groups"
   ]
  },
  {
   "cell_type": "markdown",
   "metadata": {},
   "source": [
    "/!\\ The following only works for binary sensitive features."
   ]
  },
  {
   "cell_type": "code",
   "execution_count": 136,
   "metadata": {},
   "outputs": [],
   "source": [
    "dict_subsets_test = dict()\n",
    "\n",
    "for sensfeat in SFEATURES:\n",
    "    # X_test_{sensitive feature and group 1/0}\n",
    "    dict_subsets_test[\"X\"+ \"_test_\" + sensfeat + \"_\"+ \"1\"] = X_test[X_test[sensfeat] == 1]\n",
    "    dict_subsets_test[\"X\"+ \"_test_\" + sensfeat + \"_\"+ \"0\"] = X_test[X_test[sensfeat] == 0]\n",
    "    # y_test_{sensitive feature and group 1/0}\n",
    "    dict_subsets_test[\"y\"+ \"_test_\" + sensfeat + \"_\"+ \"1\"] = y_test.loc[dict_subsets_test[\"X\" + \"_test_\" + sensfeat + \"_\" + \"1\"].index]\n",
    "    dict_subsets_test[\"y\"+ \"_test_\" + sensfeat + \"_\"+ \"0\"] = y_test.loc[dict_subsets_test[\"X\" + \"_test_\" + sensfeat + \"_\" + \"0\"].index]"
   ]
  },
  {
   "cell_type": "markdown",
   "metadata": {},
   "source": [
    "## Prediction **probabilities**"
   ]
  },
  {
   "cell_type": "code",
   "execution_count": 137,
   "metadata": {},
   "outputs": [],
   "source": [
    "dict_subsets_PP = dict()\n",
    "\n",
    "for model in models:  # except svc model because no probability outputs \n",
    "\n",
    "    if model == clf_lr:\n",
    "        modl = \"lr\"\n",
    "    elif model == clf_knearest:\n",
    "        modl = \"kn\"\n",
    "    elif model == clf_dt:\n",
    "        modl = \"dt\" \n",
    "    elif model == clf_rf:\n",
    "        modl = \"rf\"\n",
    "    else:\n",
    "        print(\"Invalid model.\")\n",
    "        exit()\n",
    "\n",
    "    # y_PP for X_test_{sensitive feature and group 1/0}\n",
    "    for sensfeat in SFEATURES:\n",
    "        dict_subsets_PP[\"y\" + \"_PP_\" + modl + \"_\" + sensfeat + \"_\" + \"1\"] = model.predict_proba(dict_subsets_test[\"X\"+ \"_test_\" + sensfeat + \"_\"+ \"1\"])[:, 1]  # [:, 1] because propa of being in the class 1\n",
    "        dict_subsets_PP[\"y\" + \"_PP_\" + modl + \"_\" + sensfeat + \"_\" + \"0\"] = model.predict_proba(dict_subsets_test[\"X\"+ \"_test_\" + sensfeat + \"_\"+ \"0\"])[:, 0]  # [:, 1] because propa of being in the class 0"
   ]
  },
  {
   "cell_type": "markdown",
   "metadata": {},
   "source": [
    "## UT"
   ]
  },
  {
   "cell_type": "code",
   "execution_count": 138,
   "metadata": {},
   "outputs": [
    {
     "name": "stdout",
     "output_type": "stream",
     "text": [
      "Sensitive feature    Model      UT group 1    UT group 0    Delta\n",
      "-------------------  -------  ------------  ------------  -------\n",
      "gender               lr               0.62          0.36     0.26\n",
      "gender               kn               0.63          0.37     0.26\n",
      "gender               dt               0.65          0.36     0.28\n",
      "gender               rf               0.63          0.36     0.27\n",
      "imd_band             lr               0.58          0.28     0.3\n",
      "imd_band             kn               0.54          0.23     0.31\n",
      "imd_band             dt               0.58          0.27     0.31\n",
      "imd_band             rf               0.58          0.27     0.31\n",
      "disability           lr               0.59          0.36     0.23\n",
      "disability           kn               0.67          0.38     0.29\n",
      "disability           dt               0.59          0.36     0.23\n",
      "disability           rf               0.6           0.36     0.24\n"
     ]
    }
   ],
   "source": [
    "results = list()\n",
    "\n",
    "for sensfeat in SFEATURES:\n",
    "\n",
    "    for model in models:\n",
    "\n",
    "        if model == clf_lr:\n",
    "            modl = \"lr\"\n",
    "        elif model == clf_knearest:\n",
    "            modl = \"kn\"  # model that generates FutureWarning\n",
    "        elif model == clf_dt:\n",
    "            modl = \"dt\" \n",
    "        elif model == clf_rf:\n",
    "            modl = \"rf\"\n",
    "        else:\n",
    "            print(\"Invalid model.\")\n",
    "            exit()\n",
    "        \n",
    "        subres = list()\n",
    "        moy1 = np.mean(dict_subsets_PP[\"y\" + \"_PP_\" + modl + \"_\" + sensfeat + \"_\" + \"1\"])\n",
    "        moy0 = np.mean(dict_subsets_PP[\"y\" + \"_PP_\" + modl + \"_\" + sensfeat + \"_\" + \"0\"])\n",
    "        subres.append(sensfeat)\n",
    "        subres.append(modl)\n",
    "        subres.append(round(moy1, 2))\n",
    "        subres.append(round(moy0, 2))\n",
    "        subres.append(round(abs(moy1 - moy0), 2))\n",
    "        results.append(subres)\n",
    "\n",
    "print(tabulate(results, headers=[\"Sensitive feature\", \"Model\", \"UT group 1\", \"UT group 0\", \"Delta\"]))"
   ]
  },
  {
   "cell_type": "markdown",
   "metadata": {},
   "source": [
    "## Mean density error ($\\overline{d}$)"
   ]
  },
  {
   "cell_type": "markdown",
   "metadata": {},
   "source": [
    "/!\\ The vectors does not have the same length but it is handled by the density vector."
   ]
  },
  {
   "cell_type": "code",
   "execution_count": 139,
   "metadata": {},
   "outputs": [],
   "source": [
    "def normalized_density_vector(pred_proba_array):\n",
    "\n",
    "    PP_rounded = np.around(pred_proba_array, decimals=2)\n",
    "\n",
    "    density_vector = np.zeros(101)  # empty\n",
    "    proba_values = np.linspace(0, 1, 101)  # 101 elems\n",
    "\n",
    "    for i in range(len(proba_values)):\n",
    "        compar = proba_values[i]\n",
    "        count = 0\n",
    "        for x in PP_rounded:\n",
    "            if x == compar:\n",
    "                count = count + 1\n",
    "        density_vector[i] = count\n",
    "    \n",
    "    normalized_density_vec = density_vector / np.sum(density_vector)\n",
    "\n",
    "    return normalized_density_vec"
   ]
  },
  {
   "cell_type": "code",
   "execution_count": 140,
   "metadata": {},
   "outputs": [],
   "source": [
    "def mean_density_error(norm_densvect_1, norm_densvect_0):\n",
    "    return np.absolute(norm_densvect_1 - norm_densvect_0).sum()"
   ]
  },
  {
   "cell_type": "code",
   "execution_count": 141,
   "metadata": {},
   "outputs": [
    {
     "name": "stdout",
     "output_type": "stream",
     "text": [
      "Sensitive feature    Model       d\n",
      "-------------------  -------  ----\n",
      "gender               lr       1.73\n",
      "gender               kn       0.92\n",
      "gender               dt       1.58\n",
      "gender               rf       1.72\n",
      "imd_band             lr       1.88\n",
      "imd_band             kn       1.11\n",
      "imd_band             dt       1.62\n",
      "imd_band             rf       1.73\n",
      "disability           lr       1.76\n",
      "disability           kn       0.94\n",
      "disability           dt       1.52\n",
      "disability           rf       1.56\n"
     ]
    }
   ],
   "source": [
    "d_res = list()\n",
    "\n",
    "for sensfeat in SFEATURES:\n",
    "\n",
    "    for model in models:\n",
    "\n",
    "        if model == clf_lr:\n",
    "            modl = \"lr\"\n",
    "        elif model == clf_knearest:\n",
    "            modl = \"kn\"  # model that generates FutureWarning\n",
    "        elif model == clf_dt:\n",
    "            modl = \"dt\" \n",
    "        elif model == clf_rf:\n",
    "            modl = \"rf\"\n",
    "        else:\n",
    "            print(\"Invalid model.\")\n",
    "            exit()\n",
    "    \n",
    "        d_subres = list()\n",
    "        d_subres.append(sensfeat)\n",
    "        d_subres.append(modl)\n",
    "        norm_densvect1 = normalized_density_vector(dict_subsets_PP[\"y\" + \"_PP_\" + modl + \"_\" + sensfeat + \"_\" + \"1\"])\n",
    "        norm_densvect0 = normalized_density_vector(dict_subsets_PP[\"y\" + \"_PP_\" + modl + \"_\" + sensfeat + \"_\" + \"0\"])\n",
    "        d = round(mean_density_error(norm_densvect1, norm_densvect0), 2)\n",
    "        d_subres.append(d)\n",
    "        d_res.append(d_subres)\n",
    "\n",
    "print(tabulate(d_res, headers=[\"Sensitive feature\", \"Model\", \"d\"]))"
   ]
  },
  {
   "cell_type": "markdown",
   "metadata": {},
   "source": [
    "## Manually compute the \"distance vector\""
   ]
  },
  {
   "cell_type": "code",
   "execution_count": 142,
   "metadata": {},
   "outputs": [],
   "source": [
    "def dense_values(vector):\n",
    "    c0, c1, c2, c3, c4, c5, c6, c7, c8, c9, c10 = 0, 0, 0, 0, 0, 0, 0, 0, 0, 0, 0\n",
    "\n",
    "    for x in vector:\n",
    "        if x == 0.0:\n",
    "            c0 = c0 + 1\n",
    "        elif x == 0.1:\n",
    "            c1 = c1 + 1\n",
    "        elif x == 0.2:\n",
    "            c2 = c2 + 1\n",
    "        elif x == 0.3:\n",
    "            c3 = c3 + 1\n",
    "        elif x == 0.4:\n",
    "            c4 = c4 + 1\n",
    "        elif x == 0.5:\n",
    "            c5 = c5 + 1\n",
    "        elif x == 0.6:\n",
    "            c6 = c6 + 1\n",
    "        elif x == 0.7:\n",
    "            c7 = c7 + 1\n",
    "        elif x == 0.8:\n",
    "            c8 = c8 + 1\n",
    "        elif x == 0.9:\n",
    "            c9 = c9 + 1\n",
    "        else:\n",
    "            c10 = c10 + 1\n",
    "    \n",
    "    v = np.array([c0, c1, c2, c3, c4, c5, c6, c7, c8, c9, c10])\n",
    "    v_normalized = v / np.sum(v)\n",
    "\n",
    "    return v_normalized"
   ]
  },
  {
   "cell_type": "code",
   "execution_count": 143,
   "metadata": {},
   "outputs": [],
   "source": [
    "X_test_gender_1 = X_test[X_test[\"gender\"] == 1]\n",
    "X_test_gender_0 = X_test[X_test[\"gender\"] == 0]\n",
    "\n",
    "y_test_gender_1 = y_test.loc[X_test_gender_1.index]\n",
    "y_test_gender_0 = y_test.loc[X_test_gender_0.index]"
   ]
  },
  {
   "cell_type": "code",
   "execution_count": 144,
   "metadata": {},
   "outputs": [],
   "source": [
    "X_test_imdband_1 = X_test[X_test[\"imd_band\"] == 1]\n",
    "X_test_imdband_0 = X_test[X_test[\"imd_band\"] == 0]\n",
    "\n",
    "y_test_imdband_1 = y_test.loc[X_test_imdband_1.index]\n",
    "y_test_imdband_0 = y_test.loc[X_test_imdband_0.index]"
   ]
  },
  {
   "cell_type": "code",
   "execution_count": 145,
   "metadata": {},
   "outputs": [],
   "source": [
    "X_test_disability_1 = X_test[X_test[\"disability\"] == 1]\n",
    "X_test_disability_0 = X_test[X_test[\"disability\"] == 0]\n",
    "\n",
    "y_test_disability_1 = y_test.loc[X_test_disability_1.index]\n",
    "y_test_disability_0 = y_test.loc[X_test_disability_0.index]"
   ]
  },
  {
   "cell_type": "code",
   "execution_count": 146,
   "metadata": {},
   "outputs": [],
   "source": [
    "# Make predictions with each model\n"
   ]
  },
  {
   "cell_type": "code",
   "execution_count": 147,
   "metadata": {},
   "outputs": [],
   "source": [
    "lr_y_pred_proba_gender_1 = clf_lr.predict_proba(X_test_gender_1)[:, 1]\n",
    "kn_y_pred_proba_gender_1 = clf_knearest.predict_proba(X_test_gender_1)[:, 1]\n",
    "dt_y_pred_proba_gender_1 = clf_dt.predict_proba(X_test_gender_1)[:, 1]\n",
    "rf_y_pred_proba_gender_1 = clf_rf.predict_proba(X_test_gender_1)[:, 1]\n",
    "\n",
    "lr_y_pred_proba_gender_0 = clf_lr.predict_proba(X_test_gender_0)[:, 0]\n",
    "kn_y_pred_proba_gender_0 = clf_knearest.predict_proba(X_test_gender_0)[:, 0]\n",
    "dt_y_pred_proba_gender_0 = clf_dt.predict_proba(X_test_gender_0)[:, 0]\n",
    "rf_y_pred_proba_gender_0 = clf_rf.predict_proba(X_test_gender_0)[:, 0]"
   ]
  },
  {
   "cell_type": "code",
   "execution_count": 148,
   "metadata": {},
   "outputs": [],
   "source": [
    "lr_y_pred_proba_imdband_1 = clf_lr.predict_proba(X_test_imdband_1)[:, 1]\n",
    "kn_y_pred_proba_imdband_1 = clf_knearest.predict_proba(X_test_imdband_1)[:, 1]\n",
    "dt_y_pred_proba_imdband_1 = clf_dt.predict_proba(X_test_imdband_1)[:, 1]\n",
    "rf_y_pred_proba_imdband_1 = clf_rf.predict_proba(X_test_imdband_1)[:, 1]\n",
    "\n",
    "lr_y_pred_proba_imdband_0 = clf_lr.predict_proba(X_test_imdband_0)[:, 0]\n",
    "kn_y_pred_proba_imdband_0 = clf_knearest.predict_proba(X_test_imdband_0)[:, 0]\n",
    "dt_y_pred_proba_imdband_0 = clf_dt.predict_proba(X_test_imdband_0)[:, 0]\n",
    "rf_y_pred_proba_imdband_0 = clf_rf.predict_proba(X_test_imdband_0)[:, 0]"
   ]
  },
  {
   "cell_type": "code",
   "execution_count": 149,
   "metadata": {},
   "outputs": [],
   "source": [
    "lr_y_pred_proba_disability_1 = clf_lr.predict_proba(X_test_disability_1)[:, 1]\n",
    "kn_y_pred_proba_disability_1 = clf_knearest.predict_proba(X_test_disability_1)[:, 1]\n",
    "dt_y_pred_proba_disability_1 = clf_dt.predict_proba(X_test_disability_1)[:, 1]\n",
    "rf_y_pred_proba_disability_1 = clf_rf.predict_proba(X_test_disability_1)[:, 1]\n",
    "\n",
    "lr_y_pred_proba_disability_0 = clf_lr.predict_proba(X_test_disability_0)[:, 0]\n",
    "kn_y_pred_proba_disability_0 = clf_knearest.predict_proba(X_test_disability_0)[:, 0]\n",
    "dt_y_pred_proba_disability_0 = clf_dt.predict_proba(X_test_disability_0)[:, 0]\n",
    "rf_y_pred_proba_disability_0 = clf_rf.predict_proba(X_test_disability_0)[:, 0]"
   ]
  },
  {
   "cell_type": "code",
   "execution_count": 150,
   "metadata": {},
   "outputs": [],
   "source": [
    "# Round the values of probabilities\n",
    "# Step 0.1 => 11 values from 0.0 to 1.0, round at 0.5\n",
    "\n",
    "# Gender\n",
    "lr_y_pred_proba_gender_1 = np.around(lr_y_pred_proba_gender_1, decimals=1)\n",
    "kn_y_pred_proba_gender_1 = np.around(kn_y_pred_proba_gender_1, decimals=1)\n",
    "dt_y_pred_proba_gender_1 = np.around(dt_y_pred_proba_gender_1, decimals=1)\n",
    "rf_y_pred_proba_gender_1 = np.around(rf_y_pred_proba_gender_1, decimals=1)\n",
    "\n",
    "lr_y_pred_proba_gender_0 = np.around(lr_y_pred_proba_gender_0, decimals=1)\n",
    "kn_y_pred_proba_gender_0 = np.around(kn_y_pred_proba_gender_0, decimals=1)\n",
    "dt_y_pred_proba_gender_0 = np.around(dt_y_pred_proba_gender_0, decimals=1)\n",
    "rf_y_pred_proba_gender_0 = np.around(rf_y_pred_proba_gender_0, decimals=1)\n",
    "\n",
    "# Imd band\n",
    "lr_y_pred_proba_imdband_1 = np.around(lr_y_pred_proba_imdband_1, decimals=1)\n",
    "kn_y_pred_proba_imdband_1 = np.around(kn_y_pred_proba_imdband_1, decimals=1)\n",
    "dt_y_pred_proba_imdband_1 = np.around(dt_y_pred_proba_imdband_1, decimals=1)\n",
    "rf_y_pred_proba_imdband_1 = np.around(rf_y_pred_proba_imdband_1, decimals=1)\n",
    "\n",
    "lr_y_pred_proba_imdband_0 = np.around(lr_y_pred_proba_imdband_0, decimals=1)\n",
    "kn_y_pred_proba_imdband_0 = np.around(kn_y_pred_proba_imdband_0, decimals=1)\n",
    "dt_y_pred_proba_imdband_0 = np.around(dt_y_pred_proba_imdband_0, decimals=1)\n",
    "rf_y_pred_proba_imdband_0 = np.around(rf_y_pred_proba_imdband_0, decimals=1)\n",
    "\n",
    "# Disability\n",
    "lr_y_pred_proba_disability_1 = np.around(lr_y_pred_proba_disability_1, decimals=1)\n",
    "kn_y_pred_proba_disability_1 = np.around(kn_y_pred_proba_disability_1, decimals=1)\n",
    "dt_y_pred_proba_disability_1 = np.around(dt_y_pred_proba_disability_1, decimals=1)\n",
    "rf_y_pred_proba_disability_1 = np.around(rf_y_pred_proba_disability_1, decimals=1)\n",
    "\n",
    "lr_y_pred_proba_disability_0 = np.around(lr_y_pred_proba_disability_0, decimals=1)\n",
    "kn_y_pred_proba_disability_0 = np.around(kn_y_pred_proba_disability_0, decimals=1)\n",
    "dt_y_pred_proba_disability_0 = np.around(dt_y_pred_proba_disability_0, decimals=1)\n",
    "rf_y_pred_proba_disability_0 = np.around(rf_y_pred_proba_disability_0, decimals=1)"
   ]
  },
  {
   "cell_type": "code",
   "execution_count": 151,
   "metadata": {},
   "outputs": [],
   "source": [
    "# Compute density vectors\n",
    "\n",
    "# Gender\n",
    "dens_lr_y_pred_proba_gender_1 = dense_values(lr_y_pred_proba_gender_1)\n",
    "dens_kn_y_pred_proba_gender_1 = dense_values(kn_y_pred_proba_gender_1)\n",
    "dens_dt_y_pred_proba_gender_1 = dense_values(dt_y_pred_proba_gender_1)\n",
    "dens_rf_y_pred_proba_gender_1 = dense_values(rf_y_pred_proba_gender_1)\n",
    "\n",
    "dens_lr_y_pred_proba_gender_0 = dense_values(lr_y_pred_proba_gender_0)\n",
    "dens_kn_y_pred_proba_gender_0 = dense_values(kn_y_pred_proba_gender_0)\n",
    "dens_dt_y_pred_proba_gender_0 = dense_values(dt_y_pred_proba_gender_0)\n",
    "dens_rf_y_pred_proba_gender_0 = dense_values(rf_y_pred_proba_gender_0)\n",
    "\n",
    "# Imd band\n",
    "dens_lr_y_pred_proba_imdband_1 = dense_values(lr_y_pred_proba_imdband_1)\n",
    "dens_kn_y_pred_proba_imdband_1 = dense_values(kn_y_pred_proba_imdband_1)\n",
    "dens_dt_y_pred_proba_imdband_1 = dense_values(dt_y_pred_proba_imdband_1)\n",
    "dens_rf_y_pred_proba_imdband_1 = dense_values(rf_y_pred_proba_imdband_1)\n",
    "\n",
    "dens_lr_y_pred_proba_imdband_0 = dense_values(lr_y_pred_proba_imdband_0)\n",
    "dens_kn_y_pred_proba_imdband_0 = dense_values(kn_y_pred_proba_imdband_0)\n",
    "dens_dt_y_pred_proba_imdband_0 = dense_values(dt_y_pred_proba_imdband_0)\n",
    "dens_rf_y_pred_proba_imdband_0 = dense_values(rf_y_pred_proba_imdband_0)\n",
    "\n",
    "# Disability\n",
    "dens_lr_y_pred_proba_disability_1 = dense_values(lr_y_pred_proba_disability_1)\n",
    "dens_kn_y_pred_proba_disability_1 = dense_values(kn_y_pred_proba_disability_1)\n",
    "dens_dt_y_pred_proba_disability_1 = dense_values(dt_y_pred_proba_disability_1)\n",
    "dens_rf_y_pred_proba_disability_1 = dense_values(rf_y_pred_proba_disability_1)\n",
    "\n",
    "dens_lr_y_pred_proba_disability_0 = dense_values(lr_y_pred_proba_disability_0)\n",
    "dens_kn_y_pred_proba_disability_0 = dense_values(kn_y_pred_proba_disability_0)\n",
    "dens_dt_y_pred_proba_disability_0 = dense_values(dt_y_pred_proba_disability_0)\n",
    "dens_rf_y_pred_proba_disability_0 = dense_values(rf_y_pred_proba_disability_0)"
   ]
  },
  {
   "cell_type": "code",
   "execution_count": 152,
   "metadata": {},
   "outputs": [],
   "source": [
    "# Difference\n",
    "\n",
    "# Gender\n",
    "d_lr_gender = np.absolute(dens_lr_y_pred_proba_gender_1 - dens_lr_y_pred_proba_gender_0).sum()\n",
    "d_kn_gender = np.absolute(dens_kn_y_pred_proba_gender_1 - dens_kn_y_pred_proba_gender_0).sum()\n",
    "d_dt_gender = np.absolute(dens_dt_y_pred_proba_gender_1 - dens_dt_y_pred_proba_gender_0).sum()\n",
    "d_rf_gender = np.absolute(dens_rf_y_pred_proba_gender_1 - dens_rf_y_pred_proba_gender_0).sum()\n",
    "\n",
    "# Imd band\n",
    "d_lr_imdband = np.absolute(dens_lr_y_pred_proba_imdband_1 - dens_lr_y_pred_proba_imdband_0).sum()\n",
    "d_kn_imdband = np.absolute(dens_kn_y_pred_proba_imdband_1 - dens_kn_y_pred_proba_imdband_0).sum()\n",
    "d_dt_imdband = np.absolute(dens_dt_y_pred_proba_imdband_1 - dens_dt_y_pred_proba_imdband_0).sum()\n",
    "d_rf_imdband = np.absolute(dens_rf_y_pred_proba_imdband_1 - dens_rf_y_pred_proba_imdband_0).sum()\n",
    "\n",
    "# Disability\n",
    "d_lr_disability = np.absolute(dens_lr_y_pred_proba_disability_1 - dens_lr_y_pred_proba_disability_0).sum()\n",
    "d_kn_disability = np.absolute(dens_kn_y_pred_proba_disability_1 - dens_kn_y_pred_proba_disability_0).sum()\n",
    "d_dt_disability = np.absolute(dens_dt_y_pred_proba_disability_1 - dens_dt_y_pred_proba_disability_0).sum()\n",
    "d_rf_disability = np.absolute(dens_rf_y_pred_proba_disability_1 - dens_rf_y_pred_proba_disability_0).sum()"
   ]
  },
  {
   "cell_type": "code",
   "execution_count": 153,
   "metadata": {},
   "outputs": [
    {
     "name": "stdout",
     "output_type": "stream",
     "text": [
      "1.41\n",
      "0.92\n",
      "1.09\n",
      "1.13\n"
     ]
    }
   ],
   "source": [
    "print(round(d_lr_gender, 2))\n",
    "print(round(d_kn_gender, 2))\n",
    "print(round(d_dt_gender, 2))\n",
    "print(round(d_rf_gender, 2))"
   ]
  },
  {
   "cell_type": "code",
   "execution_count": 154,
   "metadata": {},
   "outputs": [
    {
     "name": "stdout",
     "output_type": "stream",
     "text": [
      "1.78\n",
      "1.11\n",
      "1.45\n",
      "1.49\n"
     ]
    }
   ],
   "source": [
    "print(round(d_lr_imdband, 2))\n",
    "print(round(d_kn_imdband, 2))\n",
    "print(round(d_dt_imdband, 2))\n",
    "print(round(d_rf_imdband, 2))"
   ]
  },
  {
   "cell_type": "code",
   "execution_count": 155,
   "metadata": {},
   "outputs": [
    {
     "name": "stdout",
     "output_type": "stream",
     "text": [
      "1.3\n",
      "0.94\n",
      "1.15\n",
      "1.05\n"
     ]
    }
   ],
   "source": [
    "print(round(d_lr_disability, 2))\n",
    "print(round(d_kn_disability, 2))\n",
    "print(round(d_dt_disability, 2))\n",
    "print(round(d_rf_disability, 2))"
   ]
  }
 ],
 "metadata": {
  "kernelspec": {
   "display_name": "Python 3.10.4 ('env': venv)",
   "language": "python",
   "name": "python3"
  },
  "language_info": {
   "codemirror_mode": {
    "name": "ipython",
    "version": 3
   },
   "file_extension": ".py",
   "mimetype": "text/x-python",
   "name": "python",
   "nbconvert_exporter": "python",
   "pygments_lexer": "ipython3",
   "version": "3.10.4"
  },
  "orig_nbformat": 4,
  "vscode": {
   "interpreter": {
    "hash": "6f232859c35808c32414ed7392a3d2d166834ac936b1e4fa11fad72d2414503a"
   }
  }
 },
 "nbformat": 4,
 "nbformat_minor": 2
}
