{
 "cells": [
  {
   "cell_type": "code",
   "execution_count": 93,
   "metadata": {},
   "outputs": [],
   "source": [
    "\"\"\"\n",
    "Created on: Tue. 9 Aug. 2022\n",
    "Updated on: Wed. 10 Aug. 2022\n",
    "Updated on: Tue. 16 Aug. 2022\n",
    "Updated on: Wed. 31 Aug. 2022\n",
    "Author: Mélina Verger\n",
    "\"\"\"\n",
    "\n",
    "# To interact with the operating system\n",
    "import os\n",
    "\n",
    "# For data manipulation\n",
    "import pandas as pd\n",
    "pd.set_option('display.max_columns', None)\n",
    "\n",
    "# To make the train-test split\n",
    "from sklearn.model_selection import train_test_split\n",
    "\n",
    "# ML models\n",
    "from sklearn.linear_model import LogisticRegression\n",
    "from sklearn.svm import LinearSVC\n",
    "from sklearn.neighbors import KNeighborsClassifier\n",
    "from sklearn.tree import DecisionTreeClassifier\n",
    "\n",
    "# To save the trained models\n",
    "import pickle\n",
    "\n",
    "# For cross-validation\n",
    "from sklearn.model_selection import cross_val_score\n",
    "\n",
    "# Metric\n",
    "from sklearn.metrics import accuracy_score\n",
    "\n",
    "# Plotting module\n",
    "import matplotlib.pyplot as plt"
   ]
  },
  {
   "cell_type": "markdown",
   "metadata": {},
   "source": [
    "## Reduced data set"
   ]
  },
  {
   "cell_type": "code",
   "execution_count": 94,
   "metadata": {},
   "outputs": [],
   "source": [
    "studentAll_num_scaled = pd.read_csv(\"./data/studentAll_num_scaled.csv\")"
   ]
  },
  {
   "cell_type": "code",
   "execution_count": 95,
   "metadata": {},
   "outputs": [
    {
     "data": {
      "text/html": [
       "<div>\n",
       "<style scoped>\n",
       "    .dataframe tbody tr th:only-of-type {\n",
       "        vertical-align: middle;\n",
       "    }\n",
       "\n",
       "    .dataframe tbody tr th {\n",
       "        vertical-align: top;\n",
       "    }\n",
       "\n",
       "    .dataframe thead th {\n",
       "        text-align: right;\n",
       "    }\n",
       "</style>\n",
       "<table border=\"1\" class=\"dataframe\">\n",
       "  <thead>\n",
       "    <tr style=\"text-align: right;\">\n",
       "      <th></th>\n",
       "      <th>gender</th>\n",
       "      <th>highest_education</th>\n",
       "      <th>imd_band</th>\n",
       "      <th>age_band</th>\n",
       "      <th>disability</th>\n",
       "      <th>num_of_prev_attempts</th>\n",
       "      <th>studied_credits</th>\n",
       "      <th>sum_click</th>\n",
       "      <th>weighted_score</th>\n",
       "      <th>final_result</th>\n",
       "      <th>code_module_AAA</th>\n",
       "      <th>code_module_BBB</th>\n",
       "      <th>code_module_CCC</th>\n",
       "      <th>code_module_DDD</th>\n",
       "      <th>code_module_EEE</th>\n",
       "      <th>code_module_FFF</th>\n",
       "      <th>code_module_GGG</th>\n",
       "      <th>code_presentation_2013B</th>\n",
       "      <th>code_presentation_2013J</th>\n",
       "      <th>code_presentation_2014B</th>\n",
       "      <th>code_presentation_2014J</th>\n",
       "      <th>region_East Anglian Region</th>\n",
       "      <th>region_East Midlands Region</th>\n",
       "      <th>region_Ireland</th>\n",
       "      <th>region_London Region</th>\n",
       "      <th>region_North Region</th>\n",
       "      <th>region_North Western Region</th>\n",
       "      <th>region_Scotland</th>\n",
       "      <th>region_South East Region</th>\n",
       "      <th>region_South Region</th>\n",
       "      <th>region_South West Region</th>\n",
       "      <th>region_Wales</th>\n",
       "      <th>region_West Midlands Region</th>\n",
       "      <th>region_Yorkshire Region</th>\n",
       "    </tr>\n",
       "  </thead>\n",
       "  <tbody>\n",
       "    <tr>\n",
       "      <th>0</th>\n",
       "      <td>1.0</td>\n",
       "      <td>0.75</td>\n",
       "      <td>0.0</td>\n",
       "      <td>1.0</td>\n",
       "      <td>0.0</td>\n",
       "      <td>0.0</td>\n",
       "      <td>0.35</td>\n",
       "      <td>0.038653</td>\n",
       "      <td>0.824000</td>\n",
       "      <td>1.0</td>\n",
       "      <td>1.0</td>\n",
       "      <td>0.0</td>\n",
       "      <td>0.0</td>\n",
       "      <td>0.0</td>\n",
       "      <td>0.0</td>\n",
       "      <td>0.0</td>\n",
       "      <td>0.0</td>\n",
       "      <td>0.0</td>\n",
       "      <td>1.0</td>\n",
       "      <td>0.0</td>\n",
       "      <td>0.0</td>\n",
       "      <td>1.0</td>\n",
       "      <td>0.0</td>\n",
       "      <td>0.0</td>\n",
       "      <td>0.0</td>\n",
       "      <td>0.0</td>\n",
       "      <td>0.0</td>\n",
       "      <td>0.0</td>\n",
       "      <td>0.0</td>\n",
       "      <td>0.0</td>\n",
       "      <td>0.0</td>\n",
       "      <td>0.0</td>\n",
       "      <td>0.0</td>\n",
       "      <td>0.0</td>\n",
       "    </tr>\n",
       "    <tr>\n",
       "      <th>1</th>\n",
       "      <td>0.0</td>\n",
       "      <td>0.75</td>\n",
       "      <td>1.0</td>\n",
       "      <td>0.5</td>\n",
       "      <td>0.0</td>\n",
       "      <td>0.0</td>\n",
       "      <td>0.05</td>\n",
       "      <td>0.059408</td>\n",
       "      <td>0.654000</td>\n",
       "      <td>1.0</td>\n",
       "      <td>1.0</td>\n",
       "      <td>0.0</td>\n",
       "      <td>0.0</td>\n",
       "      <td>0.0</td>\n",
       "      <td>0.0</td>\n",
       "      <td>0.0</td>\n",
       "      <td>0.0</td>\n",
       "      <td>0.0</td>\n",
       "      <td>1.0</td>\n",
       "      <td>0.0</td>\n",
       "      <td>0.0</td>\n",
       "      <td>0.0</td>\n",
       "      <td>0.0</td>\n",
       "      <td>0.0</td>\n",
       "      <td>0.0</td>\n",
       "      <td>0.0</td>\n",
       "      <td>0.0</td>\n",
       "      <td>1.0</td>\n",
       "      <td>0.0</td>\n",
       "      <td>0.0</td>\n",
       "      <td>0.0</td>\n",
       "      <td>0.0</td>\n",
       "      <td>0.0</td>\n",
       "      <td>0.0</td>\n",
       "    </tr>\n",
       "    <tr>\n",
       "      <th>2</th>\n",
       "      <td>0.0</td>\n",
       "      <td>0.50</td>\n",
       "      <td>0.0</td>\n",
       "      <td>0.5</td>\n",
       "      <td>0.0</td>\n",
       "      <td>0.0</td>\n",
       "      <td>0.05</td>\n",
       "      <td>0.089361</td>\n",
       "      <td>0.763000</td>\n",
       "      <td>1.0</td>\n",
       "      <td>1.0</td>\n",
       "      <td>0.0</td>\n",
       "      <td>0.0</td>\n",
       "      <td>0.0</td>\n",
       "      <td>0.0</td>\n",
       "      <td>0.0</td>\n",
       "      <td>0.0</td>\n",
       "      <td>0.0</td>\n",
       "      <td>1.0</td>\n",
       "      <td>0.0</td>\n",
       "      <td>0.0</td>\n",
       "      <td>0.0</td>\n",
       "      <td>0.0</td>\n",
       "      <td>0.0</td>\n",
       "      <td>0.0</td>\n",
       "      <td>0.0</td>\n",
       "      <td>0.0</td>\n",
       "      <td>0.0</td>\n",
       "      <td>1.0</td>\n",
       "      <td>0.0</td>\n",
       "      <td>0.0</td>\n",
       "      <td>0.0</td>\n",
       "      <td>0.0</td>\n",
       "      <td>0.0</td>\n",
       "    </tr>\n",
       "    <tr>\n",
       "      <th>3</th>\n",
       "      <td>0.0</td>\n",
       "      <td>0.25</td>\n",
       "      <td>0.0</td>\n",
       "      <td>0.0</td>\n",
       "      <td>0.0</td>\n",
       "      <td>0.0</td>\n",
       "      <td>0.05</td>\n",
       "      <td>0.042796</td>\n",
       "      <td>0.550000</td>\n",
       "      <td>1.0</td>\n",
       "      <td>1.0</td>\n",
       "      <td>0.0</td>\n",
       "      <td>0.0</td>\n",
       "      <td>0.0</td>\n",
       "      <td>0.0</td>\n",
       "      <td>0.0</td>\n",
       "      <td>0.0</td>\n",
       "      <td>0.0</td>\n",
       "      <td>1.0</td>\n",
       "      <td>0.0</td>\n",
       "      <td>0.0</td>\n",
       "      <td>0.0</td>\n",
       "      <td>0.0</td>\n",
       "      <td>0.0</td>\n",
       "      <td>0.0</td>\n",
       "      <td>0.0</td>\n",
       "      <td>0.0</td>\n",
       "      <td>0.0</td>\n",
       "      <td>0.0</td>\n",
       "      <td>0.0</td>\n",
       "      <td>0.0</td>\n",
       "      <td>0.0</td>\n",
       "      <td>1.0</td>\n",
       "      <td>0.0</td>\n",
       "    </tr>\n",
       "    <tr>\n",
       "      <th>4</th>\n",
       "      <td>1.0</td>\n",
       "      <td>0.50</td>\n",
       "      <td>0.0</td>\n",
       "      <td>0.5</td>\n",
       "      <td>0.0</td>\n",
       "      <td>0.0</td>\n",
       "      <td>0.05</td>\n",
       "      <td>0.101251</td>\n",
       "      <td>0.669000</td>\n",
       "      <td>1.0</td>\n",
       "      <td>1.0</td>\n",
       "      <td>0.0</td>\n",
       "      <td>0.0</td>\n",
       "      <td>0.0</td>\n",
       "      <td>0.0</td>\n",
       "      <td>0.0</td>\n",
       "      <td>0.0</td>\n",
       "      <td>0.0</td>\n",
       "      <td>1.0</td>\n",
       "      <td>0.0</td>\n",
       "      <td>0.0</td>\n",
       "      <td>0.0</td>\n",
       "      <td>0.0</td>\n",
       "      <td>0.0</td>\n",
       "      <td>0.0</td>\n",
       "      <td>0.0</td>\n",
       "      <td>0.0</td>\n",
       "      <td>0.0</td>\n",
       "      <td>0.0</td>\n",
       "      <td>0.0</td>\n",
       "      <td>0.0</td>\n",
       "      <td>1.0</td>\n",
       "      <td>0.0</td>\n",
       "      <td>0.0</td>\n",
       "    </tr>\n",
       "    <tr>\n",
       "      <th>...</th>\n",
       "      <td>...</td>\n",
       "      <td>...</td>\n",
       "      <td>...</td>\n",
       "      <td>...</td>\n",
       "      <td>...</td>\n",
       "      <td>...</td>\n",
       "      <td>...</td>\n",
       "      <td>...</td>\n",
       "      <td>...</td>\n",
       "      <td>...</td>\n",
       "      <td>...</td>\n",
       "      <td>...</td>\n",
       "      <td>...</td>\n",
       "      <td>...</td>\n",
       "      <td>...</td>\n",
       "      <td>...</td>\n",
       "      <td>...</td>\n",
       "      <td>...</td>\n",
       "      <td>...</td>\n",
       "      <td>...</td>\n",
       "      <td>...</td>\n",
       "      <td>...</td>\n",
       "      <td>...</td>\n",
       "      <td>...</td>\n",
       "      <td>...</td>\n",
       "      <td>...</td>\n",
       "      <td>...</td>\n",
       "      <td>...</td>\n",
       "      <td>...</td>\n",
       "      <td>...</td>\n",
       "      <td>...</td>\n",
       "      <td>...</td>\n",
       "      <td>...</td>\n",
       "      <td>...</td>\n",
       "    </tr>\n",
       "    <tr>\n",
       "      <th>19114</th>\n",
       "      <td>0.0</td>\n",
       "      <td>0.25</td>\n",
       "      <td>0.0</td>\n",
       "      <td>0.0</td>\n",
       "      <td>0.0</td>\n",
       "      <td>0.0</td>\n",
       "      <td>0.00</td>\n",
       "      <td>0.009736</td>\n",
       "      <td>0.788889</td>\n",
       "      <td>1.0</td>\n",
       "      <td>0.0</td>\n",
       "      <td>0.0</td>\n",
       "      <td>0.0</td>\n",
       "      <td>0.0</td>\n",
       "      <td>0.0</td>\n",
       "      <td>0.0</td>\n",
       "      <td>1.0</td>\n",
       "      <td>0.0</td>\n",
       "      <td>0.0</td>\n",
       "      <td>0.0</td>\n",
       "      <td>1.0</td>\n",
       "      <td>0.0</td>\n",
       "      <td>0.0</td>\n",
       "      <td>0.0</td>\n",
       "      <td>1.0</td>\n",
       "      <td>0.0</td>\n",
       "      <td>0.0</td>\n",
       "      <td>0.0</td>\n",
       "      <td>0.0</td>\n",
       "      <td>0.0</td>\n",
       "      <td>0.0</td>\n",
       "      <td>0.0</td>\n",
       "      <td>0.0</td>\n",
       "      <td>0.0</td>\n",
       "    </tr>\n",
       "    <tr>\n",
       "      <th>19115</th>\n",
       "      <td>0.0</td>\n",
       "      <td>0.50</td>\n",
       "      <td>0.0</td>\n",
       "      <td>0.0</td>\n",
       "      <td>1.0</td>\n",
       "      <td>0.0</td>\n",
       "      <td>0.00</td>\n",
       "      <td>0.019679</td>\n",
       "      <td>0.888889</td>\n",
       "      <td>0.0</td>\n",
       "      <td>0.0</td>\n",
       "      <td>0.0</td>\n",
       "      <td>0.0</td>\n",
       "      <td>0.0</td>\n",
       "      <td>0.0</td>\n",
       "      <td>0.0</td>\n",
       "      <td>1.0</td>\n",
       "      <td>0.0</td>\n",
       "      <td>0.0</td>\n",
       "      <td>0.0</td>\n",
       "      <td>1.0</td>\n",
       "      <td>0.0</td>\n",
       "      <td>0.0</td>\n",
       "      <td>0.0</td>\n",
       "      <td>0.0</td>\n",
       "      <td>0.0</td>\n",
       "      <td>0.0</td>\n",
       "      <td>1.0</td>\n",
       "      <td>0.0</td>\n",
       "      <td>0.0</td>\n",
       "      <td>0.0</td>\n",
       "      <td>0.0</td>\n",
       "      <td>0.0</td>\n",
       "      <td>0.0</td>\n",
       "    </tr>\n",
       "    <tr>\n",
       "      <th>19116</th>\n",
       "      <td>0.0</td>\n",
       "      <td>0.25</td>\n",
       "      <td>1.0</td>\n",
       "      <td>0.5</td>\n",
       "      <td>0.0</td>\n",
       "      <td>0.0</td>\n",
       "      <td>0.00</td>\n",
       "      <td>0.036954</td>\n",
       "      <td>0.881111</td>\n",
       "      <td>0.0</td>\n",
       "      <td>0.0</td>\n",
       "      <td>0.0</td>\n",
       "      <td>0.0</td>\n",
       "      <td>0.0</td>\n",
       "      <td>0.0</td>\n",
       "      <td>0.0</td>\n",
       "      <td>1.0</td>\n",
       "      <td>0.0</td>\n",
       "      <td>0.0</td>\n",
       "      <td>0.0</td>\n",
       "      <td>1.0</td>\n",
       "      <td>1.0</td>\n",
       "      <td>0.0</td>\n",
       "      <td>0.0</td>\n",
       "      <td>0.0</td>\n",
       "      <td>0.0</td>\n",
       "      <td>0.0</td>\n",
       "      <td>0.0</td>\n",
       "      <td>0.0</td>\n",
       "      <td>0.0</td>\n",
       "      <td>0.0</td>\n",
       "      <td>0.0</td>\n",
       "      <td>0.0</td>\n",
       "      <td>0.0</td>\n",
       "    </tr>\n",
       "    <tr>\n",
       "      <th>19117</th>\n",
       "      <td>0.0</td>\n",
       "      <td>0.50</td>\n",
       "      <td>1.0</td>\n",
       "      <td>0.0</td>\n",
       "      <td>1.0</td>\n",
       "      <td>0.0</td>\n",
       "      <td>0.00</td>\n",
       "      <td>0.012884</td>\n",
       "      <td>0.766667</td>\n",
       "      <td>1.0</td>\n",
       "      <td>0.0</td>\n",
       "      <td>0.0</td>\n",
       "      <td>0.0</td>\n",
       "      <td>0.0</td>\n",
       "      <td>0.0</td>\n",
       "      <td>0.0</td>\n",
       "      <td>1.0</td>\n",
       "      <td>0.0</td>\n",
       "      <td>0.0</td>\n",
       "      <td>0.0</td>\n",
       "      <td>1.0</td>\n",
       "      <td>0.0</td>\n",
       "      <td>0.0</td>\n",
       "      <td>0.0</td>\n",
       "      <td>0.0</td>\n",
       "      <td>0.0</td>\n",
       "      <td>0.0</td>\n",
       "      <td>0.0</td>\n",
       "      <td>0.0</td>\n",
       "      <td>1.0</td>\n",
       "      <td>0.0</td>\n",
       "      <td>0.0</td>\n",
       "      <td>0.0</td>\n",
       "      <td>0.0</td>\n",
       "    </tr>\n",
       "    <tr>\n",
       "      <th>19118</th>\n",
       "      <td>0.0</td>\n",
       "      <td>0.75</td>\n",
       "      <td>0.0</td>\n",
       "      <td>0.5</td>\n",
       "      <td>0.0</td>\n",
       "      <td>0.0</td>\n",
       "      <td>0.00</td>\n",
       "      <td>0.025478</td>\n",
       "      <td>0.828571</td>\n",
       "      <td>0.0</td>\n",
       "      <td>0.0</td>\n",
       "      <td>0.0</td>\n",
       "      <td>0.0</td>\n",
       "      <td>0.0</td>\n",
       "      <td>0.0</td>\n",
       "      <td>0.0</td>\n",
       "      <td>1.0</td>\n",
       "      <td>0.0</td>\n",
       "      <td>0.0</td>\n",
       "      <td>0.0</td>\n",
       "      <td>1.0</td>\n",
       "      <td>0.0</td>\n",
       "      <td>0.0</td>\n",
       "      <td>0.0</td>\n",
       "      <td>0.0</td>\n",
       "      <td>0.0</td>\n",
       "      <td>0.0</td>\n",
       "      <td>0.0</td>\n",
       "      <td>0.0</td>\n",
       "      <td>0.0</td>\n",
       "      <td>0.0</td>\n",
       "      <td>0.0</td>\n",
       "      <td>0.0</td>\n",
       "      <td>1.0</td>\n",
       "    </tr>\n",
       "  </tbody>\n",
       "</table>\n",
       "<p>19119 rows × 34 columns</p>\n",
       "</div>"
      ],
      "text/plain": [
       "       gender  highest_education  imd_band  age_band  disability  \\\n",
       "0         1.0               0.75       0.0       1.0         0.0   \n",
       "1         0.0               0.75       1.0       0.5         0.0   \n",
       "2         0.0               0.50       0.0       0.5         0.0   \n",
       "3         0.0               0.25       0.0       0.0         0.0   \n",
       "4         1.0               0.50       0.0       0.5         0.0   \n",
       "...       ...                ...       ...       ...         ...   \n",
       "19114     0.0               0.25       0.0       0.0         0.0   \n",
       "19115     0.0               0.50       0.0       0.0         1.0   \n",
       "19116     0.0               0.25       1.0       0.5         0.0   \n",
       "19117     0.0               0.50       1.0       0.0         1.0   \n",
       "19118     0.0               0.75       0.0       0.5         0.0   \n",
       "\n",
       "       num_of_prev_attempts  studied_credits  sum_click  weighted_score  \\\n",
       "0                       0.0             0.35   0.038653        0.824000   \n",
       "1                       0.0             0.05   0.059408        0.654000   \n",
       "2                       0.0             0.05   0.089361        0.763000   \n",
       "3                       0.0             0.05   0.042796        0.550000   \n",
       "4                       0.0             0.05   0.101251        0.669000   \n",
       "...                     ...              ...        ...             ...   \n",
       "19114                   0.0             0.00   0.009736        0.788889   \n",
       "19115                   0.0             0.00   0.019679        0.888889   \n",
       "19116                   0.0             0.00   0.036954        0.881111   \n",
       "19117                   0.0             0.00   0.012884        0.766667   \n",
       "19118                   0.0             0.00   0.025478        0.828571   \n",
       "\n",
       "       final_result  code_module_AAA  code_module_BBB  code_module_CCC  \\\n",
       "0               1.0              1.0              0.0              0.0   \n",
       "1               1.0              1.0              0.0              0.0   \n",
       "2               1.0              1.0              0.0              0.0   \n",
       "3               1.0              1.0              0.0              0.0   \n",
       "4               1.0              1.0              0.0              0.0   \n",
       "...             ...              ...              ...              ...   \n",
       "19114           1.0              0.0              0.0              0.0   \n",
       "19115           0.0              0.0              0.0              0.0   \n",
       "19116           0.0              0.0              0.0              0.0   \n",
       "19117           1.0              0.0              0.0              0.0   \n",
       "19118           0.0              0.0              0.0              0.0   \n",
       "\n",
       "       code_module_DDD  code_module_EEE  code_module_FFF  code_module_GGG  \\\n",
       "0                  0.0              0.0              0.0              0.0   \n",
       "1                  0.0              0.0              0.0              0.0   \n",
       "2                  0.0              0.0              0.0              0.0   \n",
       "3                  0.0              0.0              0.0              0.0   \n",
       "4                  0.0              0.0              0.0              0.0   \n",
       "...                ...              ...              ...              ...   \n",
       "19114              0.0              0.0              0.0              1.0   \n",
       "19115              0.0              0.0              0.0              1.0   \n",
       "19116              0.0              0.0              0.0              1.0   \n",
       "19117              0.0              0.0              0.0              1.0   \n",
       "19118              0.0              0.0              0.0              1.0   \n",
       "\n",
       "       code_presentation_2013B  code_presentation_2013J  \\\n",
       "0                          0.0                      1.0   \n",
       "1                          0.0                      1.0   \n",
       "2                          0.0                      1.0   \n",
       "3                          0.0                      1.0   \n",
       "4                          0.0                      1.0   \n",
       "...                        ...                      ...   \n",
       "19114                      0.0                      0.0   \n",
       "19115                      0.0                      0.0   \n",
       "19116                      0.0                      0.0   \n",
       "19117                      0.0                      0.0   \n",
       "19118                      0.0                      0.0   \n",
       "\n",
       "       code_presentation_2014B  code_presentation_2014J  \\\n",
       "0                          0.0                      0.0   \n",
       "1                          0.0                      0.0   \n",
       "2                          0.0                      0.0   \n",
       "3                          0.0                      0.0   \n",
       "4                          0.0                      0.0   \n",
       "...                        ...                      ...   \n",
       "19114                      0.0                      1.0   \n",
       "19115                      0.0                      1.0   \n",
       "19116                      0.0                      1.0   \n",
       "19117                      0.0                      1.0   \n",
       "19118                      0.0                      1.0   \n",
       "\n",
       "       region_East Anglian Region  region_East Midlands Region  \\\n",
       "0                             1.0                          0.0   \n",
       "1                             0.0                          0.0   \n",
       "2                             0.0                          0.0   \n",
       "3                             0.0                          0.0   \n",
       "4                             0.0                          0.0   \n",
       "...                           ...                          ...   \n",
       "19114                         0.0                          0.0   \n",
       "19115                         0.0                          0.0   \n",
       "19116                         1.0                          0.0   \n",
       "19117                         0.0                          0.0   \n",
       "19118                         0.0                          0.0   \n",
       "\n",
       "       region_Ireland  region_London Region  region_North Region  \\\n",
       "0                 0.0                   0.0                  0.0   \n",
       "1                 0.0                   0.0                  0.0   \n",
       "2                 0.0                   0.0                  0.0   \n",
       "3                 0.0                   0.0                  0.0   \n",
       "4                 0.0                   0.0                  0.0   \n",
       "...               ...                   ...                  ...   \n",
       "19114             0.0                   1.0                  0.0   \n",
       "19115             0.0                   0.0                  0.0   \n",
       "19116             0.0                   0.0                  0.0   \n",
       "19117             0.0                   0.0                  0.0   \n",
       "19118             0.0                   0.0                  0.0   \n",
       "\n",
       "       region_North Western Region  region_Scotland  region_South East Region  \\\n",
       "0                              0.0              0.0                       0.0   \n",
       "1                              0.0              1.0                       0.0   \n",
       "2                              0.0              0.0                       1.0   \n",
       "3                              0.0              0.0                       0.0   \n",
       "4                              0.0              0.0                       0.0   \n",
       "...                            ...              ...                       ...   \n",
       "19114                          0.0              0.0                       0.0   \n",
       "19115                          0.0              1.0                       0.0   \n",
       "19116                          0.0              0.0                       0.0   \n",
       "19117                          0.0              0.0                       0.0   \n",
       "19118                          0.0              0.0                       0.0   \n",
       "\n",
       "       region_South Region  region_South West Region  region_Wales  \\\n",
       "0                      0.0                       0.0           0.0   \n",
       "1                      0.0                       0.0           0.0   \n",
       "2                      0.0                       0.0           0.0   \n",
       "3                      0.0                       0.0           0.0   \n",
       "4                      0.0                       0.0           1.0   \n",
       "...                    ...                       ...           ...   \n",
       "19114                  0.0                       0.0           0.0   \n",
       "19115                  0.0                       0.0           0.0   \n",
       "19116                  0.0                       0.0           0.0   \n",
       "19117                  1.0                       0.0           0.0   \n",
       "19118                  0.0                       0.0           0.0   \n",
       "\n",
       "       region_West Midlands Region  region_Yorkshire Region  \n",
       "0                              0.0                      0.0  \n",
       "1                              0.0                      0.0  \n",
       "2                              0.0                      0.0  \n",
       "3                              1.0                      0.0  \n",
       "4                              0.0                      0.0  \n",
       "...                            ...                      ...  \n",
       "19114                          0.0                      0.0  \n",
       "19115                          0.0                      0.0  \n",
       "19116                          0.0                      0.0  \n",
       "19117                          0.0                      0.0  \n",
       "19118                          0.0                      1.0  \n",
       "\n",
       "[19119 rows x 34 columns]"
      ]
     },
     "execution_count": 95,
     "metadata": {},
     "output_type": "execute_result"
    }
   ],
   "source": [
    "studentAll_num_scaled"
   ]
  },
  {
   "cell_type": "code",
   "execution_count": 96,
   "metadata": {},
   "outputs": [],
   "source": [
    "studentAll_num_scaled_reduced = studentAll_num_scaled.loc[studentAll_num_scaled[\"code_module_BBB\"] == 1]"
   ]
  },
  {
   "cell_type": "code",
   "execution_count": 97,
   "metadata": {},
   "outputs": [
    {
     "data": {
      "text/plain": [
       "(5118, 34)"
      ]
     },
     "execution_count": 97,
     "metadata": {},
     "output_type": "execute_result"
    }
   ],
   "source": [
    "studentAll_num_scaled_reduced.shape"
   ]
  },
  {
   "cell_type": "code",
   "execution_count": 98,
   "metadata": {},
   "outputs": [],
   "source": [
    "studentAll_num_scaled_reduced = studentAll_num_scaled_reduced[[\"gender\", \"highest_education\", \"imd_band\", \"age_band\",  \"disability\", \"num_of_prev_attempts\",\n",
    "\"studied_credits\", \"sum_click\", \"weighted_score\", \"final_result\"]]"
   ]
  },
  {
   "cell_type": "code",
   "execution_count": 99,
   "metadata": {},
   "outputs": [
    {
     "data": {
      "text/plain": [
       "(5118, 10)"
      ]
     },
     "execution_count": 99,
     "metadata": {},
     "output_type": "execute_result"
    }
   ],
   "source": [
    "studentAll_num_scaled_reduced.shape"
   ]
  },
  {
   "cell_type": "code",
   "execution_count": 100,
   "metadata": {},
   "outputs": [
    {
     "data": {
      "text/html": [
       "<div>\n",
       "<style scoped>\n",
       "    .dataframe tbody tr th:only-of-type {\n",
       "        vertical-align: middle;\n",
       "    }\n",
       "\n",
       "    .dataframe tbody tr th {\n",
       "        vertical-align: top;\n",
       "    }\n",
       "\n",
       "    .dataframe thead th {\n",
       "        text-align: right;\n",
       "    }\n",
       "</style>\n",
       "<table border=\"1\" class=\"dataframe\">\n",
       "  <thead>\n",
       "    <tr style=\"text-align: right;\">\n",
       "      <th></th>\n",
       "      <th>gender</th>\n",
       "      <th>highest_education</th>\n",
       "      <th>imd_band</th>\n",
       "      <th>age_band</th>\n",
       "      <th>disability</th>\n",
       "      <th>num_of_prev_attempts</th>\n",
       "      <th>studied_credits</th>\n",
       "      <th>sum_click</th>\n",
       "      <th>weighted_score</th>\n",
       "      <th>final_result</th>\n",
       "    </tr>\n",
       "  </thead>\n",
       "  <tbody>\n",
       "    <tr>\n",
       "      <th>588</th>\n",
       "      <td>0.0</td>\n",
       "      <td>0.25</td>\n",
       "      <td>1.0</td>\n",
       "      <td>0.0</td>\n",
       "      <td>0.0</td>\n",
       "      <td>0.333333</td>\n",
       "      <td>0.050</td>\n",
       "      <td>0.006629</td>\n",
       "      <td>0.667600</td>\n",
       "      <td>0.0</td>\n",
       "    </tr>\n",
       "    <tr>\n",
       "      <th>589</th>\n",
       "      <td>0.0</td>\n",
       "      <td>0.25</td>\n",
       "      <td>1.0</td>\n",
       "      <td>0.0</td>\n",
       "      <td>0.0</td>\n",
       "      <td>0.000000</td>\n",
       "      <td>0.150</td>\n",
       "      <td>0.106098</td>\n",
       "      <td>0.605100</td>\n",
       "      <td>1.0</td>\n",
       "    </tr>\n",
       "    <tr>\n",
       "      <th>590</th>\n",
       "      <td>1.0</td>\n",
       "      <td>0.25</td>\n",
       "      <td>0.0</td>\n",
       "      <td>0.0</td>\n",
       "      <td>0.0</td>\n",
       "      <td>0.000000</td>\n",
       "      <td>0.150</td>\n",
       "      <td>0.079253</td>\n",
       "      <td>0.654568</td>\n",
       "      <td>0.0</td>\n",
       "    </tr>\n",
       "    <tr>\n",
       "      <th>591</th>\n",
       "      <td>1.0</td>\n",
       "      <td>0.50</td>\n",
       "      <td>1.0</td>\n",
       "      <td>0.5</td>\n",
       "      <td>0.0</td>\n",
       "      <td>0.000000</td>\n",
       "      <td>0.050</td>\n",
       "      <td>0.244635</td>\n",
       "      <td>0.639200</td>\n",
       "      <td>1.0</td>\n",
       "    </tr>\n",
       "    <tr>\n",
       "      <th>592</th>\n",
       "      <td>0.0</td>\n",
       "      <td>0.50</td>\n",
       "      <td>1.0</td>\n",
       "      <td>0.5</td>\n",
       "      <td>0.0</td>\n",
       "      <td>0.333333</td>\n",
       "      <td>0.150</td>\n",
       "      <td>0.029207</td>\n",
       "      <td>0.803333</td>\n",
       "      <td>1.0</td>\n",
       "    </tr>\n",
       "    <tr>\n",
       "      <th>...</th>\n",
       "      <td>...</td>\n",
       "      <td>...</td>\n",
       "      <td>...</td>\n",
       "      <td>...</td>\n",
       "      <td>...</td>\n",
       "      <td>...</td>\n",
       "      <td>...</td>\n",
       "      <td>...</td>\n",
       "      <td>...</td>\n",
       "      <td>...</td>\n",
       "    </tr>\n",
       "    <tr>\n",
       "      <th>5701</th>\n",
       "      <td>0.0</td>\n",
       "      <td>0.75</td>\n",
       "      <td>1.0</td>\n",
       "      <td>0.5</td>\n",
       "      <td>0.0</td>\n",
       "      <td>0.000000</td>\n",
       "      <td>0.050</td>\n",
       "      <td>0.031941</td>\n",
       "      <td>0.682178</td>\n",
       "      <td>1.0</td>\n",
       "    </tr>\n",
       "    <tr>\n",
       "      <th>5702</th>\n",
       "      <td>0.0</td>\n",
       "      <td>0.75</td>\n",
       "      <td>0.0</td>\n",
       "      <td>0.5</td>\n",
       "      <td>0.0</td>\n",
       "      <td>0.000000</td>\n",
       "      <td>0.075</td>\n",
       "      <td>0.099718</td>\n",
       "      <td>0.700495</td>\n",
       "      <td>1.0</td>\n",
       "    </tr>\n",
       "    <tr>\n",
       "      <th>5703</th>\n",
       "      <td>0.0</td>\n",
       "      <td>0.25</td>\n",
       "      <td>0.0</td>\n",
       "      <td>0.5</td>\n",
       "      <td>1.0</td>\n",
       "      <td>0.000000</td>\n",
       "      <td>0.150</td>\n",
       "      <td>0.056674</td>\n",
       "      <td>0.667327</td>\n",
       "      <td>1.0</td>\n",
       "    </tr>\n",
       "    <tr>\n",
       "      <th>5704</th>\n",
       "      <td>0.0</td>\n",
       "      <td>0.25</td>\n",
       "      <td>0.0</td>\n",
       "      <td>0.5</td>\n",
       "      <td>0.0</td>\n",
       "      <td>0.000000</td>\n",
       "      <td>0.050</td>\n",
       "      <td>0.029663</td>\n",
       "      <td>0.562376</td>\n",
       "      <td>0.0</td>\n",
       "    </tr>\n",
       "    <tr>\n",
       "      <th>5705</th>\n",
       "      <td>0.0</td>\n",
       "      <td>0.75</td>\n",
       "      <td>1.0</td>\n",
       "      <td>0.0</td>\n",
       "      <td>0.0</td>\n",
       "      <td>0.000000</td>\n",
       "      <td>0.150</td>\n",
       "      <td>0.025023</td>\n",
       "      <td>0.924752</td>\n",
       "      <td>0.0</td>\n",
       "    </tr>\n",
       "  </tbody>\n",
       "</table>\n",
       "<p>5118 rows × 10 columns</p>\n",
       "</div>"
      ],
      "text/plain": [
       "      gender  highest_education  imd_band  age_band  disability  \\\n",
       "588      0.0               0.25       1.0       0.0         0.0   \n",
       "589      0.0               0.25       1.0       0.0         0.0   \n",
       "590      1.0               0.25       0.0       0.0         0.0   \n",
       "591      1.0               0.50       1.0       0.5         0.0   \n",
       "592      0.0               0.50       1.0       0.5         0.0   \n",
       "...      ...                ...       ...       ...         ...   \n",
       "5701     0.0               0.75       1.0       0.5         0.0   \n",
       "5702     0.0               0.75       0.0       0.5         0.0   \n",
       "5703     0.0               0.25       0.0       0.5         1.0   \n",
       "5704     0.0               0.25       0.0       0.5         0.0   \n",
       "5705     0.0               0.75       1.0       0.0         0.0   \n",
       "\n",
       "      num_of_prev_attempts  studied_credits  sum_click  weighted_score  \\\n",
       "588               0.333333            0.050   0.006629        0.667600   \n",
       "589               0.000000            0.150   0.106098        0.605100   \n",
       "590               0.000000            0.150   0.079253        0.654568   \n",
       "591               0.000000            0.050   0.244635        0.639200   \n",
       "592               0.333333            0.150   0.029207        0.803333   \n",
       "...                    ...              ...        ...             ...   \n",
       "5701              0.000000            0.050   0.031941        0.682178   \n",
       "5702              0.000000            0.075   0.099718        0.700495   \n",
       "5703              0.000000            0.150   0.056674        0.667327   \n",
       "5704              0.000000            0.050   0.029663        0.562376   \n",
       "5705              0.000000            0.150   0.025023        0.924752   \n",
       "\n",
       "      final_result  \n",
       "588            0.0  \n",
       "589            1.0  \n",
       "590            0.0  \n",
       "591            1.0  \n",
       "592            1.0  \n",
       "...            ...  \n",
       "5701           1.0  \n",
       "5702           1.0  \n",
       "5703           1.0  \n",
       "5704           0.0  \n",
       "5705           0.0  \n",
       "\n",
       "[5118 rows x 10 columns]"
      ]
     },
     "execution_count": 100,
     "metadata": {},
     "output_type": "execute_result"
    }
   ],
   "source": [
    "studentAll_num_scaled_reduced"
   ]
  },
  {
   "cell_type": "code",
   "execution_count": 101,
   "metadata": {},
   "outputs": [
    {
     "data": {
      "text/plain": [
       "88.53"
      ]
     },
     "execution_count": 101,
     "metadata": {},
     "output_type": "execute_result"
    }
   ],
   "source": [
    "# Gender imbalance\n",
    "round(studentAll_num_scaled_reduced[\"gender\"].value_counts()[0] / (studentAll_num_scaled_reduced[\"gender\"].value_counts()[0] + studentAll_num_scaled_reduced[\"gender\"].value_counts()[1]) * 100, 2)"
   ]
  },
  {
   "cell_type": "markdown",
   "metadata": {},
   "source": [
    "## Machine learning"
   ]
  },
  {
   "cell_type": "markdown",
   "metadata": {},
   "source": [
    "### X-y split"
   ]
  },
  {
   "cell_type": "code",
   "execution_count": 102,
   "metadata": {},
   "outputs": [],
   "source": [
    "X = studentAll_num_scaled_reduced.drop(columns=\"final_result\")\n",
    "y = studentAll_num_scaled_reduced[\"final_result\"]"
   ]
  },
  {
   "cell_type": "code",
   "execution_count": 103,
   "metadata": {},
   "outputs": [
    {
     "data": {
      "text/plain": [
       "59.3"
      ]
     },
     "execution_count": 103,
     "metadata": {},
     "output_type": "execute_result"
    }
   ],
   "source": [
    "# Positive class imbalance\n",
    "round(y.value_counts()[1] / (y.value_counts()[1] + y.value_counts()[0]) * 100, 2)"
   ]
  },
  {
   "cell_type": "markdown",
   "metadata": {},
   "source": [
    "### Train-test split"
   ]
  },
  {
   "cell_type": "code",
   "execution_count": 104,
   "metadata": {},
   "outputs": [],
   "source": [
    "X_train, X_test, y_train, y_test = train_test_split(X, y, test_size=0.20, random_state=0, stratify=y, shuffle=True)"
   ]
  },
  {
   "cell_type": "code",
   "execution_count": 105,
   "metadata": {},
   "outputs": [],
   "source": [
    "pd.DataFrame(X_train).to_csv(\"./data/X_train.csv\", index=False)\n",
    "pd.DataFrame(X_test).to_csv(\"./data/X_test.csv\", index=False)\n",
    "pd.DataFrame(y_train).to_csv(\"./data/y_train.csv\", index=False)\n",
    "pd.DataFrame(y_test).to_csv(\"./data/y_test.csv\", index=False)"
   ]
  },
  {
   "cell_type": "code",
   "execution_count": 106,
   "metadata": {},
   "outputs": [
    {
     "name": "stdout",
     "output_type": "stream",
     "text": [
      "(4094, 9)\n",
      "(1024, 9)\n"
     ]
    }
   ],
   "source": [
    "print(X_train.shape)\n",
    "print(X_test.shape)"
   ]
  },
  {
   "cell_type": "markdown",
   "metadata": {},
   "source": [
    "### Out-of-the-box classifiers"
   ]
  },
  {
   "cell_type": "code",
   "execution_count": 107,
   "metadata": {},
   "outputs": [
    {
     "name": "stdout",
     "output_type": "stream",
     "text": [
      "The folder 'models' already exists.\n"
     ]
    }
   ],
   "source": [
    "if not os.path.exists(\"./models\"):\n",
    "    os.mkdir(\"models\")\n",
    "else:\n",
    "    print(\"The folder 'models' already exists.\" )"
   ]
  },
  {
   "cell_type": "markdown",
   "metadata": {},
   "source": [
    "#### Logistic regression"
   ]
  },
  {
   "cell_type": "code",
   "execution_count": 108,
   "metadata": {},
   "outputs": [],
   "source": [
    "clf_lr = LogisticRegression(random_state=0)\n",
    "clf_svc = LinearSVC(random_state=0)\n",
    "clf_knearest = KNeighborsClassifier()\n",
    "clf_dt = DecisionTreeClassifier(random_state=0)"
   ]
  },
  {
   "cell_type": "code",
   "execution_count": 109,
   "metadata": {},
   "outputs": [
    {
     "name": "stdout",
     "output_type": "stream",
     "text": [
      "0.62\n",
      "0.62\n",
      "0.62 accuracy with a standard deviation of 0.01\n",
      "Accuracy on the test set: 0.6201171875\n"
     ]
    }
   ],
   "source": [
    "clf_lr.fit(X_train, y_train)\n",
    "pickle.dump(clf_lr, open(\"./models/clf_lr\", \"wb\"))\n",
    "print(round(clf_lr.score(X_train, y_train), 2))\n",
    "print(round(clf_lr.score(X_test, y_test), 2))\n",
    "\n",
    "scores_train = cross_val_score(clf_lr, X_train, y_train, cv=5)\n",
    "print(\"%0.2f accuracy with a standard deviation of %0.2f\" % (scores_train.mean(), scores_train.std()))\n",
    "\n",
    "print(f\"Accuracy on the test set: {accuracy_score(y_test, clf_lr.predict(X_test))}\")\n"
   ]
  },
  {
   "cell_type": "markdown",
   "metadata": {},
   "source": [
    "##### LR - feature importance"
   ]
  },
  {
   "cell_type": "code",
   "execution_count": 110,
   "metadata": {},
   "outputs": [
    {
     "data": {
      "text/plain": [
       "array([[ 0.01441819, -0.2441741 , -0.19571785,  0.03235157, -0.18550186,\n",
       "        -1.25372016, -1.17108086,  3.62610636,  0.7896661 ]])"
      ]
     },
     "execution_count": 110,
     "metadata": {},
     "output_type": "execute_result"
    }
   ],
   "source": [
    "clf_lr.coef_"
   ]
  },
  {
   "cell_type": "code",
   "execution_count": 111,
   "metadata": {},
   "outputs": [
    {
     "data": {
      "text/html": [
       "<div>\n",
       "<style scoped>\n",
       "    .dataframe tbody tr th:only-of-type {\n",
       "        vertical-align: middle;\n",
       "    }\n",
       "\n",
       "    .dataframe tbody tr th {\n",
       "        vertical-align: top;\n",
       "    }\n",
       "\n",
       "    .dataframe thead th {\n",
       "        text-align: right;\n",
       "    }\n",
       "</style>\n",
       "<table border=\"1\" class=\"dataframe\">\n",
       "  <thead>\n",
       "    <tr style=\"text-align: right;\">\n",
       "      <th></th>\n",
       "      <th>coef</th>\n",
       "    </tr>\n",
       "  </thead>\n",
       "  <tbody>\n",
       "    <tr>\n",
       "      <th>gender</th>\n",
       "      <td>0.014418</td>\n",
       "    </tr>\n",
       "    <tr>\n",
       "      <th>highest_education</th>\n",
       "      <td>-0.244174</td>\n",
       "    </tr>\n",
       "    <tr>\n",
       "      <th>imd_band</th>\n",
       "      <td>-0.195718</td>\n",
       "    </tr>\n",
       "    <tr>\n",
       "      <th>age_band</th>\n",
       "      <td>0.032352</td>\n",
       "    </tr>\n",
       "    <tr>\n",
       "      <th>disability</th>\n",
       "      <td>-0.185502</td>\n",
       "    </tr>\n",
       "    <tr>\n",
       "      <th>num_of_prev_attempts</th>\n",
       "      <td>-1.253720</td>\n",
       "    </tr>\n",
       "    <tr>\n",
       "      <th>studied_credits</th>\n",
       "      <td>-1.171081</td>\n",
       "    </tr>\n",
       "    <tr>\n",
       "      <th>sum_click</th>\n",
       "      <td>3.626106</td>\n",
       "    </tr>\n",
       "    <tr>\n",
       "      <th>weighted_score</th>\n",
       "      <td>0.789666</td>\n",
       "    </tr>\n",
       "  </tbody>\n",
       "</table>\n",
       "</div>"
      ],
      "text/plain": [
       "                          coef\n",
       "gender                0.014418\n",
       "highest_education    -0.244174\n",
       "imd_band             -0.195718\n",
       "age_band              0.032352\n",
       "disability           -0.185502\n",
       "num_of_prev_attempts -1.253720\n",
       "studied_credits      -1.171081\n",
       "sum_click             3.626106\n",
       "weighted_score        0.789666"
      ]
     },
     "execution_count": 111,
     "metadata": {},
     "output_type": "execute_result"
    }
   ],
   "source": [
    "pd.DataFrame(clf_lr.coef_, columns=X_train.columns, index=[\"coef\"]).T"
   ]
  },
  {
   "cell_type": "code",
   "execution_count": 112,
   "metadata": {},
   "outputs": [
    {
     "data": {
      "text/html": [
       "<div>\n",
       "<style scoped>\n",
       "    .dataframe tbody tr th:only-of-type {\n",
       "        vertical-align: middle;\n",
       "    }\n",
       "\n",
       "    .dataframe tbody tr th {\n",
       "        vertical-align: top;\n",
       "    }\n",
       "\n",
       "    .dataframe thead th {\n",
       "        text-align: right;\n",
       "    }\n",
       "</style>\n",
       "<table border=\"1\" class=\"dataframe\">\n",
       "  <thead>\n",
       "    <tr style=\"text-align: right;\">\n",
       "      <th></th>\n",
       "      <th>coef</th>\n",
       "    </tr>\n",
       "  </thead>\n",
       "  <tbody>\n",
       "    <tr>\n",
       "      <th>sum_click</th>\n",
       "      <td>3.626106</td>\n",
       "    </tr>\n",
       "    <tr>\n",
       "      <th>num_of_prev_attempts</th>\n",
       "      <td>-1.253720</td>\n",
       "    </tr>\n",
       "    <tr>\n",
       "      <th>studied_credits</th>\n",
       "      <td>-1.171081</td>\n",
       "    </tr>\n",
       "    <tr>\n",
       "      <th>weighted_score</th>\n",
       "      <td>0.789666</td>\n",
       "    </tr>\n",
       "    <tr>\n",
       "      <th>highest_education</th>\n",
       "      <td>-0.244174</td>\n",
       "    </tr>\n",
       "    <tr>\n",
       "      <th>imd_band</th>\n",
       "      <td>-0.195718</td>\n",
       "    </tr>\n",
       "    <tr>\n",
       "      <th>disability</th>\n",
       "      <td>-0.185502</td>\n",
       "    </tr>\n",
       "    <tr>\n",
       "      <th>age_band</th>\n",
       "      <td>0.032352</td>\n",
       "    </tr>\n",
       "    <tr>\n",
       "      <th>gender</th>\n",
       "      <td>0.014418</td>\n",
       "    </tr>\n",
       "  </tbody>\n",
       "</table>\n",
       "</div>"
      ],
      "text/plain": [
       "                          coef\n",
       "sum_click             3.626106\n",
       "num_of_prev_attempts -1.253720\n",
       "studied_credits      -1.171081\n",
       "weighted_score        0.789666\n",
       "highest_education    -0.244174\n",
       "imd_band             -0.195718\n",
       "disability           -0.185502\n",
       "age_band              0.032352\n",
       "gender                0.014418"
      ]
     },
     "execution_count": 112,
     "metadata": {},
     "output_type": "execute_result"
    }
   ],
   "source": [
    "pd.DataFrame(clf_lr.coef_, columns=X_train.columns, index=[\"coef\"]).T.sort_values(by='coef', axis=0, ascending=False, key=abs)"
   ]
  },
  {
   "cell_type": "code",
   "execution_count": 113,
   "metadata": {},
   "outputs": [
    {
     "data": {
      "text/plain": [
       "(-2.5, 2.0)"
      ]
     },
     "execution_count": 113,
     "metadata": {},
     "output_type": "execute_result"
    },
    {
     "data": {
      "image/png": "[encoded data removed]",
      "text/plain": [
       "<Figure size 432x288 with 1 Axes>"
      ]
     },
     "metadata": {
      "needs_background": "light"
     },
     "output_type": "display_data"
    }
   ],
   "source": [
    "pd.DataFrame(clf_lr.coef_, columns=X_train.columns, index=[\"coef\"]).T.sort_values(by='coef', axis=0, ascending=False, key=abs).plot.bar(color='b')\n",
    "plt.title(\"Logisitic regression\")\n",
    "plt.ylim((-2.5,2))"
   ]
  },
  {
   "cell_type": "markdown",
   "metadata": {},
   "source": [
    "#### SVC"
   ]
  },
  {
   "cell_type": "code",
   "execution_count": 114,
   "metadata": {},
   "outputs": [
    {
     "name": "stdout",
     "output_type": "stream",
     "text": [
      "0.62\n",
      "0.62\n",
      "0.62 accuracy with a standard deviation of 0.01\n",
      "Accuracy on the test set: 0.619140625\n"
     ]
    }
   ],
   "source": [
    "clf_svc.fit(X_train, y_train)\n",
    "pickle.dump(clf_svc, open(\"./models/clf_svc\", \"wb\"))\n",
    "print(round(clf_svc.score(X_train, y_train), 2))\n",
    "print(round(clf_svc.score(X_test, y_test), 2))\n",
    "\n",
    "scores_train = cross_val_score(clf_svc, X_train, y_train, cv=5)\n",
    "print(\"%0.2f accuracy with a standard deviation of %0.2f\" % (scores_train.mean(), scores_train.std()))\n",
    "\n",
    "print(f\"Accuracy on the test set: {accuracy_score(y_test, clf_svc.predict(X_test))}\")"
   ]
  },
  {
   "cell_type": "markdown",
   "metadata": {},
   "source": [
    "##### SVC - Feature importance"
   ]
  },
  {
   "cell_type": "code",
   "execution_count": 115,
   "metadata": {},
   "outputs": [
    {
     "data": {
      "text/plain": [
       "(-2.5, 2.0)"
      ]
     },
     "execution_count": 115,
     "metadata": {},
     "output_type": "execute_result"
    },
    {
     "data": {
      "image/png": "[encoded data removed]",
      "text/plain": [
       "<Figure size 432x288 with 1 Axes>"
      ]
     },
     "metadata": {
      "needs_background": "light"
     },
     "output_type": "display_data"
    }
   ],
   "source": [
    "pd.DataFrame(clf_svc.coef_, columns=X_train.columns, index=[\"coef\"]).T.sort_values(by='coef', axis=0, ascending=False, key=abs).plot.bar(color='b')\n",
    "plt.title(\"Linear SVC\")\n",
    "plt.ylim((-2.5,2))"
   ]
  },
  {
   "cell_type": "markdown",
   "metadata": {},
   "source": [
    "#### K-nearest neighbors"
   ]
  },
  {
   "cell_type": "code",
   "execution_count": 116,
   "metadata": {},
   "outputs": [
    {
     "name": "stdout",
     "output_type": "stream",
     "text": [
      "0.75\n",
      "0.61\n",
      "0.64 accuracy with a standard deviation of 0.01\n",
      "Accuracy on the test set: 0.6064453125\n"
     ]
    },
    {
     "name": "stderr",
     "output_type": "stream",
     "text": [
      "/Users/melinaverger/Desktop/exp2/env/lib/python3.10/site-packages/sklearn/neighbors/_classification.py:237: FutureWarning: Unlike other reduction functions (e.g. `skew`, `kurtosis`), the default behavior of `mode` typically preserves the axis it acts along. In SciPy 1.11.0, this behavior will change: the default value of `keepdims` will become False, the `axis` over which the statistic is taken will be eliminated, and the value None will no longer be accepted. Set `keepdims` to True or False to avoid this warning.\n",
      "  mode, _ = stats.mode(_y[neigh_ind, k], axis=1)\n",
      "/Users/melinaverger/Desktop/exp2/env/lib/python3.10/site-packages/sklearn/neighbors/_classification.py:237: FutureWarning: Unlike other reduction functions (e.g. `skew`, `kurtosis`), the default behavior of `mode` typically preserves the axis it acts along. In SciPy 1.11.0, this behavior will change: the default value of `keepdims` will become False, the `axis` over which the statistic is taken will be eliminated, and the value None will no longer be accepted. Set `keepdims` to True or False to avoid this warning.\n",
      "  mode, _ = stats.mode(_y[neigh_ind, k], axis=1)\n",
      "/Users/melinaverger/Desktop/exp2/env/lib/python3.10/site-packages/sklearn/neighbors/_classification.py:237: FutureWarning: Unlike other reduction functions (e.g. `skew`, `kurtosis`), the default behavior of `mode` typically preserves the axis it acts along. In SciPy 1.11.0, this behavior will change: the default value of `keepdims` will become False, the `axis` over which the statistic is taken will be eliminated, and the value None will no longer be accepted. Set `keepdims` to True or False to avoid this warning.\n",
      "  mode, _ = stats.mode(_y[neigh_ind, k], axis=1)\n",
      "/Users/melinaverger/Desktop/exp2/env/lib/python3.10/site-packages/sklearn/neighbors/_classification.py:237: FutureWarning: Unlike other reduction functions (e.g. `skew`, `kurtosis`), the default behavior of `mode` typically preserves the axis it acts along. In SciPy 1.11.0, this behavior will change: the default value of `keepdims` will become False, the `axis` over which the statistic is taken will be eliminated, and the value None will no longer be accepted. Set `keepdims` to True or False to avoid this warning.\n",
      "  mode, _ = stats.mode(_y[neigh_ind, k], axis=1)\n",
      "/Users/melinaverger/Desktop/exp2/env/lib/python3.10/site-packages/sklearn/neighbors/_classification.py:237: FutureWarning: Unlike other reduction functions (e.g. `skew`, `kurtosis`), the default behavior of `mode` typically preserves the axis it acts along. In SciPy 1.11.0, this behavior will change: the default value of `keepdims` will become False, the `axis` over which the statistic is taken will be eliminated, and the value None will no longer be accepted. Set `keepdims` to True or False to avoid this warning.\n",
      "  mode, _ = stats.mode(_y[neigh_ind, k], axis=1)\n",
      "/Users/melinaverger/Desktop/exp2/env/lib/python3.10/site-packages/sklearn/neighbors/_classification.py:237: FutureWarning: Unlike other reduction functions (e.g. `skew`, `kurtosis`), the default behavior of `mode` typically preserves the axis it acts along. In SciPy 1.11.0, this behavior will change: the default value of `keepdims` will become False, the `axis` over which the statistic is taken will be eliminated, and the value None will no longer be accepted. Set `keepdims` to True or False to avoid this warning.\n",
      "  mode, _ = stats.mode(_y[neigh_ind, k], axis=1)\n",
      "/Users/melinaverger/Desktop/exp2/env/lib/python3.10/site-packages/sklearn/neighbors/_classification.py:237: FutureWarning: Unlike other reduction functions (e.g. `skew`, `kurtosis`), the default behavior of `mode` typically preserves the axis it acts along. In SciPy 1.11.0, this behavior will change: the default value of `keepdims` will become False, the `axis` over which the statistic is taken will be eliminated, and the value None will no longer be accepted. Set `keepdims` to True or False to avoid this warning.\n",
      "  mode, _ = stats.mode(_y[neigh_ind, k], axis=1)\n",
      "/Users/melinaverger/Desktop/exp2/env/lib/python3.10/site-packages/sklearn/neighbors/_classification.py:237: FutureWarning: Unlike other reduction functions (e.g. `skew`, `kurtosis`), the default behavior of `mode` typically preserves the axis it acts along. In SciPy 1.11.0, this behavior will change: the default value of `keepdims` will become False, the `axis` over which the statistic is taken will be eliminated, and the value None will no longer be accepted. Set `keepdims` to True or False to avoid this warning.\n",
      "  mode, _ = stats.mode(_y[neigh_ind, k], axis=1)\n"
     ]
    }
   ],
   "source": [
    "clf_knearest.fit(X_train, y_train)\n",
    "pickle.dump(clf_knearest, open(\"./models/clf_knearest\", \"wb\"))\n",
    "print(round(clf_knearest.score(X_train, y_train), 2))\n",
    "print(round(clf_knearest.score(X_test, y_test), 2))\n",
    "\n",
    "scores_train = cross_val_score(clf_knearest, X_train, y_train, cv=5)\n",
    "print(\"%0.2f accuracy with a standard deviation of %0.2f\" % (scores_train.mean(), scores_train.std()))\n",
    "\n",
    "print(f\"Accuracy on the test set: {accuracy_score(y_test, clf_knearest.predict(X_test))}\")"
   ]
  },
  {
   "cell_type": "markdown",
   "metadata": {},
   "source": [
    "#### Decision tree"
   ]
  },
  {
   "cell_type": "code",
   "execution_count": 117,
   "metadata": {},
   "outputs": [
    {
     "name": "stdout",
     "output_type": "stream",
     "text": [
      "1.0\n",
      "0.61\n",
      "0.63 accuracy with a standard deviation of 0.02\n",
      "Accuracy on the test set: 0.6064453125\n"
     ]
    }
   ],
   "source": [
    "clf_dt.fit(X_train, y_train)\n",
    "pickle.dump(clf_dt, open(\"./models/clf_dt\", \"wb\"))\n",
    "print(round(clf_dt.score(X_train, y_train), 2))\n",
    "print(round(clf_dt.score(X_test, y_test), 2))\n",
    "\n",
    "scores_train = cross_val_score(clf_dt, X_train, y_train, cv=5)\n",
    "print(\"%0.2f accuracy with a standard deviation of %0.2f\" % (scores_train.mean(), scores_train.std()))\n",
    "\n",
    "print(f\"Accuracy on the test set: {accuracy_score(y_test, clf_dt.predict(X_test))}\")"
   ]
  },
  {
   "cell_type": "markdown",
   "metadata": {},
   "source": [
    "##### DT - Feature importance"
   ]
  },
  {
   "cell_type": "code",
   "execution_count": 118,
   "metadata": {},
   "outputs": [
    {
     "data": {
      "text/plain": [
       "array([0.01791   , 0.04461992, 0.02998414, 0.02253404, 0.01178548,\n",
       "       0.02661093, 0.03417803, 0.3871948 , 0.42518268])"
      ]
     },
     "execution_count": 118,
     "metadata": {},
     "output_type": "execute_result"
    }
   ],
   "source": [
    "clf_dt.feature_importances_"
   ]
  },
  {
   "cell_type": "code",
   "execution_count": 119,
   "metadata": {},
   "outputs": [
    {
     "data": {
      "text/html": [
       "<div>\n",
       "<style scoped>\n",
       "    .dataframe tbody tr th:only-of-type {\n",
       "        vertical-align: middle;\n",
       "    }\n",
       "\n",
       "    .dataframe tbody tr th {\n",
       "        vertical-align: top;\n",
       "    }\n",
       "\n",
       "    .dataframe thead th {\n",
       "        text-align: right;\n",
       "    }\n",
       "</style>\n",
       "<table border=\"1\" class=\"dataframe\">\n",
       "  <thead>\n",
       "    <tr style=\"text-align: right;\">\n",
       "      <th></th>\n",
       "      <th>coef</th>\n",
       "    </tr>\n",
       "  </thead>\n",
       "  <tbody>\n",
       "    <tr>\n",
       "      <th>gender</th>\n",
       "      <td>0.017910</td>\n",
       "    </tr>\n",
       "    <tr>\n",
       "      <th>highest_education</th>\n",
       "      <td>0.044620</td>\n",
       "    </tr>\n",
       "    <tr>\n",
       "      <th>imd_band</th>\n",
       "      <td>0.029984</td>\n",
       "    </tr>\n",
       "    <tr>\n",
       "      <th>age_band</th>\n",
       "      <td>0.022534</td>\n",
       "    </tr>\n",
       "    <tr>\n",
       "      <th>disability</th>\n",
       "      <td>0.011785</td>\n",
       "    </tr>\n",
       "    <tr>\n",
       "      <th>num_of_prev_attempts</th>\n",
       "      <td>0.026611</td>\n",
       "    </tr>\n",
       "    <tr>\n",
       "      <th>studied_credits</th>\n",
       "      <td>0.034178</td>\n",
       "    </tr>\n",
       "    <tr>\n",
       "      <th>sum_click</th>\n",
       "      <td>0.387195</td>\n",
       "    </tr>\n",
       "    <tr>\n",
       "      <th>weighted_score</th>\n",
       "      <td>0.425183</td>\n",
       "    </tr>\n",
       "  </tbody>\n",
       "</table>\n",
       "</div>"
      ],
      "text/plain": [
       "                          coef\n",
       "gender                0.017910\n",
       "highest_education     0.044620\n",
       "imd_band              0.029984\n",
       "age_band              0.022534\n",
       "disability            0.011785\n",
       "num_of_prev_attempts  0.026611\n",
       "studied_credits       0.034178\n",
       "sum_click             0.387195\n",
       "weighted_score        0.425183"
      ]
     },
     "execution_count": 119,
     "metadata": {},
     "output_type": "execute_result"
    }
   ],
   "source": [
    "pd.DataFrame(clf_dt.feature_importances_, index=X_train.columns, columns=[\"coef\"])"
   ]
  },
  {
   "cell_type": "code",
   "execution_count": 120,
   "metadata": {},
   "outputs": [
    {
     "data": {
      "text/plain": [
       "(-2.5, 2.0)"
      ]
     },
     "execution_count": 120,
     "metadata": {},
     "output_type": "execute_result"
    },
    {
     "data": {
      "image/png": "[encoded data removed]",
      "text/plain": [
       "<Figure size 432x288 with 1 Axes>"
      ]
     },
     "metadata": {
      "needs_background": "light"
     },
     "output_type": "display_data"
    }
   ],
   "source": [
    "pd.DataFrame(clf_dt.feature_importances_, index=X_train.columns, columns=[\"coef\"]).sort_values(by='coef', axis=0, ascending=False, key=abs).plot.bar(color='b')\n",
    "plt.title(\"Decision tree\")\n",
    "plt.ylim((-2.5,2))"
   ]
  }
 ],
 "metadata": {
  "kernelspec": {
   "display_name": "Python 3.10.4 ('env': venv)",
   "language": "python",
   "name": "python3"
  },
  "language_info": {
   "codemirror_mode": {
    "name": "ipython",
    "version": 3
   },
   "file_extension": ".py",
   "mimetype": "text/x-python",
   "name": "python",
   "nbconvert_exporter": "python",
   "pygments_lexer": "ipython3",
   "version": "3.10.4"
  },
  "orig_nbformat": 4,
  "vscode": {
   "interpreter": {
    "hash": "6f232859c35808c32414ed7392a3d2d166834ac936b1e4fa11fad72d2414503a"
   }
  }
 },
 "nbformat": 4,
 "nbformat_minor": 2
}
