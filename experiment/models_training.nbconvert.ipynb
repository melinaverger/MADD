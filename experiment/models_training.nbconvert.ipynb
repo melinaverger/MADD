{
 "cells": [
  {
   "cell_type": "code",
   "execution_count": 1,
   "metadata": {
    "execution": {
     "iopub.execute_input": "2022-10-14T15:06:03.927391Z",
     "iopub.status.busy": "2022-10-14T15:06:03.926983Z",
     "iopub.status.idle": "2022-10-14T15:06:04.364696Z",
     "shell.execute_reply": "2022-10-14T15:06:04.364428Z"
    }
   },
   "outputs": [],
   "source": [
    "\"\"\"\n",
    "Created on: Wed. 5 Oct. 2022\n",
    "Author: Mélina Verger\n",
    "\n",
    "Select and train models.\n",
    "\"\"\"\n",
    "\n",
    "# To interact with the operating system\n",
    "import os\n",
    "\n",
    "# For data manipulation\n",
    "import pandas as pd\n",
    "\n",
    "# ML models\n",
    "from sklearn.linear_model import LogisticRegression\n",
    "from sklearn.svm import LinearSVC\n",
    "from sklearn.neighbors import KNeighborsClassifier\n",
    "from sklearn.tree import DecisionTreeClassifier\n",
    "from sklearn.ensemble import RandomForestClassifier\n",
    "\n",
    "# To save the trained models\n",
    "import pickle"
   ]
  },
  {
   "cell_type": "code",
   "execution_count": 2,
   "metadata": {
    "execution": {
     "iopub.execute_input": "2022-10-14T15:06:04.366755Z",
     "iopub.status.busy": "2022-10-14T15:06:04.366616Z",
     "iopub.status.idle": "2022-10-14T15:06:04.368581Z",
     "shell.execute_reply": "2022-10-14T15:06:04.368349Z"
    }
   },
   "outputs": [
    {
     "name": "stdout",
     "output_type": "stream",
     "text": [
      "The folder '../models' already exists.\n"
     ]
    }
   ],
   "source": [
    "if not os.path.exists(\"../models\"):\n",
    "    os.mkdir(\"models\")\n",
    "else:\n",
    "    print(\"The folder '../models' already exists.\" )"
   ]
  },
  {
   "cell_type": "markdown",
   "metadata": {},
   "source": [
    "## Load trained models and variables"
   ]
  },
  {
   "cell_type": "code",
   "execution_count": 3,
   "metadata": {
    "execution": {
     "iopub.execute_input": "2022-10-14T15:06:04.386459Z",
     "iopub.status.busy": "2022-10-14T15:06:04.386327Z",
     "iopub.status.idle": "2022-10-14T15:06:04.388830Z",
     "shell.execute_reply": "2022-10-14T15:06:04.388533Z"
    }
   },
   "outputs": [
    {
     "name": "stdout",
     "output_type": "stream",
     "text": [
      "stInfo\n",
      "7030\n"
     ]
    }
   ],
   "source": [
    "DATA = pickle.load(open(\"../data/DATA\", \"rb\"))\n",
    "SPLIT = pickle.load(open(\"../data/SPLIT\", \"rb\"))\n",
    "\n",
    "print(DATA)\n",
    "print(SPLIT)"
   ]
  },
  {
   "cell_type": "code",
   "execution_count": 4,
   "metadata": {
    "execution": {
     "iopub.execute_input": "2022-10-14T15:06:04.390303Z",
     "iopub.status.busy": "2022-10-14T15:06:04.390201Z",
     "iopub.status.idle": "2022-10-14T15:06:04.398169Z",
     "shell.execute_reply": "2022-10-14T15:06:04.397896Z"
    }
   },
   "outputs": [],
   "source": [
    "# Load train and test sets\n",
    "\n",
    "X_train = pd.read_csv(\"../data/X_train\" + \"_\" + DATA + \"_\" + SPLIT + \".csv\")\n",
    "X_test = pd.read_csv(\"../data/X_test\" + \"_\" + DATA + \"_\" + SPLIT + \".csv\")\n",
    "y_train = pd.read_csv(\"../data/y_train\" + \"_\" + DATA + \"_\" + SPLIT + \".csv\")\n",
    "y_test = pd.read_csv(\"../data/y_test\" + \"_\" + DATA + \"_\" + SPLIT + \".csv\")\n",
    "y_train = y_train.values.ravel()\n",
    "y_test = y_test.values.ravel()"
   ]
  },
  {
   "cell_type": "markdown",
   "metadata": {},
   "source": [
    "## Out-of-the-box classifiers"
   ]
  },
  {
   "cell_type": "code",
   "execution_count": 5,
   "metadata": {
    "execution": {
     "iopub.execute_input": "2022-10-14T15:06:04.399787Z",
     "iopub.status.busy": "2022-10-14T15:06:04.399706Z",
     "iopub.status.idle": "2022-10-14T15:06:04.401651Z",
     "shell.execute_reply": "2022-10-14T15:06:04.401379Z"
    }
   },
   "outputs": [],
   "source": [
    "clf_lr = LogisticRegression(random_state=0)\n",
    "clf_svc = LinearSVC(random_state=0)\n",
    "clf_knearest = KNeighborsClassifier()\n",
    "clf_dt = DecisionTreeClassifier(random_state=0)\n",
    "clf_rf = RandomForestClassifier(random_state=0)"
   ]
  },
  {
   "cell_type": "markdown",
   "metadata": {},
   "source": [
    "## Training"
   ]
  },
  {
   "cell_type": "code",
   "execution_count": 6,
   "metadata": {
    "execution": {
     "iopub.execute_input": "2022-10-14T15:06:04.403137Z",
     "iopub.status.busy": "2022-10-14T15:06:04.403048Z",
     "iopub.status.idle": "2022-10-14T15:06:04.518412Z",
     "shell.execute_reply": "2022-10-14T15:06:04.518103Z"
    }
   },
   "outputs": [],
   "source": [
    "clf_lr.fit(X_train, y_train)\n",
    "pickle.dump(clf_lr, open(\"../models/\" + DATA + \"_\" + SPLIT + \"_clf_lr\", \"wb\"))\n",
    "\n",
    "clf_svc.fit(X_train, y_train)\n",
    "pickle.dump(clf_svc, open(\"../models/\" + DATA + \"_\" + SPLIT + \"_clf_svc\", \"wb\"))\n",
    "\n",
    "clf_knearest.fit(X_train, y_train)\n",
    "pickle.dump(clf_knearest, open(\"../models/\" + DATA + \"_\" + SPLIT + \"_clf_knearest\", \"wb\"))\n",
    "\n",
    "clf_dt.fit(X_train, y_train)\n",
    "pickle.dump(clf_dt, open(\"../models/\" + DATA + \"_\" + SPLIT + \"_clf_dt\", \"wb\"))\n",
    "\n",
    "clf_rf.fit(X_train, y_train)\n",
    "pickle.dump(clf_rf, open(\"../models/\" + DATA + \"_\" + SPLIT + \"_clf_rf\", \"wb\"))"
   ]
  }
 ],
 "metadata": {
  "kernelspec": {
   "display_name": "Python 3.10.4 ('env': venv)",
   "language": "python",
   "name": "python3"
  },
  "language_info": {
   "codemirror_mode": {
    "name": "ipython",
    "version": 3
   },
   "file_extension": ".py",
   "mimetype": "text/x-python",
   "name": "python",
   "nbconvert_exporter": "python",
   "pygments_lexer": "ipython3",
   "version": "3.10.4"
  },
  "vscode": {
   "interpreter": {
    "hash": "6f232859c35808c32414ed7392a3d2d166834ac936b1e4fa11fad72d2414503a"
   }
  }
 },
 "nbformat": 4,
 "nbformat_minor": 2
}
