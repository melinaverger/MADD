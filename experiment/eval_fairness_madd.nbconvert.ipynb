{
 "cells": [
  {
   "cell_type": "code",
   "execution_count": 1,
   "metadata": {
    "execution": {
<<<<<<< HEAD
     "iopub.execute_input": "2023-01-12T10:00:56.457053Z",
     "iopub.status.busy": "2023-01-12T10:00:56.456714Z",
     "iopub.status.idle": "2023-01-12T10:00:57.100840Z",
     "shell.execute_reply": "2023-01-12T10:00:57.100519Z"
=======
     "iopub.execute_input": "2023-01-13T18:33:59.487459Z",
     "iopub.status.busy": "2023-01-13T18:33:59.486695Z",
     "iopub.status.idle": "2023-01-13T18:34:00.117115Z",
     "shell.execute_reply": "2023-01-13T18:34:00.116815Z"
>>>>>>> master-holder
    }
   },
   "outputs": [],
   "source": [
    "\"\"\"\n",
    "Created on: Fri. 14 Oct. 2022\n",
    "Updated on: Wed. 2 Nov. 2022\n",
    "Updated on: Thu. 3 Nov. 2022\n",
    "Updated on: Thu. 5 Jan. 2023\n",
    "Updated on: Fri. 6 Jan. 2023\n",
    "Author: Mélina Verger\n",
    "\n",
    "Compute model absolute density distance (MADD).\n",
    "\"\"\"\n",
    "\n",
    "# To exit script\n",
    "from sys import exit\n",
    "\n",
    "# To load the trained models\n",
    "import pickle\n",
    "\n",
    "# For data manipulation\n",
    "import pandas as pd\n",
    "import numpy as np\n",
    "from scipy.signal import find_peaks\n",
    "\n",
    "# To print with tabular format\n",
    "from tabulate import tabulate\n",
    "\n",
    "# Plotting module\n",
    "import matplotlib.pyplot as plt"
   ]
  },
  {
   "cell_type": "markdown",
   "metadata": {},
   "source": [
    "## Loading"
   ]
  },
  {
   "cell_type": "code",
   "execution_count": 2,
   "metadata": {
    "execution": {
<<<<<<< HEAD
     "iopub.execute_input": "2023-01-12T10:00:57.102803Z",
     "iopub.status.busy": "2023-01-12T10:00:57.102643Z",
     "iopub.status.idle": "2023-01-12T10:00:57.105293Z",
     "shell.execute_reply": "2023-01-12T10:00:57.105027Z"
=======
     "iopub.execute_input": "2023-01-13T18:34:00.119071Z",
     "iopub.status.busy": "2023-01-13T18:34:00.118924Z",
     "iopub.status.idle": "2023-01-13T18:34:00.121408Z",
     "shell.execute_reply": "2023-01-13T18:34:00.121172Z"
>>>>>>> master-holder
    }
   },
   "outputs": [
    {
     "name": "stdout",
     "output_type": "stream",
     "text": [
      "stClick\n",
      "7030\n",
<<<<<<< HEAD
      "['gender', 'imd_band', 'disability']\n"
=======
      "['gender', 'poverty', 'disability', 'age']\n"
>>>>>>> master-holder
     ]
    }
   ],
   "source": [
    "DATA = pickle.load(open(\"../data/DATA\", \"rb\"))\n",
    "SPLIT = pickle.load(open(\"../data/SPLIT\", \"rb\"))\n",
    "SFEATURES = pickle.load(open(\"../data/SFEATURES\", \"rb\"))\n",
    "\n",
    "print(DATA)\n",
    "print(SPLIT)\n",
    "print(SFEATURES)"
   ]
  },
  {
   "cell_type": "code",
   "execution_count": 3,
   "metadata": {
    "execution": {
<<<<<<< HEAD
     "iopub.execute_input": "2023-01-12T10:00:57.122682Z",
     "iopub.status.busy": "2023-01-12T10:00:57.122545Z",
     "iopub.status.idle": "2023-01-12T10:00:57.126706Z",
     "shell.execute_reply": "2023-01-12T10:00:57.126477Z"
=======
     "iopub.execute_input": "2023-01-13T18:34:00.138453Z",
     "iopub.status.busy": "2023-01-13T18:34:00.138307Z",
     "iopub.status.idle": "2023-01-13T18:34:00.142603Z",
     "shell.execute_reply": "2023-01-13T18:34:00.142308Z"
>>>>>>> master-holder
    }
   },
   "outputs": [],
   "source": [
    "# Load test sets\n",
    "\n",
    "X_test = pd.read_csv(\"../data/X_test\" + \"_\" + DATA + \"_\" + SPLIT + \".csv\")\n",
    "y_test = pd.read_csv(\"../data/y_test\" + \"_\" + DATA + \"_\" + SPLIT + \".csv\")"
   ]
  },
  {
   "cell_type": "code",
   "execution_count": 4,
   "metadata": {
    "execution": {
<<<<<<< HEAD
     "iopub.execute_input": "2023-01-12T10:00:57.128137Z",
     "iopub.status.busy": "2023-01-12T10:00:57.128051Z",
     "iopub.status.idle": "2023-01-12T10:00:57.204380Z",
     "shell.execute_reply": "2023-01-12T10:00:57.204081Z"
=======
     "iopub.execute_input": "2023-01-13T18:34:00.144186Z",
     "iopub.status.busy": "2023-01-13T18:34:00.144102Z",
     "iopub.status.idle": "2023-01-13T18:34:00.218173Z",
     "shell.execute_reply": "2023-01-13T18:34:00.217880Z"
>>>>>>> master-holder
    }
   },
   "outputs": [],
   "source": [
    "# Load trained models\n",
    "\n",
    "MODELS = pickle.load(open(\"../data/MODELS\", \"rb\"))  # dict with names and trained models\n",
    "models = MODELS"
   ]
  },
  {
   "cell_type": "code",
   "execution_count": 5,
   "metadata": {
    "execution": {
<<<<<<< HEAD
     "iopub.execute_input": "2023-01-12T10:00:57.206215Z",
     "iopub.status.busy": "2023-01-12T10:00:57.206131Z",
     "iopub.status.idle": "2023-01-12T10:00:57.207800Z",
     "shell.execute_reply": "2023-01-12T10:00:57.207566Z"
=======
     "iopub.execute_input": "2023-01-13T18:34:00.219893Z",
     "iopub.status.busy": "2023-01-13T18:34:00.219807Z",
     "iopub.status.idle": "2023-01-13T18:34:00.221419Z",
     "shell.execute_reply": "2023-01-13T18:34:00.221185Z"
>>>>>>> master-holder
    }
   },
   "outputs": [],
   "source": [
    "if \"clf_svc\" in models:\n",
    "    del models[\"clf_svc\"]  # except svc model because no probability outputs "
   ]
  },
  {
   "cell_type": "markdown",
   "metadata": {},
   "source": [
    "## Separate data sets by (un-)protected groups"
   ]
  },
  {
   "cell_type": "markdown",
   "metadata": {},
   "source": [
    "/!\\ The following only works for binary sensitive features."
   ]
  },
  {
   "cell_type": "code",
   "execution_count": 6,
   "metadata": {
    "execution": {
<<<<<<< HEAD
     "iopub.execute_input": "2023-01-12T10:00:57.209428Z",
     "iopub.status.busy": "2023-01-12T10:00:57.209333Z",
     "iopub.status.idle": "2023-01-12T10:00:57.214262Z",
     "shell.execute_reply": "2023-01-12T10:00:57.213845Z"
=======
     "iopub.execute_input": "2023-01-13T18:34:00.222947Z",
     "iopub.status.busy": "2023-01-13T18:34:00.222860Z",
     "iopub.status.idle": "2023-01-13T18:34:00.227972Z",
     "shell.execute_reply": "2023-01-13T18:34:00.227696Z"
>>>>>>> master-holder
    }
   },
   "outputs": [],
   "source": [
    "dict_subsets_test = dict()\n",
    "\n",
    "for sensfeat in SFEATURES:\n",
    "    # X_test_{sensitive feature and group 1/0}\n",
    "    dict_subsets_test[\"X\"+ \"_test_\" + sensfeat + \"_\"+ \"1\"] = X_test[X_test[sensfeat] == 1]\n",
    "    dict_subsets_test[\"X\"+ \"_test_\" + sensfeat + \"_\"+ \"0\"] = X_test[X_test[sensfeat] == 0]\n",
    "    # y_test_{sensitive feature and group 1/0}\n",
    "    dict_subsets_test[\"y\"+ \"_test_\" + sensfeat + \"_\"+ \"1\"] = y_test.loc[dict_subsets_test[\"X\" + \"_test_\" + sensfeat + \"_\" + \"1\"].index]\n",
    "    dict_subsets_test[\"y\"+ \"_test_\" + sensfeat + \"_\"+ \"0\"] = y_test.loc[dict_subsets_test[\"X\" + \"_test_\" + sensfeat + \"_\" + \"0\"].index]"
   ]
  },
  {
   "cell_type": "markdown",
   "metadata": {},
   "source": [
    "## Prediction probabilities"
   ]
  },
  {
   "cell_type": "code",
   "execution_count": 7,
   "metadata": {
    "execution": {
<<<<<<< HEAD
     "iopub.execute_input": "2023-01-12T10:00:57.216058Z",
     "iopub.status.busy": "2023-01-12T10:00:57.215956Z",
     "iopub.status.idle": "2023-01-12T10:00:57.269770Z",
     "shell.execute_reply": "2023-01-12T10:00:57.269491Z"
=======
     "iopub.execute_input": "2023-01-13T18:34:00.229614Z",
     "iopub.status.busy": "2023-01-13T18:34:00.229537Z",
     "iopub.status.idle": "2023-01-13T18:34:00.294615Z",
     "shell.execute_reply": "2023-01-13T18:34:00.294347Z"
>>>>>>> master-holder
    }
   },
   "outputs": [],
   "source": [
    "dict_subsets_PP = dict()\n",
    "\n",
    "for mod_names in models:\n",
    "\n",
    "    if mod_names == \"clf_lr\":\n",
    "        modl = \"lr\"\n",
    "    elif mod_names == \"clf_kn\":\n",
    "        modl = \"kn\"\n",
    "    elif mod_names == \"clf_dt\":\n",
    "        modl = \"dt\" \n",
    "    elif mod_names == \"clf_rf\":\n",
    "        modl = \"rf\"\n",
    "    elif mod_names == \"clf_cnb\":\n",
    "        modl = \"cnb\"\n",
    "    elif mod_names == \"clf_mnb\":\n",
    "        modl = \"mnb\"\n",
    "    else:\n",
    "        print(\"Invalid model.\")\n",
    "        exit()\n",
    "\n",
    "    # y_PP for X_test_{sensitive feature and group 1/0}\n",
    "    for sensfeat in SFEATURES:\n",
    "        dict_subsets_PP[\"y\" + \"_PP_\" + modl + \"_\" + sensfeat + \"_\" + \"1\"] = models[mod_names].predict_proba(dict_subsets_test[\"X\"+ \"_test_\" + sensfeat + \"_\"+ \"1\"])[:, 1]  # [:, 1] because propa of being in the class 1\n",
    "        dict_subsets_PP[\"y\" + \"_PP_\" + modl + \"_\" + sensfeat + \"_\" + \"0\"] = models[mod_names].predict_proba(dict_subsets_test[\"X\"+ \"_test_\" + sensfeat + \"_\"+ \"0\"])[:, 0]  # [:, 0] because propa of being in the class 0"
   ]
  },
  {
   "cell_type": "markdown",
   "metadata": {},
   "source": [
    "## Model Absolute Density Distance (MADD)"
   ]
  },
  {
   "cell_type": "markdown",
   "metadata": {},
   "source": [
    "/!\\ The initial data vectors do not have the same length but it is handled by the density vectors transformation."
   ]
  },
  {
   "cell_type": "code",
   "execution_count": 8,
   "metadata": {
    "execution": {
<<<<<<< HEAD
     "iopub.execute_input": "2023-01-12T10:00:57.271699Z",
     "iopub.status.busy": "2023-01-12T10:00:57.271588Z",
     "iopub.status.idle": "2023-01-12T10:00:57.273798Z",
     "shell.execute_reply": "2023-01-12T10:00:57.273563Z"
=======
     "iopub.execute_input": "2023-01-13T18:34:00.296427Z",
     "iopub.status.busy": "2023-01-13T18:34:00.296345Z",
     "iopub.status.idle": "2023-01-13T18:34:00.299290Z",
     "shell.execute_reply": "2023-01-13T18:34:00.299062Z"
>>>>>>> master-holder
    }
   },
   "outputs": [],
   "source": [
    "# Probability sampling step\n",
    "\n",
    "e = 0.01\n",
    "\n",
    "if e == 0.01:\n",
    "    nb_decimals = 2\n",
    "    nb_components = 101\n",
    "\n",
    "if e == 0.0001:\n",
    "    nb_decimals = 4\n",
    "    nb_components = 10001\n",
    "\n",
    "NB_COMPO = nb_components\n",
    "pickle.dump(NB_COMPO, open(\"../data/NB_COMPO\", \"wb\"))"
   ]
  },
  {
   "cell_type": "code",
   "execution_count": 9,
   "metadata": {
    "execution": {
<<<<<<< HEAD
     "iopub.execute_input": "2023-01-12T10:00:57.275273Z",
     "iopub.status.busy": "2023-01-12T10:00:57.275178Z",
     "iopub.status.idle": "2023-01-12T10:00:57.277352Z",
     "shell.execute_reply": "2023-01-12T10:00:57.277122Z"
=======
     "iopub.execute_input": "2023-01-13T18:34:00.300714Z",
     "iopub.status.busy": "2023-01-13T18:34:00.300632Z",
     "iopub.status.idle": "2023-01-13T18:34:00.302735Z",
     "shell.execute_reply": "2023-01-13T18:34:00.302507Z"
>>>>>>> master-holder
    }
   },
   "outputs": [],
   "source": [
    "def normalized_density_vector(pred_proba_array):\n",
    "\n",
    "    PP_rounded = np.around(pred_proba_array, decimals=nb_decimals)\n",
    "\n",
    "    density_vector = np.zeros(nb_components)  # empty\n",
    "    proba_values = np.linspace(0, 1, nb_components)  # 101 increasing components\n",
    "\n",
    "    for i in range(len(proba_values)):\n",
    "        compar = proba_values[i]\n",
    "        count = 0\n",
    "        for x in PP_rounded:\n",
    "            if x == compar:\n",
    "                count = count + 1\n",
    "        density_vector[i] = count\n",
    "    \n",
    "    normalized_density_vec = density_vector / np.sum(density_vector)\n",
    "\n",
    "    return normalized_density_vec"
   ]
  },
  {
   "cell_type": "code",
   "execution_count": 10,
   "metadata": {
    "execution": {
<<<<<<< HEAD
     "iopub.execute_input": "2023-01-12T10:00:57.279035Z",
     "iopub.status.busy": "2023-01-12T10:00:57.278875Z",
     "iopub.status.idle": "2023-01-12T10:00:57.280848Z",
     "shell.execute_reply": "2023-01-12T10:00:57.280613Z"
=======
     "iopub.execute_input": "2023-01-13T18:34:00.304109Z",
     "iopub.status.busy": "2023-01-13T18:34:00.304020Z",
     "iopub.status.idle": "2023-01-13T18:34:00.305648Z",
     "shell.execute_reply": "2023-01-13T18:34:00.305432Z"
>>>>>>> master-holder
    }
   },
   "outputs": [],
   "source": [
    "def MADD(norm_densvect_1, norm_densvect_0):\n",
    "    return np.absolute(norm_densvect_1 - norm_densvect_0).sum()"
   ]
  },
  {
   "cell_type": "code",
   "execution_count": 11,
   "metadata": {
    "execution": {
<<<<<<< HEAD
     "iopub.execute_input": "2023-01-12T10:00:57.282300Z",
     "iopub.status.busy": "2023-01-12T10:00:57.282201Z",
     "iopub.status.idle": "2023-01-12T10:00:57.346308Z",
     "shell.execute_reply": "2023-01-12T10:00:57.345913Z"
=======
     "iopub.execute_input": "2023-01-13T18:34:00.307005Z",
     "iopub.status.busy": "2023-01-13T18:34:00.306930Z",
     "iopub.status.idle": "2023-01-13T18:34:00.390850Z",
     "shell.execute_reply": "2023-01-13T18:34:00.390591Z"
>>>>>>> master-holder
    }
   },
   "outputs": [
    {
     "name": "stdout",
     "output_type": "stream",
     "text": [
      "Sensitive feature    Model        MADD\n",
      "-------------------  -------  -------------\n",
      "gender               lr                1.72\n",
      "gender               kn                1.13\n",
      "gender               dt                0.69\n",
<<<<<<< HEAD
      "gender               cnb               0.52\n",
      "imd_band             lr                1.85\n",
      "imd_band             kn                1.12\n",
      "imd_band             dt                0.85\n",
      "imd_band             cnb               0.9\n",
      "disability           lr                1.57\n",
      "disability           kn                0.93\n",
      "disability           dt                0.65\n",
      "disability           cnb               1.37\n"
=======
      "gender               cnb               0.69\n",
      "poverty              lr                1.86\n",
      "poverty              kn                1.13\n",
      "poverty              dt                0.85\n",
      "poverty              cnb               0.87\n",
      "disability           lr                1.57\n",
      "disability           kn                0.93\n",
      "disability           dt                0.65\n",
      "disability           cnb               1.13\n",
      "age                  lr                1.8\n",
      "age                  kn                1.12\n",
      "age                  dt                0.84\n",
      "age                  cnb               1.14\n"
>>>>>>> master-holder
     ]
    }
   ],
   "source": [
    "res = list()\n",
    "\n",
    "for sensfeat in SFEATURES:\n",
    "\n",
    "    for mod_name in models:\n",
    "\n",
    "        if mod_name == \"clf_lr\":\n",
    "            modl = \"lr\"\n",
    "        elif mod_name == \"clf_kn\":\n",
    "            modl = \"kn\"  # model that generates FutureWarning\n",
    "        elif mod_name == \"clf_dt\":\n",
    "            modl = \"dt\" \n",
    "        elif mod_name == \"clf_rf\":\n",
    "            modl = \"rf\"\n",
    "        elif mod_name == \"clf_cnb\":\n",
    "            modl = \"cnb\"\n",
    "        elif mod_name == \"clf_mnb\":\n",
    "            modl = \"mnb\"\n",
    "        else:\n",
    "            print(\"Invalid model.\")\n",
    "            exit()\n",
    "    \n",
    "        subres = list()\n",
    "        subres.append(sensfeat)\n",
    "        subres.append(modl)\n",
    "\n",
    "        norm_densvect1 = normalized_density_vector(dict_subsets_PP[\"y\" + \"_PP_\" + modl + \"_\" + sensfeat + \"_\" + \"1\"])\n",
    "        norm_densvect0 = normalized_density_vector(dict_subsets_PP[\"y\" + \"_PP_\" + modl + \"_\" + sensfeat + \"_\" + \"0\"])\n",
    "        MADDvalue = round(MADD(norm_densvect1, norm_densvect0), nb_decimals)\n",
    "\n",
    "        subres.append(MADDvalue)\n",
    "\n",
    "        res.append(subres)\n",
    "\n",
    "print(tabulate(res, headers=[\"Sensitive feature\", \"Model\", \"  MADD     \"]))"
   ]
  }
 ],
 "metadata": {
  "kernelspec": {
   "display_name": "Python 3.10.4 ('env': venv)",
   "language": "python",
   "name": "python3"
  },
  "language_info": {
   "codemirror_mode": {
    "name": "ipython",
    "version": 3
   },
   "file_extension": ".py",
   "mimetype": "text/x-python",
   "name": "python",
   "nbconvert_exporter": "python",
   "pygments_lexer": "ipython3",
<<<<<<< HEAD
   "version": "3.10.4"
  },
  "vscode": {
   "interpreter": {
    "hash": "7794b610cce7cccecfd60aa985ac55dc433fec93c81a2cb6a4f77df7b18549da"
=======
   "version": "3.10.4 (v3.10.4:9d38120e33, Mar 23 2022, 17:29:05) [Clang 13.0.0 (clang-1300.0.29.30)]"
  },
  "vscode": {
   "interpreter": {
    "hash": "21c4ed702692d19955eb0025fa7aa561bec320aaa8d61ef761b1902fdff2beb6"
>>>>>>> master-holder
   }
  }
 },
 "nbformat": 4,
 "nbformat_minor": 2
}
