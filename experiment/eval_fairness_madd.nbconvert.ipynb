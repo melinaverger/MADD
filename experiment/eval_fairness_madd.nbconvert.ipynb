{
 "cells": [
  {
   "cell_type": "code",
   "execution_count": 1,
   "metadata": {
    "execution": {
     "iopub.execute_input": "2023-01-06T17:27:16.335232Z",
     "iopub.status.busy": "2023-01-06T17:27:16.334866Z",
     "iopub.status.idle": "2023-01-06T17:27:16.966654Z",
     "shell.execute_reply": "2023-01-06T17:27:16.966354Z"
    }
   },
   "outputs": [],
   "source": [
    "\"\"\"\n",
    "Created on: Fri. 14 Oct. 2022\n",
    "Updated on: Wed. 2 Nov. 2022\n",
    "Updated on: Thu. 3 Nov. 2022\n",
    "Updated on: Thu. 5 Jan. 2023\n",
    "Updated on: Fri. 6 Jan. 2023\n",
    "Author: Mélina Verger\n",
    "\n",
    "Compute model absolute density distance (MADD).\n",
    "\"\"\"\n",
    "\n",
    "# To exit script\n",
    "from sys import exit\n",
    "\n",
    "# To load the trained models\n",
    "import pickle\n",
    "\n",
    "# For data manipulation\n",
    "import pandas as pd\n",
    "import numpy as np\n",
    "from scipy.signal import find_peaks\n",
    "\n",
    "# To print with tabular format\n",
    "from tabulate import tabulate\n",
    "\n",
    "# Plotting module\n",
    "import matplotlib.pyplot as plt"
   ]
  },
  {
   "cell_type": "markdown",
   "metadata": {},
   "source": [
    "## Loading"
   ]
  },
  {
   "cell_type": "code",
   "execution_count": 2,
   "metadata": {
    "execution": {
     "iopub.execute_input": "2023-01-06T17:27:16.968504Z",
     "iopub.status.busy": "2023-01-06T17:27:16.968384Z",
     "iopub.status.idle": "2023-01-06T17:27:16.970915Z",
     "shell.execute_reply": "2023-01-06T17:27:16.970675Z"
    }
   },
   "outputs": [
    {
     "name": "stdout",
     "output_type": "stream",
     "text": [
      "stInfo\n",
      "7030\n",
      "['gender', 'imd_band', 'disability']\n"
     ]
    }
   ],
   "source": [
    "DATA = pickle.load(open(\"../data/DATA\", \"rb\"))\n",
    "SPLIT = pickle.load(open(\"../data/SPLIT\", \"rb\"))\n",
    "SFEATURES = pickle.load(open(\"../data/SFEATURES\", \"rb\"))\n",
    "\n",
    "print(DATA)\n",
    "print(SPLIT)\n",
    "print(SFEATURES)"
   ]
  },
  {
   "cell_type": "code",
   "execution_count": 3,
   "metadata": {
    "execution": {
     "iopub.execute_input": "2023-01-06T17:27:16.987565Z",
     "iopub.status.busy": "2023-01-06T17:27:16.987418Z",
     "iopub.status.idle": "2023-01-06T17:27:16.991647Z",
     "shell.execute_reply": "2023-01-06T17:27:16.991392Z"
    }
   },
   "outputs": [],
   "source": [
    "# Load test sets\n",
    "\n",
    "X_test = pd.read_csv(\"../data/X_test\" + \"_\" + DATA + \"_\" + SPLIT + \".csv\")\n",
    "y_test = pd.read_csv(\"../data/y_test\" + \"_\" + DATA + \"_\" + SPLIT + \".csv\")"
   ]
  },
  {
   "cell_type": "code",
   "execution_count": 4,
   "metadata": {
    "execution": {
     "iopub.execute_input": "2023-01-06T17:27:16.993235Z",
     "iopub.status.busy": "2023-01-06T17:27:16.993153Z",
     "iopub.status.idle": "2023-01-06T17:27:17.085553Z",
     "shell.execute_reply": "2023-01-06T17:27:17.085212Z"
    }
   },
   "outputs": [],
   "source": [
    "# Load trained models\n",
    "\n",
    "MODELS = pickle.load(open(\"../data/MODELS\", \"rb\"))  # dict with names and trained models\n",
    "models = MODELS"
   ]
  },
  {
   "cell_type": "code",
   "execution_count": 5,
   "metadata": {
    "execution": {
     "iopub.execute_input": "2023-01-06T17:27:17.087308Z",
     "iopub.status.busy": "2023-01-06T17:27:17.087221Z",
     "iopub.status.idle": "2023-01-06T17:27:17.089005Z",
     "shell.execute_reply": "2023-01-06T17:27:17.088670Z"
    }
   },
   "outputs": [],
   "source": [
    "if \"clf_svc\" in models:\n",
    "    del models[\"clf_svc\"]  # except svc model because no probability outputs "
   ]
  },
  {
   "cell_type": "markdown",
   "metadata": {},
   "source": [
    "## Separate data sets by (un-)protected groups"
   ]
  },
  {
   "cell_type": "markdown",
   "metadata": {},
   "source": [
    "/!\\ The following only works for binary sensitive features."
   ]
  },
  {
   "cell_type": "code",
   "execution_count": 6,
   "metadata": {
    "execution": {
     "iopub.execute_input": "2023-01-06T17:27:17.090946Z",
     "iopub.status.busy": "2023-01-06T17:27:17.090827Z",
     "iopub.status.idle": "2023-01-06T17:27:17.095016Z",
     "shell.execute_reply": "2023-01-06T17:27:17.094774Z"
    }
   },
   "outputs": [],
   "source": [
    "dict_subsets_test = dict()\n",
    "\n",
    "for sensfeat in SFEATURES:\n",
    "    # X_test_{sensitive feature and group 1/0}\n",
    "    dict_subsets_test[\"X\"+ \"_test_\" + sensfeat + \"_\"+ \"1\"] = X_test[X_test[sensfeat] == 1]\n",
    "    dict_subsets_test[\"X\"+ \"_test_\" + sensfeat + \"_\"+ \"0\"] = X_test[X_test[sensfeat] == 0]\n",
    "    # y_test_{sensitive feature and group 1/0}\n",
    "    dict_subsets_test[\"y\"+ \"_test_\" + sensfeat + \"_\"+ \"1\"] = y_test.loc[dict_subsets_test[\"X\" + \"_test_\" + sensfeat + \"_\" + \"1\"].index]\n",
    "    dict_subsets_test[\"y\"+ \"_test_\" + sensfeat + \"_\"+ \"0\"] = y_test.loc[dict_subsets_test[\"X\" + \"_test_\" + sensfeat + \"_\" + \"0\"].index]"
   ]
  },
  {
   "cell_type": "markdown",
   "metadata": {},
   "source": [
    "## Prediction probabilities"
   ]
  },
  {
   "cell_type": "code",
   "execution_count": 7,
   "metadata": {
    "execution": {
     "iopub.execute_input": "2023-01-06T17:27:17.096538Z",
     "iopub.status.busy": "2023-01-06T17:27:17.096452Z",
     "iopub.status.idle": "2023-01-06T17:27:17.194668Z",
     "shell.execute_reply": "2023-01-06T17:27:17.194327Z"
    }
   },
   "outputs": [],
   "source": [
    "dict_subsets_PP = dict()\n",
    "\n",
    "for mod_names in models:\n",
    "\n",
    "    if mod_names == \"clf_lr\":\n",
    "        modl = \"lr\"\n",
    "    elif mod_names == \"clf_kn\":\n",
    "        modl = \"kn\"\n",
    "    elif mod_names == \"clf_dt\":\n",
    "        modl = \"dt\" \n",
    "    elif mod_names == \"clf_rf\":\n",
    "        modl = \"rf\"\n",
    "    elif mod_names == \"clf_cnb\":\n",
    "        modl = \"cnb\"\n",
    "    elif mod_names == \"clf_mnb\":\n",
    "        modl = \"mnb\"\n",
    "    else:\n",
    "        print(\"Invalid model.\")\n",
    "        exit()\n",
    "\n",
    "    # y_PP for X_test_{sensitive feature and group 1/0}\n",
    "    for sensfeat in SFEATURES:\n",
    "        dict_subsets_PP[\"y\" + \"_PP_\" + modl + \"_\" + sensfeat + \"_\" + \"1\"] = models[mod_names].predict_proba(dict_subsets_test[\"X\"+ \"_test_\" + sensfeat + \"_\"+ \"1\"])[:, 1]  # [:, 1] because propa of being in the class 1\n",
    "        dict_subsets_PP[\"y\" + \"_PP_\" + modl + \"_\" + sensfeat + \"_\" + \"0\"] = models[mod_names].predict_proba(dict_subsets_test[\"X\"+ \"_test_\" + sensfeat + \"_\"+ \"0\"])[:, 0]  # [:, 0] because propa of being in the class 0"
   ]
  },
  {
   "cell_type": "markdown",
   "metadata": {},
   "source": [
    "## Model Absolute Density Distance (MADD)"
   ]
  },
  {
   "cell_type": "markdown",
   "metadata": {},
   "source": [
    "/!\\ The initial data vectors do not have the same length but it is handled by the density vectors transformation."
   ]
  },
  {
   "cell_type": "code",
   "execution_count": 8,
   "metadata": {
    "execution": {
     "iopub.execute_input": "2023-01-06T17:27:17.196573Z",
     "iopub.status.busy": "2023-01-06T17:27:17.196461Z",
     "iopub.status.idle": "2023-01-06T17:27:17.199285Z",
     "shell.execute_reply": "2023-01-06T17:27:17.199066Z"
    }
   },
   "outputs": [],
   "source": [
    "# Probability sampling step\n",
    "\n",
    "e = 0.01\n",
    "\n",
    "if e == 0.01:\n",
    "    nb_decimals = 2\n",
    "    nb_components = 101\n",
    "\n",
    "if e == 0.0001:\n",
    "    nb_decimals = 4\n",
    "    nb_components = 10001\n",
    "\n",
    "NB_COMPO = nb_components\n",
    "pickle.dump(NB_COMPO, open(\"../data/NB_COMPO\", \"wb\"))"
   ]
  },
  {
   "cell_type": "code",
   "execution_count": 9,
   "metadata": {
    "execution": {
     "iopub.execute_input": "2023-01-06T17:27:17.200803Z",
     "iopub.status.busy": "2023-01-06T17:27:17.200696Z",
     "iopub.status.idle": "2023-01-06T17:27:17.202899Z",
     "shell.execute_reply": "2023-01-06T17:27:17.202665Z"
    }
   },
   "outputs": [],
   "source": [
    "def normalized_density_vector(pred_proba_array):\n",
    "\n",
    "    PP_rounded = np.around(pred_proba_array, decimals=nb_decimals)\n",
    "\n",
    "    density_vector = np.zeros(nb_components)  # empty\n",
    "    proba_values = np.linspace(0, 1, nb_components)  # 101 increasing components\n",
    "\n",
    "    for i in range(len(proba_values)):\n",
    "        compar = proba_values[i]\n",
    "        count = 0\n",
    "        for x in PP_rounded:\n",
    "            if x == compar:\n",
    "                count = count + 1\n",
    "        density_vector[i] = count\n",
    "    \n",
    "    normalized_density_vec = density_vector / np.sum(density_vector)\n",
    "\n",
    "    return normalized_density_vec"
   ]
  },
  {
   "cell_type": "code",
   "execution_count": 10,
   "metadata": {
    "execution": {
     "iopub.execute_input": "2023-01-06T17:27:17.204292Z",
     "iopub.status.busy": "2023-01-06T17:27:17.204193Z",
     "iopub.status.idle": "2023-01-06T17:27:17.205853Z",
     "shell.execute_reply": "2023-01-06T17:27:17.205520Z"
    }
   },
   "outputs": [],
   "source": [
    "def MADD(norm_densvect_1, norm_densvect_0):\n",
    "    return np.absolute(norm_densvect_1 - norm_densvect_0).sum()"
   ]
  },
  {
   "cell_type": "code",
   "execution_count": 11,
   "metadata": {
    "execution": {
     "iopub.execute_input": "2023-01-06T17:27:17.207319Z",
     "iopub.status.busy": "2023-01-06T17:27:17.207212Z",
     "iopub.status.idle": "2023-01-06T17:27:17.303622Z",
     "shell.execute_reply": "2023-01-06T17:27:17.303342Z"
    }
   },
   "outputs": [
    {
     "name": "stdout",
     "output_type": "stream",
     "text": [
      "Sensitive feature    Model        MADD\n",
      "-------------------  -------  -------------\n",
      "gender               lr                1.86\n",
      "gender               kn                0.75\n",
      "gender               dt                1.65\n",
      "gender               rf                1.71\n",
      "gender               cnb               0.93\n",
      "gender               mnb               2\n",
      "imd_band             lr                1.91\n",
      "imd_band             kn                1.51\n",
      "imd_band             dt                1.7\n",
      "imd_band             rf                1.8\n",
      "imd_band             cnb               1.03\n",
      "imd_band             mnb               2\n",
      "disability           lr                1.84\n",
      "disability           kn                1.05\n",
      "disability           dt                1.57\n",
      "disability           rf                1.64\n",
      "disability           cnb               1.4\n",
      "disability           mnb               2\n"
     ]
    }
   ],
   "source": [
    "res = list()\n",
    "\n",
    "for sensfeat in SFEATURES:\n",
    "\n",
    "    for mod_name in models:\n",
    "\n",
    "        if mod_name == \"clf_lr\":\n",
    "            modl = \"lr\"\n",
    "        elif mod_name == \"clf_kn\":\n",
    "            modl = \"kn\"  # model that generates FutureWarning\n",
    "        elif mod_name == \"clf_dt\":\n",
    "            modl = \"dt\" \n",
    "        elif mod_name == \"clf_rf\":\n",
    "            modl = \"rf\"\n",
    "        elif mod_name == \"clf_cnb\":\n",
    "            modl = \"cnb\"\n",
    "        elif mod_name == \"clf_mnb\":\n",
    "            modl = \"mnb\"\n",
    "        else:\n",
    "            print(\"Invalid model.\")\n",
    "            exit()\n",
    "    \n",
    "        subres = list()\n",
    "        subres.append(sensfeat)\n",
    "        subres.append(modl)\n",
    "\n",
    "        norm_densvect1 = normalized_density_vector(dict_subsets_PP[\"y\" + \"_PP_\" + modl + \"_\" + sensfeat + \"_\" + \"1\"])\n",
    "        norm_densvect0 = normalized_density_vector(dict_subsets_PP[\"y\" + \"_PP_\" + modl + \"_\" + sensfeat + \"_\" + \"0\"])\n",
    "        MADDvalue = round(MADD(norm_densvect1, norm_densvect0), nb_decimals)\n",
    "\n",
    "        subres.append(MADDvalue)\n",
    "\n",
    "        res.append(subres)\n",
    "\n",
    "print(tabulate(res, headers=[\"Sensitive feature\", \"Model\", \"  MADD     \"]))"
   ]
  }
 ],
 "metadata": {
  "kernelspec": {
   "display_name": "Python 3.10.4 ('env': venv)",
   "language": "python",
   "name": "python3"
  },
  "language_info": {
   "codemirror_mode": {
    "name": "ipython",
    "version": 3
   },
   "file_extension": ".py",
   "mimetype": "text/x-python",
   "name": "python",
   "nbconvert_exporter": "python",
   "pygments_lexer": "ipython3",
   "version": "3.10.4"
  },
  "vscode": {
   "interpreter": {
    "hash": "7794b610cce7cccecfd60aa985ac55dc433fec93c81a2cb6a4f77df7b18549da"
   }
  }
 },
 "nbformat": 4,
 "nbformat_minor": 2
}
