{
 "cells": [
  {
   "cell_type": "code",
   "execution_count": 1,
   "metadata": {
    "execution": {
     "iopub.execute_input": "2022-11-14T19:56:20.060659Z",
     "iopub.status.busy": "2022-11-14T19:56:20.060020Z",
     "iopub.status.idle": "2022-11-14T19:56:20.739436Z",
     "shell.execute_reply": "2022-11-14T19:56:20.739170Z"
    }
   },
   "outputs": [],
   "source": [
    "\"\"\"\n",
    "Created on: Wed. 5 Oct. 2022\n",
    "Updated on: Mon. 14 Nov. 2022\n",
    "Author: Mélina Verger\n",
    "\n",
    "Test the models and return their accuracies and feature importance.\n",
    "\"\"\"\n",
    "\n",
    "# For data manipulation\n",
    "import pandas as pd\n",
    "\n",
    "# To load the trained models\n",
    "import pickle\n",
    "\n",
    "# For cross-validation\n",
    "from sklearn.model_selection import cross_val_score\n",
    "\n",
    "# Metric\n",
    "from sklearn.metrics import accuracy_score\n",
    "\n",
    "# Plotting module\n",
    "import matplotlib.pyplot as plt"
   ]
  },
  {
   "cell_type": "markdown",
   "metadata": {},
   "source": [
    "## Load data sets and trained models"
   ]
  },
  {
   "cell_type": "code",
   "execution_count": 2,
   "metadata": {
    "execution": {
     "iopub.execute_input": "2022-11-14T19:56:20.741570Z",
     "iopub.status.busy": "2022-11-14T19:56:20.741417Z",
     "iopub.status.idle": "2022-11-14T19:56:20.743950Z",
     "shell.execute_reply": "2022-11-14T19:56:20.743669Z"
    }
   },
   "outputs": [
    {
     "name": "stdout",
     "output_type": "stream",
     "text": [
      "stClick\n",
      "7030\n"
     ]
    }
   ],
   "source": [
    "DATA = pickle.load(open(\"../data/DATA\", \"rb\"))\n",
    "SPLIT = pickle.load(open(\"../data/SPLIT\", \"rb\"))\n",
    "\n",
    "print(DATA)\n",
    "print(SPLIT)"
   ]
  },
  {
   "cell_type": "code",
   "execution_count": 3,
   "metadata": {
    "execution": {
     "iopub.execute_input": "2022-11-14T19:56:20.761246Z",
     "iopub.status.busy": "2022-11-14T19:56:20.761114Z",
     "iopub.status.idle": "2022-11-14T19:56:20.767485Z",
     "shell.execute_reply": "2022-11-14T19:56:20.767230Z"
    }
   },
   "outputs": [],
   "source": [
    "# Load train and test sets\n",
    "\n",
    "X_train = pd.read_csv(\"../data/X_train\" + \"_\" + DATA + \"_\" + SPLIT + \".csv\")\n",
    "X_test = pd.read_csv(\"../data/X_test\" + \"_\" + DATA + \"_\" + SPLIT + \".csv\")\n",
    "y_train = pd.read_csv(\"../data/y_train\" + \"_\" + DATA + \"_\" + SPLIT + \".csv\")\n",
    "y_test = pd.read_csv(\"../data/y_test\" + \"_\" + DATA + \"_\" + SPLIT + \".csv\")\n",
    "y_train = y_train.values.ravel()\n",
    "y_test = y_test.values.ravel()"
   ]
  },
  {
   "cell_type": "code",
   "execution_count": 4,
   "metadata": {
    "execution": {
     "iopub.execute_input": "2022-11-14T19:56:20.769036Z",
     "iopub.status.busy": "2022-11-14T19:56:20.768952Z",
     "iopub.status.idle": "2022-11-14T19:56:20.797223Z",
     "shell.execute_reply": "2022-11-14T19:56:20.796949Z"
    }
   },
   "outputs": [],
   "source": [
    "# Load trained models\n",
    "\n",
    "MODELS = pickle.load(open(\"../data/MODELS\", \"rb\"))  # dict with names and trained models\n",
    "models = MODELS"
   ]
  },
  {
   "cell_type": "markdown",
   "metadata": {},
   "source": [
    "## Accuracies on train and test sets"
   ]
  },
  {
   "cell_type": "code",
   "execution_count": 5,
   "metadata": {
    "execution": {
     "iopub.execute_input": "2022-11-14T19:56:20.798980Z",
     "iopub.status.busy": "2022-11-14T19:56:20.798870Z",
     "iopub.status.idle": "2022-11-14T19:56:20.800628Z",
     "shell.execute_reply": "2022-11-14T19:56:20.800325Z"
    }
   },
   "outputs": [],
   "source": [
    "NB_FOLD = 5"
   ]
  },
  {
   "cell_type": "code",
   "execution_count": 6,
   "metadata": {
    "execution": {
     "iopub.execute_input": "2022-11-14T19:56:20.801969Z",
     "iopub.status.busy": "2022-11-14T19:56:20.801893Z",
     "iopub.status.idle": "2022-11-14T19:56:20.956391Z",
     "shell.execute_reply": "2022-11-14T19:56:20.956097Z"
    }
   },
   "outputs": [
    {
     "name": "stdout",
     "output_type": "stream",
     "text": [
      "----- Model: clf_lr -----\n",
      "Accuracy on the train set with cross-validation: \n",
      " - 0.72 with a standard deviation of 0.01\n",
      "Accuracy on the test set: \n",
      " - 0.72\n",
      "----- Model: clf_kn -----\n",
      "Accuracy on the train set with cross-validation: \n",
      " - 0.76 with a standard deviation of 0.01\n",
      "Accuracy on the test set: \n",
      " - 0.73\n",
      "----- Model: clf_dt -----\n",
      "Accuracy on the train set with cross-validation: \n",
      " - 0.71 with a standard deviation of 0.01\n",
      "Accuracy on the test set: \n",
      " - 0.71\n"
     ]
    },
    {
     "name": "stderr",
     "output_type": "stream",
     "text": [
      "/Users/melinaverger/Desktop/exp2/env/lib/python3.10/site-packages/sklearn/neighbors/_classification.py:237: FutureWarning: Unlike other reduction functions (e.g. `skew`, `kurtosis`), the default behavior of `mode` typically preserves the axis it acts along. In SciPy 1.11.0, this behavior will change: the default value of `keepdims` will become False, the `axis` over which the statistic is taken will be eliminated, and the value None will no longer be accepted. Set `keepdims` to True or False to avoid this warning.\n",
      "  mode, _ = stats.mode(_y[neigh_ind, k], axis=1)\n",
      "/Users/melinaverger/Desktop/exp2/env/lib/python3.10/site-packages/sklearn/neighbors/_classification.py:237: FutureWarning: Unlike other reduction functions (e.g. `skew`, `kurtosis`), the default behavior of `mode` typically preserves the axis it acts along. In SciPy 1.11.0, this behavior will change: the default value of `keepdims` will become False, the `axis` over which the statistic is taken will be eliminated, and the value None will no longer be accepted. Set `keepdims` to True or False to avoid this warning.\n",
      "  mode, _ = stats.mode(_y[neigh_ind, k], axis=1)\n",
      "/Users/melinaverger/Desktop/exp2/env/lib/python3.10/site-packages/sklearn/neighbors/_classification.py:237: FutureWarning: Unlike other reduction functions (e.g. `skew`, `kurtosis`), the default behavior of `mode` typically preserves the axis it acts along. In SciPy 1.11.0, this behavior will change: the default value of `keepdims` will become False, the `axis` over which the statistic is taken will be eliminated, and the value None will no longer be accepted. Set `keepdims` to True or False to avoid this warning.\n",
      "  mode, _ = stats.mode(_y[neigh_ind, k], axis=1)\n",
      "/Users/melinaverger/Desktop/exp2/env/lib/python3.10/site-packages/sklearn/neighbors/_classification.py:237: FutureWarning: Unlike other reduction functions (e.g. `skew`, `kurtosis`), the default behavior of `mode` typically preserves the axis it acts along. In SciPy 1.11.0, this behavior will change: the default value of `keepdims` will become False, the `axis` over which the statistic is taken will be eliminated, and the value None will no longer be accepted. Set `keepdims` to True or False to avoid this warning.\n",
      "  mode, _ = stats.mode(_y[neigh_ind, k], axis=1)\n",
      "/Users/melinaverger/Desktop/exp2/env/lib/python3.10/site-packages/sklearn/neighbors/_classification.py:237: FutureWarning: Unlike other reduction functions (e.g. `skew`, `kurtosis`), the default behavior of `mode` typically preserves the axis it acts along. In SciPy 1.11.0, this behavior will change: the default value of `keepdims` will become False, the `axis` over which the statistic is taken will be eliminated, and the value None will no longer be accepted. Set `keepdims` to True or False to avoid this warning.\n",
      "  mode, _ = stats.mode(_y[neigh_ind, k], axis=1)\n",
      "/Users/melinaverger/Desktop/exp2/env/lib/python3.10/site-packages/sklearn/neighbors/_classification.py:237: FutureWarning: Unlike other reduction functions (e.g. `skew`, `kurtosis`), the default behavior of `mode` typically preserves the axis it acts along. In SciPy 1.11.0, this behavior will change: the default value of `keepdims` will become False, the `axis` over which the statistic is taken will be eliminated, and the value None will no longer be accepted. Set `keepdims` to True or False to avoid this warning.\n",
      "  mode, _ = stats.mode(_y[neigh_ind, k], axis=1)\n"
     ]
    }
   ],
   "source": [
    "for mod_name in models:\n",
    "    print(f\"----- Model: {mod_name} -----\")\n",
    "    scores_train = cross_val_score(models[mod_name], X_train, y_train, cv=NB_FOLD)\n",
    "    print(\"Accuracy on the train set with cross-validation: \\n - %0.2f with a standard deviation of %0.2f\" % (scores_train.mean(), scores_train.std()))\n",
    "    print(f\"Accuracy on the test set: \\n - {round(accuracy_score(y_test, models[mod_name].predict(X_test)), 2)}\")\n",
    "    "
   ]
  },
  {
   "cell_type": "markdown",
   "metadata": {},
   "source": [
    "## Feature importance (FI)"
   ]
  },
  {
   "cell_type": "code",
   "execution_count": 7,
   "metadata": {
    "execution": {
     "iopub.execute_input": "2022-11-14T19:56:20.958009Z",
     "iopub.status.busy": "2022-11-14T19:56:20.957901Z",
     "iopub.status.idle": "2022-11-14T19:56:21.103128Z",
     "shell.execute_reply": "2022-11-14T19:56:21.102863Z"
    }
   },
   "outputs": [
    {
     "data": {
      "image/png": "[encoded data removed]",
      "text/plain": [
       "<Figure size 432x288 with 1 Axes>"
      ]
     },
     "metadata": {
      "needs_background": "light"
     },
     "output_type": "display_data"
    },
    {
     "data": {
      "image/png": "[encoded data removed]",
      "text/plain": [
       "<Figure size 432x288 with 1 Axes>"
      ]
     },
     "metadata": {
      "needs_background": "light"
     },
     "output_type": "display_data"
    }
   ],
   "source": [
    "for mod_name in models:\n",
    "    if mod_name != \"clf_kn\":  # no FI for KN\n",
    "\n",
    "        if mod_name == \"clf_lr\":\n",
    "            pd.DataFrame(models[mod_name].coef_, columns=X_train.columns,\n",
    "                        index=[\"coef\"]).T.sort_values(by='coef',\n",
    "                        axis=0, ascending=False, key=abs).plot.bar(color='b')\n",
    "            if DATA == \"stInfo\":\n",
    "                plt.ylim((-2.5,2))\n",
    "            elif DATA == \"stAll\":\n",
    "                plt.ylim((-2.5,9.5))\n",
    "            plt.title(\"Logisitic regression\")\n",
    "        \n",
    "        elif mod_name == \"clf_dt\":\n",
    "            pd.DataFrame(models[mod_name].feature_importances_, index=X_train.columns,\n",
    "                         columns=[\"coef\"]).sort_values(by='coef', axis=0, ascending=False,\n",
    "                         key=abs).plot.bar(color='b')\n",
    "            if DATA == \"stInfo\":\n",
    "                plt.ylim((-2.5,2))\n",
    "            elif DATA == \"stAll\":\n",
    "                plt.ylim((-2.5,9.5))\n",
    "            plt.title(\"Decision tree\")\n",
    "        \n",
    "        elif mod_name == \"clf_rf\":\n",
    "            pd.DataFrame(models[mod_name].feature_importances_, index=X_train.columns,\n",
    "                         columns=[\"coef\"]).sort_values(by='coef', axis=0, ascending=False,\n",
    "                         key=abs).plot.bar(color='b')\n",
    "            if DATA == \"stInfo\":\n",
    "                plt.ylim((-2.5,2))\n",
    "            elif DATA == \"stAll\":\n",
    "                plt.ylim((-2.5,9.5))\n",
    "            plt.title(\"Random forest\")\n",
    "        \n",
    "        elif mod_name == \"clf_svc\":\n",
    "            pd.DataFrame(models[mod_name].coef_, columns=X_train.columns,\n",
    "                         index=[\"coef\"]).T.sort_values(by='coef',\n",
    "                         axis=0, ascending=False, key=abs).plot.bar(color='b')\n",
    "            if DATA == \"stInfo\":\n",
    "                plt.ylim((-2.5,2))\n",
    "            elif DATA == \"stAll\":\n",
    "                plt.ylim((-2.5,9.5))\n",
    "            plt.title(\"Linear support vector\")\n",
    "        \n",
    "        else:\n",
    "            plt.title(\"Another model\")\n",
    "        plt.show()"
   ]
  }
 ],
 "metadata": {
  "kernelspec": {
   "display_name": "Python 3.10.4 ('env': venv)",
   "language": "python",
   "name": "python3"
  },
  "language_info": {
   "codemirror_mode": {
    "name": "ipython",
    "version": 3
   },
   "file_extension": ".py",
   "mimetype": "text/x-python",
   "name": "python",
   "nbconvert_exporter": "python",
   "pygments_lexer": "ipython3",
   "version": "3.10.4"
  },
  "vscode": {
   "interpreter": {
    "hash": "6f232859c35808c32414ed7392a3d2d166834ac936b1e4fa11fad72d2414503a"
   }
  }
 },
 "nbformat": 4,
 "nbformat_minor": 2
}
