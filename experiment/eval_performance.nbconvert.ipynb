{
 "cells": [
  {
   "cell_type": "code",
   "execution_count": 1,
   "metadata": {
    "execution": {
<<<<<<< HEAD
<<<<<<< HEAD
     "iopub.execute_input": "2023-01-06T13:05:55.394435Z",
     "iopub.status.busy": "2023-01-06T13:05:55.394074Z",
     "iopub.status.idle": "2023-01-06T13:05:56.139351Z",
     "shell.execute_reply": "2023-01-06T13:05:56.139044Z"
=======
     "iopub.execute_input": "2023-01-12T10:00:53.512936Z",
     "iopub.status.busy": "2023-01-12T10:00:53.512403Z",
     "iopub.status.idle": "2023-01-12T10:00:54.178052Z",
     "shell.execute_reply": "2023-01-12T10:00:54.177745Z"
>>>>>>> master-holder
=======
     "iopub.execute_input": "2023-01-13T18:33:56.737014Z",
     "iopub.status.busy": "2023-01-13T18:33:56.736597Z",
     "iopub.status.idle": "2023-01-13T18:33:57.400599Z",
     "shell.execute_reply": "2023-01-13T18:33:57.400301Z"
>>>>>>> master-holder
    }
   },
   "outputs": [],
   "source": [
    "\"\"\"\n",
    "Created on: Wed. 5 Oct. 2022\n",
    "Updated on: Mon. 14 Nov. 2022\n",
    "Updated on: Thu. 5 Jan. 2022\n",
<<<<<<< HEAD
<<<<<<< HEAD
=======
    "Updated on: Fri. 6 Jan. 2023\n",
>>>>>>> master-holder
=======
    "Updated on: Fri. 6 Jan. 2023\n",
>>>>>>> master-holder
    "Author: Mélina Verger\n",
    "\n",
    "Test the models and return their accuracies and feature importance.\n",
    "\"\"\"\n",
    "\n",
    "# For data manipulation\n",
    "import pandas as pd\n",
    "\n",
    "# To load the trained models\n",
    "import pickle\n",
    "\n",
    "# For cross-validation\n",
    "from sklearn.model_selection import cross_val_score\n",
    "\n",
    "# Metric\n",
    "from sklearn.metrics import accuracy_score\n",
    "\n",
    "# Plotting module\n",
<<<<<<< HEAD
<<<<<<< HEAD
    "import matplotlib.pyplot as plt"
=======
=======
>>>>>>> master-holder
    "import matplotlib.pyplot as plt\n",
    "\n",
    "import warnings\n",
    "warnings.simplefilter(action='ignore', category=FutureWarning)"
<<<<<<< HEAD
>>>>>>> master-holder
=======
>>>>>>> master-holder
   ]
  },
  {
   "cell_type": "markdown",
   "metadata": {},
   "source": [
    "## Load data sets and trained models"
   ]
  },
  {
   "cell_type": "code",
   "execution_count": 2,
   "metadata": {
    "execution": {
<<<<<<< HEAD
<<<<<<< HEAD
     "iopub.execute_input": "2023-01-06T13:05:56.141365Z",
     "iopub.status.busy": "2023-01-06T13:05:56.141204Z",
     "iopub.status.idle": "2023-01-06T13:05:56.143644Z",
     "shell.execute_reply": "2023-01-06T13:05:56.143370Z"
=======
     "iopub.execute_input": "2023-01-12T10:00:54.180305Z",
     "iopub.status.busy": "2023-01-12T10:00:54.180055Z",
     "iopub.status.idle": "2023-01-12T10:00:54.182827Z",
     "shell.execute_reply": "2023-01-12T10:00:54.182566Z"
>>>>>>> master-holder
=======
     "iopub.execute_input": "2023-01-13T18:33:57.402571Z",
     "iopub.status.busy": "2023-01-13T18:33:57.402426Z",
     "iopub.status.idle": "2023-01-13T18:33:57.404687Z",
     "shell.execute_reply": "2023-01-13T18:33:57.404458Z"
>>>>>>> master-holder
    }
   },
   "outputs": [
    {
     "name": "stdout",
     "output_type": "stream",
     "text": [
      "stClick\n",
      "7030\n"
     ]
    }
   ],
   "source": [
    "DATA = pickle.load(open(\"../data/DATA\", \"rb\"))\n",
    "SPLIT = pickle.load(open(\"../data/SPLIT\", \"rb\"))\n",
    "\n",
    "print(DATA)\n",
    "print(SPLIT)"
   ]
  },
  {
   "cell_type": "code",
   "execution_count": 3,
   "metadata": {
    "execution": {
<<<<<<< HEAD
<<<<<<< HEAD
     "iopub.execute_input": "2023-01-06T13:05:56.160458Z",
     "iopub.status.busy": "2023-01-06T13:05:56.160317Z",
     "iopub.status.idle": "2023-01-06T13:05:56.166761Z",
     "shell.execute_reply": "2023-01-06T13:05:56.166511Z"
=======
     "iopub.execute_input": "2023-01-12T10:00:54.201083Z",
     "iopub.status.busy": "2023-01-12T10:00:54.200937Z",
     "iopub.status.idle": "2023-01-12T10:00:54.207649Z",
     "shell.execute_reply": "2023-01-12T10:00:54.207344Z"
>>>>>>> master-holder
=======
     "iopub.execute_input": "2023-01-13T18:33:57.421779Z",
     "iopub.status.busy": "2023-01-13T18:33:57.421638Z",
     "iopub.status.idle": "2023-01-13T18:33:57.429425Z",
     "shell.execute_reply": "2023-01-13T18:33:57.429164Z"
>>>>>>> master-holder
    }
   },
   "outputs": [],
   "source": [
    "# Load train and test sets\n",
    "\n",
    "X_train = pd.read_csv(\"../data/X_train\" + \"_\" + DATA + \"_\" + SPLIT + \".csv\")\n",
    "X_test = pd.read_csv(\"../data/X_test\" + \"_\" + DATA + \"_\" + SPLIT + \".csv\")\n",
    "y_train = pd.read_csv(\"../data/y_train\" + \"_\" + DATA + \"_\" + SPLIT + \".csv\")\n",
    "y_test = pd.read_csv(\"../data/y_test\" + \"_\" + DATA + \"_\" + SPLIT + \".csv\")\n",
    "y_train = y_train.values.ravel()\n",
    "y_test = y_test.values.ravel()"
   ]
  },
  {
   "cell_type": "code",
   "execution_count": 4,
   "metadata": {
    "execution": {
<<<<<<< HEAD
<<<<<<< HEAD
     "iopub.execute_input": "2023-01-06T13:05:56.168306Z",
     "iopub.status.busy": "2023-01-06T13:05:56.168225Z",
     "iopub.status.idle": "2023-01-06T13:05:56.211042Z",
     "shell.execute_reply": "2023-01-06T13:05:56.210759Z"
=======
     "iopub.execute_input": "2023-01-12T10:00:54.209158Z",
     "iopub.status.busy": "2023-01-12T10:00:54.209070Z",
     "iopub.status.idle": "2023-01-12T10:00:54.246016Z",
     "shell.execute_reply": "2023-01-12T10:00:54.245754Z"
>>>>>>> master-holder
=======
     "iopub.execute_input": "2023-01-13T18:33:57.431050Z",
     "iopub.status.busy": "2023-01-13T18:33:57.430946Z",
     "iopub.status.idle": "2023-01-13T18:33:57.472624Z",
     "shell.execute_reply": "2023-01-13T18:33:57.472339Z"
>>>>>>> master-holder
    }
   },
   "outputs": [],
   "source": [
    "# Load trained models\n",
    "\n",
    "MODELS = pickle.load(open(\"../data/MODELS\", \"rb\"))  # dict with names and trained models\n",
    "models = MODELS"
   ]
  },
  {
   "cell_type": "markdown",
   "metadata": {},
   "source": [
    "## Accuracies on train and test sets"
   ]
  },
  {
   "cell_type": "code",
   "execution_count": 5,
   "metadata": {
    "execution": {
<<<<<<< HEAD
<<<<<<< HEAD
     "iopub.execute_input": "2023-01-06T13:05:56.212732Z",
     "iopub.status.busy": "2023-01-06T13:05:56.212624Z",
     "iopub.status.idle": "2023-01-06T13:05:56.214351Z",
     "shell.execute_reply": "2023-01-06T13:05:56.214101Z"
=======
     "iopub.execute_input": "2023-01-12T10:00:54.248368Z",
     "iopub.status.busy": "2023-01-12T10:00:54.248141Z",
     "iopub.status.idle": "2023-01-12T10:00:54.250084Z",
     "shell.execute_reply": "2023-01-12T10:00:54.249815Z"
>>>>>>> master-holder
=======
     "iopub.execute_input": "2023-01-13T18:33:57.474394Z",
     "iopub.status.busy": "2023-01-13T18:33:57.474296Z",
     "iopub.status.idle": "2023-01-13T18:33:57.476037Z",
     "shell.execute_reply": "2023-01-13T18:33:57.475776Z"
>>>>>>> master-holder
    }
   },
   "outputs": [],
   "source": [
    "NB_FOLD = 5"
   ]
  },
  {
   "cell_type": "code",
   "execution_count": 6,
   "metadata": {
    "execution": {
<<<<<<< HEAD
<<<<<<< HEAD
     "iopub.execute_input": "2023-01-06T13:05:56.215787Z",
     "iopub.status.busy": "2023-01-06T13:05:56.215684Z",
     "iopub.status.idle": "2023-01-06T13:05:56.377357Z",
     "shell.execute_reply": "2023-01-06T13:05:56.377035Z"
=======
     "iopub.execute_input": "2023-01-12T10:00:54.251682Z",
     "iopub.status.busy": "2023-01-12T10:00:54.251584Z",
     "iopub.status.idle": "2023-01-12T10:00:54.414706Z",
     "shell.execute_reply": "2023-01-12T10:00:54.414426Z"
>>>>>>> master-holder
=======
     "iopub.execute_input": "2023-01-13T18:33:57.477445Z",
     "iopub.status.busy": "2023-01-13T18:33:57.477353Z",
     "iopub.status.idle": "2023-01-13T18:33:57.642154Z",
     "shell.execute_reply": "2023-01-13T18:33:57.641851Z"
>>>>>>> master-holder
    }
   },
   "outputs": [
    {
     "name": "stdout",
     "output_type": "stream",
     "text": [
      "----- Model: clf_lr -----\n",
      "Accuracy on the train set with cross-validation: \n",
      " - 0.72 with a standard deviation of 0.01\n",
      "Accuracy on the test set: \n",
      " - 0.72\n",
      "----- Model: clf_kn -----\n",
      "Accuracy on the train set with cross-validation: \n",
      " - 0.76 with a standard deviation of 0.01\n",
      "Accuracy on the test set: \n",
      " - 0.73\n",
      "----- Model: clf_dt -----\n",
      "Accuracy on the train set with cross-validation: \n",
      " - 0.71 with a standard deviation of 0.01\n",
      "Accuracy on the test set: \n",
      " - 0.71\n",
      "----- Model: clf_cnb -----\n",
      "Accuracy on the train set with cross-validation: \n",
<<<<<<< HEAD
      " - 0.62 with a standard deviation of 0.01\n",
      "Accuracy on the test set: \n",
      " - 0.61\n"
     ]
<<<<<<< HEAD
    },
    {
     "name": "stderr",
     "output_type": "stream",
     "text": [
      "/Users/melinaverger/Desktop/exp2/env/lib/python3.10/site-packages/sklearn/neighbors/_classification.py:237: FutureWarning: Unlike other reduction functions (e.g. `skew`, `kurtosis`), the default behavior of `mode` typically preserves the axis it acts along. In SciPy 1.11.0, this behavior will change: the default value of `keepdims` will become False, the `axis` over which the statistic is taken will be eliminated, and the value None will no longer be accepted. Set `keepdims` to True or False to avoid this warning.\n",
      "  mode, _ = stats.mode(_y[neigh_ind, k], axis=1)\n",
      "/Users/melinaverger/Desktop/exp2/env/lib/python3.10/site-packages/sklearn/neighbors/_classification.py:237: FutureWarning: Unlike other reduction functions (e.g. `skew`, `kurtosis`), the default behavior of `mode` typically preserves the axis it acts along. In SciPy 1.11.0, this behavior will change: the default value of `keepdims` will become False, the `axis` over which the statistic is taken will be eliminated, and the value None will no longer be accepted. Set `keepdims` to True or False to avoid this warning.\n",
      "  mode, _ = stats.mode(_y[neigh_ind, k], axis=1)\n",
      "/Users/melinaverger/Desktop/exp2/env/lib/python3.10/site-packages/sklearn/neighbors/_classification.py:237: FutureWarning: Unlike other reduction functions (e.g. `skew`, `kurtosis`), the default behavior of `mode` typically preserves the axis it acts along. In SciPy 1.11.0, this behavior will change: the default value of `keepdims` will become False, the `axis` over which the statistic is taken will be eliminated, and the value None will no longer be accepted. Set `keepdims` to True or False to avoid this warning.\n",
      "  mode, _ = stats.mode(_y[neigh_ind, k], axis=1)\n",
      "/Users/melinaverger/Desktop/exp2/env/lib/python3.10/site-packages/sklearn/neighbors/_classification.py:237: FutureWarning: Unlike other reduction functions (e.g. `skew`, `kurtosis`), the default behavior of `mode` typically preserves the axis it acts along. In SciPy 1.11.0, this behavior will change: the default value of `keepdims` will become False, the `axis` over which the statistic is taken will be eliminated, and the value None will no longer be accepted. Set `keepdims` to True or False to avoid this warning.\n",
      "  mode, _ = stats.mode(_y[neigh_ind, k], axis=1)\n",
      "/Users/melinaverger/Desktop/exp2/env/lib/python3.10/site-packages/sklearn/neighbors/_classification.py:237: FutureWarning: Unlike other reduction functions (e.g. `skew`, `kurtosis`), the default behavior of `mode` typically preserves the axis it acts along. In SciPy 1.11.0, this behavior will change: the default value of `keepdims` will become False, the `axis` over which the statistic is taken will be eliminated, and the value None will no longer be accepted. Set `keepdims` to True or False to avoid this warning.\n",
      "  mode, _ = stats.mode(_y[neigh_ind, k], axis=1)\n",
      "/Users/melinaverger/Desktop/exp2/env/lib/python3.10/site-packages/sklearn/neighbors/_classification.py:237: FutureWarning: Unlike other reduction functions (e.g. `skew`, `kurtosis`), the default behavior of `mode` typically preserves the axis it acts along. In SciPy 1.11.0, this behavior will change: the default value of `keepdims` will become False, the `axis` over which the statistic is taken will be eliminated, and the value None will no longer be accepted. Set `keepdims` to True or False to avoid this warning.\n",
      "  mode, _ = stats.mode(_y[neigh_ind, k], axis=1)\n"
     ]
=======
>>>>>>> master-holder
=======
      " - 0.59 with a standard deviation of 0.01\n",
      "Accuracy on the test set: \n",
      " - 0.58\n"
     ]
>>>>>>> master-holder
    }
   ],
   "source": [
    "for mod_name in models:\n",
    "    print(f\"----- Model: {mod_name} -----\")\n",
    "    scores_train = cross_val_score(models[mod_name], X_train, y_train, cv=NB_FOLD)\n",
    "    print(\"Accuracy on the train set with cross-validation: \\n - %0.2f with a standard deviation of %0.2f\" % (scores_train.mean(), scores_train.std()))\n",
    "    print(f\"Accuracy on the test set: \\n - {round(accuracy_score(y_test, models[mod_name].predict(X_test)), 2)}\")\n",
    "    "
   ]
  },
  {
   "cell_type": "markdown",
   "metadata": {},
   "source": [
<<<<<<< HEAD
<<<<<<< HEAD
    "## Feature importance (FI)"
=======
    "## (Optional) Feature importance (FI)"
>>>>>>> master-holder
=======
    "## (Optional) Feature importance (FI)"
>>>>>>> master-holder
   ]
  },
  {
   "cell_type": "code",
   "execution_count": 7,
   "metadata": {
    "execution": {
<<<<<<< HEAD
<<<<<<< HEAD
     "iopub.execute_input": "2023-01-06T13:05:56.379023Z",
     "iopub.status.busy": "2023-01-06T13:05:56.378916Z",
     "iopub.status.idle": "2023-01-06T13:05:56.526465Z",
     "shell.execute_reply": "2023-01-06T13:05:56.526171Z"
=======
     "iopub.execute_input": "2023-01-12T10:00:54.416341Z",
     "iopub.status.busy": "2023-01-12T10:00:54.416251Z",
     "iopub.status.idle": "2023-01-12T10:00:54.566115Z",
     "shell.execute_reply": "2023-01-12T10:00:54.565804Z"
>>>>>>> master-holder
=======
     "iopub.execute_input": "2023-01-13T18:33:57.643791Z",
     "iopub.status.busy": "2023-01-13T18:33:57.643709Z",
     "iopub.status.idle": "2023-01-13T18:33:57.785821Z",
     "shell.execute_reply": "2023-01-13T18:33:57.785531Z"
>>>>>>> master-holder
    }
   },
   "outputs": [
    {
     "data": {
<<<<<<< HEAD
      "image/png": "iVBORw0KGgoAAAANSUhEUgAAAXIAAAFwCAYAAACl7PACAAAAOXRFWHRTb2Z0d2FyZQBNYXRwbG90bGliIHZlcnNpb24zLjUuMiwgaHR0cHM6Ly9tYXRwbG90bGliLm9yZy8qNh9FAAAACXBIWXMAAAsTAAALEwEAmpwYAAArX0lEQVR4nO3deZhkZXn+8e/N5sgyKjAgq4NClMUZlkEUFRTQn8oouCICIlHRhCgqCcHgviRREiNgIqIIgiiIAVdUZFNWZdhkGY0oCIMo47ANyM79++OcYmp6qje6us55e+7PddXVdU6dPufp6u6n3vOusk1ERJRrhaYDiIiIiUkij4goXBJ5REThksgjIgqXRB4RUbgk8oiIwiWRR6MkHSPpw2M47jpJLxnh9R9J2r+fsbWRpH0kndV0HNEuSj/yGCtJNwHvsH12w3F8DNjU9r5NxhHRFimRR9QkrdTm80UMJ4k8JkzSkyR9XtIf68fnJT2p6/VDJd1Wv/YOSZa0af3aCZI+VT9fW9IPJN0l6Q5JF0haoX7tJkm7SXoF8C/AXpLulXR1/fr5kt7Rdc13SpovabGk6yVtO0zslnSQpN8Cv633zZV0VR3HxZJmdR2/raQr6/OeJunUrvhfImmBpH+W9CfgeEkrSDpM0u8kLZL0LUlr1sdPk/T1ev9dki6TtG792tsk/b6+zo2S9unaf2FXPDvW33d3/XXHrtfOl/RJSRfV5zlL0toT+V1HOyWRRz8cDjwf2BqYDTwP+BBAnXg/AOwGbAq8ZITzHAIsAGYA61Il7KXq/mz/GPhX4FTbq9uePfQkkt4IfAx4KzAdeA2waITr7gnsAGwhaRvgq8C7gLWALwHfqz+sVgHOAE4A1gS+Cbx2yLmeXr/2DOBA4D31+XcG1gfuBP67PnZ/4CnARvW13g3cL2k14CjglbbXAHYErurxc64J/LA+di3gc8APJa3VddhbgAOAdYBVgH8c4X2IQiWRRz/sA3zC9u22FwIfB/arX3sTcLzt62z/lSrBDudhYD3gGbYftn2Bn1gjzjuAz9q+zJUbbP9hhOP/zfYdtu+nSr5fsv0L24/a/hrwINUH1fOBlYCj6vhOB3455FyPAR+1/WB9vncDh9teYPvB+ud/Q13t8jBVAt60vtbltu/pOs9Wkp5s+zbb1/WIe3fgt7ZPsv2I7W8CvwZe3XXM8bb/r47lW1QftjHFJJFHP6wPdCfKP9T7Oq/d0vVa9/OhjgBuAM6qqxUOe4LxbAT8bhzHd8f0DOCQuqrjLkl31edbv37cOuTDZejPs9D2A0POd0bXueYDj1LdcZwE/AQ4pa52+qyklW3fB+xF9SFwm6QfSnpOj7iHvu/U2xt0bf+p6/lfgdV7vwVRsiTy6Ic/UiWsjo3rfQC3ARt2vbbRcCexvdj2IbafSVUd8gFJu/Y6dJR4bgGeNWrUvc93C/Bp20/teqxal3ZvAzaQpK7jh/48Q2O7haqKpPt802zfWpfqP257C6rqk7lU1UHY/ontl1Hdofwa+HKPuIe+71C997eO/UePqSCJPMZr5bqRrvNYiaqu+EOSZtSNaR8Bvl4f/y3gAEmbS1oVGLbPeN3IuGmdKO+mKrk+1uPQPwMzOw2hPXwF+EdJ26myqaShCW84XwbeLWmH+ntXk7S7pDWAS+qY/kHSSpL2oGoPGMkxwKc716/foz3q5y+V9FxJKwL3UFW1PCZpXUl71HXlDwL3DvM+nAn8jaS31PHsBWwB/GCMP2tMEUnkMV5nAvd3PT4GfAqYB/wKuAa4ot6H7R9RNcadR1Vtcml9ngd7nHsz4GyqxHUJ8D+2z+tx3Gn110WSrhj6ou3TgE8D3wAWA9+haoAcle15wDuBL1A1TN4AvK1+7SHgdcDbgbuAfamSZq+fpeNI4HtU1UWLqX7+HerXng58myqJzwd+RlXdsgJVA/EfgTuoGkr/rkesi6hK8YdQNeYeCsy1/Zex/KwxdWRAUAyUpM2Ba4En2X6k6XgmStIvgGNsH990LLH8Sok8Jp2k19bd954GfAb4fqlJXNLOkp5eV2XsD8wCftx0XLF8SyKPQXgXcDtVT5JH6VFNUJBnA1dTVa0cArzB9m2NRhTLvVStREQULiXyiIjCNTKpz9prr+2ZM2c2cemIiGJdfvnlf7E9Y+j+RhL5zJkzmTdvXhOXjogolqSeU02kaiUionBJ5BERhUsij4goXFYwiYjiPPzwwyxYsIAHHnhg9IMLNG3aNDbccENWXnnlMR2fRB4RxVmwYAFrrLEGM2fOZOnJKMtnm0WLFrFgwQI22WSTMX1PqlYiojgPPPAAa6211pRL4gCSWGuttcZ1t5FEHhFFmopJvGO8P1sSeURE4VqdyKX+PyJi6ikxTzz44IPstttubL311px66qkTOlcaOyMiGnDllVcCcNVVV034XK0ukUdEtNWJJ57IrFmzmD17Nvvttx833XQTu+yyC7NmzWLXXXfl5ptvBmDhwoW8/vWvZ/vtt2f77bfnoosu4vbbb2ffffflsssuY+utt+Z3vxvPWuE92B74Y7vttvNYQP8fEVG+66+/fqntQeeJa6+91ptttpkXLlxo2160aJHnzp3rE044wbZ93HHHeY899rBt77333r7gggts23/4wx/8nOc8x7Z93nnneffddx/zz1j9nMxzj5yaqpWIiHE699xzeeMb38jaa68NwJprrskll1zC6aefDsB+++3HoYceCsDZZ5/N9ddf//j33nPPPdx77719jSeJPCJiEj322GNceumlTJs2bdKukTryiIhx2mWXXTjttNNYtGgRAHfccQc77rgjp5xyCgAnn3wyL37xiwF4+ctfztFHH/349/ajcXOolMgjoniDXrFyyy235PDDD2fnnXdmxRVXZJtttuHoo4/mgAMO4IgjjmDGjBkcf/zxABx11FEcdNBBzJo1i0ceeYSddtqJY445pq/xNLJm55w5czyWhSUmoz9nliiNKN/8+fPZfPPNmw5jUvX6GSVdbnvO0GNTtRIRUbgk8oiIwiWRR0SRmqgWHpTx/mxJ5BFRnGnTprFo0aIpmcxdz0c+nu6KY+61IumrwFzgdttb1fvWBE4FZgI3AW+yfec4Yo6IGLcNN9yQBQsWsHDhwqZDmRSdFYLGajzdD08AvgCc2LXvMOAc2/8u6bB6+5/Hcc6IiHFbeeWVx7x6zvJgzFUrtn8O3DFk9x7A1+rnXwP27E9YERExVhOtI1/X9m318z8B6w53oKQDJc2TNG+q3g5FRDShb42d9cxcw7Y82D7W9hzbc2bMmNGvy0ZELPcmmsj/LGk9gPrr7RMPKSIixmOiifx7wP718/2B707wfBERMU5jTuSSvglcAjxb0gJJbwf+HXiZpN8Cu9XbERExQGPufmh772Fe2rVPsURExBOQkZ0REYVLIo+IKFwSeURE4ZLIIyIKl0QeEVG4JPKIiMIlkUdEFC6JPCKicEnkERGFSyKPiChcEnlEROGSyCMiCpdEHhFRuCTyiIjCJZFHRBQuiTwionBJ5BERhUsij4goXBJ5REThksgjIgqXRB4RUbi+JHJJ75d0naRrJX1T0rR+nDciIkY34UQuaQPgvcAc21sBKwJvnuh5IyJibPpVtbIS8GRJKwGrAn/s03kjImIUE07ktm8F/gO4GbgNuNv2WUOPk3SgpHmS5i1cuHCil42IiFo/qlaeBuwBbAKsD6wmad+hx9k+1vYc23NmzJgx0ctGREStH1UruwE32l5o+2HgdGDHPpw3IiLGoB+J/Gbg+ZJWlSRgV2B+H84bERFj0I868l8A3wauAK6pz3nsRM8bERFjs1I/TmL7o8BH+3GuiIgYn4zsjIgoXBJ5REThksgjIgqXRB4RUbgk8oiIwiWRR0QULok8IqJwSeQREYVLIo+IKFwSeURE4ZLIIyIKl0QeEVG4JPKIiMIlkUdEFC6JPCKicEnkERGFSyKPiChcEnlEROGSyCMiCpdEHhFRuCTyiIjC9SWRS3qqpG9L+rWk+ZJe0I/zRkTE6Fbq03mOBH5s+w2SVgFW7dN5IyJiFBNO5JKeAuwEvA3A9kPAQxM9b0REjE0/qlY2ARYCx0u6UtJXJK029CBJB0qaJ2newoUL+3DZiIiA/iTylYBtgS/a3ga4Dzhs6EG2j7U9x/acGTNm9OGyEREB/UnkC4AFtn9Rb3+bKrFHRMQATDiR2/4TcIukZ9e7dgWun+h5IyJibPrVa+U9wMl1j5XfAwf06bwRETGKviRy21cBc/pxroiIGJ+M7IyIKFwSeURE4ZLIIyIKl0QeEVG4JPKIiMIlkUdEFC6JPCKicEnkERGFSyKPiChcEnlEROGSyCMiCpdEHhFRuCTyiIjCJZFHRBQuiTwionBJ5BERhUsij4goXBJ5REThksgjIgqXRB4RUbgk8oiIwvUtkUtaUdKVkn7Qr3NGRMTo+lkiPxiY38fzRUTEGPQlkUvaENgd+Eo/zhcREWPXrxL554FDgceGO0DSgZLmSZq3cOHCPl02IiImnMglzQVut335SMfZPtb2HNtzZsyYMdHLRkRErR8l8hcCr5F0E3AKsIukr/fhvBERMQYTTuS2P2h7Q9szgTcD59red8KRRUTEmKQfeURE4Vbq58lsnw+c389zRkTEyFIij4goXBJ5REThksgjIgqXRB4RUbgk8oiIwiWRR0QULok8IqJwSeQREYVLIo+IKFwSeURE4ZLIIyIKl0QeEVG4JPKIiMIlkUdEFC6JPCKicEnkERGFSyKPiChcEnlEROGSyCMiCpdEHhFRuCTyiIjCTTiRS9pI0nmSrpd0naSD+xFYRESMzUp9OMcjwCG2r5C0BnC5pJ/avr4P546IiFFMuERu+zbbV9TPFwPzgQ0met6IiBibvtaRS5oJbAP8osdrB0qaJ2newoUL+3nZiIjlWt8SuaTVgf8F3mf7nqGv2z7W9hzbc2bMmNGvy0ZELPf6ksglrUyVxE+2fXo/zhkREWMz4cZOSQKOA+bb/tzEQ4rJIvX/nHb/zxkR49OPEvkLgf2AXSRdVT9e1YfzRkTEGEy4RG77QmASynoRETEWGdkZEVG4JPKIiMIlkUdEFC6JPCKicEnkERGFSyKPiChcEnlEROGSyCMiCpdEHhFRuCTyiIjCJZFHRBQuiTwionBJ5BERhUsij4goXBJ5REThksgjIgqXRB4RUbgJrxAUsbzKGqjRFimRR0QULok8IqJwfUnkkl4h6TeSbpB0WD/OGRERYzPhRC5pReC/gVcCWwB7S9pioueNiIix6UeJ/HnADbZ/b/sh4BRgjz6cNyIixqAfiXwD4Jau7QX1voiIGICBdT+UdCBwIMDGG288pu8ppStWKd3Q8n62/5yToZT3s99xlhAj9CfOfpTIbwU26tresN63FNvH2p5je86MGTP6cNmIiMGy+//oh34k8suAzSRtImkV4M3A9/pw3oiIGIMJV63YfkTSPwA/AVYEvmr7uglHFhERY9KXOnLbZwJn9uNcEbF8KqXNoY0ysjMionCZNCtaJyWz/sr7OfWlRB4RUbgk8oiIwiWRR0QULok8IqJwSeQREYVLIo+IKFwSeURE4ZLIIyIKl0QeEVG4JPKIiMIlkUdEFC6JPCKicEnkERGFSyKPiChcEnlEROGSyCMiCpdEHhFRuCTyiIjCJZFHRBRuQolc0hGSfi3pV5LOkPTUPsUVERFjNNES+U+BrWzPAv4P+ODEQ4qIiPGYUCK3fZbtR+rNS4ENJx5SRESMRz/ryP8W+NFwL0o6UNI8SfMWLlzYx8tGRCzfVhrtAElnA0/v8dLhtr9bH3M48Ahw8nDnsX0scCzAnDlz/ISijYiIZYyayG3vNtLrkt4GzAV2tZ0EHRExYKMm8pFIegVwKLCz7b/2J6Ty5OMrIpo00TryLwBrAD+VdJWkY/oQU0REjMOESuS2N+1XIBER8cRkZGdEROGSyCMiCpdEHhFRuCTyiIjCJZFHRBQuiTwionBJ5BERhVMTo+olLQT+0OfTrg38pc/nnAyJs39KiBESZ78tz3E+w/aMoTsbSeSTQdI823OajmM0ibN/SogREme/Jc5lpWolIqJwSeQREYWbSon82KYDGKPE2T8lxAiJs98S5xBTpo48ImJ5NZVK5BERy6Uk8oiIwiWRR0QUruhELmm7HvvmNhFLRCy/JK0o6f2NXb/kxk5JVwBvtX1tvb038D7bOzQb2dIkvRC4yvZ9kvYFtgWOtN3v0a1TmqQ1R3rd9h2DimU4kq4Bhv2nsj1rgOGMqoS/TUmXA18FvmH7zqbjGY6kX9p+XiPXLjyRPxP4NvAW4MXAW4G5tu9uNLAhJP0KmA3MAk4AvgK8yfbOTcY1lKTXAZ8B1gFUP2x7eqOB1STdSJUkBWwM3Fk/fypws+1NmouuIukZ9dOD6q8n1V/3AbB92MCDGkEJf5uSNgUOAPYC5gHHA2e5ZclL0n8BKwOnAvd19tu+YtKv3bL3Ytwk/Q3wHeBm4LW27282omVJusL2tpI+Atxq+7jOvqZj6ybpBuDVtuc3HctIJH0ZOMP2mfX2K4E9bb+r2ciWkHSl7W2G7Gvj77yIv00ASSsAc4EvAo9SJfQj23AnBiDpvB67bXuXyb72hBZfbkqP29c1gRWBX0hq3e0rsFjSB4F9gZ3qP8iVG46plz+3PYnXnm/7nZ0N2z+S9NkmA+pBkl5o+6J6Y0fa2SZVxN+mpFlUpfJXAf8LnAy8CDgX2Lq5yJaw/dKmrl1kIqf6VC7JXlTVP2+3/SdJGwNHNBxTL/MknUp1h/NgZ6ft0xuLqLc/SvoQ8PV6ex/gjw3G08vbga9KegpV9c+dwN82G1JPrf/brOvI7wKOAw6z3fnb/EVdx98KktYF/hVY3/YrJW0BvMD2cZN97SITeachRtLzgetsL663pwOb0/8pcifq/bb/ubNh+2ZJWzYZ0DCmA38FXt61z0DbEvnewEeBM+rtn9f7WsP25cDsOpHTtnabLiX8bb7R9u+7d0jaxPaNtl/XVFA9nEBV3XN4vf1/VPXlk57Ii64jl3QlsG2n0aO+LZzXtvq9XnWOkn7Vwiqg6BNJTwJeD8ykq8Bk+xNNxdRLCX+bw8R4ue1luh83SdJltrfvbh+RdJXtrSf72kWWyLuou+Xa9mOSWvMzSfo74O+BZ9a9AzrWAC5qJqrhSdoQOBro3K5eABxse0FzUS2rbuD+R5ZNkpPeqDQO3wXuBi6nq5qqLUb527y4maiWJuk5wJbAU+oeVR3TgWnNRDWi+yStRd1+V9cYDOROrPQS+enA+VSt2FD9Yb7U9p5NxdStvq1+GvBvQHe3s8VtaWnvJumnwDdY0mVuX2Af2y9rLqplSboaOIYqST7a2V9XZ7SCpGttb9V0HMMp4W9T0h7AnsBrgO91vbQYOMV2Kz5wOiRtS1UQ2gq4FpgBvMH2r0b8xn5cu/BEvg5wFLAL1afgOVQDgm5vNLAe6l/yi6jivGgQfUvHq9dt4KBuDcejjbfVQ0k6Fjja9jVNx9KLpOm27xlukFVbkjmApBfYvqTpOMairhF4NlUD929sPzyQ65acyEsh6cPAm1jSaLgncJrtTzUWVA+SzqFqrPlmvWtv4ADbuzYX1bIkfQy4naqxs7t3TZuSz/XApsCNVDF2Ble1ou5Z0g9szx0yyKrDtp/ZUGiPk3So7c9KOpoeo2Vtv7eBsJYxpNpnGYPo9VVkIi/lF9wh6TfAbNsP1NtPphoW/exmI1taPSrxaOAFVO/rxcB7bd/caGBD1MlnqFYkn46uEZ5LadPQ97aT9Grb35e0f6/XbX9t0DH1Iun4+uk6wI5UfdsBXgpcbHvSu0u3pmFwnDqDVuY1GsXY/ZGqceaBevtJwK3NhdNbnWRe03Qco2nDUPzRdHWRXYcWNszVVX3DakPVn+3v119bkbCHY/sAAElnAVvYvq3eXo+qS+KkK7JEXhpJ3wG2B35KVdJ9GfBLYAE0fwdR2h0OgKStgC3oSpK2T2wuoqVJeg3wn8D6VNVAzwDm225FH+2u4eTTgDnA1VTVK7OouvC+oKnYOiR9n5EnIGtVoUPSfNubd22vQDXOZfMRvq0viiyRl/YLpqrLPaNr+/yG4hhOUXc4kj4KvIQqkZ8JvBK4EGhNIgc+CTwfONv2NpJeStULqBU6w8nrnl/bdhpl6w/IjzUYWrf/aDqAcTpH0k9Y0sa0F3D2IC5cZIlc0ogzs9n+2aBimUokvdH2aaPta1o9185s4Erbs+uh0V9vUzdJSfNsz6m7Sm5Tj3G42vbspmPrJum6oXcJvfbF2NQNny+uN39u+4yRju+XIkvknUQtaTXgftuP1dsrUtU/t4qqxS4+SXV7vRItmx62yweBoUm7176m3V8nxkfqaRluBzZqOqgh7pK0OtWgqpMl3U7X1KYt8itJX2HpeWsmvd/zWEj6lu039Zgkr1U9gLrVPVQGPqVFkSXyDkmXArvZvrfeXp1qnuIdm41saaqmh30dcI1b+Iarmgb2VVRdJE/temk6VeNNI5PlD0fS/wD/ArwZOAS4l6oX0AGNBtalLmQ8QJV09gGeApxse1GjgQ0haRrwd8BO9a6fA1/s9LBqkqT1bN9WSg8gNTiff+mJvJQBLOcBu3buHNpG0myqqUA/AXyk66XFwHlu96osM4Hpgxg9N16Sng48j6o0eZntPzUcUk91d9iNbf+m6ViGU8J7qQbn8y+yaqXLfZK27XSVUrWGZ+sWlgAOBc6U9DOWHsDyueZCWsL21cDVkr4xqJFoE1WXfjojZS+kJdUBHZLeQfWheC5VyexoSZ+w/dVmI1ta3bvmCGAVYBNJWwOfaFOHgVLeSxqcz7/0Evn2wClU/bQFPB3Yq01zbsDj/UvvBa4BHi+V2/54Y0H1IGkzqrk3hnbra81AG3i8amVTlu4d8DvbBw3/XYNVDwLbsVOVUk+mdHELB4FdTjXFxfleMmPfNbaf22xkSxT0Xh5JlYO+w4Dn8y+6RG77snqGtM4vdKm5DSS9zPZPm4luKeu7xRModTmeap7v/6IalXYA7VzVZhdg8057g6SvAdc1G9IyFlFVTXUsrve1zcO275a6R+gP37W3IaW8l43N5190IgeoE/e1w7z8GapBOE07U9LLbZ/VdCCjeLLtcySpbkj6WF1i+8ho3zhgN1Atvtxp7Nqo3tc4SR+on95AtYLNd6n+mfegZdU/teskvQVYsb4jey/tmca2qPeyycb24hP5KDT6IQPxd8A/SnoIeIj2dj98sB6N9ltJ/0A1jcDqDcf0uK6BYGsA8yX9st7egWqkbBusUX/9Xf3o+G4DsYzFe6hWtHmQagrjnwBtmcytqPdS1Tz5XwTWtb2VqnVGXzOIyfGKriMfjVq6Gnhb1W0O84GnUvV7nw4cYfvSJuPqmEoDwSQdbfs9DcewItXI08YWDZ5K6s4M/wR8qau9YSDz0k/1EnkrqKqA3AfYxPYnJW0ErGe7LaVIoGpzqJ/eS1U/3ipjTdSSLmnDXCGjaHzRYNuPSnpM0lPc3jVFkTSDqufXlizdCN+mFaEAVrX9yyHtDY8M4sJtbMjqp5uaDqD2P1RTw76l3r4X+O/mwulN0k8lPbVr+2n13BGlad1sgy12L3CNpOMkHdV5NB3UECcDvwY2AT5O9X992Ujf0JC/SHoWS5Z6ewNw2yAuXHSJvL413J1l1278XP21LSts72B7W1WLRWP7TkmrNB1UD2vbvquzUce5ToPxPFFTt76w/xoZUj5Oa9k+TtLB9V3ZzyS1MZEfBBwLPEfSrVSLiuwziAsXnciB71MNg16qf3YLPVx/6HQ+qWfQzngfk7Sx64Uk6qHRSYqToy0N8d8GHrD9KLR2vqJOl+LbJO1ONW6k5xJ1DduTajbO86hqO+4DdlO1NOFVk3nh0hP5hm2cOKeHo6imsV1H0qeBNwAfbjakng4HLqwbbUQ1i9uBzYb0hLQlSSJpVdt/7fHSkQMPprdzgN2oqlgAngycRbXSTVt8StVi0YdQrWA1HXh/syH1NKd+fI/qb3Bfqm6S75Z0mu3PTtaFi+61IukzwDkF9M+mHri0K9Uv+JymhvKORtLaVPNoA1xq+y9NxvNESNrK9nBjCwYVw47AV4DVbW9cz2fzLtt/32RcQ5UyX1EJJP0ceNWQSfx+CLwCuNz2FpN17dIbOy8FzpB0v6R7JC2WdE/TQQ0l6STbv7b937a/YHu+pJOajmsoSTtRDc+/p35sUe9rhc7vd7hH57imk3jtv4D/Rz0CsZ7PpjXvZZf71LXsWxvnK5L0WUnTJa0s6RxJCyW1ZpGOLuvQNTSfqkpoXdv3D9nfd6VXrXyOqjdIK6eH7TJ04v4Vge0aimUk/9T1fBrVbHOduTgaZ3sNAEmfpOoNcBJLpoldr8HQerJ9y5CuaI82FcsI3gecJmmp+YoajWhZL7d9qKTXUvVYeR3VdLtfH/G7Bu9kloxABXg18A1VUxpfP5kXLj2R3wJc29YkLumDVPNmP7mrxCiq0Z1fbiywYdh+dfd23d/9881EM6LXeOmVdr6oaiWeNk0lcEtdvWJJKwMHs2RJvdYoZL6iTp7aHTitx9wwrVCPEfkRS8YIvNt2Z/nESe29Unod+QnAM4Ef0cLpYTsk/ZvtDzYdx3jVA5mum8y6vSdC0sVU/fBPoepVszdwUJsWFKnbGo6kakgUVQPiwW1bWGI0bRgdLenfqXqE3E91l/hU4Ae2d2gwrFYpvUR+Y/1YpX601TIr7Eg6x/auTQQzHElHs6S74QpUi01c0VhAw3sLVZI8kirei1gy2KoV6kbigfQhnmSNF31tHybps8Dd9WjU+6gmzopa0Ym8bfN5D6VqGa3VgLUlPY0l/xTTgQ0aC2x487qePwJ80/ZFTQUzHNs30fJ/5GFGR94NzLPdykmfhtHYLbukXWyfq2oRkc6+7kPaPpBpYIpO5KqWUFvmD61FczC8i6oxaX2qRsPOX+E9wBcaimlYtr/WdAxjIWkTqln7ZrL0iN7WrGpD1Vj8HJYsXP16qrvH2ZJeavt9TQVWkJ2oVgV6NdX/uYZ8TSKvlV5H3t3zYxrVP8sjtg9tKKSeJL3H9tFNxzEcLbtK+VLaNuiqbtg8jmVXXGrN7IeqFgZ/YdeIyZWAC6iWp7umbe0Ow5F0elNTXUg6hGUTOPXz1rWFNanoEnmPJd0uUjVHdavYPlrSViy7hNqJzUW1lLn1185SaZ0+7vvSziH6D9hu28ROQz2Nai73zqyCqwFr1nW8k9qneCy6qyt66SxP1vB8RZ258J8NbE81D7moSuit+z9vUukl8u75FlagGh57ZAvX8vso8BKqRH4m8ErgQttvaDKuoSRd2ZlHuWtf470WhlK1os1mVD1BunsrtaZhVtLbgQ8B51Mln52Af6VaZ/Rjtv9p+O+efJKOr5+uQzUc/9x6+6VU62HO7fmNDahHTO5ue3G9vQbwQ9ttHGDViKJL5FT1zp1broepBgu8vcmAhvEGYDZwpe0DJK1L+wYzQNXj8IWdBs66H3QbR/8+F9iPaqBSp2rFtGTgEkA9W9+PqOKcT/Whs8D2fSw98KoRnWXJVC0MvoXt2+rt9YATGgytl3Wpxl50PFTvi1rpifyfgR/bvkfSh4FtqRY/bZv7bT8m6RFJ04HbqdaZbJu3A1+tJygCuAv42+bCGdYbgWfafmjUIxsi6R1Ug4A2BK6imr/mElr0YVPbqJPEa3+mWg+1TU4EfinpjHp7T9r3YdOo0hP5h2x/S9KLqP5B/oNqzby2DRSYp2rBhi9T3UXcS/VP3Sp1m8PsTiJv8aox11INCrm94ThGcjBVve6ltl9aj57814Zj6uUcVYuHfLPe3gs4u8F4lmH70/XdzYvrXQfYvrLJmNqm9DryK21vI+nfqHoCfKNXPW+bSJoJTLf9q659W9q+rrmoHo9jXapks77tV0raAniB7eMaDm0pks4HZlGtEtNdR96a7oeSLrO9vaSrqBYWeVDSdba3HO17B62ew6RT3/xz22eMdHy0T+kl8lslfQl4GfAZSU+inXW6j6sHswx1ElW1UNNOAI6nmpcc4P+AU6m6+rXJR5sOYAwW1Hdh3wF+KulO4A+NRjS8K4DFts+WtKqkNToNi1GG0kvkq1LN9XuN7d/WDTXPLWF+8m5tuYvoKkU+Ho8yN/WESdoZeApVe06r6vUlvZNq8ZA1bT9L0mbAMW2bPiJGVnSJ3NXKK6d3bd/GgBY77bO2fJreJ2ktlixJ93yW9INunKQLbb9I0mKWfs8E2Pb0hkIbUZsGKvVwENVcQL8AqAtEJa7TulwrOpFH332AapmqZ0m6CJhB1XWyFWy/qP66RtOxTCEP2n6oM4dJPQK1LQWLGKMk8nZoxe227SvqaoBnU5Vy2zg3dfTXzyR15sx/GfD3VIuaR0GKriMvhaTvU3Xv+m49IKRIbRzlGRMjaQWq8QMvp/rw/gnwlbYu1hK9JZEPQF3K3YtqhZPLqBZE+IHtBxoNbJza0igbEUtLIh+geq3OXYB3Aq9oa+PccFIinzokfcv2m4ab+bJtM17GyFJHPiCSnkw1a9teVH3Gi5j7O6asg+uvrZkcK564JPIBkPQtqi5eP6ZaUOJnth8b+bsGT9KTbD84wr6bBh9VTIbO/Cq22zpIKcYhVSsDIOn/AWd3Fhloq15VJ6lOmZp69MVfSmnVfsu7lMgH4wLgg5I2tn1gPXru2bZ/0HRgAJKeTrWG6JMlbcPSa4uu2lhgMWk6ffElfZJqEN1JVL/3fYD1GgwtnoCUyAdA0qlUsx6+1fZW9dQCF7dl6Luk/YG3US3McRlLEvli4ITOajEx9Ui62vbs0fZFu6VEPhjPsr2XpL2hmlpAQ5YDb1K96PLXJL3e9v82HU8M1H2S9qHqEmtgb6DYsQ7Lq1bPFDiFPFT3WunMYfIsuqZfbZENJU1X5SuSrpD08qaDikn1FuBNVAtK/Jlq0Y63NBpRjFuqVgagHvr8Iao1O88CXgi8zfb5TcY1VOeWum6cfTdVzCelsTOi3VK1MsnqIdBPA15HtdyXgINt/6XRwHrrVPe8CjjR9nVtqgKK/qsXYe41IKiNS/zFMFIiHwBJ82zPaTqO0dT/1BsAm1AtFr0icL7t7RoNLCaNpNd3bU4DXgv80fZ7GwopnoAk8gGQ9O/AX6hW23m8Icn2HY0F1UN997A18Hvbd9Vzk2/QvSxdTG3138CFtndsOpYYu1StDMZe9deDuvYZeGYDsYzEVPX4c4FPAKtRldJi+bEZkIUlCpMSeTxO0heBx4BdbG8u6WnAWba3bzi0mCQ9Rnj+CfhguqGWJSXyAZA0jWrC/hdR/dNcQLUuYtumsd3B9raSrgSwfaekVZoOKiZPVluaGtKPfDBOBLYEjqaaNGtLqiHRbfNwPdVup7/7DKoSekxRks4Zy75ot5TIB2Mr21t0bZ8n6frGohneUcAZwDqSPk21XueHmg0pJkN9l7gqsHZdhdY9v84GjQUWT0gS+WBcIen5ti8FkLQDMK/hmJZh+2RJlwO7Uv1j72l7fsNhxeR4F/A+YH2qeYBEdSe2mOrOMQqSxs4BkDSfakHjm+tdGwO/AR4B3KbVWOqqlXXp+pC3ffPw3xElk/QR4PO275H0YapFTz5p+4qGQ4txSCIfAEnPGOWQe2zfOZBgRiDpPcBHqebceJS6lNamD5roL0m/sj1L0ouATwL/AXzE9g4NhxbjkKqVARhtFRZJV1CVhJp2MNU86YuaDiQGprPYye7Al23/UNKnmgwoxi+9VtqhLfOZ3ALc3XQQMVC3SvoS1aC1MyU9ieSF4qRqpQWaXk5N0gfqp1tS1eX/kK5pdm1/rom4YvLVi5y8ArjG9m8lrQc81/ZZDYcW45CqlQDoDAq5uX6sUj9iirP9V+D0ru3bqJZ+i4KkRD6JJG1i+8YxHHel7W0GEVNETD1J5JNI0uW2t5N0ju1dRzhuzTbMhCjp+yw7N/XdVH3ev9TCKQUiglStTLYVJP0L8Ddd9dCP69Q9tyGJ134PzAC+WW/vRTVA5G+ALwP7NRRXRIwgiXxyvRnYk+p9LmFyoh2HzHT4fUmX2d5e0nWNRRURI0oin0S2fwN8ph508aOm4xmD1SVt3BnJKWljYPX6tYeaCysiRpJEPhgXS/ocsFO9/TPgE7bb1mf7EOBCSb+j6tu+CfD3klYDvtZoZBExrDR2DoCk/wWuZUky3A+Ybft1zUXVWz0g5Dn15m/SwBnRfknkAyDpKttbj7avKZJ2sX2upJ4fLLZP77U/ItohVSuDcb+kF9m+EEDSC4H7G46p287AucCr6+3Op3tnatMk8ogWS4l8ACTNplol6Cn1rjuB/du2On292MDrgZks+ZC37U80FlREjCol8gGwfTUwW9L0evue7tcl7W+7DY2J3wHuAq4AOnXj+aSPaLmUyFug6UmzuuK41vZWTccREeOT6SrboS3T2F4s6blNBxER45OqlXZo9LZI0jV1DCsBB0j6PdU0tlkhKKIASeTt0HSJfG7D14+ICUgib4eLmrz4aEvRRUS7pbFzACQ9FXgrS3frw/Z7GwopIqaQlMgH40zgUuAa4LGGY4mIKSYl8gFoS/fCiJiaksgHQNL7gXuBH7D0osZtWVAiIgqWqpXBeAg4AjicJV0NDTyzsYgiYspIiXwA6n7Zz7P9l6ZjiYipJyM7B+MG4K9NBxERU1OqVgbjPuAqSeexdB15uh9GxIQlkQ/Gd+pHRETfpY48IqJwKZEPgKQb6TExlu30WomICUsiH4w5Xc+nAW8E1mwoloiYYlK10hBJl9veruk4IqJ8KZEPgKTu4fkrUJXQ895HRF8kmQzGf7KkjvwR4Caq6pWIiAlL1coAZHX6iJhMKZEPxndYdnX6iIi+SIl8ALI6fURMpsy1MhhZnT4iJk1K5AMg6XpgU+BGsjp9RPRZEvkASHpGr/1Z9Dgi+iGJPCKicKkjj4goXBJ5REThksgjIgqXRB4RUbj/D9clnDFe13J0AAAAAElFTkSuQmCC\n",
=======
      "image/png": "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",
>>>>>>> master-holder
      "text/plain": [
       "<Figure size 432x288 with 1 Axes>"
      ]
     },
     "metadata": {
      "needs_background": "light"
     },
     "output_type": "display_data"
    },
    {
     "data": {
<<<<<<< HEAD
      "image/png": "iVBORw0KGgoAAAANSUhEUgAAAXQAAAFwCAYAAACo8oBFAAAAOXRFWHRTb2Z0d2FyZQBNYXRwbG90bGliIHZlcnNpb24zLjUuMiwgaHR0cHM6Ly9tYXRwbG90bGliLm9yZy8qNh9FAAAACXBIWXMAAAsTAAALEwEAmpwYAAAs1ElEQVR4nO3debxcdX3/8debAEZlUSBYJECiomyyBlBUqIAWCgIVERBQKUptQalaEatFC7VurRbzoyrKIgiytGCDYtlFAdGERSCktJE1uBDCjmyR9++Pc4bMncy9d264d86Zk/fz8biPO+fMmZnPvcn9zHe+y+cr20RExOBboeoAIiJifCShR0Q0RBJ6RERDJKFHRDREEnpEREMkoUdENEQSejSSpB9Lel8P1z0u6VX9iClioinz0KMqku4CXgEsBv4I3AacDpxk+7kKQ3vByp/tA7YvqzqWWH6khR5Ve4ftVYENgC8CnwROrjakiSdpxapjiOZJQo9asP2I7VnA/sD7JG0GIOlFkv5F0j2Sfi/pm5Je3HqcpL0l3STpUUm/lrRbef4nkj5Q3n6NpKskPSLpAUnntD3ekl5T3l5d0umSFkq6W9JnJK1Q3vd+SVeXsTwk6U5Ju3f7WSSdAawPXFh26RwtaVr5WodJuge4orz2LyXNK5/zYkkbtD3PRpIulfSgpNslvXtcf+nROEnoUSu2fwksAN5Snvoi8FpgS+A1wLrAsQCStqPoovkE8DJgR+CuLk97PHAJ8HJgKjBzmJefCawOvArYCXgvcGjb/dsDtwNrAV8GTpakLj/DIcA9FJ8+VrH95ba7dwI2Bv5M0t7A3wPvBKYAPwO+X/5sLwUuBc4C1gYOAP5d0ibDxB6RhB619BtgjTJZHg581PaDth8D/pkiuQEcBpxi+1Lbz9m+z/b/dHm+Zym6dF5p+ynbV3deIGlS+byfsv2Y7buAfwUOabvsbtvftv1H4LvAOhRjAGPxOdtP2H4S+BDwBdvzbC8uf7Yty1b6nsBdtk+1vdj2jcB/AvuN8fViOZKEHnW0LvAgRav1JcD1kh6W9DDw3+V5gPWAX/fwfEcDAn4paa6kv+xyzVrASsDdbefuLmNp+V3rhu0/lDdX6eH1293bdnsD4IS2n+3BMs51y/u2b91X3n8Q8CdjfL1YjmRgJmpF0rYUCe1q4AHgSWBT2/d1ufxe4NWjPaft3wEfLJ//zcBlkn5qe37bZQ+wpCV/W3lufaDb6/ZiuOlj7efvBT5v+8zOi8pW+lW237aMrx/LobTQoxYkrSZpT+Bs4Hu2bymnLn4b+Jqktcvr1pX0Z+XDTgYOlbSLpBXK+zbq8tz7SZpaHj5EkVSHTIssu1HOBT4vadUyoX4M+N4y/ki/p+iLH8k3gU9J2rSMc3VJrS6VHwKvlXSIpJXKr20lbbyM8cRyIAk9qnahpMcoWqufBr7K0IHITwLzgeskPQpcBrwOnh9APRT4GvAIcBVFC7vTtsAvJD0OzAKOsn1Hl+s+DDwB3EHxCeEs4JRl/Lm+AHym7C75u24X2L4A+BJwdvmz3QrsXt73GPB2in7931B093wJeNEyxhPLgSwsiohoiLTQIyIaIgk9IqIhktAjIhoiCT0ioiEqm4e+1lpredq0aVW9fETEQLr++usfsD2l232VJfRp06YxZ86cql4+ImIgSbp7uPvS5RIR0RBJ6BERDZGEHhHRECnOFRED6dlnn2XBggU89dRTVYcyISZPnszUqVNZaaWVen5MEnpEDKQFCxaw6qqrMm3aNLrsMzLQbLNo0SIWLFjA9OnTe35culwiYiA99dRTrLnmmo1L5gCSWHPNNcf86SMJPSIGVhOTecuy/GxJ6BERDZGEHhGNII3vVz88/fTT7Lrrrmy55Zacc845L/j5BmJQdLx/uSkBHxF1cOONNwJw0003jcvzpYUeEbGMTj/9dDbffHO22GILDjnkEO666y523nlnNt98c3bZZRfuueceABYuXMi+++7Ltttuy7bbbss111zD/fffz8EHH8zs2bPZcsst+fWve9nvfBS2K/naZptt3KuiTT1+XxEx+G677bYhx/3OE7feeqs33HBDL1y40La9aNEi77nnnj7ttNNs2yeffLL33ntv2/aBBx7on/3sZ7btu+++2xtttJFt+8orr/Qee+zR889Y/JzM8TB5tacuF0m7AScAk4Dv2P5ix/1fA95aHr4EWNv2y174201ERD1dccUV7Lfffqy11loArLHGGvz85z/n/PPPB+CQQw7h6KOPBuCyyy7jtttue/6xjz76KI8//vi4xzRqQpc0CTgReBuwAJgtaZbt56Oz/dG26z8MbDXukUZEDKjnnnuO6667jsmTJ0/o6/TSh74dMN/2HbafAc4G9h7h+gOB749HcBERdbXzzjtz3nnnsWjRIgAefPBBdthhB84++2wAzjzzTN7ylrcA8Pa3v52ZM2c+/9jxGgTt1EuXy7rAvW3HC4Dtu10oaQNgOnDFMPcfDhwOsP76648p0IiIkfR79tqmm27Kpz/9aXbaaScmTZrEVlttxcyZMzn00EP5yle+wpQpUzj11FMB+PrXv84RRxzB5ptvzuLFi9lxxx355je/Oe4xyaP8FiS9C9jN9gfK40OA7W0f2eXaTwJTbX94tBeeMWOGe93gItMWI6LTvHnz2HjjjasOY0J1+xklXW97Rrfre+lyuQ9Yr+14anmumwNId0tERCV6SeizgQ0lTZe0MkXSntV5kaSNgJcDPx/fECMiohejJnTbi4EjgYuBecC5tudKOk7SXm2XHgCc7dH6cCIixkmT082y/Gw9zUO3fRFwUce5YzuOPzfmV4+IWEaTJ09m0aJFjSyh67Ie+linOQ5ELZeIiE5Tp05lwYIFLFy4sOpQJkRrx6KxSEKPiIG00korjWk3n+VBinNFRDREEnpEREMkoUdENEQSekREQyShR0Q0RBJ6RERDJKFHRDREEnpEREMkoUdENEQSekREQyShR0Q0RBJ6RERDJKFHRDREEnpEREMkoUdENEQSekREQyShR0Q0RBJ6RERD9JTQJe0m6XZJ8yUdM8w175Z0m6S5ks4a3zAjImI0o+4pKmkScCLwNmABMFvSLNu3tV2zIfAp4E22H5K09kQFHBER3fXSQt8OmG/7DtvPAGcDe3dc80HgRNsPAdi+f3zDjIiI0fSS0NcF7m07XlCea/da4LWSrpF0naTduj2RpMMlzZE0Z+HChcsWcUREdDVeg6IrAhsCfwocCHxb0ss6L7J9ku0ZtmdMmTJlnF46IiKgt4R+H7Be2/HU8ly7BcAs28/avhP4X4oEHxERfdJLQp8NbChpuqSVgQOAWR3X/ICidY6ktSi6YO4YvzAjImI0oyZ024uBI4GLgXnAubbnSjpO0l7lZRcDiyTdBlwJfML2ookKOiIilibblbzwjBkzPGfOnJ6ulcb3tSv6kSMiXjBJ19ue0e2+rBSNiGiIJPSIiIZIQo+IaIgk9IiIhkhCj4hoiCT0iIiGSEKPiGiIJPSIiIZIQo+IaIgk9IiIhkhCj4hoiCT0iIiGSEKPiGiIJPSIiIZIQo+IaIgk9IiIhkhCj4hoiCT0iIiGSEKPiGiIJPSIiIboKaFL2k3S7ZLmSzqmy/3vl7RQ0k3l1wfGP9SIiBjJiqNdIGkScCLwNmABMFvSLNu3dVx6ju0jJyDGiIjoQS8t9O2A+bbvsP0McDaw98SGFRERY9VLQl8XuLfteEF5rtO+km6W9B+S1uv2RJIOlzRH0pyFCxcuQ7gRETGc8RoUvRCYZntz4FLgu90usn2S7Rm2Z0yZMmWcXjoiIqC3hH4f0N7inlqee57tRbafLg+/A2wzPuFFRESveknos4ENJU2XtDJwADCr/QJJ67Qd7gXMG78QIyKiF6POcrG9WNKRwMXAJOAU23MlHQfMsT0L+IikvYDFwIPA+ycw5oiI6EK2K3nhGTNmeM6cOT1dK43va1f0I0dEvGCSrrc9o9t9WSkaEdEQSegREQ2RhB4R0RBJ6BERDZGEHhHREEnoERENkYQeEdEQSegREQ2RhB4R0RBJ6BERDZGEHhHREEnoERENkYQeEdEQSegREQ2RhB4R0RBJ6BERDZGEHhHREEnoERENkYQeEdEQPSV0SbtJul3SfEnHjHDdvpIsqet+dxERMXFGTeiSJgEnArsDmwAHStqky3WrAkcBvxjvICMiYnS9tNC3A+bbvsP2M8DZwN5drjse+BLw1DjGFxERPeoloa8L3Nt2vKA89zxJWwPr2f7RSE8k6XBJcyTNWbhw4ZiDjYiI4b3gQVFJKwBfBT4+2rW2T7I9w/aMKVOmvNCXjoiINr0k9PuA9dqOp5bnWlYFNgN+Iuku4A3ArAyMRkT0Vy8JfTawoaTpklYGDgBmte60/YjttWxPsz0NuA7Yy/acCYk4IiK6GjWh214MHAlcDMwDzrU9V9Jxkvaa6AAjIqI3K/Zyke2LgIs6zh07zLV/+sLDioiIscpK0YiIhkhCj4hoiCT0iIiGSEKPiGiIJPSIiIZIQo+IaIgk9IiIhkhCj4hoiCT0iIiGSEKPiGiIJPSIiIZIQo+IaIgk9IiIhkhCj4hoiCT0iIiGSEKPiGiIJPSIiIZIQo+IaIgk9IiIhkhCj4hoiJ4SuqTdJN0uab6kY7rc/yFJt0i6SdLVkjYZ/1AjImIkoyZ0SZOAE4HdgU2AA7sk7LNsv972lsCXga+Od6ARETGyXlro2wHzbd9h+xngbGDv9gtsP9p2+FLA4xdiRET0YsUerlkXuLfteAGwfedFko4APgasDOzc7YkkHQ4cDrD++uuPNdaIiBjBuA2K2j7R9quBTwKfGeaak2zPsD1jypQp4/XSERFBbwn9PmC9tuOp5bnhnA3s8wJiioiIZdBLQp8NbChpuqSVgQOAWe0XSNqw7XAP4P/GL8SIiOjFqH3othdLOhK4GJgEnGJ7rqTjgDm2ZwFHStoVeBZ4CHjfRAYdERFL62VQFNsXARd1nDu27fZR4xxXRESMUVaKRkQ0RBJ6RERDJKFHRDREEnpEREMkoUdENEQSekREQyShR0Q0RBJ6RERDJKFHRDREEnpEREMkoUdENEQSekREQyShR0Q0RBJ6RERDJKFHRDREEnpEREMkoUdENEQSekREQyShR0Q0RE8JXdJukm6XNF/SMV3u/5ik2yTdLOlySRuMf6gRETGSURO6pEnAicDuwCbAgZI26bjsRmCG7c2B/wC+PN6BRkTEyHppoW8HzLd9h+1ngLOBvdsvsH2l7T+Uh9cBU8c3zIiIGE0vCX1d4N624wXlueEcBvy42x2SDpc0R9KchQsX9h5lRESMalwHRSUdDMwAvtLtftsn2Z5he8aUKVPG86UjIpZ7K/ZwzX3Aem3HU8tzQ0jaFfg0sJPtp8cnvIiI6FUvLfTZwIaSpktaGTgAmNV+gaStgG8Be9m+f/zDjIiI0Yya0G0vBo4ELgbmAefanivpOEl7lZd9BVgFOE/STZJmDfN0ERExQXrpcsH2RcBFHeeObbu96zjHFRERY5SVohERDZGEHhHREEnoERENkYQeEdEQSegREQ2RhB4R0RBJ6BERDZGEHhHREEnoERENkYQeEdEQSegREQ2RhB4R0RBJ6BERDZGEHhHREEnoERENkYQeEdEQSegREQ2RhB4R0RBJ6BERDZGEHhHRED0ldEm7Sbpd0nxJx3S5f0dJN0haLOld4x9mRESMZtSELmkScCKwO7AJcKCkTTouuwd4P3DWeAcYERG9WbGHa7YD5tu+A0DS2cDewG2tC2zfVd733ATEGBERPeily2Vd4N624wXluTGTdLikOZLmLFy4cFmeIiIihtHXQVHbJ9meYXvGlClT+vnSERGN10tCvw9Yr+14ankuIiJqpJeEPhvYUNJ0SSsDBwCzJjasiIgYq1ETuu3FwJHAxcA84FzbcyUdJ2kvAEnbSloA7Ad8S9LciQw6IiKW1sssF2xfBFzUce7YttuzKbpiIiKiIlkpGhHREEnoERENkYQeEdEQSegREQ2RhB4R0RA9zXKJ0Unj/5z2+D9nRDRXWugREQ2RhB4R0RBJ6BERDZE+9OXMoPT1D0qcEXWShB7xAuSNJ+okXS4REQ2RhB4R0RDpcolYDqRraPmQFnpEREMkoUdENES6XCKiNtI19MIkoUdEjEGd33TS5RIR0RBJ6BERDdFTQpe0m6TbJc2XdEyX+18k6Zzy/l9ImjbukUZExIhGTeiSJgEnArsDmwAHStqk47LDgIdsvwb4GvCl8Q40IiJG1ksLfTtgvu07bD8DnA3s3XHN3sB3y9v/AewiTcTQQUREDKeXWS7rAve2HS8Ath/uGtuLJT0CrAk80H6RpMOBw8vDxyXdvixBj2CtztfspgZvNYlzfA1CnD3FCImzR42Kc4wxbjDcHX2dtmj7JOCkiXp+SXNsz5io5x8viXN8DUKcgxAjJM7x1u84e+lyuQ9Yr+14anmu6zWSVgRWBxaNR4AREdGbXhL6bGBDSdMlrQwcAMzquGYW8L7y9ruAK+zlaX1WRET1Ru1yKfvEjwQuBiYBp9ieK+k4YI7tWcDJwBmS5gMPUiT9KkxYd844S5zjaxDiHIQYIXGOt77GqTSkIyKaIStFIyIaIgk9IqIhktAjIhpi4BO6pG26nNuzilgiYmJImiTpo1XHUXcDPygq6QbgvbZvLY8PBP7Wdudq1kpJehNwk+0nJB0MbA2cYPvuikMbYlDirDNJtwDD/mHZ3ryP4YxI0hoj3W/7wX7FMhpJv7S9XdVxjETS9cApwFm2H+r76zcgob+Kon7Me4C3AO8F9rT9SKWBdZB0M7AFsDlwGvAd4N22d6oyrk4DFOc7KYrArQ2o/LLt1SoNDJDUWpp9RPn9jPL7QQC2l6pYWhVJd1K8+QhYH3iovP0y4B7b06uLbihJXwNWAs4Bnmidt31DZUF1kPQa4FBgf2AOcCpwSb/W5Qx8QgeQ9FrgB8A9wF/YfrLaiJYm6QbbW0s6FrjP9smtc1XH1m6A4pwPvMP2vKpjGY6kG21v1XGudr9LAEnfBi6wfVF5vDuwj+2/qjayJSRd2eW0be/c92BGIWkFYE/gG8AfKRL7CRP9iWdgt6Dr8rF2DYqFT7+QVKuPtaXHJH0KOBjYsfwHX6nimLoZlDh/X+dkXpKkN9m+pjzYgfqOW73B9gdbB7Z/LOnLVQbUyfZbq46hF5I2p2il/znwn8CZwJuBK4AtJ/K1BzahU7z7DZL9KbqFDrP9O0nrA1+pOKZuBiXOOZLOofhk9nTrpO3zK4toaYcBp0hanaIb4yHgL6sNaVi/kfQZ4Hvl8UHAbyqMZymSXgH8M/BK27uX+zK80fbJFYf2vLIP/WGK1fPH2G793/xFOT41oQY2obcG6SS9AZhr+7HyeDVgY6Bug3gftf3J1oHteyRtWmVAwxiUOFcD/gC8ve2cgdokdNvXA1uUCZ26jet0OBD4LHBBefzT8lydnEbRdfHp8vh/KfrTa5PQgf1s39F+QtJ023fafudEv/jA96FLuhHYujXoUHYRzKlbP2W3vlNJN9eta2hQ4hwEkl4E7AtMo63xZPu4qmIaZJJm2962fWxC0k22t6w4tOcN8/dzve2lpldPhIFtobdR+wiy7efKEr61IOmvgb8BXlXOIGlZFbi2mqiWNkqc11QT1fAkTQVmAq2PsT8DjrK9oLqolvJfwCPA9bR1C9VRObHg71j6zadOA45PSFqTcuys/HRei089kjYCNgVWL2dgtawGTO5bHA1ooZ8P/IRiNBmKpPRW2/tUFVO78uP2y4EvAO3T1R6r2RzfgYizRdKlwFksmRJ4MHCQ7bdVF9VQkm61vVnVcfRC0q+Ab1K8+fyxdb7sNqoFSVtTvIlvBtwKTAHeZfvmER/YB5L2BvYB9mJoefHHgLNt96Xx1oSEvjbwdWBninfuyykWFt1faWAlSavZfnS4BRw1TZZbU4zKG7imTvN8W7p91K7hx++TgJm2b6k6ltH0s1vghSg/fb+OYpD5dtvPVhzSEJLeaPvnlb3+oCf0upP0Q9t7dizgaLHtV1UUWleS/gF4N0sGF/cBzrP9T5UF1YWkyykGyL5fnjoQONT2LtVFNZSk24DXAHdSdLm0Fj/VbjxC0ueA+ykGRdtnDVXe4OjowlhKHWY2STra9pclzaTLKmHbH+lLHIOa0OvyC2waFRt3b2H7qfL4xRSlAF5XbWRDlasxZwJvpPj3vxb4iO17Kg2sTduK0SHqWEahbHB0qkWDQ9Kp5c21gR0o5nMDvBW41nblU5glvcP2hZLe1+1+29/tRxy1GTxcBq1FJXMqjWIUZffFsGrYnfEbikGcp8rjF7H0HrKVK5PiXlXHMZK2qbVr08eBsWVRpyX+nWwfCiDpEmAT278tj9ehmMpYOdsXlt/7kriHM7At9EHRtlx5MjAD+BXFR+/NKaZXvrGq2LqR9ANgW+BSipbv24BfAgug+k8+g/TJTNJewL8Cr6ToztgAmGe7jvP6kbQZsAltbz62T68uoqEkzbO9cdvxChRrUDYe4WF9IelCRi7I1pfGx8C20OvyCxxNa7lyORtn69YAWfnH87kKQxvOBSxZXALFDKI6GYhPZqXjgTcAl9neStJbKWbj1I6kzwJ/SpHQLwJ2B64GapPQgcslXcyScZP9gcsqjKfdv1QdAAxwC13SiNX/bF/Vr1h6IWluZ8us27nojaT9bJ832rkqSZpje0Y5JXCrco3Er2xvUXVsncraSFsAN9reolxm/706TQOF5wdI31Ie/tT2BSNdv7wZ2BZ6K2FLeinwpO3nyuNJFP2+dXOzpO8wtFZG5fNnO6nYHOR4iu6BFalRWdoOnwI6k3e3c1V6WNIqFIuezpR0P21lX2vmyfINZ3FZPuN+YL2qg+pUzmipfFZLJ0nn2n53l6KBfZ3ZNLAt9BZJ1wG72n68PF6Fov7wDtVGNpSkycBfAzuWp34KfKM1m6QuVJSlfSdwi2v4n0NFWdc/p5haeU7bXatRDJjVZgOEsrHxFMUf9UHA6sCZthdVGlgXkv4d+HvgAODjwOMUs5sOrTSwNqp3Dfx1bP+26plNTUjotV9g0lJOAVzf9u1VxzKcchB3l9YnnrqRtAVFCdLjgGPb7noMuNIV7BIzEkl/AmxH0Wqbbft3FYc0KknTgNXqsAKznQagBj5U+28+sF0ubZ6QtHVr+p+KPUbruMHFXhRlaFcGpkvaEjiuLoO3bY4GLpJ0FUMXmHy1upCWsP0r4FeSzqrbKsFOkj5A8aZzBUVrcqak42yfUm1k3ZUt4NYK4aupX5dg7WvgV/1v3oQW+rbA2RTzpwX8CbB/nWpQwPN1kncGfuIlleJusf36aiMbqpzr+zhwC/B8K932P1YWVBeSNqSoO9M5za7yhTAt5SKtHVpdLGVhqWvrtkgLnu9yeQ1DZ5D82vYRwz+qvySdQPH3/QNqWgO/6n/zgW+h255dVjpr/cKG1HeQ9Dbbl1YT3RDP2n5Eal/5P/y0ywq90oNRUOpUivrdX6NYMXgo9dsNaBFFV1DLY+W5OtoZ2Lg1biLpu8DcakNaSu1r4FPxv/nAJ3SAMoHfOszdX6JYJFO1uZLeA0wqW5cfoUblc9tcJOntti+pOpBRvNj25ZJUDjh9rvwUdOxoD5xokj5W3pxPsVPNf1Eknr2pXzdGy3yKTaJbg3frledqo04DtJ3q8m/eiIQ+Co1+SV98mGKnlacpyr5eDNSq4FXpr4G/k/QM8Aw1mknQ4elypeD/STqSojzBKhXH1LJq+f3X5VfLf1UQy4jaFuitCsyT9MvyeHuKFcK1oaJm+zeAV9jeTMXenXvVpHBcLf7NB74PfTSqwS7r5dz4yzwgm9wOgnLsZB7wMop586sBX7F9XZVxjYWkmbY/XHEMA7NArxyo/wTwrbZxqIGpOd8Py0MLvXK2/yjpOUmru977SqKik/8gYLrt4yWtB6xju1atNduzy5uPU/SfD6IJ3zR4NL0mbEk/r0HdoZfY/mXHONTiqoLpRtIUiplimzJ0sL4vOz/VbRBpItxVdQClx4FbJJ0s6eutr6qD6uLfKUrSvqc8fhw4sbpwupN0qaSXtR2/vKzzEROjDtUiH5D0apZsQfcu4LfVhrSUM4H/AaYD/0iRf2aP9IDxNPAt9LI7Yw+W3gvxq+X3Cd9pu0e1XLLcxfa2t1ax+Ta2H5K0ctVBdbGW7YdbB2Wca1cYT9PVoW/2COAkYCNJ91FsHHJQtSEtZU3bJ0s6qvz0c5WkJPQxuJBiefWQedM19B/AU7b/CLWuOfNsGVurFTSFev5en5O0vssNLcol13VIOmNRlwH7QbEPRSXIKyl6F54AdlWxfd5NFcbVrjVl+reS9qBYH9N1+8mJ0ISEPrVfhW9eoMuBXSm6MABeDFxCsQNLnXydonzu2pI+D7wL+IdqQ+rq08DV5UCZKCrwHV5tSN1JeontP3S564S+B7Ps6vDmM6P8mkURz8EUUwI/JOk821+uMrjSP6nYcP3jFDtqrQZ8tF8vPvCzXCR9Cbi87vOmB6zmzEbALhR/NJfXdbm1pLUo6o0DXGf7gSrj6SRpB+A7wCq21y/r0PyV7b+pOLQxk7SZ7eHWevQrhp8Cf95RiO9HwG7A9bY3qTK+OmjCoOh1wAWSnpT0qKTHJD1adVBdPKG27ehqXHPmDNv/Y/tE2//P9jxJZ1QdVydJO1Is+3+0/NqkPFcnXwP+jHKlYFmHplYxtv5ehvtqXVd1Mi+tTduSf4rujVfYfrLjfGUkfVnSapJWknS5pIWS+rapSRO6XL5KMSujluVe2/wtcJ6kITVnKo2ou85NOCYB21QUy0g+0XZ7MkV1u1a9nNqwfW/HNLs/VhVLN7ZXBZB0PMWMkTNYUu53nQpD6+ZMlqzCBHgHcJaKMsW3VRfWEG+3fbSkv6CY4fJOilLZ3xvxUeOkCQn9XuDWmifz2teckfQpinrYL25rmYlitei3q4prOLbf0X5czpf/t2qiGda9ZbeLJa0EHMWSLfTqZi8P3UnpGyp2Wqq8lEJLuS7ixyyZv/8h262tCOsy26WVU/cAzutSv2lCNaEP/TTgVcCPqWG5117VYUVrGccXbH+q6jjGqlwQNbdO/ahlH/8JFIPhohgEP6qmG1xcS7He4GyK2UIHAke4ZhvF1J2kL1LMxnmS4lPjy4Af2t6+H6/fhBb6neXXyuXXoKrDLAIo/hMOIely27tUEcxwJM1kyTTFFSg2vbihsoC6KAdp69JyHM17KN58TqD4vV7DksVl0SPbx0j6MvBIuUL8CYoCXX0x8Am9bnW6X4BKPyqp2CLvpcBakl7OkjeY1YB1KwtseHPabi8Gvm/7mqqC6WaYlcCPAHNs16pQl+276GPiaRpJO9u+QsUmIa1z7Zf0ZVHhwCd0FVumLZUM+1U7oUH+imLg9pUUg4ut/42PAv+vopiGZfu7VcfQg8nARizZuHpfik+TW0h6q+2/rSqwTpKmU1QEncbQFdd121Grrnak2KXoHRT5SB3f+5LQm9CH3j4DYzLFH81i20dXFNIykXR+HcoUSPqw7ZlVxzEcLb2r+hB1WmSmYgPzN7WtDl4R+BnFNm+31Ky//1fAySy9U1Vtqi3WmaSPs3Qip7zdtzG9gW+hd9lq7hoVNZ1rof0jWDet7bPqkMwBbM+UtBlLb+12enVRDbFn+b21NVprjvzB1G/p/8sparS3Kmy+FFij7FutxbzpNk/ZrmOxuEHRqsX/OmBbijroomix9y0fNaGF3l4nYQWKpcEn1GXfRkmnljfXpljmf0V5/FaKvQb37PrAikj6LPCnFAn9ImB34Grb76oyrk6SbmzVxG47V4uZQi2SDgM+A/yE4o97R+CfKfbt/JztTwz/6P5SsZvWhhQzcdpni9VqoLnuytWse9h+rDxeFfiR7b4sKBv4FjpFf2/rI86zFJP5D6syoHatbbNUbL68ie3flsfrAKdVGNpw3gVsAdxo+1BJr6BPiyLGSJLe1BoILed712rlc1l178fAIRTzzy8BFth+gqELo+rg9RRx7sySLhdTs4VaA+AVFGs3Wp4pz/VFExL6J4H/tv2opH8AtqbYSLZu1msl89LvKfZwrJsnbT8nabGk1YD7KfaXrJvDgFPKQkgADwN/WV04S5P0AYrFRFOBmyjqzvyceibJ/YBX2X5m1CtjJKcDv5R0QXm8D31suDUhoX/G9rmS3kzxh/IvFPsO9mUi/xhcrmIDhu+Xx/sDl1UYz3DmqNg44tsUn34ep0hCtVKOnWzRSug13QnqKIr+1Otsv7VcKfzPFcc0nFspFsHcX3EcA83258tPZW8pTx1q+8Z+vX4T+tBvtL2VpC9QzBw4q1v/ah2U9R1afWk/tX3BSNdXTdI0YDXbN7ed29T23Oqiej6OV1Akx1fa3l3SJsAbbZ9ccWjPkzTb9raSbqLYOORpSXNtbzraY/tN0k+AzSl212nvQ8+0xQHShBb6fZK+BbwN+JKkF1GzvtQ2NwCP2b5M0kskrdoaPKmjcrFJpzMourWqdhpwKkVddID/Bc6hmHpXFwvKTzs/AC6V9BBwd6URDe+zVQcQL1wTWugvoaiHfIvt/ysHG19ft/rokj5IsQHDGrZfLWlD4Jt1W1I/mrp8+mlr/T4fj2paXx5A0k7A6hTjPemnjgkx8C10FzvBnN92/Fvqt3EsFPOmtwN+AVC++QziHph1aQE8IWlNlmyV9waWzPeunbou0JF0te03S3qMof+2Amx7tYpCi2Uw8Al9gDxt+5lWfYdy1WBdkuMg+hjFVmSvlnQNMIViymWMge03l99XrTqWeOGS0PvnKkmteuNvA/6GYoPrQVOL7gLbN5TdGK+jaE3Wqr58RBUGvg99UEhagWLu9NspEtDFwHfqtjGHpAspplb+V7kAZiDVbdVoRD8koccQZat3f4odV2ZTbHjwQ9tPVRrYGNVl8Dain5LQJ5ikc22/e7gqgXWqDtiu3Et0Z+CDwG6DNjiWFnosj9KHPvGOKr/XqgjXSCS9mKJK3P4Uc84HofZ4xHIvCX2Cteq32K7rgpIhJJ1LMb3yvyk2trjK9nMjP6r/JL3I9tMjnLur/1FFVCtdLhOsy/zeIerWlSHpz4DLWpsy1FW3LpV0s8TyLi30Cdaa3yvpeIoFT2dQzHI5CFinwtCG8zPgU5LWt314uaL1dbZ/WHVgAJL+hGKP0xdL2oqhe5++pLLAImogLfQ+kfQr21uMdq5qks6hqLL4XtublaUVrq3LknpJ7wPeT7GRyWyWJPTHgNNaO0BFLI/SQu+fJyQdRDEN0MCBQB3neb/a9v6SDoSitII6ti+vUrk59Hcl7Wv7P6uOJ6JO6lqVsIneA7ybYmOL31NsKPCeSiPq7plylkurRsqraSunWiNTJa2mwnck3SDp7VUHFVGldLnEEGVZgs9Q7Cl6CfAm4P22f1JlXJ1a3VXlIO6HKGI+I4OisTxLl0uflJtFd1tYVJtt08ryBC8H3kmxXZqAo2w/UGlg3bW6gf4cON323Dp1DUVUIS30PpG0b9vhZOAvgN/Y/khFIXUlaY7tGVXHMZryDXJdYDrFptaTgJ/Y3qbSwCIqlIRekbI1fLXtHaqOpZ2kLwIPUOz+8/ygre0HKwuqi/L3tyVwh+2Hy9ro67ZvlxexvEmXS3U2BOq4wcX+5fcj2s4ZeFUFsYzEFP38ewLHAS+l+OQTsdxKC71PuqwY/R3wqUy9WzaSvgE8B+xse2NJLwcusb1txaFFVCYt9D4ZlB1hJE2m2HzjzRRvQD+j2Pu0buVzt7e9taQbAWw/JGnlqoOKqFLmofeJpMt7OVcDpwObAjMpinNtSlGuoG6eLUv8tubLT6FosUcst9JCn2Bli/clwFplt0B77ZF1KwtseJvZ3qTt+EpJt1UWzfC+DlwArC3p8xT7iX6m2pAiqpWEPvH+Cvhb4JUUNVJE0ap8jKIVXDc3SHqD7esAJG0PzKk4pqXYPlPS9cAuFL/TfWzPqzisiEplULRPJB0L/JvtRyX9A8XGEcfbvqHi0IaQNI9i4+V7ylPrA7cDiwHXaYelssvlFbQ1TGzfM/wjIpotCb1PJN1se3NJbwaOB/4FONb29hWHNoSkDUa55FHbD/UlmBFI+jDwWYq6OH+k/ORTpzeciH5Ll0v/tDaM2AP4tu0fSfqnKgPqZrSdlSTdQPHpompHUdRpX1R1IBF1kVku/XOfpG9RLNy5SNKLGMzff13qpdwLPFJ1EBF1ki6XPik3itgNuMX2/0laB3i97UsqDm1Mqt7mTdLHypubUvT1/4i28r62v1pFXBF1kC6XPrH9B+D8tuPfUmxJF2PTWqB1T/m1cvkVsdxLCz0AkDTd9p09XHej7a36EVNEjE0SegAg6Xrb20i63PYuI1y3Rh0qL0q6kKXryz9CMWf+WzUsVRAx4dLlEi0rSPp74LVt/dTPa/VN1yGZl+4ApgDfL4/3p1is9Vrg28AhFcUVUZkk9Gg5ANiH4v/EIBQS26GjsuKFkmbb3lbS3MqiiqhQEnoAYPt24EvlAqgfVx1PD1aRtH5rZaik9YFVyvueqS6siOokoUenayV9FdixPL4KOM523eZ8fxy4WtKvKebGTwf+RtJLge9WGllERTIoGkNI+k/gVpYkxUOALWy/s7qouisXZ21UHt6egdBY3iWhxxCSbrK95WjnqiJpZ9tXSOr6BmP7/G7nI5YH6XKJTk9KerPtqwEkvQl4suKY2u0EXAG8ozxutUhaZYmT0GO5lRZ6DCFpC4pdi1YvTz0EvM/2zdVFtbRy45B9gWksaZjY9nGVBRVRsbTQYwjbvwK2kLRaefxo+/2S3me7DoOOPwAeBm4AWn3naZ3Eci0t9BiTqotztcVxq+3Nqo4jok4GsXxrVKsu5XOvlfT6qoOIqJN0ucRYVfqRTtItZQwrAodKuoOifG52LIrlXhJ6jFXVLfQ9K379iNpKQo+xuqbKFx9ti7yI5VkGRWMISS8D3svQ6YDY/khFIUVEj9JCj04XAdcBtwDPVRxLRIxBWugxRF2mJUbE2CWhxxCSPgo8DvyQoZsv12Vji4gYRrpcotMzwFeAT7NkiqKBV1UWUUT0JC30GKKc172d7QeqjiUixiYrRaPTfOAPVQcREWOXLpfo9ARwk6QrGdqHnmmLETWXhB6dflB+RcSASR96RERDpIUeQ0i6ky4FuGxnlktEzSWhR6cZbbcnA/sBa1QUS0SMQbpcYlSSrre9TdVxRMTI0kKPISS1L/tfgaLFnv8nEQMgf6jR6V9Z0oe+GLiLotslImouXS4xhKTJwL4MLZ9r28dVFlRE9CQt9Oj0A+Bh4AbgqUojiYgxSQs9hpB0q+3Nqo4jIsYutVyi07WSXl91EBExdmmhxxCSbgNeA9xJUctFFH3om1caWESMKgk9hpC0Qbfz2Zw5ov6S0CMiGiJ96BERDZGEHhHREEnoERENkYQeEdEQ/x9v58836Or64AAAAABJRU5ErkJggg==\n",
=======
      "image/png": "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",
>>>>>>> master-holder
      "text/plain": [
       "<Figure size 432x288 with 1 Axes>"
      ]
     },
     "metadata": {
      "needs_background": "light"
     },
     "output_type": "display_data"
    },
    {
     "name": "stdout",
     "output_type": "stream",
     "text": [
      "\n",
      "\n",
      "clf_cnb has no feature importance outputs.\n"
     ]
    }
   ],
   "source": [
    "for mod_name in models:\n",
    "    if mod_name != \"clf_kn\":  # no FI for KN\n",
    "\n",
    "        if mod_name == \"clf_lr\":\n",
    "            pd.DataFrame(models[mod_name].coef_, columns=X_train.columns,\n",
    "                        index=[\"coef\"]).T.sort_values(by='coef',\n",
    "                        axis=0, ascending=False, key=abs).plot.bar(color='b')\n",
    "            if DATA == \"stInfo\":\n",
    "                plt.ylim((-2.5,2))\n",
    "            elif DATA == \"stAll\":\n",
    "                plt.ylim((-2.5,9.5))\n",
    "            plt.title(\"Logisitic regression\")\n",
    "        \n",
    "        elif mod_name == \"clf_dt\":\n",
    "            pd.DataFrame(models[mod_name].feature_importances_, index=X_train.columns,\n",
    "                         columns=[\"coef\"]).sort_values(by='coef', axis=0, ascending=False,\n",
    "                         key=abs).plot.bar(color='b')\n",
    "            if DATA == \"stInfo\":\n",
    "                plt.ylim((-2.5,2))\n",
    "            elif DATA == \"stAll\":\n",
    "                plt.ylim((-2.5,9.5))\n",
    "            plt.title(\"Decision tree\")\n",
    "        \n",
    "        elif mod_name == \"clf_rf\":\n",
    "            pd.DataFrame(models[mod_name].feature_importances_, index=X_train.columns,\n",
    "                         columns=[\"coef\"]).sort_values(by='coef', axis=0, ascending=False,\n",
    "                         key=abs).plot.bar(color='b')\n",
    "            if DATA == \"stInfo\":\n",
    "                plt.ylim((-2.5,2))\n",
    "            elif DATA == \"stAll\":\n",
    "                plt.ylim((-2.5,9.5))\n",
    "            plt.title(\"Random forest\")\n",
    "        \n",
    "        elif mod_name == \"clf_svc\":\n",
    "            pd.DataFrame(models[mod_name].coef_, columns=X_train.columns,\n",
    "                         index=[\"coef\"]).T.sort_values(by='coef',\n",
    "                         axis=0, ascending=False, key=abs).plot.bar(color='b')\n",
    "            if DATA == \"stInfo\":\n",
    "                plt.ylim((-2.5,2))\n",
    "            elif DATA == \"stAll\":\n",
    "                plt.ylim((-2.5,9.5))\n",
    "            plt.title(\"Linear support vector\")\n",
    "        \n",
    "        else:\n",
    "            print(\"\\n\")\n",
    "            print(f\"{mod_name} has no feature importance outputs.\")\n",
    "\n",
    "        plt.show()"
   ]
  }
 ],
 "metadata": {
  "kernelspec": {
   "display_name": "Python 3.10.4 ('env': venv)",
   "language": "python",
   "name": "python3"
  },
  "language_info": {
   "codemirror_mode": {
    "name": "ipython",
    "version": 3
   },
   "file_extension": ".py",
   "mimetype": "text/x-python",
   "name": "python",
   "nbconvert_exporter": "python",
   "pygments_lexer": "ipython3",
<<<<<<< HEAD
   "version": "3.10.4"
  },
  "vscode": {
   "interpreter": {
<<<<<<< HEAD
    "hash": "6f232859c35808c32414ed7392a3d2d166834ac936b1e4fa11fad72d2414503a"
=======
    "hash": "7794b610cce7cccecfd60aa985ac55dc433fec93c81a2cb6a4f77df7b18549da"
>>>>>>> master-holder
=======
   "version": "3.10.4 (v3.10.4:9d38120e33, Mar 23 2022, 17:29:05) [Clang 13.0.0 (clang-1300.0.29.30)]"
  },
  "vscode": {
   "interpreter": {
    "hash": "21c4ed702692d19955eb0025fa7aa561bec320aaa8d61ef761b1902fdff2beb6"
>>>>>>> master-holder
   }
  }
 },
 "nbformat": 4,
 "nbformat_minor": 2
}
