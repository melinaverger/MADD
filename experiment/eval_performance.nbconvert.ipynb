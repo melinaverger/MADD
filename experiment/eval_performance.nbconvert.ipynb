{
 "cells": [
  {
   "cell_type": "code",
   "execution_count": 1,
   "metadata": {
    "execution": {
     "iopub.execute_input": "2022-10-14T15:06:06.364442Z",
     "iopub.status.busy": "2022-10-14T15:06:06.363847Z",
     "iopub.status.idle": "2022-10-14T15:06:06.947891Z",
     "shell.execute_reply": "2022-10-14T15:06:06.947606Z"
    }
   },
   "outputs": [],
   "source": [
    "\"\"\"\n",
    "Created on: Wed. 5 Oct. 2022\n",
    "Author: Mélina Verger\n",
    "\n",
    "Test the models and return their accuracies and feature importance.\n",
    "\"\"\"\n",
    "\n",
    "# For data manipulation\n",
    "import pandas as pd\n",
    "\n",
    "# To load the trained models\n",
    "import pickle\n",
    "\n",
    "# For cross-validation\n",
    "from sklearn.model_selection import cross_val_score\n",
    "\n",
    "# Metric\n",
    "from sklearn.metrics import accuracy_score\n",
    "\n",
    "# Plotting module\n",
    "import matplotlib.pyplot as plt"
   ]
  },
  {
   "cell_type": "markdown",
   "metadata": {},
   "source": [
    "## Load data sets and trained models"
   ]
  },
  {
   "cell_type": "code",
   "execution_count": 2,
   "metadata": {
    "execution": {
     "iopub.execute_input": "2022-10-14T15:06:06.949763Z",
     "iopub.status.busy": "2022-10-14T15:06:06.949638Z",
     "iopub.status.idle": "2022-10-14T15:06:06.952095Z",
     "shell.execute_reply": "2022-10-14T15:06:06.951851Z"
    }
   },
   "outputs": [
    {
     "name": "stdout",
     "output_type": "stream",
     "text": [
      "stInfo\n",
      "7030\n"
     ]
    }
   ],
   "source": [
    "DATA = pickle.load(open(\"../data/DATA\", \"rb\"))\n",
    "SPLIT = pickle.load(open(\"../data/SPLIT\", \"rb\"))\n",
    "\n",
    "print(DATA)\n",
    "print(SPLIT)"
   ]
  },
  {
   "cell_type": "code",
   "execution_count": 3,
   "metadata": {
    "execution": {
     "iopub.execute_input": "2022-10-14T15:06:06.971329Z",
     "iopub.status.busy": "2022-10-14T15:06:06.971171Z",
     "iopub.status.idle": "2022-10-14T15:06:06.977361Z",
     "shell.execute_reply": "2022-10-14T15:06:06.977098Z"
    }
   },
   "outputs": [],
   "source": [
    "# Load train and test sets\n",
    "\n",
    "X_train = pd.read_csv(\"../data/X_train\" + \"_\" + DATA + \"_\" + SPLIT + \".csv\")\n",
    "X_test = pd.read_csv(\"../data/X_test\" + \"_\" + DATA + \"_\" + SPLIT + \".csv\")\n",
    "y_train = pd.read_csv(\"../data/y_train\" + \"_\" + DATA + \"_\" + SPLIT + \".csv\")\n",
    "y_test = pd.read_csv(\"../data/y_test\" + \"_\" + DATA + \"_\" + SPLIT + \".csv\")\n",
    "y_train = y_train.values.ravel()\n",
    "y_test = y_test.values.ravel()"
   ]
  },
  {
   "cell_type": "code",
   "execution_count": 4,
   "metadata": {
    "execution": {
     "iopub.execute_input": "2022-10-14T15:06:06.978823Z",
     "iopub.status.busy": "2022-10-14T15:06:06.978743Z",
     "iopub.status.idle": "2022-10-14T15:06:07.004154Z",
     "shell.execute_reply": "2022-10-14T15:06:07.003754Z"
    }
   },
   "outputs": [],
   "source": [
    "# Load trained models\n",
    "\n",
    "clf_lr = pickle.load(open(\"../models/\" + DATA + \"_\" + SPLIT + \"_clf_lr\", \"rb\"))\n",
    "clf_svc = pickle.load(open(\"../models/\" + DATA + \"_\" + SPLIT + \"_clf_svc\", \"rb\"))\n",
    "clf_knearest = pickle.load(open(\"../models/\" + DATA + \"_\" + SPLIT + \"_clf_knearest\", \"rb\"))\n",
    "clf_dt = pickle.load(open(\"../models/\" + DATA + \"_\" + SPLIT + \"_clf_dt\", \"rb\"))\n",
    "clf_rf = pickle.load(open(\"../models/\" + DATA + \"_\" + SPLIT + \"_clf_rf\", \"rb\"))"
   ]
  },
  {
   "cell_type": "markdown",
   "metadata": {},
   "source": [
    "## Accuracies on train and test sets"
   ]
  },
  {
   "cell_type": "code",
   "execution_count": 5,
   "metadata": {
    "execution": {
     "iopub.execute_input": "2022-10-14T15:06:07.006001Z",
     "iopub.status.busy": "2022-10-14T15:06:07.005891Z",
     "iopub.status.idle": "2022-10-14T15:06:07.007571Z",
     "shell.execute_reply": "2022-10-14T15:06:07.007325Z"
    }
   },
   "outputs": [],
   "source": [
    "NB_FOLD = 5"
   ]
  },
  {
   "cell_type": "code",
   "execution_count": 6,
   "metadata": {
    "execution": {
     "iopub.execute_input": "2022-10-14T15:06:07.009069Z",
     "iopub.status.busy": "2022-10-14T15:06:07.008964Z",
     "iopub.status.idle": "2022-10-14T15:06:07.040756Z",
     "shell.execute_reply": "2022-10-14T15:06:07.040476Z"
    }
   },
   "outputs": [
    {
     "name": "stdout",
     "output_type": "stream",
     "text": [
      "Accuracy on the train set with cross-validation: 0.65 with a standard deviation of 0.01\n",
      "Accuracy on the test set: 0.65\n"
     ]
    }
   ],
   "source": [
    "scores_train_lr = cross_val_score(clf_lr, X_train, y_train, cv=NB_FOLD)\n",
    "print(\"Accuracy on the train set with cross-validation: %0.2f with a standard deviation of %0.2f\" % (scores_train_lr.mean(), scores_train_lr.std()))\n",
    "print(f\"Accuracy on the test set: {round(accuracy_score(y_test, clf_lr.predict(X_test)), 2)}\")"
   ]
  },
  {
   "cell_type": "code",
   "execution_count": 7,
   "metadata": {
    "execution": {
     "iopub.execute_input": "2022-10-14T15:06:07.042285Z",
     "iopub.status.busy": "2022-10-14T15:06:07.042179Z",
     "iopub.status.idle": "2022-10-14T15:06:07.091586Z",
     "shell.execute_reply": "2022-10-14T15:06:07.091299Z"
    }
   },
   "outputs": [
    {
     "name": "stdout",
     "output_type": "stream",
     "text": [
      "Accuracy on the train set with cross-validation: 0.65 with a standard deviation of 0.00\n",
      "Accuracy on the test set: 0.65\n"
     ]
    }
   ],
   "source": [
    "scores_train_svc = cross_val_score(clf_svc, X_train, y_train, cv=NB_FOLD)\n",
    "print(\"Accuracy on the train set with cross-validation: %0.2f with a standard deviation of %0.2f\" % (scores_train_svc.mean(), scores_train_svc.std()))\n",
    "print(f\"Accuracy on the test set: {round(accuracy_score(y_test, clf_svc.predict(X_test)), 2)}\")"
   ]
  },
  {
   "cell_type": "code",
   "execution_count": 8,
   "metadata": {
    "execution": {
     "iopub.execute_input": "2022-10-14T15:06:07.093243Z",
     "iopub.status.busy": "2022-10-14T15:06:07.093134Z",
     "iopub.status.idle": "2022-10-14T15:06:07.168009Z",
     "shell.execute_reply": "2022-10-14T15:06:07.167780Z"
    }
   },
   "outputs": [
    {
     "name": "stdout",
     "output_type": "stream",
     "text": [
      "Accuracy on the train set with cross-validation: 0.58 with a standard deviation of 0.02\n",
      "Accuracy on the test set: 0.55\n"
     ]
    },
    {
     "name": "stderr",
     "output_type": "stream",
     "text": [
      "/Users/melinaverger/Desktop/exp2/env/lib/python3.10/site-packages/sklearn/neighbors/_classification.py:237: FutureWarning: Unlike other reduction functions (e.g. `skew`, `kurtosis`), the default behavior of `mode` typically preserves the axis it acts along. In SciPy 1.11.0, this behavior will change: the default value of `keepdims` will become False, the `axis` over which the statistic is taken will be eliminated, and the value None will no longer be accepted. Set `keepdims` to True or False to avoid this warning.\n",
      "  mode, _ = stats.mode(_y[neigh_ind, k], axis=1)\n",
      "/Users/melinaverger/Desktop/exp2/env/lib/python3.10/site-packages/sklearn/neighbors/_classification.py:237: FutureWarning: Unlike other reduction functions (e.g. `skew`, `kurtosis`), the default behavior of `mode` typically preserves the axis it acts along. In SciPy 1.11.0, this behavior will change: the default value of `keepdims` will become False, the `axis` over which the statistic is taken will be eliminated, and the value None will no longer be accepted. Set `keepdims` to True or False to avoid this warning.\n",
      "  mode, _ = stats.mode(_y[neigh_ind, k], axis=1)\n",
      "/Users/melinaverger/Desktop/exp2/env/lib/python3.10/site-packages/sklearn/neighbors/_classification.py:237: FutureWarning: Unlike other reduction functions (e.g. `skew`, `kurtosis`), the default behavior of `mode` typically preserves the axis it acts along. In SciPy 1.11.0, this behavior will change: the default value of `keepdims` will become False, the `axis` over which the statistic is taken will be eliminated, and the value None will no longer be accepted. Set `keepdims` to True or False to avoid this warning.\n",
      "  mode, _ = stats.mode(_y[neigh_ind, k], axis=1)\n",
      "/Users/melinaverger/Desktop/exp2/env/lib/python3.10/site-packages/sklearn/neighbors/_classification.py:237: FutureWarning: Unlike other reduction functions (e.g. `skew`, `kurtosis`), the default behavior of `mode` typically preserves the axis it acts along. In SciPy 1.11.0, this behavior will change: the default value of `keepdims` will become False, the `axis` over which the statistic is taken will be eliminated, and the value None will no longer be accepted. Set `keepdims` to True or False to avoid this warning.\n",
      "  mode, _ = stats.mode(_y[neigh_ind, k], axis=1)\n",
      "/Users/melinaverger/Desktop/exp2/env/lib/python3.10/site-packages/sklearn/neighbors/_classification.py:237: FutureWarning: Unlike other reduction functions (e.g. `skew`, `kurtosis`), the default behavior of `mode` typically preserves the axis it acts along. In SciPy 1.11.0, this behavior will change: the default value of `keepdims` will become False, the `axis` over which the statistic is taken will be eliminated, and the value None will no longer be accepted. Set `keepdims` to True or False to avoid this warning.\n",
      "  mode, _ = stats.mode(_y[neigh_ind, k], axis=1)\n",
      "/Users/melinaverger/Desktop/exp2/env/lib/python3.10/site-packages/sklearn/neighbors/_classification.py:237: FutureWarning: Unlike other reduction functions (e.g. `skew`, `kurtosis`), the default behavior of `mode` typically preserves the axis it acts along. In SciPy 1.11.0, this behavior will change: the default value of `keepdims` will become False, the `axis` over which the statistic is taken will be eliminated, and the value None will no longer be accepted. Set `keepdims` to True or False to avoid this warning.\n",
      "  mode, _ = stats.mode(_y[neigh_ind, k], axis=1)\n"
     ]
    }
   ],
   "source": [
    "scores_train_knearest = cross_val_score(clf_knearest, X_train, y_train, cv=NB_FOLD)\n",
    "print(\"Accuracy on the train set with cross-validation: %0.2f with a standard deviation of %0.2f\" % (scores_train_knearest.mean(), scores_train_knearest.std()))\n",
    "print(f\"Accuracy on the test set: {round(accuracy_score(y_test, clf_knearest.predict(X_test)), 2)}\")"
   ]
  },
  {
   "cell_type": "code",
   "execution_count": 9,
   "metadata": {
    "execution": {
     "iopub.execute_input": "2022-10-14T15:06:07.169519Z",
     "iopub.status.busy": "2022-10-14T15:06:07.169433Z",
     "iopub.status.idle": "2022-10-14T15:06:07.183429Z",
     "shell.execute_reply": "2022-10-14T15:06:07.183168Z"
    }
   },
   "outputs": [
    {
     "name": "stdout",
     "output_type": "stream",
     "text": [
      "Accuracy on the train set with cross-validation: 0.62 with a standard deviation of 0.01\n",
      "Accuracy on the test set: 0.63\n"
     ]
    }
   ],
   "source": [
    "scores_train_dt = cross_val_score(clf_dt, X_train, y_train, cv=NB_FOLD)\n",
    "print(\"Accuracy on the train set with cross-validation: %0.2f with a standard deviation of %0.2f\" % (scores_train_dt.mean(), scores_train_dt.std()))\n",
    "print(f\"Accuracy on the test set: {round(accuracy_score(y_test, clf_dt.predict(X_test)), 2)}\")"
   ]
  },
  {
   "cell_type": "code",
   "execution_count": 10,
   "metadata": {
    "execution": {
     "iopub.execute_input": "2022-10-14T15:06:07.185052Z",
     "iopub.status.busy": "2022-10-14T15:06:07.184935Z",
     "iopub.status.idle": "2022-10-14T15:06:07.633144Z",
     "shell.execute_reply": "2022-10-14T15:06:07.632826Z"
    }
   },
   "outputs": [
    {
     "name": "stdout",
     "output_type": "stream",
     "text": [
      "Accuracy on the train set with cross-validation: 0.63 with a standard deviation of 0.01\n",
      "Accuracy on the test set: 0.64\n"
     ]
    }
   ],
   "source": [
    "scores_train_rf = cross_val_score(clf_rf, X_train, y_train, cv=NB_FOLD)\n",
    "print(\"Accuracy on the train set with cross-validation: %0.2f with a standard deviation of %0.2f\" % (scores_train_rf.mean(), scores_train_rf.std()))\n",
    "print(f\"Accuracy on the test set: {round(accuracy_score(y_test, clf_rf.predict(X_test)), 2)}\")"
   ]
  },
  {
   "cell_type": "markdown",
   "metadata": {},
   "source": [
    "## Feature importance (FI)"
   ]
  },
  {
   "cell_type": "code",
   "execution_count": 11,
   "metadata": {
    "execution": {
     "iopub.execute_input": "2022-10-14T15:06:07.634920Z",
     "iopub.status.busy": "2022-10-14T15:06:07.634805Z",
     "iopub.status.idle": "2022-10-14T15:06:07.732280Z",
     "shell.execute_reply": "2022-10-14T15:06:07.731982Z"
    }
   },
   "outputs": [
    {
     "data": {
      "image/png": "[encoded data removed]",
      "text/plain": [
       "<Figure size 432x288 with 1 Axes>"
      ]
     },
     "metadata": {
      "needs_background": "light"
     },
     "output_type": "display_data"
    }
   ],
   "source": [
    "pd.DataFrame(clf_lr.coef_, columns=X_train.columns, index=[\"coef\"]).T.sort_values(by='coef', axis=0, ascending=False, key=abs).plot.bar(color='b')\n",
    "plt.title(\"Logisitic regression\")\n",
    "\n",
    "if DATA == \"stInfo\":\n",
    "    plt.ylim((-2.5,2))\n",
    "else:\n",
    "    plt.ylim((-2.5,9.5))"
   ]
  },
  {
   "cell_type": "code",
   "execution_count": 12,
   "metadata": {
    "execution": {
     "iopub.execute_input": "2022-10-14T15:06:07.733937Z",
     "iopub.status.busy": "2022-10-14T15:06:07.733796Z",
     "iopub.status.idle": "2022-10-14T15:06:07.784143Z",
     "shell.execute_reply": "2022-10-14T15:06:07.783883Z"
    }
   },
   "outputs": [
    {
     "data": {
      "image/png": "[encoded data removed]",
      "text/plain": [
       "<Figure size 432x288 with 1 Axes>"
      ]
     },
     "metadata": {
      "needs_background": "light"
     },
     "output_type": "display_data"
    }
   ],
   "source": [
    "pd.DataFrame(clf_svc.coef_, columns=X_train.columns, index=[\"coef\"]).T.sort_values(by='coef', axis=0, ascending=False, key=abs).plot.bar(color='b')\n",
    "plt.title(\"Linear SVC\")\n",
    "\n",
    "if DATA == \"stInfo\":\n",
    "    plt.ylim((-2.5,2))\n",
    "else:\n",
    "    plt.ylim((-2.5,9.5))"
   ]
  },
  {
   "cell_type": "code",
   "execution_count": 13,
   "metadata": {
    "execution": {
     "iopub.execute_input": "2022-10-14T15:06:07.785741Z",
     "iopub.status.busy": "2022-10-14T15:06:07.785640Z",
     "iopub.status.idle": "2022-10-14T15:06:07.837215Z",
     "shell.execute_reply": "2022-10-14T15:06:07.836941Z"
    }
   },
   "outputs": [
    {
     "data": {
      "image/png": "[encoded data removed]",
      "text/plain": [
       "<Figure size 432x288 with 1 Axes>"
      ]
     },
     "metadata": {
      "needs_background": "light"
     },
     "output_type": "display_data"
    }
   ],
   "source": [
    "pd.DataFrame(clf_dt.feature_importances_, index=X_train.columns, columns=[\"coef\"]).sort_values(by='coef', axis=0, ascending=False, key=abs).plot.bar(color='b')\n",
    "plt.title(\"Decision tree\")\n",
    "\n",
    "if DATA == \"stInfo\":\n",
    "    plt.ylim((-2.5,2))\n",
    "else:\n",
    "    plt.ylim((-2.5,9.5))"
   ]
  },
  {
   "cell_type": "code",
   "execution_count": 14,
   "metadata": {
    "execution": {
     "iopub.execute_input": "2022-10-14T15:06:07.838913Z",
     "iopub.status.busy": "2022-10-14T15:06:07.838810Z",
     "iopub.status.idle": "2022-10-14T15:06:07.892213Z",
     "shell.execute_reply": "2022-10-14T15:06:07.891919Z"
    }
   },
   "outputs": [
    {
     "data": {
      "image/png": "[encoded data removed]",
      "text/plain": [
       "<Figure size 432x288 with 1 Axes>"
      ]
     },
     "metadata": {
      "needs_background": "light"
     },
     "output_type": "display_data"
    }
   ],
   "source": [
    "pd.DataFrame(clf_rf.feature_importances_, index=X_train.columns, columns=[\"coef\"]).sort_values(by='coef', axis=0, ascending=False, key=abs).plot.bar(color='b')\n",
    "plt.title(\"Random forest\")\n",
    "\n",
    "if DATA == \"stInfo\":\n",
    "    plt.ylim((-2.5,2))\n",
    "else:\n",
    "    plt.ylim((-2.5,9.5))"
   ]
  }
 ],
 "metadata": {
  "kernelspec": {
   "display_name": "Python 3.10.4 ('env': venv)",
   "language": "python",
   "name": "python3"
  },
  "language_info": {
   "codemirror_mode": {
    "name": "ipython",
    "version": 3
   },
   "file_extension": ".py",
   "mimetype": "text/x-python",
   "name": "python",
   "nbconvert_exporter": "python",
   "pygments_lexer": "ipython3",
   "version": "3.10.4"
  },
  "vscode": {
   "interpreter": {
    "hash": "6f232859c35808c32414ed7392a3d2d166834ac936b1e4fa11fad72d2414503a"
   }
  }
 },
 "nbformat": 4,
 "nbformat_minor": 2
}
