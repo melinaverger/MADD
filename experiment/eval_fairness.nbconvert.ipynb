{
 "cells": [
  {
   "cell_type": "code",
   "execution_count": 1,
   "metadata": {
    "execution": {
     "iopub.execute_input": "2022-10-14T15:28:38.617038Z",
     "iopub.status.busy": "2022-10-14T15:28:38.616661Z",
     "iopub.status.idle": "2022-10-14T15:28:39.202698Z",
     "shell.execute_reply": "2022-10-14T15:28:39.202400Z"
    }
   },
   "outputs": [],
   "source": [
    "\"\"\"\n",
    "Created on: Wed. 10 Aug. 2022\n",
    "Updated on: Mon. 22 Aug. 2022\n",
    "Updated on: Wed. 5 Oct. 2022\n",
    "Updated on: Thu. 13 Oct. 2022\n",
    "Updated on: Fri. 14 Oct. 2022\n",
    "Author: Mélina Verger\n",
    "\n",
    "Fairness evaluation of the models.\n",
    "\"\"\"\n",
    "\n",
    "# To load the trained models\n",
    "import pickle\n",
    "\n",
    "# For data manipulation\n",
    "import pandas as pd\n",
    "\n",
    "# To produce all possible combinations\n",
    "import itertools\n",
    "\n",
    "# To compute fairness metrics\n",
    "from sklearn.metrics import confusion_matrix\n",
    "\n",
    "# Plotting module\n",
    "import seaborn as sns\n",
    "import matplotlib.pyplot as plt\n",
    "\n",
    "# To print with tabular format\n",
    "from tabulate import tabulate"
   ]
  },
  {
   "cell_type": "markdown",
   "metadata": {},
   "source": [
    "## Load data sets and trained models"
   ]
  },
  {
   "cell_type": "code",
   "execution_count": 2,
   "metadata": {
    "execution": {
     "iopub.execute_input": "2022-10-14T15:28:39.204702Z",
     "iopub.status.busy": "2022-10-14T15:28:39.204503Z",
     "iopub.status.idle": "2022-10-14T15:28:39.207001Z",
     "shell.execute_reply": "2022-10-14T15:28:39.206733Z"
    }
   },
   "outputs": [
    {
     "name": "stdout",
     "output_type": "stream",
     "text": [
      "stAll\n",
      "7030\n"
     ]
    }
   ],
   "source": [
    "DATA = pickle.load(open(\"../data/DATA\", \"rb\"))\n",
    "SPLIT = pickle.load(open(\"../data/SPLIT\", \"rb\"))\n",
    "\n",
    "print(DATA)\n",
    "print(SPLIT)"
   ]
  },
  {
   "cell_type": "code",
   "execution_count": 3,
   "metadata": {
    "execution": {
     "iopub.execute_input": "2022-10-14T15:28:39.224210Z",
     "iopub.status.busy": "2022-10-14T15:28:39.224067Z",
     "iopub.status.idle": "2022-10-14T15:28:39.228322Z",
     "shell.execute_reply": "2022-10-14T15:28:39.228079Z"
    }
   },
   "outputs": [],
   "source": [
    "# Load test sets\n",
    "\n",
    "X_test = pd.read_csv(\"../data/X_test\" + \"_\" + DATA + \"_\" + SPLIT + \".csv\")\n",
    "y_test = pd.read_csv(\"../data/y_test\" + \"_\" + DATA + \"_\" + SPLIT + \".csv\")"
   ]
  },
  {
   "cell_type": "code",
   "execution_count": 4,
   "metadata": {
    "execution": {
     "iopub.execute_input": "2022-10-14T15:28:39.229757Z",
     "iopub.status.busy": "2022-10-14T15:28:39.229676Z",
     "iopub.status.idle": "2022-10-14T15:28:39.257173Z",
     "shell.execute_reply": "2022-10-14T15:28:39.256860Z"
    }
   },
   "outputs": [],
   "source": [
    "# Load trained models\n",
    "\n",
    "clf_lr = pickle.load(open(\"../models/\" + DATA + \"_\" + SPLIT + \"_clf_lr\", \"rb\"))\n",
    "clf_svc = pickle.load(open(\"../models/\" + DATA + \"_\" + SPLIT + \"_clf_svc\", \"rb\"))\n",
    "clf_knearest = pickle.load(open(\"../models/\" + DATA + \"_\" + SPLIT + \"_clf_knearest\", \"rb\"))\n",
    "clf_dt = pickle.load(open(\"../models/\" + DATA + \"_\" + SPLIT + \"_clf_dt\", \"rb\"))\n",
    "clf_rf = pickle.load(open(\"../models/\" + DATA + \"_\" + SPLIT + \"_clf_rf\", \"rb\"))"
   ]
  },
  {
   "cell_type": "markdown",
   "metadata": {},
   "source": [
    "## Generate all possible feature combinations"
   ]
  },
  {
   "cell_type": "code",
   "execution_count": 5,
   "metadata": {
    "execution": {
     "iopub.execute_input": "2022-10-14T15:28:39.258909Z",
     "iopub.status.busy": "2022-10-14T15:28:39.258807Z",
     "iopub.status.idle": "2022-10-14T15:28:39.261041Z",
     "shell.execute_reply": "2022-10-14T15:28:39.260809Z"
    }
   },
   "outputs": [
    {
     "name": "stdout",
     "output_type": "stream",
     "text": [
      "For 9 features, 511 combinations.\n"
     ]
    }
   ],
   "source": [
    "combinations = list()\n",
    "for i in range(len(X_test.columns) + 1):\n",
    "    for subset in itertools.combinations(X_test.columns, i):\n",
    "        combinations.append(subset)\n",
    "\n",
    "combinations = combinations [1:] # remove the first subset that is empty\n",
    "\n",
    "print(f\"For {len(X_test.columns)} features, {len(combinations)} combinations.\")"
   ]
  },
  {
   "cell_type": "code",
   "execution_count": 6,
   "metadata": {
    "execution": {
     "iopub.execute_input": "2022-10-14T15:28:39.262607Z",
     "iopub.status.busy": "2022-10-14T15:28:39.262525Z",
     "iopub.status.idle": "2022-10-14T15:28:39.266612Z",
     "shell.execute_reply": "2022-10-14T15:28:39.266365Z"
    }
   },
   "outputs": [
    {
     "data": {
      "text/plain": [
       "[('sum_click',),\n",
       " ('weighted_score',),\n",
       " ('gender', 'highest_education'),\n",
       " ('gender', 'imd_band'),\n",
       " ('gender', 'age_band'),\n",
       " ('gender', 'disability'),\n",
       " ('gender', 'num_of_prev_attempts'),\n",
       " ('gender', 'studied_credits'),\n",
       " ('gender', 'sum_click'),\n",
       " ('gender', 'weighted_score')]"
      ]
     },
     "execution_count": 6,
     "metadata": {},
     "output_type": "execute_result"
    }
   ],
   "source": [
    "combinations[7:17]"
   ]
  },
  {
   "cell_type": "code",
   "execution_count": 7,
   "metadata": {
    "execution": {
     "iopub.execute_input": "2022-10-14T15:28:39.268055Z",
     "iopub.status.busy": "2022-10-14T15:28:39.267973Z",
     "iopub.status.idle": "2022-10-14T15:28:39.270960Z",
     "shell.execute_reply": "2022-10-14T15:28:39.270689Z"
    }
   },
   "outputs": [
    {
     "data": {
      "text/plain": [
       "0.50    690\n",
       "0.25    641\n",
       "0.75    184\n",
       "0.00     17\n",
       "1.00      4\n",
       "Name: highest_education, dtype: int64"
      ]
     },
     "execution_count": 7,
     "metadata": {},
     "output_type": "execute_result"
    }
   ],
   "source": [
    "X_test[\"highest_education\"].value_counts()"
   ]
  },
  {
   "cell_type": "markdown",
   "metadata": {},
   "source": [
    "## Separate data sets by (un-)protected groups"
   ]
  },
  {
   "cell_type": "markdown",
   "metadata": {},
   "source": [
    "At that moment, I chose 'gender', 'imd_band' and 'disability' as interesting features to evaluate fairness with."
   ]
  },
  {
   "cell_type": "code",
   "execution_count": 8,
   "metadata": {
    "execution": {
     "iopub.execute_input": "2022-10-14T15:28:39.272548Z",
     "iopub.status.busy": "2022-10-14T15:28:39.272450Z",
     "iopub.status.idle": "2022-10-14T15:28:39.275080Z",
     "shell.execute_reply": "2022-10-14T15:28:39.274840Z"
    }
   },
   "outputs": [],
   "source": [
    "X_test_gender_1 = X_test[X_test[\"gender\"] == 1]\n",
    "X_test_gender_0 = X_test[X_test[\"gender\"] == 0]\n",
    "\n",
    "y_test_gender_1 = y_test.loc[X_test_gender_1.index]\n",
    "y_test_gender_0 = y_test.loc[X_test_gender_0.index]"
   ]
  },
  {
   "cell_type": "code",
   "execution_count": 9,
   "metadata": {
    "execution": {
     "iopub.execute_input": "2022-10-14T15:28:39.276553Z",
     "iopub.status.busy": "2022-10-14T15:28:39.276455Z",
     "iopub.status.idle": "2022-10-14T15:28:39.278919Z",
     "shell.execute_reply": "2022-10-14T15:28:39.278694Z"
    }
   },
   "outputs": [],
   "source": [
    "X_test_imdband_1 = X_test[X_test[\"imd_band\"] == 1]\n",
    "X_test_imdband_0 = X_test[X_test[\"imd_band\"] == 0]\n",
    "\n",
    "y_test_imdband_1 = y_test.loc[X_test_imdband_1.index]\n",
    "y_test_imdband_0 = y_test.loc[X_test_imdband_0.index]"
   ]
  },
  {
   "cell_type": "code",
   "execution_count": 10,
   "metadata": {
    "execution": {
     "iopub.execute_input": "2022-10-14T15:28:39.280398Z",
     "iopub.status.busy": "2022-10-14T15:28:39.280309Z",
     "iopub.status.idle": "2022-10-14T15:28:39.282694Z",
     "shell.execute_reply": "2022-10-14T15:28:39.282486Z"
    }
   },
   "outputs": [],
   "source": [
    "X_test_disability_1 = X_test[X_test[\"disability\"] == 1]\n",
    "X_test_disability_0 = X_test[X_test[\"disability\"] == 0]\n",
    "\n",
    "y_test_disability_1 = y_test.loc[X_test_disability_1.index]\n",
    "y_test_disability_0 = y_test.loc[X_test_disability_0.index]"
   ]
  },
  {
   "cell_type": "markdown",
   "metadata": {},
   "source": [
    "## Predictions"
   ]
  },
  {
   "cell_type": "markdown",
   "metadata": {},
   "source": [
    "### $X_{test}$"
   ]
  },
  {
   "cell_type": "code",
   "execution_count": 11,
   "metadata": {
    "execution": {
     "iopub.execute_input": "2022-10-14T15:28:39.284201Z",
     "iopub.status.busy": "2022-10-14T15:28:39.284105Z",
     "iopub.status.idle": "2022-10-14T15:28:39.312695Z",
     "shell.execute_reply": "2022-10-14T15:28:39.312444Z"
    }
   },
   "outputs": [
    {
     "name": "stderr",
     "output_type": "stream",
     "text": [
      "/Users/melinaverger/Desktop/exp2/env/lib/python3.10/site-packages/sklearn/neighbors/_classification.py:237: FutureWarning: Unlike other reduction functions (e.g. `skew`, `kurtosis`), the default behavior of `mode` typically preserves the axis it acts along. In SciPy 1.11.0, this behavior will change: the default value of `keepdims` will become False, the `axis` over which the statistic is taken will be eliminated, and the value None will no longer be accepted. Set `keepdims` to True or False to avoid this warning.\n",
      "  mode, _ = stats.mode(_y[neigh_ind, k], axis=1)\n"
     ]
    }
   ],
   "source": [
    "# Make predictions with each model\n",
    "y_pred_lr = clf_lr.predict(X_test)\n",
    "y_pred_svc = clf_svc.predict(X_test)\n",
    "y_pred_knearest = clf_knearest.predict(X_test)\n",
    "y_pred_dt = clf_dt.predict(X_test)"
   ]
  },
  {
   "cell_type": "markdown",
   "metadata": {},
   "source": [
    "### $X_{test}$ gender"
   ]
  },
  {
   "cell_type": "code",
   "execution_count": 12,
   "metadata": {
    "execution": {
     "iopub.execute_input": "2022-10-14T15:28:39.314244Z",
     "iopub.status.busy": "2022-10-14T15:28:39.314163Z",
     "iopub.status.idle": "2022-10-14T15:28:39.344437Z",
     "shell.execute_reply": "2022-10-14T15:28:39.344181Z"
    }
   },
   "outputs": [
    {
     "name": "stderr",
     "output_type": "stream",
     "text": [
      "/Users/melinaverger/Desktop/exp2/env/lib/python3.10/site-packages/sklearn/neighbors/_classification.py:237: FutureWarning: Unlike other reduction functions (e.g. `skew`, `kurtosis`), the default behavior of `mode` typically preserves the axis it acts along. In SciPy 1.11.0, this behavior will change: the default value of `keepdims` will become False, the `axis` over which the statistic is taken will be eliminated, and the value None will no longer be accepted. Set `keepdims` to True or False to avoid this warning.\n",
      "  mode, _ = stats.mode(_y[neigh_ind, k], axis=1)\n",
      "/Users/melinaverger/Desktop/exp2/env/lib/python3.10/site-packages/sklearn/neighbors/_classification.py:237: FutureWarning: Unlike other reduction functions (e.g. `skew`, `kurtosis`), the default behavior of `mode` typically preserves the axis it acts along. In SciPy 1.11.0, this behavior will change: the default value of `keepdims` will become False, the `axis` over which the statistic is taken will be eliminated, and the value None will no longer be accepted. Set `keepdims` to True or False to avoid this warning.\n",
      "  mode, _ = stats.mode(_y[neigh_ind, k], axis=1)\n"
     ]
    }
   ],
   "source": [
    "y_pred_lr_gender_1 = clf_lr.predict(X_test_gender_1)\n",
    "y_pred_svc_gender_1 = clf_svc.predict(X_test_gender_1)\n",
    "y_pred_knearest_gender_1 = clf_knearest.predict(X_test_gender_1)\n",
    "y_pred_dt_gender_1 = clf_dt.predict(X_test_gender_1)\n",
    "\n",
    "y_pred_lr_gender_0 = clf_lr.predict(X_test_gender_0)\n",
    "y_pred_svc_gender_0 = clf_svc.predict(X_test_gender_0)\n",
    "y_pred_knearest_gender_0 = clf_knearest.predict(X_test_gender_0)\n",
    "y_pred_dt_gender_0 = clf_dt.predict(X_test_gender_0)"
   ]
  },
  {
   "cell_type": "markdown",
   "metadata": {},
   "source": [
    "### $X_{test}$ imd band"
   ]
  },
  {
   "cell_type": "code",
   "execution_count": 13,
   "metadata": {
    "execution": {
     "iopub.execute_input": "2022-10-14T15:28:39.346011Z",
     "iopub.status.busy": "2022-10-14T15:28:39.345927Z",
     "iopub.status.idle": "2022-10-14T15:28:39.377546Z",
     "shell.execute_reply": "2022-10-14T15:28:39.377308Z"
    }
   },
   "outputs": [
    {
     "name": "stderr",
     "output_type": "stream",
     "text": [
      "/Users/melinaverger/Desktop/exp2/env/lib/python3.10/site-packages/sklearn/neighbors/_classification.py:237: FutureWarning: Unlike other reduction functions (e.g. `skew`, `kurtosis`), the default behavior of `mode` typically preserves the axis it acts along. In SciPy 1.11.0, this behavior will change: the default value of `keepdims` will become False, the `axis` over which the statistic is taken will be eliminated, and the value None will no longer be accepted. Set `keepdims` to True or False to avoid this warning.\n",
      "  mode, _ = stats.mode(_y[neigh_ind, k], axis=1)\n",
      "/Users/melinaverger/Desktop/exp2/env/lib/python3.10/site-packages/sklearn/neighbors/_classification.py:237: FutureWarning: Unlike other reduction functions (e.g. `skew`, `kurtosis`), the default behavior of `mode` typically preserves the axis it acts along. In SciPy 1.11.0, this behavior will change: the default value of `keepdims` will become False, the `axis` over which the statistic is taken will be eliminated, and the value None will no longer be accepted. Set `keepdims` to True or False to avoid this warning.\n",
      "  mode, _ = stats.mode(_y[neigh_ind, k], axis=1)\n"
     ]
    }
   ],
   "source": [
    "y_pred_lr_imdband_1 = clf_lr.predict(X_test_imdband_1)\n",
    "y_pred_svc_imdband_1 = clf_svc.predict(X_test_imdband_1)\n",
    "y_pred_knearest_imdband_1 = clf_knearest.predict(X_test_imdband_1)\n",
    "y_pred_dt_imdband_1 = clf_dt.predict(X_test_imdband_1)\n",
    "\n",
    "y_pred_lr_imdband_0 = clf_lr.predict(X_test_imdband_0)\n",
    "y_pred_svc_imdband_0 = clf_svc.predict(X_test_imdband_0)\n",
    "y_pred_knearest_imdband_0 = clf_knearest.predict(X_test_imdband_0)\n",
    "y_pred_dt_imdband_0 = clf_dt.predict(X_test_imdband_0)"
   ]
  },
  {
   "cell_type": "markdown",
   "metadata": {},
   "source": [
    "### $X_{test}$ disability"
   ]
  },
  {
   "cell_type": "code",
   "execution_count": 14,
   "metadata": {
    "execution": {
     "iopub.execute_input": "2022-10-14T15:28:39.379132Z",
     "iopub.status.busy": "2022-10-14T15:28:39.379047Z",
     "iopub.status.idle": "2022-10-14T15:28:39.409118Z",
     "shell.execute_reply": "2022-10-14T15:28:39.408865Z"
    }
   },
   "outputs": [
    {
     "name": "stderr",
     "output_type": "stream",
     "text": [
      "/Users/melinaverger/Desktop/exp2/env/lib/python3.10/site-packages/sklearn/neighbors/_classification.py:237: FutureWarning: Unlike other reduction functions (e.g. `skew`, `kurtosis`), the default behavior of `mode` typically preserves the axis it acts along. In SciPy 1.11.0, this behavior will change: the default value of `keepdims` will become False, the `axis` over which the statistic is taken will be eliminated, and the value None will no longer be accepted. Set `keepdims` to True or False to avoid this warning.\n",
      "  mode, _ = stats.mode(_y[neigh_ind, k], axis=1)\n",
      "/Users/melinaverger/Desktop/exp2/env/lib/python3.10/site-packages/sklearn/neighbors/_classification.py:237: FutureWarning: Unlike other reduction functions (e.g. `skew`, `kurtosis`), the default behavior of `mode` typically preserves the axis it acts along. In SciPy 1.11.0, this behavior will change: the default value of `keepdims` will become False, the `axis` over which the statistic is taken will be eliminated, and the value None will no longer be accepted. Set `keepdims` to True or False to avoid this warning.\n",
      "  mode, _ = stats.mode(_y[neigh_ind, k], axis=1)\n"
     ]
    }
   ],
   "source": [
    "y_pred_lr_disability_1 = clf_lr.predict(X_test_disability_1)\n",
    "y_pred_svc_disability_1 = clf_svc.predict(X_test_disability_1)\n",
    "y_pred_knearest_disability_1 = clf_knearest.predict(X_test_disability_1)\n",
    "y_pred_dt_disability_1 = clf_dt.predict(X_test_disability_1)\n",
    "\n",
    "y_pred_lr_disability_0 = clf_lr.predict(X_test_disability_0)\n",
    "y_pred_svc_disability_0 = clf_svc.predict(X_test_disability_0)\n",
    "y_pred_knearest_disability_0 = clf_knearest.predict(X_test_disability_0)\n",
    "y_pred_dt_disability_0 = clf_dt.predict(X_test_disability_0)"
   ]
  },
  {
   "cell_type": "markdown",
   "metadata": {},
   "source": [
    "## Computing fairness metrics"
   ]
  },
  {
   "cell_type": "code",
   "execution_count": 15,
   "metadata": {
    "execution": {
     "iopub.execute_input": "2022-10-14T15:28:39.410775Z",
     "iopub.status.busy": "2022-10-14T15:28:39.410692Z",
     "iopub.status.idle": "2022-10-14T15:28:39.425701Z",
     "shell.execute_reply": "2022-10-14T15:28:39.425439Z"
    }
   },
   "outputs": [],
   "source": [
    "# Compute the confusion matrix for each model and each set\n",
    "\n",
    "# X_test\n",
    "cm_lr = confusion_matrix(y_test, y_pred_lr)\n",
    "cm_svc = confusion_matrix(y_test, y_pred_svc)\n",
    "cm_knearest = confusion_matrix(y_test, y_pred_knearest)\n",
    "cm_dt = confusion_matrix(y_test, y_pred_dt)\n",
    "\n",
    "# X_test gender\n",
    "cm_lr_gender_1 = confusion_matrix(y_test_gender_1, y_pred_lr_gender_1)\n",
    "cm_svc_gender_1 = confusion_matrix(y_test_gender_1, y_pred_svc_gender_1)\n",
    "cm_knearest_gender_1 = confusion_matrix(y_test_gender_1, y_pred_knearest_gender_1)\n",
    "cm_dt_gender_1 = confusion_matrix(y_test_gender_1, y_pred_dt_gender_1)\n",
    "\n",
    "cm_lr_gender_0 = confusion_matrix(y_test_gender_0, y_pred_lr_gender_0)\n",
    "cm_svc_gender_0 = confusion_matrix(y_test_gender_0, y_pred_svc_gender_0)\n",
    "cm_knearest_gender_0 = confusion_matrix(y_test_gender_0, y_pred_knearest_gender_0)\n",
    "cm_dt_gender_0 = confusion_matrix(y_test_gender_0, y_pred_dt_gender_0)\n",
    "\n",
    "# X_test imd band\n",
    "cm_lr_imdband_1 = confusion_matrix(y_test_imdband_1, y_pred_lr_imdband_1)\n",
    "cm_svc_imdband_1 = confusion_matrix(y_test_imdband_1, y_pred_svc_imdband_1)\n",
    "cm_knearest_imdband_1 = confusion_matrix(y_test_imdband_1, y_pred_knearest_imdband_1)\n",
    "cm_dt_imdband_1 = confusion_matrix(y_test_imdband_1, y_pred_dt_imdband_1)\n",
    "\n",
    "cm_lr_imdband_0 = confusion_matrix(y_test_imdband_0, y_pred_lr_imdband_0)\n",
    "cm_svc_imdband_0 = confusion_matrix(y_test_imdband_0, y_pred_svc_imdband_0)\n",
    "cm_knearest_imdband_0 = confusion_matrix(y_test_imdband_0, y_pred_knearest_imdband_0)\n",
    "cm_dt_imdband_0 = confusion_matrix(y_test_imdband_0, y_pred_dt_imdband_0)\n",
    "\n",
    "# X_test disability\n",
    "cm_lr_disability_1 = confusion_matrix(y_test_disability_1, y_pred_lr_disability_1)\n",
    "cm_svc_disability_1 = confusion_matrix(y_test_disability_1, y_pred_svc_disability_1)\n",
    "cm_knearest_disability_1 = confusion_matrix(y_test_disability_1, y_pred_knearest_disability_1)\n",
    "cm_dt_disability_1 = confusion_matrix(y_test_disability_1, y_pred_dt_disability_1)\n",
    "\n",
    "cm_lr_disability_0 = confusion_matrix(y_test_disability_0, y_pred_lr_disability_0)\n",
    "cm_svc_disability_0 = confusion_matrix(y_test_disability_0, y_pred_svc_disability_0)\n",
    "cm_knearest_disability_0 = confusion_matrix(y_test_disability_0, y_pred_knearest_disability_0)\n",
    "cm_dt_disability_0 = confusion_matrix(y_test_disability_0, y_pred_dt_disability_0)"
   ]
  },
  {
   "cell_type": "code",
   "execution_count": 16,
   "metadata": {
    "execution": {
     "iopub.execute_input": "2022-10-14T15:28:39.427263Z",
     "iopub.status.busy": "2022-10-14T15:28:39.427181Z",
     "iopub.status.idle": "2022-10-14T15:28:39.431355Z",
     "shell.execute_reply": "2022-10-14T15:28:39.431117Z"
    }
   },
   "outputs": [],
   "source": [
    "# Extract TP, TN, FP, FN\n",
    "\n",
    "# X_test\n",
    "TN_lr, FP_lr, FN_lr, TP_lr = cm_lr.ravel()\n",
    "TN_svc, FP_svc, FN_svc, TP_svc = cm_svc.ravel()\n",
    "TN_knearest, FP_knearest, FN_knearest, TP_knearest = cm_knearest.ravel()\n",
    "TN_dt, FP_dt, FN_dt, TP_dt = cm_dt.ravel()\n",
    "\n",
    "# X_test gender\n",
    "TN_lr_gender_1, FP_lr_gender_1, FN_lr_gender_1, TP_lr_gender_1 = cm_lr_gender_1.ravel()\n",
    "TN_svc_gender_1, FP_svc_gender_1, FN_svc_gender_1, TP_svc_gender_1 = cm_svc_gender_1.ravel()\n",
    "TN_knearest_gender_1, FP_knearest_gender_1, FN_knearest_gender_1, TP_knearest_gender_1 = cm_knearest_gender_1.ravel()\n",
    "TN_dt_gender_1, FP_dt_gender_1, FN_dt_gender_1, TP_dt_gender_1 = cm_dt_gender_1.ravel()\n",
    "\n",
    "TN_lr_gender_0, FP_lr_gender_0, FN_lr_gender_0, TP_lr_gender_0 = cm_lr_gender_0.ravel()\n",
    "TN_svc_gender_0, FP_svc_gender_0, FN_svc_gender_0, TP_svc_gender_0 = cm_svc_gender_0.ravel()\n",
    "TN_knearest_gender_0, FP_knearest_gender_0, FN_knearest_gender_0, TP_knearest_gender_0 = cm_knearest_gender_0.ravel()\n",
    "TN_dt_gender_0, FP_dt_gender_0, FN_dt_gender_0, TP_dt_gender_0 = cm_dt_gender_0.ravel()\n",
    "\n",
    "# X_test imd band\n",
    "TN_lr_imdband_1, FP_lr_imdband_1, FN_lr_imdband_1, TP_lr_imdband_1 = cm_lr_imdband_1.ravel()\n",
    "TN_svc_imdband_1, FP_svc_imdband_1, FN_svc_imdband_1, TP_svc_imdband_1 = cm_svc_imdband_1.ravel()\n",
    "TN_knearest_imdband_1, FP_knearest_imdband_1, FN_knearest_imdband_1, TP_knearest_imdband_1 = cm_knearest_imdband_1.ravel()\n",
    "TN_dt_imdband_1, FP_dt_imdband_1, FN_dt_imdband_1, TP_dt_imdband_1 = cm_dt_imdband_1.ravel()\n",
    "\n",
    "TN_lr_imdband_0, FP_lr_imdband_0, FN_lr_imdband_0, TP_lr_imdband_0 = cm_lr_imdband_0.ravel()\n",
    "TN_svc_imdband_0, FP_svc_imdband_0, FN_svc_imdband_0, TP_svc_imdband_0 = cm_svc_imdband_0.ravel()\n",
    "TN_knearest_imdband_0, FP_knearest_imdband_0, FN_knearest_imdband_0, TP_knearest_imdband_0 = cm_knearest_imdband_0.ravel()\n",
    "TN_dt_imdband_0, FP_dt_imdband_0, FN_dt_imdband_0, TP_dt_imdband_0 = cm_dt_imdband_0.ravel()\n",
    "\n",
    "# X_test disability\n",
    "TN_lr_disability_1, FP_lr_disability_1, FN_lr_disability_1, TP_lr_disability_1 = cm_lr_disability_1.ravel()\n",
    "TN_svc_disability_1, FP_svc_disability_1, FN_svc_disability_1, TP_svc_disability_1 = cm_svc_disability_1.ravel()\n",
    "TN_knearest_disability_1, FP_knearest_disability_1, FN_knearest_disability_1, TP_knearest_disability_1 = cm_knearest_disability_1.ravel()\n",
    "TN_dt_disability_1, FP_dt_disability_1, FN_dt_disability_1, TP_dt_disability_1 = cm_dt_disability_1.ravel()\n",
    "\n",
    "TN_lr_disability_0, FP_lr_disability_0, FN_lr_disability_0, TP_lr_disability_0 = cm_lr_disability_0.ravel()\n",
    "TN_svc_disability_0, FP_svc_disability_0, FN_svc_disability_0, TP_svc_disability_0 = cm_svc_disability_0.ravel()\n",
    "TN_knearest_disability_0, FP_knearest_disability_0, FN_knearest_disability_0, TP_knearest_disability_0 = cm_knearest_disability_0.ravel()\n",
    "TN_dt_disability_0, FP_dt_disability_0, FN_dt_disability_0, TP_dt_disability_0 = cm_dt_disability_0.ravel()"
   ]
  },
  {
   "cell_type": "code",
   "execution_count": 17,
   "metadata": {
    "execution": {
     "iopub.execute_input": "2022-10-14T15:28:39.432770Z",
     "iopub.status.busy": "2022-10-14T15:28:39.432695Z",
     "iopub.status.idle": "2022-10-14T15:28:39.434665Z",
     "shell.execute_reply": "2022-10-14T15:28:39.434453Z"
    }
   },
   "outputs": [],
   "source": [
    "# Compute fairness metrics\n",
    "def fairness_metrics(TN, FP, FN, TP):\n",
    "    N = TN + FP + FN + TP\n",
    "    TPR = TP / (TP + FN) # equal opportunity\n",
    "    FPR = FP / (FP + TN) # equalized odds\n",
    "    PPP = (TP + FP) / N # disparate impact\n",
    "    FNR = FN / (TP + FN)\n",
    "    return {\"TPR\": TPR, \"FPR\": FPR, \"PPP\": PPP, \"FNR\": FNR}"
   ]
  },
  {
   "cell_type": "code",
   "execution_count": 18,
   "metadata": {
    "execution": {
     "iopub.execute_input": "2022-10-14T15:28:39.436151Z",
     "iopub.status.busy": "2022-10-14T15:28:39.436076Z",
     "iopub.status.idle": "2022-10-14T15:28:39.440147Z",
     "shell.execute_reply": "2022-10-14T15:28:39.439912Z"
    }
   },
   "outputs": [],
   "source": [
    "fm_lr = fairness_metrics(TN_lr, FP_lr, FN_lr, TP_lr)\n",
    "fm_svc = fairness_metrics(TN_svc, FP_svc, FN_svc, TP_svc)\n",
    "fm_knearest = fairness_metrics(TN_knearest, FP_knearest, FN_knearest, TP_knearest)\n",
    "fm_dt = fairness_metrics(TN_dt, FP_dt, FN_dt, TP_dt)\n",
    "\n",
    "fm_lr_gender_1 = fairness_metrics(TN_lr_gender_1, FP_lr_gender_1, FN_lr_gender_1, TP_lr_gender_1)\n",
    "fm_svc_gender_1 = fairness_metrics(TN_svc_gender_1, FP_svc_gender_1, FN_svc_gender_1, TP_svc_gender_1)\n",
    "fm_knearest_gender_1 = fairness_metrics(TN_knearest_gender_1, FP_knearest_gender_1, FN_knearest_gender_1, TP_knearest_gender_1)\n",
    "fm_dt_gender_1 = fairness_metrics(TN_dt_gender_1, FP_dt_gender_1, FN_dt_gender_1, TP_dt_gender_1)\n",
    "\n",
    "fm_lr_gender_0 = fairness_metrics(TN_lr_gender_0, FP_lr_gender_0, FN_lr_gender_0, TP_lr_gender_0)\n",
    "fm_svc_gender_0 = fairness_metrics(TN_svc_gender_0, FP_svc_gender_0, FN_svc_gender_0, TP_svc_gender_0)\n",
    "fm_knearest_gender_0 = fairness_metrics(TN_knearest_gender_0, FP_knearest_gender_0, FN_knearest_gender_0, TP_knearest_gender_0)\n",
    "fm_dt_gender_0 = fairness_metrics(TN_dt_gender_0, FP_dt_gender_0, FN_dt_gender_0, TP_dt_gender_0)\n",
    "\n",
    "fm_lr_imdband_1 = fairness_metrics(TN_lr_imdband_1, FP_lr_imdband_1, FN_lr_imdband_1, TP_lr_imdband_1)\n",
    "fm_svc_imdband_1 = fairness_metrics(TN_svc_imdband_1, FP_svc_imdband_1, FN_svc_imdband_1, TP_svc_imdband_1)\n",
    "fm_knearest_imdband_1 = fairness_metrics(TN_knearest_imdband_1, FP_knearest_imdband_1, FN_knearest_imdband_1, TP_knearest_imdband_1)\n",
    "fm_dt_imdband_1 = fairness_metrics(TN_dt_imdband_1, FP_dt_imdband_1, FN_dt_imdband_1, TP_dt_imdband_1)\n",
    "\n",
    "fm_lr_imdband_0 = fairness_metrics(TN_lr_imdband_0, FP_lr_imdband_0, FN_lr_imdband_0, TP_lr_imdband_0)\n",
    "fm_svc_imdband_0 = fairness_metrics(TN_svc_imdband_0, FP_svc_imdband_0, FN_svc_imdband_0, TP_svc_imdband_0)\n",
    "fm_knearest_imdband_0 = fairness_metrics(TN_knearest_imdband_0, FP_knearest_imdband_0, FN_knearest_imdband_0, TP_knearest_imdband_0)\n",
    "fm_dt_imdband_0 = fairness_metrics(TN_dt_imdband_0, FP_dt_imdband_0, FN_dt_imdband_0, TP_dt_imdband_0)\n",
    "\n",
    "fm_lr_disability_1 = fairness_metrics(TN_lr_disability_1, FP_lr_disability_1, FN_lr_disability_1, TP_lr_disability_1)\n",
    "fm_svc_disability_1 = fairness_metrics(TN_svc_disability_1, FP_svc_disability_1, FN_svc_disability_1, TP_svc_disability_1)\n",
    "fm_knearest_disability_1 = fairness_metrics(TN_knearest_disability_1, FP_knearest_disability_1, FN_knearest_disability_1, TP_knearest_disability_1)\n",
    "fm_dt_disability_1 = fairness_metrics(TN_dt_disability_1, FP_dt_disability_1, FN_dt_disability_1, TP_dt_disability_1)\n",
    "\n",
    "fm_lr_disability_0 = fairness_metrics(TN_lr_disability_0, FP_lr_disability_0, FN_lr_disability_0, TP_lr_disability_0)\n",
    "fm_svc_disability_0 = fairness_metrics(TN_svc_disability_0, FP_svc_disability_0, FN_svc_disability_0, TP_svc_disability_0)\n",
    "fm_knearest_disability_0 = fairness_metrics(TN_knearest_disability_0, FP_knearest_disability_0, FN_knearest_disability_0, TP_knearest_disability_0)\n",
    "fm_dt_disability_0 = fairness_metrics(TN_dt_disability_0, FP_dt_disability_0, FN_dt_disability_0, TP_dt_disability_0)"
   ]
  },
  {
   "cell_type": "markdown",
   "metadata": {},
   "source": [
    "## Results"
   ]
  },
  {
   "cell_type": "markdown",
   "metadata": {},
   "source": [
    "### $X_{test}$"
   ]
  },
  {
   "cell_type": "code",
   "execution_count": 19,
   "metadata": {
    "execution": {
     "iopub.execute_input": "2022-10-14T15:28:39.441697Z",
     "iopub.status.busy": "2022-10-14T15:28:39.441619Z",
     "iopub.status.idle": "2022-10-14T15:28:39.444572Z",
     "shell.execute_reply": "2022-10-14T15:28:39.444346Z"
    }
   },
   "outputs": [
    {
     "name": "stdout",
     "output_type": "stream",
     "text": [
      "Model       TPR    FPR    PPP    FNR\n",
      "--------  -----  -----  -----  -----\n",
      "LR         0.93   0.69   0.86   0.07\n",
      "SVC        0.92   0.63   0.84   0.08\n",
      "KNEAREST   0.87   0.59   0.79   0.13\n",
      "DT         0.8    0.5    0.72   0.2\n"
     ]
    }
   ],
   "source": [
    "print(tabulate([[\"LR\", round(fm_lr[\"TPR\"], 2), round(fm_lr[\"FPR\"], 2), round(fm_lr[\"PPP\"], 2), round(fm_lr[\"FNR\"], 2)],\n",
    "                [\"SVC\", round(fm_svc[\"TPR\"], 2), round(fm_svc[\"FPR\"], 2), round(fm_svc[\"PPP\"], 2), round(fm_svc[\"FNR\"], 2)],\n",
    "                [\"KNEAREST\", round(fm_knearest[\"TPR\"], 2), round(fm_knearest[\"FPR\"], 2), round(fm_knearest[\"PPP\"], 2), round(fm_knearest[\"FNR\"], 2)],\n",
    "                [\"DT\", round(fm_dt[\"TPR\"], 2), round(fm_dt[\"FPR\"], 2), round(fm_dt[\"PPP\"], 2), round(fm_dt[\"FNR\"], 2)]],\n",
    "                headers=[\"Model\", \"TPR\", \"FPR\", \"PPP\", \"FNR\"]))"
   ]
  },
  {
   "cell_type": "markdown",
   "metadata": {},
   "source": [
    "### $X_{test}$ gender"
   ]
  },
  {
   "cell_type": "code",
   "execution_count": 20,
   "metadata": {
    "execution": {
     "iopub.execute_input": "2022-10-14T15:28:39.446017Z",
     "iopub.status.busy": "2022-10-14T15:28:39.445942Z",
     "iopub.status.idle": "2022-10-14T15:28:39.451499Z",
     "shell.execute_reply": "2022-10-14T15:28:39.451246Z"
    }
   },
   "outputs": [
    {
     "name": "stdout",
     "output_type": "stream",
     "text": [
      "Model       TPR gender 1    TPR gender 0     Δ    FPR gender 1    FPR gender 0      Δ    PPP gender 1    PPP gender 0      Δ    FNR gender 1    FNR gender 0      Δ\n",
      "--------  --------------  --------------  ----  --------------  --------------  -----  --------------  --------------  -----  --------------  --------------  -----\n",
      "LR                  0.94            0.93  0.01            0.63            0.7   -0.07            0.85            0.87  -0.02            0.06            0.07  -0.01\n",
      "SVC                 0.93            0.92  0.01            0.54            0.64  -0.1             0.82            0.84  -0.02            0.07            0.08  -0.01\n",
      "KNEAREST            0.87            0.87  0               0.65            0.59   0.06            0.81            0.79   0.02            0.13            0.13   0\n",
      "DT                  0.82            0.8   0.02            0.59            0.49   0.1             0.75            0.71   0.04            0.18            0.2   -0.02\n"
     ]
    }
   ],
   "source": [
    "print(tabulate([[\"LR\", round(fm_lr_gender_1[\"TPR\"], 2), round(fm_lr_gender_0[\"TPR\"], 2), round(fm_lr_gender_1[\"TPR\"], 2) - round(fm_lr_gender_0[\"TPR\"], 2), round(fm_lr_gender_1[\"FPR\"], 2), round(fm_lr_gender_0[\"FPR\"], 2), round(fm_lr_gender_1[\"FPR\"], 2) - round(fm_lr_gender_0[\"FPR\"], 2), round(fm_lr_gender_1[\"PPP\"], 2), round(fm_lr_gender_0[\"PPP\"], 2), round(fm_lr_gender_1[\"PPP\"], 2) - round(fm_lr_gender_0[\"PPP\"], 2), round(fm_lr_gender_1[\"FNR\"], 2), round(fm_lr_gender_0[\"FNR\"], 2), round(fm_lr_gender_1[\"FNR\"], 2) - round(fm_lr_gender_0[\"FNR\"], 2)],\n",
    "                [\"SVC\", round(fm_svc_gender_1[\"TPR\"], 2), round(fm_svc_gender_0[\"TPR\"], 2), round(fm_svc_gender_1[\"TPR\"], 2) - round(fm_svc_gender_0[\"TPR\"], 2), round(fm_svc_gender_1[\"FPR\"], 2), round(fm_svc_gender_0[\"FPR\"], 2), round(fm_svc_gender_1[\"FPR\"], 2) - round(fm_svc_gender_0[\"FPR\"], 2), round(fm_svc_gender_1[\"PPP\"], 2), round(fm_svc_gender_0[\"PPP\"], 2), round(fm_svc_gender_1[\"PPP\"], 2) - round(fm_svc_gender_0[\"PPP\"], 2), round(fm_svc_gender_1[\"FNR\"], 2), round(fm_svc_gender_0[\"FNR\"], 2), round(fm_svc_gender_1[\"FNR\"], 2) - round(fm_svc_gender_0[\"FNR\"], 2)],\n",
    "                [\"KNEAREST\", round(fm_knearest_gender_1[\"TPR\"], 2), round(fm_knearest_gender_0[\"TPR\"], 2), round(fm_knearest_gender_1[\"TPR\"], 2) - round(fm_knearest_gender_0[\"TPR\"], 2), round(fm_knearest_gender_1[\"FPR\"], 2), round(fm_knearest_gender_0[\"FPR\"], 2), round(fm_knearest_gender_1[\"FPR\"], 2) - round(fm_knearest_gender_0[\"FPR\"], 2), round(fm_knearest_gender_1[\"PPP\"], 2), round(fm_knearest_gender_0[\"PPP\"], 2), round(fm_knearest_gender_1[\"PPP\"], 2) - round(fm_knearest_gender_0[\"PPP\"], 2), round(fm_knearest_gender_1[\"FNR\"], 2), round(fm_knearest_gender_0[\"FNR\"], 2), round(fm_knearest_gender_1[\"FNR\"], 2) - round(fm_knearest_gender_0[\"FNR\"], 2)],\n",
    "                [\"DT\", round(fm_dt_gender_1[\"TPR\"], 2), round(fm_dt_gender_0[\"TPR\"], 2), round(fm_dt_gender_1[\"TPR\"], 2) - round(fm_dt_gender_0[\"TPR\"], 2), round(fm_dt_gender_1[\"FPR\"], 2), round(fm_dt_gender_0[\"FPR\"], 2), round(fm_dt_gender_1[\"FPR\"], 2) - round(fm_dt_gender_0[\"FPR\"], 2), round(fm_dt_gender_1[\"PPP\"], 2), round(fm_dt_gender_0[\"PPP\"], 2), round(fm_dt_gender_1[\"PPP\"], 2) - round(fm_dt_gender_0[\"PPP\"], 2), round(fm_dt_gender_1[\"FNR\"], 2), round(fm_dt_gender_0[\"FNR\"], 2), round(fm_dt_gender_1[\"FNR\"], 2) - round(fm_dt_gender_0[\"FNR\"], 2)]],\n",
    "                headers=[\"Model\", \"TPR gender 1\", \"TPR gender 0\", \"\\u0394\", \"FPR gender 1\", \"FPR gender 0\", \"\\u0394\", \"PPP gender 1\", \"PPP gender 0\", \"\\u0394\", \"FNR gender 1\", \"FNR gender 0\", \"\\u0394\"]))"
   ]
  },
  {
   "cell_type": "code",
   "execution_count": 21,
   "metadata": {
    "execution": {
     "iopub.execute_input": "2022-10-14T15:28:39.452839Z",
     "iopub.status.busy": "2022-10-14T15:28:39.452766Z",
     "iopub.status.idle": "2022-10-14T15:28:39.454318Z",
     "shell.execute_reply": "2022-10-14T15:28:39.454081Z"
    }
   },
   "outputs": [],
   "source": [
    "# print(tabulate([[\"LR\", round(fm_lr_gender_1[\"TPR\"], 2), round(fm_lr_gender_1[\"FPR\"], 2), round(fm_lr_gender_1[\"PPP\"], 2), round(fm_lr_gender_1[\"FNR\"], 2)],\n",
    "#                 [\"SVC\", round(fm_svc_gender_1[\"TPR\"], 2), round(fm_svc_gender_1[\"FPR\"], 2), round(fm_svc_gender_1[\"PPP\"], 2), round(fm_svc_gender_1[\"FNR\"], 2)],\n",
    "#                 [\"KNEAREST\", round(fm_knearest_gender_1[\"TPR\"], 2), round(fm_knearest_gender_1[\"FPR\"], 2), round(fm_knearest_gender_1[\"PPP\"], 2), round(fm_knearest_gender_1[\"FNR\"], 2)],\n",
    "#                 [\"DT\", round(fm_dt_gender_1[\"TPR\"], 2), round(fm_dt_gender_1[\"FPR\"], 2), round(fm_dt_gender_1[\"PPP\"], 2), round(fm_dt_gender_1[\"FNR\"], 2)]],\n",
    "#                 headers=[\"Model\", \"TPR\", \"FPR\", \"PPP\", \"FNR\"]))"
   ]
  },
  {
   "cell_type": "code",
   "execution_count": 22,
   "metadata": {
    "execution": {
     "iopub.execute_input": "2022-10-14T15:28:39.455677Z",
     "iopub.status.busy": "2022-10-14T15:28:39.455583Z",
     "iopub.status.idle": "2022-10-14T15:28:39.457292Z",
     "shell.execute_reply": "2022-10-14T15:28:39.457049Z"
    }
   },
   "outputs": [],
   "source": [
    "# print(tabulate([[\"LR\", round(fm_lr_gender_0[\"TPR\"], 2), round(fm_lr_gender_0[\"FPR\"], 2), round(fm_lr_gender_0[\"PPP\"], 2), round(fm_lr_gender_0[\"FNR\"], 2)],\n",
    "#                 [\"SVC\", round(fm_svc_gender_0[\"TPR\"], 2), round(fm_svc_gender_0[\"FPR\"], 2), round(fm_svc_gender_0[\"PPP\"], 2), round(fm_svc_gender_0[\"FNR\"], 2)],\n",
    "#                 [\"KNEAREST\", round(fm_knearest_gender_0[\"TPR\"], 2), round(fm_knearest_gender_0[\"FPR\"], 2), round(fm_knearest_gender_0[\"PPP\"], 2), round(fm_knearest_gender_0[\"FNR\"], 2)],\n",
    "#                 [\"DT\", round(fm_dt_gender_0[\"TPR\"], 2), round(fm_dt_gender_0[\"FPR\"], 2), round(fm_dt_gender_0[\"PPP\"], 2), round(fm_dt_gender_0[\"FNR\"], 2)]],\n",
    "#                 headers=[\"Model\", \"TPR\", \"FPR\", \"PPP\", \"FNR\"]))"
   ]
  },
  {
   "cell_type": "markdown",
   "metadata": {},
   "source": [
    "### $X_{test}$ imd band"
   ]
  },
  {
   "cell_type": "code",
   "execution_count": 23,
   "metadata": {
    "execution": {
     "iopub.execute_input": "2022-10-14T15:28:39.458664Z",
     "iopub.status.busy": "2022-10-14T15:28:39.458595Z",
     "iopub.status.idle": "2022-10-14T15:28:39.464379Z",
     "shell.execute_reply": "2022-10-14T15:28:39.464136Z"
    }
   },
   "outputs": [
    {
     "name": "stdout",
     "output_type": "stream",
     "text": [
      "Model       TPR imd 1    TPR imd 0      Δ    FPR imd 1    FPR imd 0      Δ    PPP imd 1    PPP imd 0      Δ    FNR imd 1    FNR imd 0     Δ\n",
      "--------  -----------  -----------  -----  -----------  -----------  -----  -----------  -----------  -----  -----------  -----------  ----\n",
      "LR               0.9          0.96  -0.06         0.64         0.8   -0.16         0.82         0.93  -0.11         0.1          0.04  0.06\n",
      "SVC              0.89         0.96  -0.07         0.56         0.77  -0.21         0.79         0.91  -0.12         0.11         0.04  0.07\n",
      "KNEAREST         0.83         0.91  -0.08         0.54         0.7   -0.16         0.74         0.86  -0.12         0.17         0.09  0.08\n",
      "DT               0.78         0.83  -0.05         0.48         0.55  -0.07         0.68         0.77  -0.09         0.22         0.17  0.05\n"
     ]
    }
   ],
   "source": [
    "print(tabulate([[\"LR\", round(fm_lr_imdband_1[\"TPR\"], 2), round(fm_lr_imdband_0[\"TPR\"], 2), round(fm_lr_imdband_1[\"TPR\"], 2) - round(fm_lr_imdband_0[\"TPR\"], 2), round(fm_lr_imdband_1[\"FPR\"], 2), round(fm_lr_imdband_0[\"FPR\"], 2), round(fm_lr_imdband_1[\"FPR\"], 2) - round(fm_lr_imdband_0[\"FPR\"], 2), round(fm_lr_imdband_1[\"PPP\"], 2), round(fm_lr_imdband_0[\"PPP\"], 2), round(fm_lr_imdband_1[\"PPP\"], 2) - round(fm_lr_imdband_0[\"PPP\"], 2), round(fm_lr_imdband_1[\"FNR\"], 2), round(fm_lr_imdband_0[\"FNR\"], 2), round(fm_lr_imdband_1[\"FNR\"], 2) - round(fm_lr_imdband_0[\"FNR\"], 2)],\n",
    "                [\"SVC\", round(fm_svc_imdband_1[\"TPR\"], 2), round(fm_svc_imdband_0[\"TPR\"], 2), round(fm_svc_imdband_1[\"TPR\"], 2) - round(fm_svc_imdband_0[\"TPR\"], 2), round(fm_svc_imdband_1[\"FPR\"], 2), round(fm_svc_imdband_0[\"FPR\"], 2), round(fm_svc_imdband_1[\"FPR\"], 2) - round(fm_svc_imdband_0[\"FPR\"], 2), round(fm_svc_imdband_1[\"PPP\"], 2), round(fm_svc_imdband_0[\"PPP\"], 2), round(fm_svc_imdband_1[\"PPP\"], 2) - round(fm_svc_imdband_0[\"PPP\"], 2), round(fm_svc_imdband_1[\"FNR\"], 2), round(fm_svc_imdband_0[\"FNR\"], 2), round(fm_svc_imdband_1[\"FNR\"], 2) - round(fm_svc_imdband_0[\"FNR\"], 2)],\n",
    "                [\"KNEAREST\", round(fm_knearest_imdband_1[\"TPR\"], 2), round(fm_knearest_imdband_0[\"TPR\"], 2), round(fm_knearest_imdband_1[\"TPR\"], 2) - round(fm_knearest_imdband_0[\"TPR\"], 2), round(fm_knearest_imdband_1[\"FPR\"], 2), round(fm_knearest_imdband_0[\"FPR\"], 2), round(fm_knearest_imdband_1[\"FPR\"], 2) - round(fm_knearest_imdband_0[\"FPR\"], 2), round(fm_knearest_imdband_1[\"PPP\"], 2), round(fm_knearest_imdband_0[\"PPP\"], 2), round(fm_knearest_imdband_1[\"PPP\"], 2) - round(fm_knearest_imdband_0[\"PPP\"], 2), round(fm_knearest_imdband_1[\"FNR\"], 2), round(fm_knearest_imdband_0[\"FNR\"], 2), round(fm_knearest_imdband_1[\"FNR\"], 2) - round(fm_knearest_imdband_0[\"FNR\"], 2)],\n",
    "                [\"DT\", round(fm_dt_imdband_1[\"TPR\"], 2), round(fm_dt_imdband_0[\"TPR\"], 2), round(fm_dt_imdband_1[\"TPR\"], 2) - round(fm_dt_imdband_0[\"TPR\"], 2), round(fm_dt_imdband_1[\"FPR\"], 2), round(fm_dt_imdband_0[\"FPR\"], 2), round(fm_dt_imdband_1[\"FPR\"], 2) - round(fm_dt_imdband_0[\"FPR\"], 2), round(fm_dt_imdband_1[\"PPP\"], 2), round(fm_dt_imdband_0[\"PPP\"], 2), round(fm_dt_imdband_1[\"PPP\"], 2) - round(fm_dt_imdband_0[\"PPP\"], 2), round(fm_dt_imdband_1[\"FNR\"], 2), round(fm_dt_imdband_0[\"FNR\"], 2), round(fm_dt_imdband_1[\"FNR\"], 2) - round(fm_dt_imdband_0[\"FNR\"], 2)]],\n",
    "                headers=[\"Model\", \"TPR imd 1\", \"TPR imd 0\", \"\\u0394\", \"FPR imd 1\", \"FPR imd 0\", \"\\u0394\", \"PPP imd 1\", \"PPP imd 0\", \"\\u0394\", \"FNR imd 1\", \"FNR imd 0\", \"\\u0394\"]))"
   ]
  },
  {
   "cell_type": "code",
   "execution_count": 24,
   "metadata": {
    "execution": {
     "iopub.execute_input": "2022-10-14T15:28:39.465961Z",
     "iopub.status.busy": "2022-10-14T15:28:39.465877Z",
     "iopub.status.idle": "2022-10-14T15:28:39.467501Z",
     "shell.execute_reply": "2022-10-14T15:28:39.467293Z"
    }
   },
   "outputs": [],
   "source": [
    "# print(tabulate([[\"LR\", round(fm_lr_imdband_1[\"TPR\"], 2), round(fm_lr_imdband_1[\"FPR\"], 2), round(fm_lr_imdband_1[\"PPP\"], 2), round(fm_lr_imdband_1[\"FNR\"], 2)],\n",
    "#                 [\"SVC\", round(fm_svc_imdband_1[\"TPR\"], 2), round(fm_svc_imdband_1[\"FPR\"], 2), round(fm_svc_imdband_1[\"PPP\"], 2), round(fm_svc_imdband_1[\"FNR\"], 2)],\n",
    "#                 [\"KNEAREST\", round(fm_knearest_imdband_1[\"TPR\"], 2), round(fm_knearest_imdband_1[\"FPR\"], 2), round(fm_knearest_imdband_1[\"PPP\"], 2), round(fm_knearest_imdband_1[\"FNR\"], 2)],\n",
    "#                 [\"DT\", round(fm_dt_imdband_1[\"TPR\"], 2), round(fm_dt_imdband_1[\"FPR\"], 2), round(fm_dt_imdband_1[\"PPP\"], 2), round(fm_dt_imdband_1[\"FNR\"], 2)]],\n",
    "#                 headers=[\"Model\", \"TPR\", \"FPR\", \"PPP\", \"FNR\"]))"
   ]
  },
  {
   "cell_type": "code",
   "execution_count": 25,
   "metadata": {
    "execution": {
     "iopub.execute_input": "2022-10-14T15:28:39.468870Z",
     "iopub.status.busy": "2022-10-14T15:28:39.468795Z",
     "iopub.status.idle": "2022-10-14T15:28:39.470490Z",
     "shell.execute_reply": "2022-10-14T15:28:39.470198Z"
    }
   },
   "outputs": [],
   "source": [
    "# print(tabulate([[\"LR\", round(fm_lr_imdband_0[\"TPR\"], 2), round(fm_lr_imdband_0[\"FPR\"], 2), round(fm_lr_imdband_0[\"PPP\"], 2), round(fm_lr_imdband_0[\"FNR\"], 2)],\n",
    "#                 [\"SVC\", round(fm_svc_imdband_0[\"TPR\"], 2), round(fm_svc_imdband_0[\"FPR\"], 2), round(fm_svc_imdband_0[\"PPP\"], 2), round(fm_svc_imdband_0[\"FNR\"], 2)],\n",
    "#                 [\"KNEAREST\", round(fm_knearest_imdband_0[\"TPR\"], 2), round(fm_knearest_imdband_0[\"FPR\"], 2), round(fm_knearest_imdband_0[\"PPP\"], 2), round(fm_knearest_imdband_0[\"FNR\"], 2)],\n",
    "#                 [\"DT\", round(fm_dt_imdband_0[\"TPR\"], 2), round(fm_dt_imdband_0[\"FPR\"], 2), round(fm_dt_imdband_0[\"PPP\"], 2), round(fm_dt_imdband_0[\"FNR\"], 2)]],\n",
    "#                 headers=[\"Model\", \"TPR\", \"FPR\", \"PPP\", \"FNR\"]))"
   ]
  },
  {
   "cell_type": "markdown",
   "metadata": {},
   "source": [
    "### $X_{test}$ disability"
   ]
  },
  {
   "cell_type": "code",
   "execution_count": 26,
   "metadata": {
    "execution": {
     "iopub.execute_input": "2022-10-14T15:28:39.472005Z",
     "iopub.status.busy": "2022-10-14T15:28:39.471929Z",
     "iopub.status.idle": "2022-10-14T15:28:39.506222Z",
     "shell.execute_reply": "2022-10-14T15:28:39.505960Z"
    }
   },
   "outputs": [
    {
     "name": "stdout",
     "output_type": "stream",
     "text": [
      "Model       TPR disab. 1    TPR disab. 0      Δ    FPR disab. 1    FPR disab. 0      Δ    PPP disab. 1    PPP disab. 0      Δ    FNR disab. 1    FNR disab. 0     Δ\n",
      "--------  --------------  --------------  -----  --------------  --------------  -----  --------------  --------------  -----  --------------  --------------  ----\n",
      "LR                  0.87            0.93  -0.06            0.57            0.71  -0.14            0.76            0.87  -0.11            0.13            0.07  0.06\n",
      "SVC                 0.86            0.92  -0.06            0.49            0.65  -0.16            0.73            0.85  -0.12            0.14            0.08  0.06\n",
      "KNEAREST            0.8             0.87  -0.07            0.55            0.6   -0.05            0.71            0.8   -0.09            0.2             0.13  0.07\n",
      "DT                  0.76            0.8   -0.04            0.57            0.49   0.08            0.69            0.72  -0.03            0.24            0.2   0.04\n"
     ]
    }
   ],
   "source": [
    "print(tabulate([[\"LR\", round(fm_lr_disability_1[\"TPR\"], 2), round(fm_lr_disability_0[\"TPR\"], 2), round(fm_lr_disability_1[\"TPR\"], 2) - round(fm_lr_disability_0[\"TPR\"], 2), round(fm_lr_disability_1[\"FPR\"], 2), round(fm_lr_disability_0[\"FPR\"], 2), round(fm_lr_disability_1[\"FPR\"], 2) - round(fm_lr_disability_0[\"FPR\"], 2), round(fm_lr_disability_1[\"PPP\"], 2), round(fm_lr_disability_0[\"PPP\"], 2), round(fm_lr_disability_1[\"PPP\"], 2) - round(fm_lr_disability_0[\"PPP\"], 2), round(fm_lr_disability_1[\"FNR\"], 2), round(fm_lr_disability_0[\"FNR\"], 2), round(fm_lr_disability_1[\"FNR\"], 2) - round(fm_lr_disability_0[\"FNR\"], 2)],\n",
    "                [\"SVC\", round(fm_svc_disability_1[\"TPR\"], 2), round(fm_svc_disability_0[\"TPR\"], 2), round(fm_svc_disability_1[\"TPR\"], 2) - round(fm_svc_disability_0[\"TPR\"], 2), round(fm_svc_disability_1[\"FPR\"], 2), round(fm_svc_disability_0[\"FPR\"], 2), round(fm_svc_disability_1[\"FPR\"], 2) - round(fm_svc_disability_0[\"FPR\"], 2), round(fm_svc_disability_1[\"PPP\"], 2), round(fm_svc_disability_0[\"PPP\"], 2), round(fm_svc_disability_1[\"PPP\"], 2) - round(fm_svc_disability_0[\"PPP\"], 2), round(fm_svc_disability_1[\"FNR\"], 2), round(fm_svc_disability_0[\"FNR\"], 2), round(fm_svc_disability_1[\"FNR\"], 2) - round(fm_svc_disability_0[\"FNR\"], 2)],\n",
    "                [\"KNEAREST\", round(fm_knearest_disability_1[\"TPR\"], 2), round(fm_knearest_disability_0[\"TPR\"], 2), round(fm_knearest_disability_1[\"TPR\"], 2) - round(fm_knearest_disability_0[\"TPR\"], 2), round(fm_knearest_disability_1[\"FPR\"], 2), round(fm_knearest_disability_0[\"FPR\"], 2), round(fm_knearest_disability_1[\"FPR\"], 2) - round(fm_knearest_disability_0[\"FPR\"], 2), round(fm_knearest_disability_1[\"PPP\"], 2), round(fm_knearest_disability_0[\"PPP\"], 2), round(fm_knearest_disability_1[\"PPP\"], 2) - round(fm_knearest_disability_0[\"PPP\"], 2), round(fm_knearest_disability_1[\"FNR\"], 2), round(fm_knearest_disability_0[\"FNR\"], 2), round(fm_knearest_disability_1[\"FNR\"], 2) - round(fm_knearest_disability_0[\"FNR\"], 2)],\n",
    "                [\"DT\", round(fm_dt_disability_1[\"TPR\"], 2), round(fm_dt_disability_0[\"TPR\"], 2), round(fm_dt_disability_1[\"TPR\"], 2) - round(fm_dt_disability_0[\"TPR\"], 2), round(fm_dt_disability_1[\"FPR\"], 2), round(fm_dt_disability_0[\"FPR\"], 2), round(fm_dt_disability_1[\"FPR\"], 2) - round(fm_dt_disability_0[\"FPR\"], 2), round(fm_dt_disability_1[\"PPP\"], 2), round(fm_dt_disability_0[\"PPP\"], 2), round(fm_dt_disability_1[\"PPP\"], 2) - round(fm_dt_disability_0[\"PPP\"], 2), round(fm_dt_disability_1[\"FNR\"], 2), round(fm_dt_disability_0[\"FNR\"], 2), round(fm_dt_disability_1[\"FNR\"], 2) - round(fm_dt_disability_0[\"FNR\"], 2)]],\n",
    "                headers=[\"Model\", \"TPR disab. 1\", \"TPR disab. 0\", \"\\u0394\", \"FPR disab. 1\", \"FPR disab. 0\", \"\\u0394\", \"PPP disab. 1\", \"PPP disab. 0\", \"\\u0394\", \"FNR disab. 1\", \"FNR disab. 0\", \"\\u0394\"]))"
   ]
  },
  {
   "cell_type": "code",
   "execution_count": 27,
   "metadata": {
    "execution": {
     "iopub.execute_input": "2022-10-14T15:28:39.507725Z",
     "iopub.status.busy": "2022-10-14T15:28:39.507623Z",
     "iopub.status.idle": "2022-10-14T15:28:39.509281Z",
     "shell.execute_reply": "2022-10-14T15:28:39.509061Z"
    }
   },
   "outputs": [],
   "source": [
    "# print(tabulate([[\"LR\", round(fm_lr_disability_1[\"TPR\"], 2), round(fm_lr_disability_1[\"FPR\"], 2), round(fm_lr_disability_1[\"PPP\"], 2), round(fm_lr_disability_1[\"FNR\"], 2)],\n",
    "#                 [\"SVC\", round(fm_svc_disability_1[\"TPR\"], 2), round(fm_svc_disability_1[\"FPR\"], 2), round(fm_svc_disability_1[\"PPP\"], 2), round(fm_svc_disability_1[\"FNR\"], 2)],\n",
    "#                 [\"KNEAREST\", round(fm_knearest_disability_1[\"TPR\"], 2), round(fm_knearest_disability_1[\"FPR\"], 2), round(fm_knearest_disability_1[\"PPP\"], 2), round(fm_knearest_disability_1[\"FNR\"], 2)],\n",
    "#                 [\"DT\", round(fm_dt_disability_1[\"TPR\"], 2), round(fm_dt_disability_1[\"FPR\"], 2), round(fm_dt_disability_1[\"PPP\"], 2), round(fm_dt_disability_1[\"FNR\"], 2)]],\n",
    "#                 headers=[\"Model\", \"TPR\", \"FPR\", \"PPP\", \"FNR\"]))"
   ]
  },
  {
   "cell_type": "code",
   "execution_count": 28,
   "metadata": {
    "execution": {
     "iopub.execute_input": "2022-10-14T15:28:39.510618Z",
     "iopub.status.busy": "2022-10-14T15:28:39.510543Z",
     "iopub.status.idle": "2022-10-14T15:28:39.512238Z",
     "shell.execute_reply": "2022-10-14T15:28:39.512012Z"
    }
   },
   "outputs": [],
   "source": [
    "# print(tabulate([[\"LR\", round(fm_lr_disability_0[\"TPR\"], 2), round(fm_lr_disability_0[\"FPR\"], 2), round(fm_lr_disability_0[\"PPP\"], 2), round(fm_lr_disability_0[\"FNR\"], 2)],\n",
    "#                 [\"SVC\", round(fm_svc_disability_0[\"TPR\"], 2), round(fm_svc_disability_0[\"FPR\"], 2), round(fm_svc_disability_0[\"PPP\"], 2), round(fm_svc_disability_0[\"FNR\"], 2)],\n",
    "#                 [\"KNEAREST\", round(fm_knearest_disability_0[\"TPR\"], 2), round(fm_knearest_disability_0[\"FPR\"], 2), round(fm_knearest_disability_0[\"PPP\"], 2), round(fm_knearest_disability_0[\"FNR\"], 2)],\n",
    "#                 [\"DT\", round(fm_dt_disability_0[\"TPR\"], 2), round(fm_dt_disability_0[\"FPR\"], 2), round(fm_dt_disability_0[\"PPP\"], 2), round(fm_dt_disability_0[\"FNR\"], 2)]],\n",
    "#                 headers=[\"Model\", \"TPR\", \"FPR\", \"PPP\", \"FNR\"]))"
   ]
  },
  {
   "cell_type": "code",
   "execution_count": null,
   "metadata": {},
   "outputs": [],
   "source": []
  },
  {
   "cell_type": "code",
   "execution_count": null,
   "metadata": {},
   "outputs": [],
   "source": []
  },
  {
   "cell_type": "markdown",
   "metadata": {},
   "source": [
    "## Determining groups from the probability estimates of the models"
   ]
  },
  {
   "cell_type": "code",
   "execution_count": 29,
   "metadata": {
    "execution": {
     "iopub.execute_input": "2022-10-14T15:28:39.513752Z",
     "iopub.status.busy": "2022-10-14T15:28:39.513677Z",
     "iopub.status.idle": "2022-10-14T15:28:39.515931Z",
     "shell.execute_reply": "2022-10-14T15:28:39.515697Z"
    }
   },
   "outputs": [],
   "source": [
    "# Determine groups thresholds\n",
    "proba_estimates_lr = clf_lr.predict_proba(X_test)"
   ]
  },
  {
   "cell_type": "code",
   "execution_count": 30,
   "metadata": {
    "execution": {
     "iopub.execute_input": "2022-10-14T15:28:39.517230Z",
     "iopub.status.busy": "2022-10-14T15:28:39.517162Z",
     "iopub.status.idle": "2022-10-14T15:28:39.582850Z",
     "shell.execute_reply": "2022-10-14T15:28:39.582600Z"
    }
   },
   "outputs": [
    {
     "data": {
      "text/plain": [
       "Text(0.5, 1.0, 'Probability estimates for class 1')"
      ]
     },
     "execution_count": 30,
     "metadata": {},
     "output_type": "execute_result"
    },
    {
     "data": {
      "image/png": "[encoded data removed]",
      "text/plain": [
       "<Figure size 432x288 with 1 Axes>"
      ]
     },
     "metadata": {
      "needs_background": "light"
     },
     "output_type": "display_data"
    }
   ],
   "source": [
    "plot = sns.histplot(data=proba_estimates_lr[:,1], kde=True, color=\"blue\") # kernel density estimation\n",
    "plot.set_title(label=\"Probability estimates for class 1\")"
   ]
  },
  {
   "cell_type": "code",
   "execution_count": null,
   "metadata": {},
   "outputs": [],
   "source": []
  },
  {
   "cell_type": "code",
   "execution_count": null,
   "metadata": {},
   "outputs": [],
   "source": []
  }
 ],
 "metadata": {
  "kernelspec": {
   "display_name": "Python 3.10.4 ('env': venv)",
   "language": "python",
   "name": "python3"
  },
  "language_info": {
   "codemirror_mode": {
    "name": "ipython",
    "version": 3
   },
   "file_extension": ".py",
   "mimetype": "text/x-python",
   "name": "python",
   "nbconvert_exporter": "python",
   "pygments_lexer": "ipython3",
   "version": "3.10.4"
  },
  "vscode": {
   "interpreter": {
    "hash": "6f232859c35808c32414ed7392a3d2d166834ac936b1e4fa11fad72d2414503a"
   }
  }
 },
 "nbformat": 4,
 "nbformat_minor": 2
}
