{
 "cells": [
  {
   "cell_type": "code",
   "execution_count": 1,
   "metadata": {
    "execution": {
     "iopub.execute_input": "2023-01-05T18:40:27.617305Z",
     "iopub.status.busy": "2023-01-05T18:40:27.616653Z",
     "iopub.status.idle": "2023-01-05T18:40:28.248556Z",
     "shell.execute_reply": "2023-01-05T18:40:28.248167Z"
    }
   },
   "outputs": [],
   "source": [
    "\"\"\"\n",
    "Created on: Fri. 14 Oct. 2022\n",
    "Updated on: Wed. 2 Nov. 2022\n",
    "Updated on: Thu. 3 Nov. 2022\n",
    "Updated on: Thu. 5 Jan. 2023\n",
    "Author: Mélina Verger\n",
    "\n",
    "Compute mean absolute density distance and absolute density distance.\n",
    "\"\"\"\n",
    "\n",
    "# To exit script\n",
    "from sys import exit\n",
    "\n",
    "# To load the trained models\n",
    "import pickle\n",
    "\n",
    "# For data manipulation\n",
    "import pandas as pd\n",
    "import numpy as np\n",
    "from scipy.signal import find_peaks\n",
    "\n",
    "# To print with tabular format\n",
    "from tabulate import tabulate\n",
    "\n",
    "# Plotting module\n",
    "import matplotlib.pyplot as plt"
   ]
  },
  {
   "cell_type": "markdown",
   "metadata": {},
   "source": [
    "## Loading"
   ]
  },
  {
   "cell_type": "code",
   "execution_count": 2,
   "metadata": {
    "execution": {
     "iopub.execute_input": "2023-01-05T18:40:28.250629Z",
     "iopub.status.busy": "2023-01-05T18:40:28.250465Z",
     "iopub.status.idle": "2023-01-05T18:40:28.253125Z",
     "shell.execute_reply": "2023-01-05T18:40:28.252890Z"
    }
   },
   "outputs": [
    {
     "name": "stdout",
     "output_type": "stream",
     "text": [
      "stClick\n",
      "7030\n",
      "['gender', 'imd_band', 'disability']\n"
     ]
    }
   ],
   "source": [
    "DATA = pickle.load(open(\"../data/DATA\", \"rb\"))\n",
    "SPLIT = pickle.load(open(\"../data/SPLIT\", \"rb\"))\n",
    "SFEATURES = pickle.load(open(\"../data/SFEATURES\", \"rb\"))\n",
    "\n",
    "print(DATA)\n",
    "print(SPLIT)\n",
    "print(SFEATURES)"
   ]
  },
  {
   "cell_type": "code",
   "execution_count": 3,
   "metadata": {
    "execution": {
     "iopub.execute_input": "2023-01-05T18:40:28.270226Z",
     "iopub.status.busy": "2023-01-05T18:40:28.270095Z",
     "iopub.status.idle": "2023-01-05T18:40:28.274587Z",
     "shell.execute_reply": "2023-01-05T18:40:28.274338Z"
    }
   },
   "outputs": [],
   "source": [
    "# Load test sets\n",
    "\n",
    "X_test = pd.read_csv(\"../data/X_test\" + \"_\" + DATA + \"_\" + SPLIT + \".csv\")\n",
    "y_test = pd.read_csv(\"../data/y_test\" + \"_\" + DATA + \"_\" + SPLIT + \".csv\")"
   ]
  },
  {
   "cell_type": "code",
   "execution_count": 4,
   "metadata": {
    "execution": {
     "iopub.execute_input": "2023-01-05T18:40:28.276160Z",
     "iopub.status.busy": "2023-01-05T18:40:28.276076Z",
     "iopub.status.idle": "2023-01-05T18:40:28.350546Z",
     "shell.execute_reply": "2023-01-05T18:40:28.350230Z"
    }
   },
   "outputs": [],
   "source": [
    "# Load trained models\n",
    "\n",
    "MODELS = pickle.load(open(\"../data/MODELS\", \"rb\"))  # dict with names and trained models\n",
    "models = MODELS"
   ]
  },
  {
   "cell_type": "code",
   "execution_count": 5,
   "metadata": {
    "execution": {
     "iopub.execute_input": "2023-01-05T18:40:28.352237Z",
     "iopub.status.busy": "2023-01-05T18:40:28.352151Z",
     "iopub.status.idle": "2023-01-05T18:40:28.353937Z",
     "shell.execute_reply": "2023-01-05T18:40:28.353696Z"
    }
   },
   "outputs": [],
   "source": [
    "if \"clf_svc\" in models:\n",
    "    del models[\"clf_svc\"]  # except svc model because no probability outputs "
   ]
  },
  {
   "cell_type": "markdown",
   "metadata": {},
   "source": [
    "## Separate data sets by (un-)protected groups"
   ]
  },
  {
   "cell_type": "markdown",
   "metadata": {},
   "source": [
    "/!\\ The following only works for binary sensitive features."
   ]
  },
  {
   "cell_type": "code",
   "execution_count": 6,
   "metadata": {
    "execution": {
     "iopub.execute_input": "2023-01-05T18:40:28.355489Z",
     "iopub.status.busy": "2023-01-05T18:40:28.355409Z",
     "iopub.status.idle": "2023-01-05T18:40:28.360020Z",
     "shell.execute_reply": "2023-01-05T18:40:28.359787Z"
    }
   },
   "outputs": [],
   "source": [
    "dict_subsets_test = dict()\n",
    "\n",
    "for sensfeat in SFEATURES:\n",
    "    # X_test_{sensitive feature and group 1/0}\n",
    "    dict_subsets_test[\"X\"+ \"_test_\" + sensfeat + \"_\"+ \"1\"] = X_test[X_test[sensfeat] == 1]\n",
    "    dict_subsets_test[\"X\"+ \"_test_\" + sensfeat + \"_\"+ \"0\"] = X_test[X_test[sensfeat] == 0]\n",
    "    # y_test_{sensitive feature and group 1/0}\n",
    "    dict_subsets_test[\"y\"+ \"_test_\" + sensfeat + \"_\"+ \"1\"] = y_test.loc[dict_subsets_test[\"X\" + \"_test_\" + sensfeat + \"_\" + \"1\"].index]\n",
    "    dict_subsets_test[\"y\"+ \"_test_\" + sensfeat + \"_\"+ \"0\"] = y_test.loc[dict_subsets_test[\"X\" + \"_test_\" + sensfeat + \"_\" + \"0\"].index]"
   ]
  },
  {
   "cell_type": "markdown",
   "metadata": {},
   "source": [
    "## Prediction **probabilities**"
   ]
  },
  {
   "cell_type": "code",
   "execution_count": 7,
   "metadata": {
    "execution": {
     "iopub.execute_input": "2023-01-05T18:40:28.361581Z",
     "iopub.status.busy": "2023-01-05T18:40:28.361491Z",
     "iopub.status.idle": "2023-01-05T18:40:28.372554Z",
     "shell.execute_reply": "2023-01-05T18:40:28.372251Z"
    }
   },
   "outputs": [],
   "source": [
    "dict_subsets_PP = dict()\n",
    "\n",
    "for mod_names in models:\n",
    "\n",
    "    if mod_names == \"clf_lr\":\n",
    "        modl = \"lr\"\n",
    "    elif mod_names == \"clf_kn\":\n",
    "        modl = \"kn\"\n",
    "    elif mod_names == \"clf_dt\":\n",
    "        modl = \"dt\" \n",
    "    elif mod_names == \"clf_rf\":\n",
    "        modl = \"rf\"\n",
    "    elif mod_names == \"clf_cnb\":\n",
    "        modl = \"cnb\"\n",
    "    elif mod_names == \"clf_mnb\":\n",
    "        modl = \"mnb\"\n",
    "    else:\n",
    "        print(\"Invalid model.\")\n",
    "        exit()\n",
    "\n",
    "    # y_PP for X_test_{sensitive feature and group 1/0}\n",
    "    for sensfeat in SFEATURES:\n",
    "        dict_subsets_PP[\"y\" + \"_PP_\" + modl + \"_\" + sensfeat + \"_\" + \"1\"] = models[mod_names].predict_proba(dict_subsets_test[\"X\"+ \"_test_\" + sensfeat + \"_\"+ \"1\"])[:, 1]  # [:, 1] because propa of being in the class 1\n",
    "        dict_subsets_PP[\"y\" + \"_PP_\" + modl + \"_\" + sensfeat + \"_\" + \"0\"] = models[mod_names].predict_proba(dict_subsets_test[\"X\"+ \"_test_\" + sensfeat + \"_\"+ \"0\"])[:, 0]  # [:, 0] because propa of being in the class 0"
   ]
  },
  {
   "cell_type": "markdown",
   "metadata": {},
   "source": [
    "## (Mean) Absolute Density Distance ($(M)ADD$)"
   ]
  },
  {
   "cell_type": "markdown",
   "metadata": {},
   "source": [
    "/!\\ The initial data vectors do not have the same length but it is handled by the density vectors transformation."
   ]
  },
  {
   "cell_type": "code",
   "execution_count": 8,
   "metadata": {
    "execution": {
     "iopub.execute_input": "2023-01-05T18:40:28.374226Z",
     "iopub.status.busy": "2023-01-05T18:40:28.374139Z",
     "iopub.status.idle": "2023-01-05T18:40:28.377469Z",
     "shell.execute_reply": "2023-01-05T18:40:28.377232Z"
    }
   },
   "outputs": [],
   "source": [
    "# Probability sampling step\n",
    "\n",
    "e = 0.01\n",
    "\n",
    "if e == 0.01:\n",
    "    nb_decimals = 2\n",
    "    nb_components = 101\n",
    "\n",
    "if e == 0.0001:\n",
    "    nb_decimals = 4\n",
    "    nb_components = 10001\n",
    "\n",
    "NB_COMPO = nb_components\n",
    "pickle.dump(NB_COMPO, open(\"../data/NB_COMPO\", \"wb\"))"
   ]
  },
  {
   "cell_type": "code",
   "execution_count": 9,
   "metadata": {
    "execution": {
     "iopub.execute_input": "2023-01-05T18:40:28.378848Z",
     "iopub.status.busy": "2023-01-05T18:40:28.378746Z",
     "iopub.status.idle": "2023-01-05T18:40:28.381077Z",
     "shell.execute_reply": "2023-01-05T18:40:28.380792Z"
    }
   },
   "outputs": [],
   "source": [
    "def normalized_density_vector(pred_proba_array):\n",
    "\n",
    "    PP_rounded = np.around(pred_proba_array, decimals=nb_decimals)\n",
    "\n",
    "    density_vector = np.zeros(nb_components)  # empty\n",
    "    proba_values = np.linspace(0, 1, nb_components)  # 101 increasing components\n",
    "\n",
    "    for i in range(len(proba_values)):\n",
    "        compar = proba_values[i]\n",
    "        count = 0\n",
    "        for x in PP_rounded:\n",
    "            if x == compar:\n",
    "                count = count + 1\n",
    "        density_vector[i] = count\n",
    "    \n",
    "    normalized_density_vec = density_vector / np.sum(density_vector)\n",
    "\n",
    "    return normalized_density_vec"
   ]
  },
  {
   "cell_type": "code",
   "execution_count": 10,
   "metadata": {
    "execution": {
     "iopub.execute_input": "2023-01-05T18:40:28.382536Z",
     "iopub.status.busy": "2023-01-05T18:40:28.382455Z",
     "iopub.status.idle": "2023-01-05T18:40:28.384400Z",
     "shell.execute_reply": "2023-01-05T18:40:28.384161Z"
    }
   },
   "outputs": [],
   "source": [
    "def mean_absolute_density_distance(norm_densvect_1, norm_densvect_0):\n",
    "    return np.absolute(norm_densvect_1 - norm_densvect_0).sum() / (nb_components + 1)\n",
    "\n",
    "def absolute_density_distance(norm_densvect_1, norm_densvect_0):\n",
    "    return np.absolute(norm_densvect_1 - norm_densvect_0).sum()"
   ]
  },
  {
   "cell_type": "code",
   "execution_count": 11,
   "metadata": {
    "execution": {
     "iopub.execute_input": "2023-01-05T18:40:28.385794Z",
     "iopub.status.busy": "2023-01-05T18:40:28.385709Z",
     "iopub.status.idle": "2023-01-05T18:40:28.443335Z",
     "shell.execute_reply": "2023-01-05T18:40:28.443078Z"
    }
   },
   "outputs": [
    {
     "name": "stdout",
     "output_type": "stream",
     "text": [
      "Sensitive feature    Model        MADD           ADD\n",
      "-------------------  -------  -------------  ------------\n",
      "gender               lr                0.01          1.18\n",
      "gender               dt                0.01          0.76\n",
      "gender               cnb               0.01          0.56\n",
      "gender               mnb               0.02          2\n",
      "imd_band             lr                0.01          1.06\n",
      "imd_band             dt                0.01          0.65\n",
      "imd_band             cnb               0             0.47\n",
      "imd_band             mnb               0.02          2\n",
      "disability           lr                0.01          1.12\n",
      "disability           dt                0.01          0.55\n",
      "disability           cnb               0.01          0.9\n",
      "disability           mnb               0.02          2\n"
     ]
    }
   ],
   "source": [
    "res = list()\n",
    "\n",
    "for sensfeat in SFEATURES:\n",
    "\n",
    "    for mod_name in models:\n",
    "\n",
    "        if mod_name == \"clf_lr\":\n",
    "            modl = \"lr\"\n",
    "        elif mod_name == \"clf_kn\":\n",
    "            modl = \"kn\"  # model that generates FutureWarning\n",
    "        elif mod_name == \"clf_dt\":\n",
    "            modl = \"dt\" \n",
    "        elif mod_name == \"clf_rf\":\n",
    "            modl = \"rf\"\n",
    "        elif mod_name == \"clf_cnb\":\n",
    "            modl = \"cnb\"\n",
    "        elif mod_name == \"clf_mnb\":\n",
    "            modl = \"mnb\"\n",
    "        else:\n",
    "            print(\"Invalid model.\")\n",
    "            exit()\n",
    "    \n",
    "        subres = list()\n",
    "        subres.append(sensfeat)\n",
    "        subres.append(modl)\n",
    "\n",
    "        norm_densvect1 = normalized_density_vector(dict_subsets_PP[\"y\" + \"_PP_\" + modl + \"_\" + sensfeat + \"_\" + \"1\"])\n",
    "        norm_densvect0 = normalized_density_vector(dict_subsets_PP[\"y\" + \"_PP_\" + modl + \"_\" + sensfeat + \"_\" + \"0\"])\n",
    "        ADDmetric = round(mean_absolute_density_distance(norm_densvect1, norm_densvect0), nb_decimals)\n",
    "        MADDmetric = round(absolute_density_distance(norm_densvect1, norm_densvect0), nb_decimals)\n",
    "\n",
    "        subres.append(ADDmetric)\n",
    "        subres.append(MADDmetric)\n",
    "\n",
    "        res.append(subres)\n",
    "\n",
    "print(tabulate(res, headers=[\"Sensitive feature\", \"Model\", \"  MADD     \", \"  ADD     \"]))"
   ]
  }
 ],
 "metadata": {
  "kernelspec": {
   "display_name": "Python 3.10.4 ('env': venv)",
   "language": "python",
   "name": "python3"
  },
  "language_info": {
   "codemirror_mode": {
    "name": "ipython",
    "version": 3
   },
   "file_extension": ".py",
   "mimetype": "text/x-python",
   "name": "python",
   "nbconvert_exporter": "python",
   "pygments_lexer": "ipython3",
   "version": "3.10.4"
  },
  "vscode": {
   "interpreter": {
    "hash": "6f232859c35808c32414ed7392a3d2d166834ac936b1e4fa11fad72d2414503a"
   }
  }
 },
 "nbformat": 4,
 "nbformat_minor": 2
}
