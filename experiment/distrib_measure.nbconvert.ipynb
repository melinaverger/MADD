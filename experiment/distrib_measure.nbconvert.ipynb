{
 "cells": [
  {
   "cell_type": "code",
   "execution_count": 1,
   "metadata": {
    "execution": {
     "iopub.execute_input": "2022-10-14T15:28:45.929900Z",
     "iopub.status.busy": "2022-10-14T15:28:45.929404Z",
     "iopub.status.idle": "2022-10-14T15:28:46.078646Z",
     "shell.execute_reply": "2022-10-14T15:28:46.078326Z"
    }
   },
   "outputs": [],
   "source": [
    "\"\"\"\n",
    "Created on: Fri. 14 Oct. 2022\n",
    "Author: Mélina Verger\n",
    "\n",
    "Manually compute a distance between the distributions of the same feature.\n",
    "\"\"\"\n",
    "\n",
    "# To load the trained models\n",
    "import pickle\n",
    "\n",
    "# For data manipulation\n",
    "import pandas as pd\n",
    "import numpy as np"
   ]
  },
  {
   "cell_type": "markdown",
   "metadata": {},
   "source": [
    "## Loading"
   ]
  },
  {
   "cell_type": "code",
   "execution_count": 2,
   "metadata": {
    "execution": {
     "iopub.execute_input": "2022-10-14T15:28:46.080553Z",
     "iopub.status.busy": "2022-10-14T15:28:46.080414Z",
     "iopub.status.idle": "2022-10-14T15:28:46.082500Z",
     "shell.execute_reply": "2022-10-14T15:28:46.082258Z"
    }
   },
   "outputs": [
    {
     "name": "stdout",
     "output_type": "stream",
     "text": [
      "stAll\n",
      "7030\n"
     ]
    }
   ],
   "source": [
    "DATA = pickle.load(open(\"../data/DATA\", \"rb\"))\n",
    "SPLIT = pickle.load(open(\"../data/SPLIT\", \"rb\"))\n",
    "\n",
    "print(DATA)\n",
    "print(SPLIT)"
   ]
  },
  {
   "cell_type": "code",
   "execution_count": 3,
   "metadata": {
    "execution": {
     "iopub.execute_input": "2022-10-14T15:28:46.099947Z",
     "iopub.status.busy": "2022-10-14T15:28:46.099803Z",
     "iopub.status.idle": "2022-10-14T15:28:46.104267Z",
     "shell.execute_reply": "2022-10-14T15:28:46.103812Z"
    }
   },
   "outputs": [],
   "source": [
    "# Load test sets\n",
    "\n",
    "X_test = pd.read_csv(\"../data/X_test\" + \"_\" + DATA + \"_\" + SPLIT + \".csv\")\n",
    "y_test = pd.read_csv(\"../data/y_test\" + \"_\" + DATA + \"_\" + SPLIT + \".csv\")"
   ]
  },
  {
   "cell_type": "code",
   "execution_count": 4,
   "metadata": {
    "execution": {
     "iopub.execute_input": "2022-10-14T15:28:46.105943Z",
     "iopub.status.busy": "2022-10-14T15:28:46.105850Z",
     "iopub.status.idle": "2022-10-14T15:28:46.289089Z",
     "shell.execute_reply": "2022-10-14T15:28:46.288763Z"
    }
   },
   "outputs": [],
   "source": [
    "# Load trained models\n",
    "\n",
    "clf_lr = pickle.load(open(\"../models/\" + DATA + \"_\" + SPLIT + \"_clf_lr\", \"rb\"))\n",
    "clf_svc = pickle.load(open(\"../models/\" + DATA + \"_\" + SPLIT + \"_clf_svc\", \"rb\"))\n",
    "clf_knearest = pickle.load(open(\"../models/\" + DATA + \"_\" + SPLIT + \"_clf_knearest\", \"rb\"))\n",
    "clf_dt = pickle.load(open(\"../models/\" + DATA + \"_\" + SPLIT + \"_clf_dt\", \"rb\"))\n",
    "clf_rf = pickle.load(open(\"../models/\" + DATA + \"_\" + SPLIT + \"_clf_rf\", \"rb\"))"
   ]
  },
  {
   "cell_type": "markdown",
   "metadata": {},
   "source": [
    "## Separate data sets by (un-)protected groups"
   ]
  },
  {
   "cell_type": "markdown",
   "metadata": {},
   "source": [
    "At that moment, I chose 'gender', 'imd_band' and 'disability' as interesting features to evaluate fairness with."
   ]
  },
  {
   "cell_type": "code",
   "execution_count": 5,
   "metadata": {
    "execution": {
     "iopub.execute_input": "2022-10-14T15:28:46.290984Z",
     "iopub.status.busy": "2022-10-14T15:28:46.290872Z",
     "iopub.status.idle": "2022-10-14T15:28:46.293533Z",
     "shell.execute_reply": "2022-10-14T15:28:46.293301Z"
    }
   },
   "outputs": [],
   "source": [
    "X_test_gender_1 = X_test[X_test[\"gender\"] == 1]\n",
    "X_test_gender_0 = X_test[X_test[\"gender\"] == 0]\n",
    "\n",
    "y_test_gender_1 = y_test.loc[X_test_gender_1.index]\n",
    "y_test_gender_0 = y_test.loc[X_test_gender_0.index]"
   ]
  },
  {
   "cell_type": "code",
   "execution_count": 6,
   "metadata": {
    "execution": {
     "iopub.execute_input": "2022-10-14T15:28:46.294907Z",
     "iopub.status.busy": "2022-10-14T15:28:46.294813Z",
     "iopub.status.idle": "2022-10-14T15:28:46.297314Z",
     "shell.execute_reply": "2022-10-14T15:28:46.297079Z"
    }
   },
   "outputs": [],
   "source": [
    "X_test_imdband_1 = X_test[X_test[\"imd_band\"] == 1]\n",
    "X_test_imdband_0 = X_test[X_test[\"imd_band\"] == 0]\n",
    "\n",
    "y_test_imdband_1 = y_test.loc[X_test_imdband_1.index]\n",
    "y_test_imdband_0 = y_test.loc[X_test_imdband_0.index]"
   ]
  },
  {
   "cell_type": "code",
   "execution_count": 7,
   "metadata": {
    "execution": {
     "iopub.execute_input": "2022-10-14T15:28:46.298721Z",
     "iopub.status.busy": "2022-10-14T15:28:46.298627Z",
     "iopub.status.idle": "2022-10-14T15:28:46.300959Z",
     "shell.execute_reply": "2022-10-14T15:28:46.300710Z"
    }
   },
   "outputs": [],
   "source": [
    "X_test_disability_1 = X_test[X_test[\"disability\"] == 1]\n",
    "X_test_disability_0 = X_test[X_test[\"disability\"] == 0]\n",
    "\n",
    "y_test_disability_1 = y_test.loc[X_test_disability_1.index]\n",
    "y_test_disability_0 = y_test.loc[X_test_disability_0.index]"
   ]
  },
  {
   "cell_type": "markdown",
   "metadata": {},
   "source": [
    "## Manually compute the \"distance vector\""
   ]
  },
  {
   "cell_type": "markdown",
   "metadata": {},
   "source": [
    "### Prediction probability"
   ]
  },
  {
   "cell_type": "markdown",
   "metadata": {},
   "source": [
    "No predict proba for SVC."
   ]
  },
  {
   "cell_type": "code",
   "execution_count": 8,
   "metadata": {
    "execution": {
     "iopub.execute_input": "2022-10-14T15:28:46.302580Z",
     "iopub.status.busy": "2022-10-14T15:28:46.302482Z",
     "iopub.status.idle": "2022-10-14T15:28:46.342755Z",
     "shell.execute_reply": "2022-10-14T15:28:46.342472Z"
    }
   },
   "outputs": [],
   "source": [
    "lr_y_pred_proba_gender_1 = clf_lr.predict_proba(X_test_gender_1)[:, 1]\n",
    "kn_y_pred_proba_gender_1 = clf_knearest.predict_proba(X_test_gender_1)[:, 1]\n",
    "dt_y_pred_proba_gender_1 = clf_dt.predict_proba(X_test_gender_1)[:, 1]\n",
    "rf_y_pred_proba_gender_1 = clf_rf.predict_proba(X_test_gender_1)[:, 1]\n",
    "\n",
    "lr_y_pred_proba_gender_0 = clf_lr.predict_proba(X_test_gender_0)[:, 0]\n",
    "kn_y_pred_proba_gender_0 = clf_knearest.predict_proba(X_test_gender_0)[:, 0]\n",
    "dt_y_pred_proba_gender_0 = clf_dt.predict_proba(X_test_gender_0)[:, 0]\n",
    "rf_y_pred_proba_gender_0 = clf_rf.predict_proba(X_test_gender_0)[:, 0]"
   ]
  },
  {
   "cell_type": "code",
   "execution_count": 9,
   "metadata": {
    "execution": {
     "iopub.execute_input": "2022-10-14T15:28:46.344425Z",
     "iopub.status.busy": "2022-10-14T15:28:46.344339Z",
     "iopub.status.idle": "2022-10-14T15:28:46.383973Z",
     "shell.execute_reply": "2022-10-14T15:28:46.383673Z"
    }
   },
   "outputs": [],
   "source": [
    "lr_y_pred_proba_imdband_1 = clf_lr.predict_proba(X_test_imdband_1)[:, 1]\n",
    "kn_y_pred_proba_imdband_1 = clf_knearest.predict_proba(X_test_imdband_1)[:, 1]\n",
    "dt_y_pred_proba_imdband_1 = clf_dt.predict_proba(X_test_imdband_1)[:, 1]\n",
    "rf_y_pred_proba_imdband_1 = clf_rf.predict_proba(X_test_imdband_1)[:, 1]\n",
    "\n",
    "lr_y_pred_proba_imdband_0 = clf_lr.predict_proba(X_test_imdband_0)[:, 0]\n",
    "kn_y_pred_proba_imdband_0 = clf_knearest.predict_proba(X_test_imdband_0)[:, 0]\n",
    "dt_y_pred_proba_imdband_0 = clf_dt.predict_proba(X_test_imdband_0)[:, 0]\n",
    "rf_y_pred_proba_imdband_0 = clf_rf.predict_proba(X_test_imdband_0)[:, 0]"
   ]
  },
  {
   "cell_type": "code",
   "execution_count": 10,
   "metadata": {
    "execution": {
     "iopub.execute_input": "2022-10-14T15:28:46.385662Z",
     "iopub.status.busy": "2022-10-14T15:28:46.385576Z",
     "iopub.status.idle": "2022-10-14T15:28:46.425014Z",
     "shell.execute_reply": "2022-10-14T15:28:46.424702Z"
    }
   },
   "outputs": [],
   "source": [
    "lr_y_pred_proba_disability_1 = clf_lr.predict_proba(X_test_disability_1)[:, 1]\n",
    "kn_y_pred_proba_disability_1 = clf_knearest.predict_proba(X_test_disability_1)[:, 1]\n",
    "dt_y_pred_proba_disability_1 = clf_dt.predict_proba(X_test_disability_1)[:, 1]\n",
    "rf_y_pred_proba_disability_1 = clf_rf.predict_proba(X_test_disability_1)[:, 1]\n",
    "\n",
    "lr_y_pred_proba_disability_0 = clf_lr.predict_proba(X_test_disability_0)[:, 0]\n",
    "kn_y_pred_proba_disability_0 = clf_knearest.predict_proba(X_test_disability_0)[:, 0]\n",
    "dt_y_pred_proba_disability_0 = clf_dt.predict_proba(X_test_disability_0)[:, 0]\n",
    "rf_y_pred_proba_disability_0 = clf_rf.predict_proba(X_test_disability_0)[:, 0]"
   ]
  },
  {
   "cell_type": "markdown",
   "metadata": {},
   "source": [
    "The vectors does not have the same length as it depends on the number of 1 and 0 they have in their class."
   ]
  },
  {
   "cell_type": "code",
   "execution_count": 11,
   "metadata": {
    "execution": {
     "iopub.execute_input": "2022-10-14T15:28:46.426793Z",
     "iopub.status.busy": "2022-10-14T15:28:46.426702Z",
     "iopub.status.idle": "2022-10-14T15:28:46.429805Z",
     "shell.execute_reply": "2022-10-14T15:28:46.429539Z"
    }
   },
   "outputs": [],
   "source": [
    "def dense_values(vector):\n",
    "    c0, c1, c2, c3, c4, c5, c6, c7, c8, c9, c10 = 0, 0, 0, 0, 0, 0, 0, 0, 0, 0, 0\n",
    "\n",
    "    for x in vector:\n",
    "        if x == 0.0:\n",
    "            c0 = c0 + 1\n",
    "        elif x == 0.1:\n",
    "            c1 = c1 + 1\n",
    "        elif x == 0.2:\n",
    "            c2 = c2 + 1\n",
    "        elif x == 0.3:\n",
    "            c3 = c3 + 1\n",
    "        elif x == 0.4:\n",
    "            c4 = c4 + 1\n",
    "        elif x == 0.5:\n",
    "            c5 = c5 + 1\n",
    "        elif x == 0.6:\n",
    "            c6 = c6 + 1\n",
    "        elif x == 0.7:\n",
    "            c7 = c7 + 1\n",
    "        elif x == 0.8:\n",
    "            c8 = c8 + 1\n",
    "        elif x == 0.9:\n",
    "            c9 = c9 + 1\n",
    "        else:\n",
    "            c10 = c10 + 1\n",
    "    \n",
    "    v = np.array([c0, c1, c2, c3, c4, c5, c6, c7, c8, c9, c10])\n",
    "    v_normalized = v / np.sum(v)\n",
    "\n",
    "    return v_normalized"
   ]
  },
  {
   "cell_type": "code",
   "execution_count": 12,
   "metadata": {
    "execution": {
     "iopub.execute_input": "2022-10-14T15:28:46.431246Z",
     "iopub.status.busy": "2022-10-14T15:28:46.431167Z",
     "iopub.status.idle": "2022-10-14T15:28:46.434673Z",
     "shell.execute_reply": "2022-10-14T15:28:46.434429Z"
    }
   },
   "outputs": [],
   "source": [
    "# Round the values of probabilities\n",
    "# Step 0.1 => 11 values from 0.0 to 1.0, round at 0.5\n",
    "\n",
    "# Gender\n",
    "lr_y_pred_proba_gender_1 = np.around(lr_y_pred_proba_gender_1, decimals=1)\n",
    "kn_y_pred_proba_gender_1 = np.around(kn_y_pred_proba_gender_1, decimals=1)\n",
    "dt_y_pred_proba_gender_1 = np.around(dt_y_pred_proba_gender_1, decimals=1)\n",
    "rf_y_pred_proba_gender_1 = np.around(rf_y_pred_proba_gender_1, decimals=1)\n",
    "\n",
    "lr_y_pred_proba_gender_0 = np.around(lr_y_pred_proba_gender_0, decimals=1)\n",
    "kn_y_pred_proba_gender_0 = np.around(kn_y_pred_proba_gender_0, decimals=1)\n",
    "dt_y_pred_proba_gender_0 = np.around(dt_y_pred_proba_gender_0, decimals=1)\n",
    "rf_y_pred_proba_gender_0 = np.around(rf_y_pred_proba_gender_0, decimals=1)\n",
    "\n",
    "# Imd band\n",
    "lr_y_pred_proba_imdband_1 = np.around(lr_y_pred_proba_imdband_1, decimals=1)\n",
    "kn_y_pred_proba_imdband_1 = np.around(kn_y_pred_proba_imdband_1, decimals=1)\n",
    "dt_y_pred_proba_imdband_1 = np.around(dt_y_pred_proba_imdband_1, decimals=1)\n",
    "rf_y_pred_proba_imdband_1 = np.around(rf_y_pred_proba_imdband_1, decimals=1)\n",
    "\n",
    "lr_y_pred_proba_imdband_0 = np.around(lr_y_pred_proba_imdband_0, decimals=1)\n",
    "kn_y_pred_proba_imdband_0 = np.around(kn_y_pred_proba_imdband_0, decimals=1)\n",
    "dt_y_pred_proba_imdband_0 = np.around(dt_y_pred_proba_imdband_0, decimals=1)\n",
    "rf_y_pred_proba_imdband_0 = np.around(rf_y_pred_proba_imdband_0, decimals=1)\n",
    "\n",
    "# Disability\n",
    "lr_y_pred_proba_disability_1 = np.around(lr_y_pred_proba_disability_1, decimals=1)\n",
    "kn_y_pred_proba_disability_1 = np.around(kn_y_pred_proba_disability_1, decimals=1)\n",
    "dt_y_pred_proba_disability_1 = np.around(dt_y_pred_proba_disability_1, decimals=1)\n",
    "rf_y_pred_proba_disability_1 = np.around(rf_y_pred_proba_disability_1, decimals=1)\n",
    "\n",
    "lr_y_pred_proba_disability_0 = np.around(lr_y_pred_proba_disability_0, decimals=1)\n",
    "kn_y_pred_proba_disability_0 = np.around(kn_y_pred_proba_disability_0, decimals=1)\n",
    "dt_y_pred_proba_disability_0 = np.around(dt_y_pred_proba_disability_0, decimals=1)\n",
    "rf_y_pred_proba_disability_0 = np.around(rf_y_pred_proba_disability_0, decimals=1)"
   ]
  },
  {
   "cell_type": "code",
   "execution_count": 13,
   "metadata": {
    "execution": {
     "iopub.execute_input": "2022-10-14T15:28:46.436132Z",
     "iopub.status.busy": "2022-10-14T15:28:46.436054Z",
     "iopub.status.idle": "2022-10-14T15:28:46.441162Z",
     "shell.execute_reply": "2022-10-14T15:28:46.440931Z"
    }
   },
   "outputs": [],
   "source": [
    "# Compute density vectors\n",
    "\n",
    "# Gender\n",
    "dens_lr_y_pred_proba_gender_1 = dense_values(lr_y_pred_proba_gender_1)\n",
    "dens_kn_y_pred_proba_gender_1 = dense_values(kn_y_pred_proba_gender_1)\n",
    "dens_dt_y_pred_proba_gender_1 = dense_values(dt_y_pred_proba_gender_1)\n",
    "dens_rf_y_pred_proba_gender_1 = dense_values(rf_y_pred_proba_gender_1)\n",
    "\n",
    "dens_lr_y_pred_proba_gender_0 = dense_values(lr_y_pred_proba_gender_0)\n",
    "dens_kn_y_pred_proba_gender_0 = dense_values(kn_y_pred_proba_gender_0)\n",
    "dens_dt_y_pred_proba_gender_0 = dense_values(dt_y_pred_proba_gender_0)\n",
    "dens_rf_y_pred_proba_gender_0 = dense_values(rf_y_pred_proba_gender_0)\n",
    "\n",
    "# Imd band\n",
    "dens_lr_y_pred_proba_imdband_1 = dense_values(lr_y_pred_proba_imdband_1)\n",
    "dens_kn_y_pred_proba_imdband_1 = dense_values(kn_y_pred_proba_imdband_1)\n",
    "dens_dt_y_pred_proba_imdband_1 = dense_values(dt_y_pred_proba_imdband_1)\n",
    "dens_rf_y_pred_proba_imdband_1 = dense_values(rf_y_pred_proba_imdband_1)\n",
    "\n",
    "dens_lr_y_pred_proba_imdband_0 = dense_values(lr_y_pred_proba_imdband_0)\n",
    "dens_kn_y_pred_proba_imdband_0 = dense_values(kn_y_pred_proba_imdband_0)\n",
    "dens_dt_y_pred_proba_imdband_0 = dense_values(dt_y_pred_proba_imdband_0)\n",
    "dens_rf_y_pred_proba_imdband_0 = dense_values(rf_y_pred_proba_imdband_0)\n",
    "\n",
    "# Disability\n",
    "dens_lr_y_pred_proba_disability_1 = dense_values(lr_y_pred_proba_disability_1)\n",
    "dens_kn_y_pred_proba_disability_1 = dense_values(kn_y_pred_proba_disability_1)\n",
    "dens_dt_y_pred_proba_disability_1 = dense_values(dt_y_pred_proba_disability_1)\n",
    "dens_rf_y_pred_proba_disability_1 = dense_values(rf_y_pred_proba_disability_1)\n",
    "\n",
    "dens_lr_y_pred_proba_disability_0 = dense_values(lr_y_pred_proba_disability_0)\n",
    "dens_kn_y_pred_proba_disability_0 = dense_values(kn_y_pred_proba_disability_0)\n",
    "dens_dt_y_pred_proba_disability_0 = dense_values(dt_y_pred_proba_disability_0)\n",
    "dens_rf_y_pred_proba_disability_0 = dense_values(rf_y_pred_proba_disability_0)"
   ]
  },
  {
   "cell_type": "code",
   "execution_count": 14,
   "metadata": {
    "execution": {
     "iopub.execute_input": "2022-10-14T15:28:46.442558Z",
     "iopub.status.busy": "2022-10-14T15:28:46.442485Z",
     "iopub.status.idle": "2022-10-14T15:28:46.445143Z",
     "shell.execute_reply": "2022-10-14T15:28:46.444910Z"
    }
   },
   "outputs": [],
   "source": [
    "# Difference\n",
    "\n",
    "# Gender\n",
    "d_lr_gender = np.absolute(dens_lr_y_pred_proba_gender_1 - dens_lr_y_pred_proba_gender_0).sum()\n",
    "d_kn_gender = np.absolute(dens_kn_y_pred_proba_gender_1 - dens_kn_y_pred_proba_gender_0).sum()\n",
    "d_dt_gender = np.absolute(dens_dt_y_pred_proba_gender_1 - dens_dt_y_pred_proba_gender_0).sum()\n",
    "d_rf_gender = np.absolute(dens_rf_y_pred_proba_gender_1 - dens_rf_y_pred_proba_gender_0).sum()\n",
    "\n",
    "# Imd band\n",
    "d_lr_imdband = np.absolute(dens_lr_y_pred_proba_imdband_1 - dens_lr_y_pred_proba_imdband_0).sum()\n",
    "d_kn_imdband = np.absolute(dens_kn_y_pred_proba_imdband_1 - dens_kn_y_pred_proba_imdband_0).sum()\n",
    "d_dt_imdband = np.absolute(dens_dt_y_pred_proba_imdband_1 - dens_dt_y_pred_proba_imdband_0).sum()\n",
    "d_rf_imdband = np.absolute(dens_rf_y_pred_proba_imdband_1 - dens_rf_y_pred_proba_imdband_0).sum()\n",
    "\n",
    "# Disability\n",
    "d_lr_disability = np.absolute(dens_lr_y_pred_proba_disability_1 - dens_lr_y_pred_proba_disability_0).sum()\n",
    "d_kn_disability = np.absolute(dens_kn_y_pred_proba_disability_1 - dens_kn_y_pred_proba_disability_0).sum()\n",
    "d_dt_disability = np.absolute(dens_dt_y_pred_proba_disability_1 - dens_dt_y_pred_proba_disability_0).sum()\n",
    "d_rf_disability = np.absolute(dens_rf_y_pred_proba_disability_1 - dens_rf_y_pred_proba_disability_0).sum()"
   ]
  },
  {
   "cell_type": "code",
   "execution_count": 15,
   "metadata": {
    "execution": {
     "iopub.execute_input": "2022-10-14T15:28:46.446518Z",
     "iopub.status.busy": "2022-10-14T15:28:46.446441Z",
     "iopub.status.idle": "2022-10-14T15:28:46.448397Z",
     "shell.execute_reply": "2022-10-14T15:28:46.448166Z"
    }
   },
   "outputs": [
    {
     "name": "stdout",
     "output_type": "stream",
     "text": [
      "1.43\n",
      "1.2\n",
      "0.93\n",
      "1.06\n"
     ]
    }
   ],
   "source": [
    "print(round(d_lr_gender, 2))\n",
    "print(round(d_kn_gender, 2))\n",
    "print(round(d_dt_gender, 2))\n",
    "print(round(d_rf_gender, 2))"
   ]
  },
  {
   "cell_type": "code",
   "execution_count": 16,
   "metadata": {
    "execution": {
     "iopub.execute_input": "2022-10-14T15:28:46.449704Z",
     "iopub.status.busy": "2022-10-14T15:28:46.449632Z",
     "iopub.status.idle": "2022-10-14T15:28:46.451510Z",
     "shell.execute_reply": "2022-10-14T15:28:46.451299Z"
    }
   },
   "outputs": [
    {
     "name": "stdout",
     "output_type": "stream",
     "text": [
      "1.53\n",
      "1.21\n",
      "0.9\n",
      "1.08\n"
     ]
    }
   ],
   "source": [
    "print(round(d_lr_imdband, 2))\n",
    "print(round(d_kn_imdband, 2))\n",
    "print(round(d_dt_imdband, 2))\n",
    "print(round(d_rf_imdband, 2))"
   ]
  },
  {
   "cell_type": "code",
   "execution_count": 17,
   "metadata": {
    "execution": {
     "iopub.execute_input": "2022-10-14T15:28:46.452936Z",
     "iopub.status.busy": "2022-10-14T15:28:46.452830Z",
     "iopub.status.idle": "2022-10-14T15:28:46.454652Z",
     "shell.execute_reply": "2022-10-14T15:28:46.454420Z"
    }
   },
   "outputs": [
    {
     "name": "stdout",
     "output_type": "stream",
     "text": [
      "1.31\n",
      "1.03\n",
      "0.83\n",
      "0.93\n"
     ]
    }
   ],
   "source": [
    "print(round(d_lr_disability, 2))\n",
    "print(round(d_kn_disability, 2))\n",
    "print(round(d_dt_disability, 2))\n",
    "print(round(d_rf_disability, 2))"
   ]
  }
 ],
 "metadata": {
  "kernelspec": {
   "display_name": "Python 3.10.4 ('env': venv)",
   "language": "python",
   "name": "python3"
  },
  "language_info": {
   "codemirror_mode": {
    "name": "ipython",
    "version": 3
   },
   "file_extension": ".py",
   "mimetype": "text/x-python",
   "name": "python",
   "nbconvert_exporter": "python",
   "pygments_lexer": "ipython3",
   "version": "3.10.4"
  },
  "vscode": {
   "interpreter": {
    "hash": "6f232859c35808c32414ed7392a3d2d166834ac936b1e4fa11fad72d2414503a"
   }
  }
 },
 "nbformat": 4,
 "nbformat_minor": 2
}
