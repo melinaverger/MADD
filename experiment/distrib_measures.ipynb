{
 "cells": [
  {
   "cell_type": "code",
   "execution_count": 1,
   "metadata": {},
   "outputs": [],
   "source": [
    "\"\"\"\n",
    "Created on: Fri. 14 Oct. 2022\n",
    "Updated on: Wed. 2 Nov. 2022\n",
    "Author: Mélina Verger\n",
    "\n",
    "Compute UT, d and delta metrics (cf. report).\n",
    "\"\"\"\n",
    "\n",
    "# To exit script\n",
    "from sys import exit\n",
    "\n",
    "# To load the trained models\n",
    "import pickle\n",
    "\n",
    "# For data manipulation\n",
    "import pandas as pd\n",
    "import numpy as np\n",
    "from scipy.signal import find_peaks\n",
    "\n",
    "# To print with tabular format\n",
    "from tabulate import tabulate\n",
    "\n",
    "# Plotting module\n",
    "import matplotlib.pyplot as plt"
   ]
  },
  {
   "cell_type": "markdown",
   "metadata": {},
   "source": [
    "## Loading"
   ]
  },
  {
   "cell_type": "code",
   "execution_count": 2,
   "metadata": {},
   "outputs": [
    {
     "name": "stdout",
     "output_type": "stream",
     "text": [
      "stInfo\n",
      "7030\n",
      "['gender', 'imd_band', 'disability']\n"
     ]
    }
   ],
   "source": [
    "DATA = pickle.load(open(\"../data/DATA\", \"rb\"))\n",
    "SPLIT = pickle.load(open(\"../data/SPLIT\", \"rb\"))\n",
    "SFEATURES = pickle.load(open(\"../data/SFEATURES\", \"rb\"))\n",
    "\n",
    "print(DATA)\n",
    "print(SPLIT)\n",
    "print(SFEATURES)"
   ]
  },
  {
   "cell_type": "code",
   "execution_count": 3,
   "metadata": {},
   "outputs": [],
   "source": [
    "# Load test sets\n",
    "\n",
    "X_test = pd.read_csv(\"../data/X_test\" + \"_\" + DATA + \"_\" + SPLIT + \".csv\")\n",
    "y_test = pd.read_csv(\"../data/y_test\" + \"_\" + DATA + \"_\" + SPLIT + \".csv\")"
   ]
  },
  {
   "cell_type": "code",
   "execution_count": 4,
   "metadata": {},
   "outputs": [],
   "source": [
    "# Load trained models\n",
    "\n",
    "clf_lr = pickle.load(open(\"../models/\" + DATA + \"_\" + SPLIT + \"_clf_lr\", \"rb\"))\n",
    "# clf_svc = pickle.load(open(\"../models/\" + DATA + \"_\" + SPLIT + \"_clf_svc\", \"rb\"))\n",
    "clf_knearest = pickle.load(open(\"../models/\" + DATA + \"_\" + SPLIT + \"_clf_knearest\", \"rb\"))\n",
    "clf_dt = pickle.load(open(\"../models/\" + DATA + \"_\" + SPLIT + \"_clf_dt\", \"rb\"))\n",
    "clf_rf = pickle.load(open(\"../models/\" + DATA + \"_\" + SPLIT + \"_clf_rf\", \"rb\"))"
   ]
  },
  {
   "cell_type": "code",
   "execution_count": 5,
   "metadata": {},
   "outputs": [],
   "source": [
    "models = [clf_lr, clf_knearest, clf_dt, clf_rf]  # except svc"
   ]
  },
  {
   "cell_type": "markdown",
   "metadata": {},
   "source": [
    "## Separate data sets by (un-)protected groups"
   ]
  },
  {
   "cell_type": "markdown",
   "metadata": {},
   "source": [
    "/!\\ The following only works for binary sensitive features."
   ]
  },
  {
   "cell_type": "code",
   "execution_count": 6,
   "metadata": {},
   "outputs": [],
   "source": [
    "dict_subsets_test = dict()\n",
    "\n",
    "for sensfeat in SFEATURES:\n",
    "    # X_test_{sensitive feature and group 1/0}\n",
    "    dict_subsets_test[\"X\"+ \"_test_\" + sensfeat + \"_\"+ \"1\"] = X_test[X_test[sensfeat] == 1]\n",
    "    dict_subsets_test[\"X\"+ \"_test_\" + sensfeat + \"_\"+ \"0\"] = X_test[X_test[sensfeat] == 0]\n",
    "    # y_test_{sensitive feature and group 1/0}\n",
    "    dict_subsets_test[\"y\"+ \"_test_\" + sensfeat + \"_\"+ \"1\"] = y_test.loc[dict_subsets_test[\"X\" + \"_test_\" + sensfeat + \"_\" + \"1\"].index]\n",
    "    dict_subsets_test[\"y\"+ \"_test_\" + sensfeat + \"_\"+ \"0\"] = y_test.loc[dict_subsets_test[\"X\" + \"_test_\" + sensfeat + \"_\" + \"0\"].index]"
   ]
  },
  {
   "cell_type": "markdown",
   "metadata": {},
   "source": [
    "## Prediction **probabilities**"
   ]
  },
  {
   "cell_type": "code",
   "execution_count": 7,
   "metadata": {},
   "outputs": [],
   "source": [
    "dict_subsets_PP = dict()\n",
    "\n",
    "for model in models:  # except svc model because no probability outputs \n",
    "\n",
    "    if model == clf_lr:\n",
    "        modl = \"lr\"\n",
    "    elif model == clf_knearest:\n",
    "        modl = \"kn\"\n",
    "    elif model == clf_dt:\n",
    "        modl = \"dt\" \n",
    "    elif model == clf_rf:\n",
    "        modl = \"rf\"\n",
    "    else:\n",
    "        print(\"Invalid model.\")\n",
    "        exit()\n",
    "\n",
    "    # y_PP for X_test_{sensitive feature and group 1/0}\n",
    "    for sensfeat in SFEATURES:\n",
    "        dict_subsets_PP[\"y\" + \"_PP_\" + modl + \"_\" + sensfeat + \"_\" + \"1\"] = model.predict_proba(dict_subsets_test[\"X\"+ \"_test_\" + sensfeat + \"_\"+ \"1\"])[:, 1]  # [:, 1] because propa of being in the class 1\n",
    "        dict_subsets_PP[\"y\" + \"_PP_\" + modl + \"_\" + sensfeat + \"_\" + \"0\"] = model.predict_proba(dict_subsets_test[\"X\"+ \"_test_\" + sensfeat + \"_\"+ \"0\"])[:, 0]  # [:, 1] because propa of being in the class 0"
   ]
  },
  {
   "cell_type": "markdown",
   "metadata": {},
   "source": [
    "## UT"
   ]
  },
  {
   "cell_type": "code",
   "execution_count": 8,
   "metadata": {},
   "outputs": [
    {
     "name": "stdout",
     "output_type": "stream",
     "text": [
      "Sensitive feature    Model         UT          (Mean group 1)    (Mean group 0)\n",
      "-------------------  -------  -------------  ----------------  ----------------\n",
      "gender               lr                0.26              0.62              0.36\n",
      "gender               kn                0.26              0.63              0.37\n",
      "gender               dt                0.28              0.65              0.36\n",
      "gender               rf                0.27              0.63              0.36\n",
      "imd_band             lr                0.3               0.58              0.28\n",
      "imd_band             kn                0.31              0.54              0.23\n",
      "imd_band             dt                0.31              0.58              0.27\n",
      "imd_band             rf                0.31              0.58              0.27\n",
      "disability           lr                0.23              0.59              0.36\n",
      "disability           kn                0.29              0.67              0.38\n",
      "disability           dt                0.23              0.59              0.36\n",
      "disability           rf                0.24              0.6               0.36\n"
     ]
    }
   ],
   "source": [
    "results = list()\n",
    "\n",
    "for sensfeat in SFEATURES:\n",
    "\n",
    "    for model in models:\n",
    "\n",
    "        if model == clf_lr:\n",
    "            modl = \"lr\"\n",
    "        elif model == clf_knearest:\n",
    "            modl = \"kn\"  # model that generates FutureWarning\n",
    "        elif model == clf_dt:\n",
    "            modl = \"dt\" \n",
    "        elif model == clf_rf:\n",
    "            modl = \"rf\"\n",
    "        else:\n",
    "            print(\"Invalid model.\")\n",
    "            exit()\n",
    "        \n",
    "        subres = list()\n",
    "        subres.append(sensfeat)\n",
    "        subres.append(modl)\n",
    "        moy1 = np.mean(dict_subsets_PP[\"y\" + \"_PP_\" + modl + \"_\" + sensfeat + \"_\" + \"1\"])\n",
    "        moy0 = np.mean(dict_subsets_PP[\"y\" + \"_PP_\" + modl + \"_\" + sensfeat + \"_\" + \"0\"])\n",
    "        ut = abs(moy1 - moy0)\n",
    "        subres.append(round(ut, 2))\n",
    "        subres.append(round(moy1, 2))\n",
    "        subres.append(round(moy0, 2))\n",
    "        results.append(subres)\n",
    "\n",
    "print(tabulate(results, headers=[\"Sensitive feature\", \"Model\", \"   UT      \", \"(Mean group 1)\", \"(Mean group 0)\"]))"
   ]
  },
  {
   "cell_type": "markdown",
   "metadata": {},
   "source": [
    "## Mean density error ($\\overline{d}$)"
   ]
  },
  {
   "cell_type": "markdown",
   "metadata": {},
   "source": [
    "/!\\ The vectors does not have the same length but it is handled by the density vector."
   ]
  },
  {
   "cell_type": "code",
   "execution_count": 9,
   "metadata": {},
   "outputs": [],
   "source": [
    "def normalized_density_vector(pred_proba_array):\n",
    "\n",
    "    PP_rounded = np.around(pred_proba_array, decimals=2)\n",
    "\n",
    "    density_vector = np.zeros(101)  # empty\n",
    "    proba_values = np.linspace(0, 1, 101)  # 101 elems\n",
    "\n",
    "    for i in range(len(proba_values)):\n",
    "        compar = proba_values[i]\n",
    "        count = 0\n",
    "        for x in PP_rounded:\n",
    "            if x == compar:\n",
    "                count = count + 1\n",
    "        density_vector[i] = count\n",
    "    \n",
    "    normalized_density_vec = density_vector / np.sum(density_vector)\n",
    "\n",
    "    return normalized_density_vec"
   ]
  },
  {
   "cell_type": "code",
   "execution_count": 10,
   "metadata": {},
   "outputs": [],
   "source": [
    "def mean_density_error(norm_densvect_1, norm_densvect_0):\n",
    "    return np.absolute(norm_densvect_1 - norm_densvect_0).sum()"
   ]
  },
  {
   "cell_type": "code",
   "execution_count": 11,
   "metadata": {},
   "outputs": [
    {
     "name": "stdout",
     "output_type": "stream",
     "text": [
      "Sensitive feature    Model        d\n",
      "-------------------  -------  ----------\n",
      "gender               lr             1.73\n",
      "gender               kn             0.92\n",
      "gender               dt             1.58\n",
      "gender               rf             1.72\n",
      "imd_band             lr             1.88\n",
      "imd_band             kn             1.11\n",
      "imd_band             dt             1.62\n",
      "imd_band             rf             1.73\n",
      "disability           lr             1.76\n",
      "disability           kn             0.94\n",
      "disability           dt             1.52\n",
      "disability           rf             1.56\n"
     ]
    }
   ],
   "source": [
    "d_res = list()\n",
    "\n",
    "for sensfeat in SFEATURES:\n",
    "\n",
    "    for model in models:\n",
    "\n",
    "        if model == clf_lr:\n",
    "            modl = \"lr\"\n",
    "        elif model == clf_knearest:\n",
    "            modl = \"kn\"  # model that generates FutureWarning\n",
    "        elif model == clf_dt:\n",
    "            modl = \"dt\" \n",
    "        elif model == clf_rf:\n",
    "            modl = \"rf\"\n",
    "        else:\n",
    "            print(\"Invalid model.\")\n",
    "            exit()\n",
    "    \n",
    "        d_subres = list()\n",
    "        d_subres.append(sensfeat)\n",
    "        d_subres.append(modl)\n",
    "        norm_densvect1 = normalized_density_vector(dict_subsets_PP[\"y\" + \"_PP_\" + modl + \"_\" + sensfeat + \"_\" + \"1\"])\n",
    "        norm_densvect0 = normalized_density_vector(dict_subsets_PP[\"y\" + \"_PP_\" + modl + \"_\" + sensfeat + \"_\" + \"0\"])\n",
    "        d = round(mean_density_error(norm_densvect1, norm_densvect0), 2)\n",
    "        d_subres.append(d)\n",
    "        d_res.append(d_subres)\n",
    "\n",
    "print(tabulate(d_res, headers=[\"Sensitive feature\", \"Model\", \"  d     \"]))"
   ]
  },
  {
   "cell_type": "markdown",
   "metadata": {},
   "source": [
    "## Number of peaks"
   ]
  },
  {
   "cell_type": "code",
   "execution_count": 12,
   "metadata": {},
   "outputs": [],
   "source": [
    "# height is for the amplitude of the peak\n",
    "# threshold is for the difference in amplitude between neighbors\n",
    "# distance is for the horizontal distance between peaks (relevant for periodicity)\n",
    "# width is for the width of the peak\n",
    "# prominence is for how much the peak is outstanding from its neighbors (seems to work like heigth), but its definition is : how much height we need to go down the peak before meeting the first highest other peak. https://ressources.labomedia.org/detection_pics_signal C'est-à-dire que pour être un bon pic, le pic doit vraiment monter et redescendre significativement, donc ne pas être noyé dans plusieurs variations instables.\n",
    "# "
   ]
  },
  {
   "cell_type": "code",
   "execution_count": 55,
   "metadata": {},
   "outputs": [
    {
     "name": "stdout",
     "output_type": "stream",
     "text": [
      "0.01\n"
     ]
    },
    {
     "data": {
      "text/plain": [
       "<matplotlib.legend.Legend at 0x151ad6c80>"
      ]
     },
     "execution_count": 55,
     "metadata": {},
     "output_type": "execute_result"
    },
    {
     "data": {
      "image/png": "[encoded data removed]",
      "text/plain": [
       "<Figure size 432x288 with 1 Axes>"
      ]
     },
     "metadata": {
      "needs_background": "light"
     },
     "output_type": "display_data"
    }
   ],
   "source": [
    "# x = normalized_density_vector(dict_subsets_PP[\"y\" + \"_PP_\" + modl + \"_\" + sensfeat + \"_\" + \"1\"])\n",
    "x = normalized_density_vector(dict_subsets_PP[\"y\" + \"_PP_\" + \"lr\" + \"_\" + \"imd_band\" + \"_\" + \"1\"])\n",
    "peaks, _ = find_peaks(x)  # all peaks (equivalent to height=0 for the peaks)\n",
    "peaks2, _ = find_peaks(x, height=np.mean(x), distance=10)  # height=np.mean(x) for having all peaks higher than the mean\n",
    "\n",
    "print(round(np.mean(x), 2))\n",
    "plt.plot(x, color=\"blue\")\n",
    "plt.plot([np.mean(x)] * len(x), color=\"grey\", label=\"density mean\")\n",
    "plt.plot(peaks, x[peaks], \"x\", color=\"red\", label=\"all peaks\")\n",
    "plt.plot(peaks2, x[peaks2], \"x\", color=\"green\", label=\"desired peaks\")\n",
    "plt.legend()"
   ]
  },
  {
   "cell_type": "code",
   "execution_count": 28,
   "metadata": {},
   "outputs": [
    {
     "name": "stdout",
     "output_type": "stream",
     "text": [
      "0.01\n"
     ]
    },
    {
     "data": {
      "text/plain": [
       "<matplotlib.legend.Legend at 0x146959cc0>"
      ]
     },
     "execution_count": 28,
     "metadata": {},
     "output_type": "execute_result"
    },
    {
     "data": {
      "image/png": "[encoded data removed]",
      "text/plain": [
       "<Figure size 432x288 with 1 Axes>"
      ]
     },
     "metadata": {
      "needs_background": "light"
     },
     "output_type": "display_data"
    }
   ],
   "source": [
    "x = normalized_density_vector(dict_subsets_PP[\"y\" + \"_PP_\" + \"lr\" + \"_\" + \"gender\" + \"_\" + \"1\"])\n",
    "plt.plot(x)\n",
    "peaks, _ = find_peaks(x, height=0)\n",
    "\n",
    "print(round(np.mean(x), 2))\n",
    "plt.plot(x, color=\"mediumaquamarine\", label=\"gender 1\")\n",
    "plt.plot([np.mean(x)] * len(x), color=\"grey\", label=\"density mean\")\n",
    "plt.plot(peaks, x[peaks], \"x\", color=\"red\")\n",
    "plt.legend()"
   ]
  },
  {
   "cell_type": "code",
   "execution_count": 29,
   "metadata": {},
   "outputs": [
    {
     "name": "stdout",
     "output_type": "stream",
     "text": [
      "0.01\n"
     ]
    },
    {
     "data": {
      "text/plain": [
       "<matplotlib.legend.Legend at 0x146a41450>"
      ]
     },
     "execution_count": 29,
     "metadata": {},
     "output_type": "execute_result"
    },
    {
     "data": {
      "image/png": "[encoded data removed]",
      "text/plain": [
       "<Figure size 432x288 with 1 Axes>"
      ]
     },
     "metadata": {
      "needs_background": "light"
     },
     "output_type": "display_data"
    }
   ],
   "source": [
    "x = normalized_density_vector(dict_subsets_PP[\"y\" + \"_PP_\" + \"lr\" + \"_\" + \"gender\" + \"_\" + \"0\"])\n",
    "plt.plot(x)\n",
    "peaks, _ = find_peaks(x, height=0)\n",
    "\n",
    "print(round(np.mean(x), 2))\n",
    "plt.plot(x, color=\"lightcoral\", label=\"gender 0\")\n",
    "plt.plot([np.mean(x)] * len(x), color=\"grey\", label=\"density mean\")\n",
    "plt.plot(peaks, x[peaks], \"x\", color=\"red\")\n",
    "plt.legend()"
   ]
  }
 ],
 "metadata": {
  "kernelspec": {
   "display_name": "Python 3.10.4 ('env': venv)",
   "language": "python",
   "name": "python3"
  },
  "language_info": {
   "codemirror_mode": {
    "name": "ipython",
    "version": 3
   },
   "file_extension": ".py",
   "mimetype": "text/x-python",
   "name": "python",
   "nbconvert_exporter": "python",
   "pygments_lexer": "ipython3",
   "version": "3.10.4"
  },
  "orig_nbformat": 4,
  "vscode": {
   "interpreter": {
    "hash": "6f232859c35808c32414ed7392a3d2d166834ac936b1e4fa11fad72d2414503a"
   }
  }
 },
 "nbformat": 4,
 "nbformat_minor": 2
}
