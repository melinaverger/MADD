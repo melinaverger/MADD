{
 "cells": [
  {
   "cell_type": "code",
   "execution_count": 36,
   "metadata": {},
   "outputs": [],
   "source": [
    "\"\"\"\n",
    "Created on: Wed. 10 Aug. 2022\n",
    "Updated on: Mon. 22 Aug. 2022\n",
    "Updated on: Wed. 5 Oct. 2022\n",
    "Updated on: Thu. 13 Oct. 2022\n",
    "Updated on: Fri. 14 Oct. 2022\n",
    "Author: Mélina Verger\n",
    "\n",
    "Fairness evaluation of the models.\n",
    "\"\"\"\n",
    "\n",
    "# To load the trained models\n",
    "import pickle\n",
    "\n",
    "# For data manipulation\n",
    "import pandas as pd\n",
    "\n",
    "# To produce all possible combinations\n",
    "import itertools\n",
    "\n",
    "# To compute fairness metrics\n",
    "from sklearn.metrics import confusion_matrix\n",
    "\n",
    "# Plotting module\n",
    "import seaborn as sns\n",
    "import matplotlib.pyplot as plt\n",
    "\n",
    "# To print with tabular format\n",
    "from tabulate import tabulate"
   ]
  },
  {
   "cell_type": "markdown",
   "metadata": {},
   "source": [
    "## Load data sets and trained models"
   ]
  },
  {
   "cell_type": "code",
   "execution_count": 37,
   "metadata": {},
   "outputs": [
    {
     "name": "stdout",
     "output_type": "stream",
     "text": [
      "stInfo\n",
      "7030\n"
     ]
    }
   ],
   "source": [
    "DATA = pickle.load(open(\"../data/DATA\", \"rb\"))\n",
    "SPLIT = pickle.load(open(\"../data/SPLIT\", \"rb\"))\n",
    "\n",
    "print(DATA)\n",
    "print(SPLIT)"
   ]
  },
  {
   "cell_type": "code",
   "execution_count": 38,
   "metadata": {},
   "outputs": [],
   "source": [
    "# Load test sets\n",
    "\n",
    "X_test = pd.read_csv(\"../data/X_test\" + \"_\" + DATA + \"_\" + SPLIT + \".csv\")\n",
    "y_test = pd.read_csv(\"../data/y_test\" + \"_\" + DATA + \"_\" + SPLIT + \".csv\")"
   ]
  },
  {
   "cell_type": "code",
   "execution_count": 39,
   "metadata": {},
   "outputs": [],
   "source": [
    "# Load trained models\n",
    "\n",
    "clf_lr = pickle.load(open(\"../models/\" + DATA + \"_\" + SPLIT + \"_clf_lr\", \"rb\"))\n",
    "clf_svc = pickle.load(open(\"../models/\" + DATA + \"_\" + SPLIT + \"_clf_svc\", \"rb\"))\n",
    "clf_knearest = pickle.load(open(\"../models/\" + DATA + \"_\" + SPLIT + \"_clf_knearest\", \"rb\"))\n",
    "clf_dt = pickle.load(open(\"../models/\" + DATA + \"_\" + SPLIT + \"_clf_dt\", \"rb\"))\n",
    "clf_rf = pickle.load(open(\"../models/\" + DATA + \"_\" + SPLIT + \"_clf_rf\", \"rb\"))"
   ]
  },
  {
   "cell_type": "markdown",
   "metadata": {},
   "source": [
    "## Generate all possible feature combinations"
   ]
  },
  {
   "cell_type": "code",
   "execution_count": 40,
   "metadata": {},
   "outputs": [
    {
     "name": "stdout",
     "output_type": "stream",
     "text": [
      "For 7 features, 127 combinations.\n"
     ]
    }
   ],
   "source": [
    "combinations = list()\n",
    "for i in range(len(X_test.columns) + 1):\n",
    "    for subset in itertools.combinations(X_test.columns, i):\n",
    "        combinations.append(subset)\n",
    "\n",
    "combinations = combinations [1:] # remove the first subset that is empty\n",
    "\n",
    "print(f\"For {len(X_test.columns)} features, {len(combinations)} combinations.\")"
   ]
  },
  {
   "cell_type": "code",
   "execution_count": 41,
   "metadata": {},
   "outputs": [
    {
     "data": {
      "text/plain": [
       "[('gender', 'highest_education'),\n",
       " ('gender', 'imd_band'),\n",
       " ('gender', 'age_band'),\n",
       " ('gender', 'disability'),\n",
       " ('gender', 'num_of_prev_attempts'),\n",
       " ('gender', 'studied_credits'),\n",
       " ('highest_education', 'imd_band'),\n",
       " ('highest_education', 'age_band'),\n",
       " ('highest_education', 'disability'),\n",
       " ('highest_education', 'num_of_prev_attempts')]"
      ]
     },
     "execution_count": 41,
     "metadata": {},
     "output_type": "execute_result"
    }
   ],
   "source": [
    "combinations[7:17]"
   ]
  },
  {
   "cell_type": "code",
   "execution_count": 42,
   "metadata": {},
   "outputs": [
    {
     "data": {
      "text/plain": [
       "0.25    625\n",
       "0.50    622\n",
       "0.75    174\n",
       "0.00     13\n",
       "1.00      2\n",
       "Name: highest_education, dtype: int64"
      ]
     },
     "execution_count": 42,
     "metadata": {},
     "output_type": "execute_result"
    }
   ],
   "source": [
    "X_test[\"highest_education\"].value_counts()"
   ]
  },
  {
   "cell_type": "markdown",
   "metadata": {},
   "source": [
    "## Separate data sets by (un-)protected groups"
   ]
  },
  {
   "cell_type": "markdown",
   "metadata": {},
   "source": [
    "At that moment, I chose 'gender', 'imd_band' and 'disability' as interesting features to evaluate fairness with."
   ]
  },
  {
   "cell_type": "code",
   "execution_count": 43,
   "metadata": {},
   "outputs": [],
   "source": [
    "X_test_gender_1 = X_test[X_test[\"gender\"] == 1]\n",
    "X_test_gender_0 = X_test[X_test[\"gender\"] == 0]\n",
    "\n",
    "y_test_gender_1 = y_test.loc[X_test_gender_1.index]\n",
    "y_test_gender_0 = y_test.loc[X_test_gender_0.index]"
   ]
  },
  {
   "cell_type": "code",
   "execution_count": 44,
   "metadata": {},
   "outputs": [],
   "source": [
    "X_test_imdband_1 = X_test[X_test[\"imd_band\"] == 1]\n",
    "X_test_imdband_0 = X_test[X_test[\"imd_band\"] == 0]\n",
    "\n",
    "y_test_imdband_1 = y_test.loc[X_test_imdband_1.index]\n",
    "y_test_imdband_0 = y_test.loc[X_test_imdband_0.index]"
   ]
  },
  {
   "cell_type": "code",
   "execution_count": 45,
   "metadata": {},
   "outputs": [],
   "source": [
    "X_test_disability_1 = X_test[X_test[\"disability\"] == 1]\n",
    "X_test_disability_0 = X_test[X_test[\"disability\"] == 0]\n",
    "\n",
    "y_test_disability_1 = y_test.loc[X_test_disability_1.index]\n",
    "y_test_disability_0 = y_test.loc[X_test_disability_0.index]"
   ]
  },
  {
   "cell_type": "markdown",
   "metadata": {},
   "source": [
    "## Predictions"
   ]
  },
  {
   "cell_type": "markdown",
   "metadata": {},
   "source": [
    "### $X_{test}$"
   ]
  },
  {
   "cell_type": "code",
   "execution_count": 46,
   "metadata": {},
   "outputs": [
    {
     "name": "stderr",
     "output_type": "stream",
     "text": [
      "/Users/melinaverger/Desktop/exp2/env/lib/python3.10/site-packages/sklearn/neighbors/_classification.py:237: FutureWarning: Unlike other reduction functions (e.g. `skew`, `kurtosis`), the default behavior of `mode` typically preserves the axis it acts along. In SciPy 1.11.0, this behavior will change: the default value of `keepdims` will become False, the `axis` over which the statistic is taken will be eliminated, and the value None will no longer be accepted. Set `keepdims` to True or False to avoid this warning.\n",
      "  mode, _ = stats.mode(_y[neigh_ind, k], axis=1)\n"
     ]
    }
   ],
   "source": [
    "# Make predictions with each model\n",
    "y_pred_lr = clf_lr.predict(X_test)\n",
    "y_pred_svc = clf_svc.predict(X_test)\n",
    "y_pred_knearest = clf_knearest.predict(X_test)\n",
    "y_pred_dt = clf_dt.predict(X_test)"
   ]
  },
  {
   "cell_type": "markdown",
   "metadata": {},
   "source": [
    "### $X_{test}$ gender"
   ]
  },
  {
   "cell_type": "code",
   "execution_count": 47,
   "metadata": {},
   "outputs": [
    {
     "name": "stderr",
     "output_type": "stream",
     "text": [
      "/Users/melinaverger/Desktop/exp2/env/lib/python3.10/site-packages/sklearn/neighbors/_classification.py:237: FutureWarning: Unlike other reduction functions (e.g. `skew`, `kurtosis`), the default behavior of `mode` typically preserves the axis it acts along. In SciPy 1.11.0, this behavior will change: the default value of `keepdims` will become False, the `axis` over which the statistic is taken will be eliminated, and the value None will no longer be accepted. Set `keepdims` to True or False to avoid this warning.\n",
      "  mode, _ = stats.mode(_y[neigh_ind, k], axis=1)\n",
      "/Users/melinaverger/Desktop/exp2/env/lib/python3.10/site-packages/sklearn/neighbors/_classification.py:237: FutureWarning: Unlike other reduction functions (e.g. `skew`, `kurtosis`), the default behavior of `mode` typically preserves the axis it acts along. In SciPy 1.11.0, this behavior will change: the default value of `keepdims` will become False, the `axis` over which the statistic is taken will be eliminated, and the value None will no longer be accepted. Set `keepdims` to True or False to avoid this warning.\n",
      "  mode, _ = stats.mode(_y[neigh_ind, k], axis=1)\n"
     ]
    }
   ],
   "source": [
    "y_pred_lr_gender_1 = clf_lr.predict(X_test_gender_1)\n",
    "y_pred_svc_gender_1 = clf_svc.predict(X_test_gender_1)\n",
    "y_pred_knearest_gender_1 = clf_knearest.predict(X_test_gender_1)\n",
    "y_pred_dt_gender_1 = clf_dt.predict(X_test_gender_1)\n",
    "\n",
    "y_pred_lr_gender_0 = clf_lr.predict(X_test_gender_0)\n",
    "y_pred_svc_gender_0 = clf_svc.predict(X_test_gender_0)\n",
    "y_pred_knearest_gender_0 = clf_knearest.predict(X_test_gender_0)\n",
    "y_pred_dt_gender_0 = clf_dt.predict(X_test_gender_0)"
   ]
  },
  {
   "cell_type": "markdown",
   "metadata": {},
   "source": [
    "### $X_{test}$ imd band"
   ]
  },
  {
   "cell_type": "code",
   "execution_count": 48,
   "metadata": {},
   "outputs": [
    {
     "name": "stderr",
     "output_type": "stream",
     "text": [
      "/Users/melinaverger/Desktop/exp2/env/lib/python3.10/site-packages/sklearn/neighbors/_classification.py:237: FutureWarning: Unlike other reduction functions (e.g. `skew`, `kurtosis`), the default behavior of `mode` typically preserves the axis it acts along. In SciPy 1.11.0, this behavior will change: the default value of `keepdims` will become False, the `axis` over which the statistic is taken will be eliminated, and the value None will no longer be accepted. Set `keepdims` to True or False to avoid this warning.\n",
      "  mode, _ = stats.mode(_y[neigh_ind, k], axis=1)\n",
      "/Users/melinaverger/Desktop/exp2/env/lib/python3.10/site-packages/sklearn/neighbors/_classification.py:237: FutureWarning: Unlike other reduction functions (e.g. `skew`, `kurtosis`), the default behavior of `mode` typically preserves the axis it acts along. In SciPy 1.11.0, this behavior will change: the default value of `keepdims` will become False, the `axis` over which the statistic is taken will be eliminated, and the value None will no longer be accepted. Set `keepdims` to True or False to avoid this warning.\n",
      "  mode, _ = stats.mode(_y[neigh_ind, k], axis=1)\n"
     ]
    }
   ],
   "source": [
    "y_pred_lr_imdband_1 = clf_lr.predict(X_test_imdband_1)\n",
    "y_pred_svc_imdband_1 = clf_svc.predict(X_test_imdband_1)\n",
    "y_pred_knearest_imdband_1 = clf_knearest.predict(X_test_imdband_1)\n",
    "y_pred_dt_imdband_1 = clf_dt.predict(X_test_imdband_1)\n",
    "\n",
    "y_pred_lr_imdband_0 = clf_lr.predict(X_test_imdband_0)\n",
    "y_pred_svc_imdband_0 = clf_svc.predict(X_test_imdband_0)\n",
    "y_pred_knearest_imdband_0 = clf_knearest.predict(X_test_imdband_0)\n",
    "y_pred_dt_imdband_0 = clf_dt.predict(X_test_imdband_0)"
   ]
  },
  {
   "cell_type": "markdown",
   "metadata": {},
   "source": [
    "### $X_{test}$ disability"
   ]
  },
  {
   "cell_type": "code",
   "execution_count": 49,
   "metadata": {},
   "outputs": [
    {
     "name": "stderr",
     "output_type": "stream",
     "text": [
      "/Users/melinaverger/Desktop/exp2/env/lib/python3.10/site-packages/sklearn/neighbors/_classification.py:237: FutureWarning: Unlike other reduction functions (e.g. `skew`, `kurtosis`), the default behavior of `mode` typically preserves the axis it acts along. In SciPy 1.11.0, this behavior will change: the default value of `keepdims` will become False, the `axis` over which the statistic is taken will be eliminated, and the value None will no longer be accepted. Set `keepdims` to True or False to avoid this warning.\n",
      "  mode, _ = stats.mode(_y[neigh_ind, k], axis=1)\n",
      "/Users/melinaverger/Desktop/exp2/env/lib/python3.10/site-packages/sklearn/neighbors/_classification.py:237: FutureWarning: Unlike other reduction functions (e.g. `skew`, `kurtosis`), the default behavior of `mode` typically preserves the axis it acts along. In SciPy 1.11.0, this behavior will change: the default value of `keepdims` will become False, the `axis` over which the statistic is taken will be eliminated, and the value None will no longer be accepted. Set `keepdims` to True or False to avoid this warning.\n",
      "  mode, _ = stats.mode(_y[neigh_ind, k], axis=1)\n"
     ]
    }
   ],
   "source": [
    "y_pred_lr_disability_1 = clf_lr.predict(X_test_disability_1)\n",
    "y_pred_svc_disability_1 = clf_svc.predict(X_test_disability_1)\n",
    "y_pred_knearest_disability_1 = clf_knearest.predict(X_test_disability_1)\n",
    "y_pred_dt_disability_1 = clf_dt.predict(X_test_disability_1)\n",
    "\n",
    "y_pred_lr_disability_0 = clf_lr.predict(X_test_disability_0)\n",
    "y_pred_svc_disability_0 = clf_svc.predict(X_test_disability_0)\n",
    "y_pred_knearest_disability_0 = clf_knearest.predict(X_test_disability_0)\n",
    "y_pred_dt_disability_0 = clf_dt.predict(X_test_disability_0)"
   ]
  },
  {
   "cell_type": "markdown",
   "metadata": {},
   "source": [
    "## Computing fairness metrics"
   ]
  },
  {
   "cell_type": "code",
   "execution_count": 50,
   "metadata": {},
   "outputs": [],
   "source": [
    "# Compute the confusion matrix for each model and each set\n",
    "\n",
    "# X_test\n",
    "cm_lr = confusion_matrix(y_test, y_pred_lr)\n",
    "cm_svc = confusion_matrix(y_test, y_pred_svc)\n",
    "cm_knearest = confusion_matrix(y_test, y_pred_knearest)\n",
    "cm_dt = confusion_matrix(y_test, y_pred_dt)\n",
    "\n",
    "# X_test gender\n",
    "cm_lr_gender_1 = confusion_matrix(y_test_gender_1, y_pred_lr_gender_1)\n",
    "cm_svc_gender_1 = confusion_matrix(y_test_gender_1, y_pred_svc_gender_1)\n",
    "cm_knearest_gender_1 = confusion_matrix(y_test_gender_1, y_pred_knearest_gender_1)\n",
    "cm_dt_gender_1 = confusion_matrix(y_test_gender_1, y_pred_dt_gender_1)\n",
    "\n",
    "cm_lr_gender_0 = confusion_matrix(y_test_gender_0, y_pred_lr_gender_0)\n",
    "cm_svc_gender_0 = confusion_matrix(y_test_gender_0, y_pred_svc_gender_0)\n",
    "cm_knearest_gender_0 = confusion_matrix(y_test_gender_0, y_pred_knearest_gender_0)\n",
    "cm_dt_gender_0 = confusion_matrix(y_test_gender_0, y_pred_dt_gender_0)\n",
    "\n",
    "# X_test imd band\n",
    "cm_lr_imdband_1 = confusion_matrix(y_test_imdband_1, y_pred_lr_imdband_1)\n",
    "cm_svc_imdband_1 = confusion_matrix(y_test_imdband_1, y_pred_svc_imdband_1)\n",
    "cm_knearest_imdband_1 = confusion_matrix(y_test_imdband_1, y_pred_knearest_imdband_1)\n",
    "cm_dt_imdband_1 = confusion_matrix(y_test_imdband_1, y_pred_dt_imdband_1)\n",
    "\n",
    "cm_lr_imdband_0 = confusion_matrix(y_test_imdband_0, y_pred_lr_imdband_0)\n",
    "cm_svc_imdband_0 = confusion_matrix(y_test_imdband_0, y_pred_svc_imdband_0)\n",
    "cm_knearest_imdband_0 = confusion_matrix(y_test_imdband_0, y_pred_knearest_imdband_0)\n",
    "cm_dt_imdband_0 = confusion_matrix(y_test_imdband_0, y_pred_dt_imdband_0)\n",
    "\n",
    "# X_test disability\n",
    "cm_lr_disability_1 = confusion_matrix(y_test_disability_1, y_pred_lr_disability_1)\n",
    "cm_svc_disability_1 = confusion_matrix(y_test_disability_1, y_pred_svc_disability_1)\n",
    "cm_knearest_disability_1 = confusion_matrix(y_test_disability_1, y_pred_knearest_disability_1)\n",
    "cm_dt_disability_1 = confusion_matrix(y_test_disability_1, y_pred_dt_disability_1)\n",
    "\n",
    "cm_lr_disability_0 = confusion_matrix(y_test_disability_0, y_pred_lr_disability_0)\n",
    "cm_svc_disability_0 = confusion_matrix(y_test_disability_0, y_pred_svc_disability_0)\n",
    "cm_knearest_disability_0 = confusion_matrix(y_test_disability_0, y_pred_knearest_disability_0)\n",
    "cm_dt_disability_0 = confusion_matrix(y_test_disability_0, y_pred_dt_disability_0)"
   ]
  },
  {
   "cell_type": "code",
   "execution_count": 51,
   "metadata": {},
   "outputs": [],
   "source": [
    "# Extract TP, TN, FP, FN\n",
    "\n",
    "# X_test\n",
    "TN_lr, FP_lr, FN_lr, TP_lr = cm_lr.ravel()\n",
    "TN_svc, FP_svc, FN_svc, TP_svc = cm_svc.ravel()\n",
    "TN_knearest, FP_knearest, FN_knearest, TP_knearest = cm_knearest.ravel()\n",
    "TN_dt, FP_dt, FN_dt, TP_dt = cm_dt.ravel()\n",
    "\n",
    "# X_test gender\n",
    "TN_lr_gender_1, FP_lr_gender_1, FN_lr_gender_1, TP_lr_gender_1 = cm_lr_gender_1.ravel()\n",
    "TN_svc_gender_1, FP_svc_gender_1, FN_svc_gender_1, TP_svc_gender_1 = cm_svc_gender_1.ravel()\n",
    "TN_knearest_gender_1, FP_knearest_gender_1, FN_knearest_gender_1, TP_knearest_gender_1 = cm_knearest_gender_1.ravel()\n",
    "TN_dt_gender_1, FP_dt_gender_1, FN_dt_gender_1, TP_dt_gender_1 = cm_dt_gender_1.ravel()\n",
    "\n",
    "TN_lr_gender_0, FP_lr_gender_0, FN_lr_gender_0, TP_lr_gender_0 = cm_lr_gender_0.ravel()\n",
    "TN_svc_gender_0, FP_svc_gender_0, FN_svc_gender_0, TP_svc_gender_0 = cm_svc_gender_0.ravel()\n",
    "TN_knearest_gender_0, FP_knearest_gender_0, FN_knearest_gender_0, TP_knearest_gender_0 = cm_knearest_gender_0.ravel()\n",
    "TN_dt_gender_0, FP_dt_gender_0, FN_dt_gender_0, TP_dt_gender_0 = cm_dt_gender_0.ravel()\n",
    "\n",
    "# X_test imd band\n",
    "TN_lr_imdband_1, FP_lr_imdband_1, FN_lr_imdband_1, TP_lr_imdband_1 = cm_lr_imdband_1.ravel()\n",
    "TN_svc_imdband_1, FP_svc_imdband_1, FN_svc_imdband_1, TP_svc_imdband_1 = cm_svc_imdband_1.ravel()\n",
    "TN_knearest_imdband_1, FP_knearest_imdband_1, FN_knearest_imdband_1, TP_knearest_imdband_1 = cm_knearest_imdband_1.ravel()\n",
    "TN_dt_imdband_1, FP_dt_imdband_1, FN_dt_imdband_1, TP_dt_imdband_1 = cm_dt_imdband_1.ravel()\n",
    "\n",
    "TN_lr_imdband_0, FP_lr_imdband_0, FN_lr_imdband_0, TP_lr_imdband_0 = cm_lr_imdband_0.ravel()\n",
    "TN_svc_imdband_0, FP_svc_imdband_0, FN_svc_imdband_0, TP_svc_imdband_0 = cm_svc_imdband_0.ravel()\n",
    "TN_knearest_imdband_0, FP_knearest_imdband_0, FN_knearest_imdband_0, TP_knearest_imdband_0 = cm_knearest_imdband_0.ravel()\n",
    "TN_dt_imdband_0, FP_dt_imdband_0, FN_dt_imdband_0, TP_dt_imdband_0 = cm_dt_imdband_0.ravel()\n",
    "\n",
    "# X_test disability\n",
    "TN_lr_disability_1, FP_lr_disability_1, FN_lr_disability_1, TP_lr_disability_1 = cm_lr_disability_1.ravel()\n",
    "TN_svc_disability_1, FP_svc_disability_1, FN_svc_disability_1, TP_svc_disability_1 = cm_svc_disability_1.ravel()\n",
    "TN_knearest_disability_1, FP_knearest_disability_1, FN_knearest_disability_1, TP_knearest_disability_1 = cm_knearest_disability_1.ravel()\n",
    "TN_dt_disability_1, FP_dt_disability_1, FN_dt_disability_1, TP_dt_disability_1 = cm_dt_disability_1.ravel()\n",
    "\n",
    "TN_lr_disability_0, FP_lr_disability_0, FN_lr_disability_0, TP_lr_disability_0 = cm_lr_disability_0.ravel()\n",
    "TN_svc_disability_0, FP_svc_disability_0, FN_svc_disability_0, TP_svc_disability_0 = cm_svc_disability_0.ravel()\n",
    "TN_knearest_disability_0, FP_knearest_disability_0, FN_knearest_disability_0, TP_knearest_disability_0 = cm_knearest_disability_0.ravel()\n",
    "TN_dt_disability_0, FP_dt_disability_0, FN_dt_disability_0, TP_dt_disability_0 = cm_dt_disability_0.ravel()"
   ]
  },
  {
   "cell_type": "code",
   "execution_count": 52,
   "metadata": {},
   "outputs": [],
   "source": [
    "# Compute fairness metrics\n",
    "def fairness_metrics(TN, FP, FN, TP):\n",
    "    N = TN + FP + FN + TP\n",
    "    TPR = TP / (TP + FN) # equal opportunity\n",
    "    FPR = FP / (FP + TN) # equalized odds\n",
    "    PPP = (TP + FP) / N # disparate impact\n",
    "    FNR = FN / (TP + FN)\n",
    "    return {\"TPR\": TPR, \"FPR\": FPR, \"PPP\": PPP, \"FNR\": FNR}"
   ]
  },
  {
   "cell_type": "code",
   "execution_count": 53,
   "metadata": {},
   "outputs": [],
   "source": [
    "fm_lr = fairness_metrics(TN_lr, FP_lr, FN_lr, TP_lr)\n",
    "fm_svc = fairness_metrics(TN_svc, FP_svc, FN_svc, TP_svc)\n",
    "fm_knearest = fairness_metrics(TN_knearest, FP_knearest, FN_knearest, TP_knearest)\n",
    "fm_dt = fairness_metrics(TN_dt, FP_dt, FN_dt, TP_dt)\n",
    "\n",
    "fm_lr_gender_1 = fairness_metrics(TN_lr_gender_1, FP_lr_gender_1, FN_lr_gender_1, TP_lr_gender_1)\n",
    "fm_svc_gender_1 = fairness_metrics(TN_svc_gender_1, FP_svc_gender_1, FN_svc_gender_1, TP_svc_gender_1)\n",
    "fm_knearest_gender_1 = fairness_metrics(TN_knearest_gender_1, FP_knearest_gender_1, FN_knearest_gender_1, TP_knearest_gender_1)\n",
    "fm_dt_gender_1 = fairness_metrics(TN_dt_gender_1, FP_dt_gender_1, FN_dt_gender_1, TP_dt_gender_1)\n",
    "\n",
    "fm_lr_gender_0 = fairness_metrics(TN_lr_gender_0, FP_lr_gender_0, FN_lr_gender_0, TP_lr_gender_0)\n",
    "fm_svc_gender_0 = fairness_metrics(TN_svc_gender_0, FP_svc_gender_0, FN_svc_gender_0, TP_svc_gender_0)\n",
    "fm_knearest_gender_0 = fairness_metrics(TN_knearest_gender_0, FP_knearest_gender_0, FN_knearest_gender_0, TP_knearest_gender_0)\n",
    "fm_dt_gender_0 = fairness_metrics(TN_dt_gender_0, FP_dt_gender_0, FN_dt_gender_0, TP_dt_gender_0)\n",
    "\n",
    "fm_lr_imdband_1 = fairness_metrics(TN_lr_imdband_1, FP_lr_imdband_1, FN_lr_imdband_1, TP_lr_imdband_1)\n",
    "fm_svc_imdband_1 = fairness_metrics(TN_svc_imdband_1, FP_svc_imdband_1, FN_svc_imdband_1, TP_svc_imdband_1)\n",
    "fm_knearest_imdband_1 = fairness_metrics(TN_knearest_imdband_1, FP_knearest_imdband_1, FN_knearest_imdband_1, TP_knearest_imdband_1)\n",
    "fm_dt_imdband_1 = fairness_metrics(TN_dt_imdband_1, FP_dt_imdband_1, FN_dt_imdband_1, TP_dt_imdband_1)\n",
    "\n",
    "fm_lr_imdband_0 = fairness_metrics(TN_lr_imdband_0, FP_lr_imdband_0, FN_lr_imdband_0, TP_lr_imdband_0)\n",
    "fm_svc_imdband_0 = fairness_metrics(TN_svc_imdband_0, FP_svc_imdband_0, FN_svc_imdband_0, TP_svc_imdband_0)\n",
    "fm_knearest_imdband_0 = fairness_metrics(TN_knearest_imdband_0, FP_knearest_imdband_0, FN_knearest_imdband_0, TP_knearest_imdband_0)\n",
    "fm_dt_imdband_0 = fairness_metrics(TN_dt_imdband_0, FP_dt_imdband_0, FN_dt_imdband_0, TP_dt_imdband_0)\n",
    "\n",
    "fm_lr_disability_1 = fairness_metrics(TN_lr_disability_1, FP_lr_disability_1, FN_lr_disability_1, TP_lr_disability_1)\n",
    "fm_svc_disability_1 = fairness_metrics(TN_svc_disability_1, FP_svc_disability_1, FN_svc_disability_1, TP_svc_disability_1)\n",
    "fm_knearest_disability_1 = fairness_metrics(TN_knearest_disability_1, FP_knearest_disability_1, FN_knearest_disability_1, TP_knearest_disability_1)\n",
    "fm_dt_disability_1 = fairness_metrics(TN_dt_disability_1, FP_dt_disability_1, FN_dt_disability_1, TP_dt_disability_1)\n",
    "\n",
    "fm_lr_disability_0 = fairness_metrics(TN_lr_disability_0, FP_lr_disability_0, FN_lr_disability_0, TP_lr_disability_0)\n",
    "fm_svc_disability_0 = fairness_metrics(TN_svc_disability_0, FP_svc_disability_0, FN_svc_disability_0, TP_svc_disability_0)\n",
    "fm_knearest_disability_0 = fairness_metrics(TN_knearest_disability_0, FP_knearest_disability_0, FN_knearest_disability_0, TP_knearest_disability_0)\n",
    "fm_dt_disability_0 = fairness_metrics(TN_dt_disability_0, FP_dt_disability_0, FN_dt_disability_0, TP_dt_disability_0)"
   ]
  },
  {
   "cell_type": "markdown",
   "metadata": {},
   "source": [
    "## Results"
   ]
  },
  {
   "cell_type": "markdown",
   "metadata": {},
   "source": [
    "### $X_{test}$"
   ]
  },
  {
   "cell_type": "code",
   "execution_count": 54,
   "metadata": {},
   "outputs": [
    {
     "name": "stdout",
     "output_type": "stream",
     "text": [
      "Model       TPR    FPR    PPP    FNR\n",
      "--------  -----  -----  -----  -----\n",
      "LR         0.95   0.88   0.92   0.05\n",
      "SVC        0.95   0.88   0.92   0.05\n",
      "KNEAREST   0.64   0.62   0.64   0.36\n",
      "DT         0.86   0.78   0.83   0.14\n"
     ]
    }
   ],
   "source": [
    "print(tabulate([[\"LR\", round(fm_lr[\"TPR\"], 2), round(fm_lr[\"FPR\"], 2), round(fm_lr[\"PPP\"], 2), round(fm_lr[\"FNR\"], 2)],\n",
    "                [\"SVC\", round(fm_svc[\"TPR\"], 2), round(fm_svc[\"FPR\"], 2), round(fm_svc[\"PPP\"], 2), round(fm_svc[\"FNR\"], 2)],\n",
    "                [\"KNEAREST\", round(fm_knearest[\"TPR\"], 2), round(fm_knearest[\"FPR\"], 2), round(fm_knearest[\"PPP\"], 2), round(fm_knearest[\"FNR\"], 2)],\n",
    "                [\"DT\", round(fm_dt[\"TPR\"], 2), round(fm_dt[\"FPR\"], 2), round(fm_dt[\"PPP\"], 2), round(fm_dt[\"FNR\"], 2)]],\n",
    "                headers=[\"Model\", \"TPR\", \"FPR\", \"PPP\", \"FNR\"]))"
   ]
  },
  {
   "cell_type": "markdown",
   "metadata": {},
   "source": [
    "### $X_{test}$ gender"
   ]
  },
  {
   "cell_type": "code",
   "execution_count": 55,
   "metadata": {},
   "outputs": [
    {
     "name": "stdout",
     "output_type": "stream",
     "text": [
      "Model       TPR gender 1    TPR gender 0      Δ    FPR gender 1    FPR gender 0      Δ    PPP gender 1    PPP gender 0      Δ    FNR gender 1    FNR gender 0      Δ\n",
      "--------  --------------  --------------  -----  --------------  --------------  -----  --------------  --------------  -----  --------------  --------------  -----\n",
      "LR                  0.88            0.95  -0.07            0.72            0.9   -0.18            0.81            0.94  -0.13            0.12            0.05   0.07\n",
      "SVC                 0.9             0.95  -0.05            0.79            0.89  -0.1             0.85            0.93  -0.08            0.1             0.05   0.05\n",
      "KNEAREST            0.66            0.64   0.02            0.58            0.63  -0.05            0.62            0.64  -0.02            0.34            0.36  -0.02\n",
      "DT                  0.69            0.88  -0.19            0.73            0.78  -0.05            0.71            0.85  -0.14            0.31            0.12   0.19\n"
     ]
    }
   ],
   "source": [
    "print(tabulate([[\"LR\", round(fm_lr_gender_1[\"TPR\"], 2), round(fm_lr_gender_0[\"TPR\"], 2), round(fm_lr_gender_1[\"TPR\"], 2) - round(fm_lr_gender_0[\"TPR\"], 2), round(fm_lr_gender_1[\"FPR\"], 2), round(fm_lr_gender_0[\"FPR\"], 2), round(fm_lr_gender_1[\"FPR\"], 2) - round(fm_lr_gender_0[\"FPR\"], 2), round(fm_lr_gender_1[\"PPP\"], 2), round(fm_lr_gender_0[\"PPP\"], 2), round(fm_lr_gender_1[\"PPP\"], 2) - round(fm_lr_gender_0[\"PPP\"], 2), round(fm_lr_gender_1[\"FNR\"], 2), round(fm_lr_gender_0[\"FNR\"], 2), round(fm_lr_gender_1[\"FNR\"], 2) - round(fm_lr_gender_0[\"FNR\"], 2)],\n",
    "                [\"SVC\", round(fm_svc_gender_1[\"TPR\"], 2), round(fm_svc_gender_0[\"TPR\"], 2), round(fm_svc_gender_1[\"TPR\"], 2) - round(fm_svc_gender_0[\"TPR\"], 2), round(fm_svc_gender_1[\"FPR\"], 2), round(fm_svc_gender_0[\"FPR\"], 2), round(fm_svc_gender_1[\"FPR\"], 2) - round(fm_svc_gender_0[\"FPR\"], 2), round(fm_svc_gender_1[\"PPP\"], 2), round(fm_svc_gender_0[\"PPP\"], 2), round(fm_svc_gender_1[\"PPP\"], 2) - round(fm_svc_gender_0[\"PPP\"], 2), round(fm_svc_gender_1[\"FNR\"], 2), round(fm_svc_gender_0[\"FNR\"], 2), round(fm_svc_gender_1[\"FNR\"], 2) - round(fm_svc_gender_0[\"FNR\"], 2)],\n",
    "                [\"KNEAREST\", round(fm_knearest_gender_1[\"TPR\"], 2), round(fm_knearest_gender_0[\"TPR\"], 2), round(fm_knearest_gender_1[\"TPR\"], 2) - round(fm_knearest_gender_0[\"TPR\"], 2), round(fm_knearest_gender_1[\"FPR\"], 2), round(fm_knearest_gender_0[\"FPR\"], 2), round(fm_knearest_gender_1[\"FPR\"], 2) - round(fm_knearest_gender_0[\"FPR\"], 2), round(fm_knearest_gender_1[\"PPP\"], 2), round(fm_knearest_gender_0[\"PPP\"], 2), round(fm_knearest_gender_1[\"PPP\"], 2) - round(fm_knearest_gender_0[\"PPP\"], 2), round(fm_knearest_gender_1[\"FNR\"], 2), round(fm_knearest_gender_0[\"FNR\"], 2), round(fm_knearest_gender_1[\"FNR\"], 2) - round(fm_knearest_gender_0[\"FNR\"], 2)],\n",
    "                [\"DT\", round(fm_dt_gender_1[\"TPR\"], 2), round(fm_dt_gender_0[\"TPR\"], 2), round(fm_dt_gender_1[\"TPR\"], 2) - round(fm_dt_gender_0[\"TPR\"], 2), round(fm_dt_gender_1[\"FPR\"], 2), round(fm_dt_gender_0[\"FPR\"], 2), round(fm_dt_gender_1[\"FPR\"], 2) - round(fm_dt_gender_0[\"FPR\"], 2), round(fm_dt_gender_1[\"PPP\"], 2), round(fm_dt_gender_0[\"PPP\"], 2), round(fm_dt_gender_1[\"PPP\"], 2) - round(fm_dt_gender_0[\"PPP\"], 2), round(fm_dt_gender_1[\"FNR\"], 2), round(fm_dt_gender_0[\"FNR\"], 2), round(fm_dt_gender_1[\"FNR\"], 2) - round(fm_dt_gender_0[\"FNR\"], 2)]],\n",
    "                headers=[\"Model\", \"TPR gender 1\", \"TPR gender 0\", \"\\u0394\", \"FPR gender 1\", \"FPR gender 0\", \"\\u0394\", \"PPP gender 1\", \"PPP gender 0\", \"\\u0394\", \"FNR gender 1\", \"FNR gender 0\", \"\\u0394\"]))"
   ]
  },
  {
   "cell_type": "code",
   "execution_count": 56,
   "metadata": {},
   "outputs": [],
   "source": [
    "# print(tabulate([[\"LR\", round(fm_lr_gender_1[\"TPR\"], 2), round(fm_lr_gender_1[\"FPR\"], 2), round(fm_lr_gender_1[\"PPP\"], 2), round(fm_lr_gender_1[\"FNR\"], 2)],\n",
    "#                 [\"SVC\", round(fm_svc_gender_1[\"TPR\"], 2), round(fm_svc_gender_1[\"FPR\"], 2), round(fm_svc_gender_1[\"PPP\"], 2), round(fm_svc_gender_1[\"FNR\"], 2)],\n",
    "#                 [\"KNEAREST\", round(fm_knearest_gender_1[\"TPR\"], 2), round(fm_knearest_gender_1[\"FPR\"], 2), round(fm_knearest_gender_1[\"PPP\"], 2), round(fm_knearest_gender_1[\"FNR\"], 2)],\n",
    "#                 [\"DT\", round(fm_dt_gender_1[\"TPR\"], 2), round(fm_dt_gender_1[\"FPR\"], 2), round(fm_dt_gender_1[\"PPP\"], 2), round(fm_dt_gender_1[\"FNR\"], 2)]],\n",
    "#                 headers=[\"Model\", \"TPR\", \"FPR\", \"PPP\", \"FNR\"]))"
   ]
  },
  {
   "cell_type": "code",
   "execution_count": 57,
   "metadata": {},
   "outputs": [],
   "source": [
    "# print(tabulate([[\"LR\", round(fm_lr_gender_0[\"TPR\"], 2), round(fm_lr_gender_0[\"FPR\"], 2), round(fm_lr_gender_0[\"PPP\"], 2), round(fm_lr_gender_0[\"FNR\"], 2)],\n",
    "#                 [\"SVC\", round(fm_svc_gender_0[\"TPR\"], 2), round(fm_svc_gender_0[\"FPR\"], 2), round(fm_svc_gender_0[\"PPP\"], 2), round(fm_svc_gender_0[\"FNR\"], 2)],\n",
    "#                 [\"KNEAREST\", round(fm_knearest_gender_0[\"TPR\"], 2), round(fm_knearest_gender_0[\"FPR\"], 2), round(fm_knearest_gender_0[\"PPP\"], 2), round(fm_knearest_gender_0[\"FNR\"], 2)],\n",
    "#                 [\"DT\", round(fm_dt_gender_0[\"TPR\"], 2), round(fm_dt_gender_0[\"FPR\"], 2), round(fm_dt_gender_0[\"PPP\"], 2), round(fm_dt_gender_0[\"FNR\"], 2)]],\n",
    "#                 headers=[\"Model\", \"TPR\", \"FPR\", \"PPP\", \"FNR\"]))"
   ]
  },
  {
   "cell_type": "markdown",
   "metadata": {},
   "source": [
    "### $X_{test}$ imd band"
   ]
  },
  {
   "cell_type": "code",
   "execution_count": 58,
   "metadata": {},
   "outputs": [
    {
     "name": "stdout",
     "output_type": "stream",
     "text": [
      "Model       TPR imd 1    TPR imd 0      Δ    FPR imd 1    FPR imd 0      Δ    PPP imd 1    PPP imd 0      Δ    FNR imd 1    FNR imd 0     Δ\n",
      "--------  -----------  -----------  -----  -----------  -----------  -----  -----------  -----------  -----  -----------  -----------  ----\n",
      "LR               0.91         0.99  -0.08         0.82         0.99  -0.17         0.88         0.99  -0.11         0.09         0.01  0.08\n",
      "SVC              0.91         0.99  -0.08         0.82         0.99  -0.17         0.88         0.99  -0.11         0.09         0.01  0.08\n",
      "KNEAREST         0.52         0.81  -0.29         0.55         0.77  -0.22         0.53         0.8   -0.27         0.48         0.19  0.29\n",
      "DT               0.8          0.95  -0.15         0.72         0.9   -0.18         0.77         0.93  -0.16         0.2          0.05  0.15\n"
     ]
    }
   ],
   "source": [
    "print(tabulate([[\"LR\", round(fm_lr_imdband_1[\"TPR\"], 2), round(fm_lr_imdband_0[\"TPR\"], 2), round(fm_lr_imdband_1[\"TPR\"], 2) - round(fm_lr_imdband_0[\"TPR\"], 2), round(fm_lr_imdband_1[\"FPR\"], 2), round(fm_lr_imdband_0[\"FPR\"], 2), round(fm_lr_imdband_1[\"FPR\"], 2) - round(fm_lr_imdband_0[\"FPR\"], 2), round(fm_lr_imdband_1[\"PPP\"], 2), round(fm_lr_imdband_0[\"PPP\"], 2), round(fm_lr_imdband_1[\"PPP\"], 2) - round(fm_lr_imdband_0[\"PPP\"], 2), round(fm_lr_imdband_1[\"FNR\"], 2), round(fm_lr_imdband_0[\"FNR\"], 2), round(fm_lr_imdband_1[\"FNR\"], 2) - round(fm_lr_imdband_0[\"FNR\"], 2)],\n",
    "                [\"SVC\", round(fm_svc_imdband_1[\"TPR\"], 2), round(fm_svc_imdband_0[\"TPR\"], 2), round(fm_svc_imdband_1[\"TPR\"], 2) - round(fm_svc_imdband_0[\"TPR\"], 2), round(fm_svc_imdband_1[\"FPR\"], 2), round(fm_svc_imdband_0[\"FPR\"], 2), round(fm_svc_imdband_1[\"FPR\"], 2) - round(fm_svc_imdband_0[\"FPR\"], 2), round(fm_svc_imdband_1[\"PPP\"], 2), round(fm_svc_imdband_0[\"PPP\"], 2), round(fm_svc_imdband_1[\"PPP\"], 2) - round(fm_svc_imdband_0[\"PPP\"], 2), round(fm_svc_imdband_1[\"FNR\"], 2), round(fm_svc_imdband_0[\"FNR\"], 2), round(fm_svc_imdband_1[\"FNR\"], 2) - round(fm_svc_imdband_0[\"FNR\"], 2)],\n",
    "                [\"KNEAREST\", round(fm_knearest_imdband_1[\"TPR\"], 2), round(fm_knearest_imdband_0[\"TPR\"], 2), round(fm_knearest_imdband_1[\"TPR\"], 2) - round(fm_knearest_imdband_0[\"TPR\"], 2), round(fm_knearest_imdband_1[\"FPR\"], 2), round(fm_knearest_imdband_0[\"FPR\"], 2), round(fm_knearest_imdband_1[\"FPR\"], 2) - round(fm_knearest_imdband_0[\"FPR\"], 2), round(fm_knearest_imdband_1[\"PPP\"], 2), round(fm_knearest_imdband_0[\"PPP\"], 2), round(fm_knearest_imdband_1[\"PPP\"], 2) - round(fm_knearest_imdband_0[\"PPP\"], 2), round(fm_knearest_imdband_1[\"FNR\"], 2), round(fm_knearest_imdband_0[\"FNR\"], 2), round(fm_knearest_imdband_1[\"FNR\"], 2) - round(fm_knearest_imdband_0[\"FNR\"], 2)],\n",
    "                [\"DT\", round(fm_dt_imdband_1[\"TPR\"], 2), round(fm_dt_imdband_0[\"TPR\"], 2), round(fm_dt_imdband_1[\"TPR\"], 2) - round(fm_dt_imdband_0[\"TPR\"], 2), round(fm_dt_imdband_1[\"FPR\"], 2), round(fm_dt_imdband_0[\"FPR\"], 2), round(fm_dt_imdband_1[\"FPR\"], 2) - round(fm_dt_imdband_0[\"FPR\"], 2), round(fm_dt_imdband_1[\"PPP\"], 2), round(fm_dt_imdband_0[\"PPP\"], 2), round(fm_dt_imdband_1[\"PPP\"], 2) - round(fm_dt_imdband_0[\"PPP\"], 2), round(fm_dt_imdband_1[\"FNR\"], 2), round(fm_dt_imdband_0[\"FNR\"], 2), round(fm_dt_imdband_1[\"FNR\"], 2) - round(fm_dt_imdband_0[\"FNR\"], 2)]],\n",
    "                headers=[\"Model\", \"TPR imd 1\", \"TPR imd 0\", \"\\u0394\", \"FPR imd 1\", \"FPR imd 0\", \"\\u0394\", \"PPP imd 1\", \"PPP imd 0\", \"\\u0394\", \"FNR imd 1\", \"FNR imd 0\", \"\\u0394\"]))"
   ]
  },
  {
   "cell_type": "code",
   "execution_count": 59,
   "metadata": {},
   "outputs": [],
   "source": [
    "# print(tabulate([[\"LR\", round(fm_lr_imdband_1[\"TPR\"], 2), round(fm_lr_imdband_1[\"FPR\"], 2), round(fm_lr_imdband_1[\"PPP\"], 2), round(fm_lr_imdband_1[\"FNR\"], 2)],\n",
    "#                 [\"SVC\", round(fm_svc_imdband_1[\"TPR\"], 2), round(fm_svc_imdband_1[\"FPR\"], 2), round(fm_svc_imdband_1[\"PPP\"], 2), round(fm_svc_imdband_1[\"FNR\"], 2)],\n",
    "#                 [\"KNEAREST\", round(fm_knearest_imdband_1[\"TPR\"], 2), round(fm_knearest_imdband_1[\"FPR\"], 2), round(fm_knearest_imdband_1[\"PPP\"], 2), round(fm_knearest_imdband_1[\"FNR\"], 2)],\n",
    "#                 [\"DT\", round(fm_dt_imdband_1[\"TPR\"], 2), round(fm_dt_imdband_1[\"FPR\"], 2), round(fm_dt_imdband_1[\"PPP\"], 2), round(fm_dt_imdband_1[\"FNR\"], 2)]],\n",
    "#                 headers=[\"Model\", \"TPR\", \"FPR\", \"PPP\", \"FNR\"]))"
   ]
  },
  {
   "cell_type": "code",
   "execution_count": 60,
   "metadata": {},
   "outputs": [],
   "source": [
    "# print(tabulate([[\"LR\", round(fm_lr_imdband_0[\"TPR\"], 2), round(fm_lr_imdband_0[\"FPR\"], 2), round(fm_lr_imdband_0[\"PPP\"], 2), round(fm_lr_imdband_0[\"FNR\"], 2)],\n",
    "#                 [\"SVC\", round(fm_svc_imdband_0[\"TPR\"], 2), round(fm_svc_imdband_0[\"FPR\"], 2), round(fm_svc_imdband_0[\"PPP\"], 2), round(fm_svc_imdband_0[\"FNR\"], 2)],\n",
    "#                 [\"KNEAREST\", round(fm_knearest_imdband_0[\"TPR\"], 2), round(fm_knearest_imdband_0[\"FPR\"], 2), round(fm_knearest_imdband_0[\"PPP\"], 2), round(fm_knearest_imdband_0[\"FNR\"], 2)],\n",
    "#                 [\"DT\", round(fm_dt_imdband_0[\"TPR\"], 2), round(fm_dt_imdband_0[\"FPR\"], 2), round(fm_dt_imdband_0[\"PPP\"], 2), round(fm_dt_imdband_0[\"FNR\"], 2)]],\n",
    "#                 headers=[\"Model\", \"TPR\", \"FPR\", \"PPP\", \"FNR\"]))"
   ]
  },
  {
   "cell_type": "markdown",
   "metadata": {},
   "source": [
    "### $X_{test}$ disability"
   ]
  },
  {
   "cell_type": "code",
   "execution_count": 61,
   "metadata": {},
   "outputs": [
    {
     "name": "stdout",
     "output_type": "stream",
     "text": [
      "Model       TPR disab. 1    TPR disab. 0      Δ    FPR disab. 1    FPR disab. 0      Δ    PPP disab. 1    PPP disab. 0      Δ    FNR disab. 1    FNR disab. 0      Δ\n",
      "--------  --------------  --------------  -----  --------------  --------------  -----  --------------  --------------  -----  --------------  --------------  -----\n",
      "LR                  0.9             0.95  -0.05            0.75            0.9   -0.15            0.83            0.93  -0.1             0.1             0.05   0.05\n",
      "SVC                 0.9             0.95  -0.05            0.75            0.9   -0.15            0.83            0.93  -0.1             0.1             0.05   0.05\n",
      "KNEAREST            0.81            0.63   0.18            0.74            0.6    0.14            0.77            0.62   0.15            0.19            0.37  -0.18\n",
      "DT                  0.72            0.87  -0.15            0.68            0.79  -0.11            0.7             0.84  -0.14            0.28            0.13   0.15\n"
     ]
    }
   ],
   "source": [
    "print(tabulate([[\"LR\", round(fm_lr_disability_1[\"TPR\"], 2), round(fm_lr_disability_0[\"TPR\"], 2), round(fm_lr_disability_1[\"TPR\"], 2) - round(fm_lr_disability_0[\"TPR\"], 2), round(fm_lr_disability_1[\"FPR\"], 2), round(fm_lr_disability_0[\"FPR\"], 2), round(fm_lr_disability_1[\"FPR\"], 2) - round(fm_lr_disability_0[\"FPR\"], 2), round(fm_lr_disability_1[\"PPP\"], 2), round(fm_lr_disability_0[\"PPP\"], 2), round(fm_lr_disability_1[\"PPP\"], 2) - round(fm_lr_disability_0[\"PPP\"], 2), round(fm_lr_disability_1[\"FNR\"], 2), round(fm_lr_disability_0[\"FNR\"], 2), round(fm_lr_disability_1[\"FNR\"], 2) - round(fm_lr_disability_0[\"FNR\"], 2)],\n",
    "                [\"SVC\", round(fm_svc_disability_1[\"TPR\"], 2), round(fm_svc_disability_0[\"TPR\"], 2), round(fm_svc_disability_1[\"TPR\"], 2) - round(fm_svc_disability_0[\"TPR\"], 2), round(fm_svc_disability_1[\"FPR\"], 2), round(fm_svc_disability_0[\"FPR\"], 2), round(fm_svc_disability_1[\"FPR\"], 2) - round(fm_svc_disability_0[\"FPR\"], 2), round(fm_svc_disability_1[\"PPP\"], 2), round(fm_svc_disability_0[\"PPP\"], 2), round(fm_svc_disability_1[\"PPP\"], 2) - round(fm_svc_disability_0[\"PPP\"], 2), round(fm_svc_disability_1[\"FNR\"], 2), round(fm_svc_disability_0[\"FNR\"], 2), round(fm_svc_disability_1[\"FNR\"], 2) - round(fm_svc_disability_0[\"FNR\"], 2)],\n",
    "                [\"KNEAREST\", round(fm_knearest_disability_1[\"TPR\"], 2), round(fm_knearest_disability_0[\"TPR\"], 2), round(fm_knearest_disability_1[\"TPR\"], 2) - round(fm_knearest_disability_0[\"TPR\"], 2), round(fm_knearest_disability_1[\"FPR\"], 2), round(fm_knearest_disability_0[\"FPR\"], 2), round(fm_knearest_disability_1[\"FPR\"], 2) - round(fm_knearest_disability_0[\"FPR\"], 2), round(fm_knearest_disability_1[\"PPP\"], 2), round(fm_knearest_disability_0[\"PPP\"], 2), round(fm_knearest_disability_1[\"PPP\"], 2) - round(fm_knearest_disability_0[\"PPP\"], 2), round(fm_knearest_disability_1[\"FNR\"], 2), round(fm_knearest_disability_0[\"FNR\"], 2), round(fm_knearest_disability_1[\"FNR\"], 2) - round(fm_knearest_disability_0[\"FNR\"], 2)],\n",
    "                [\"DT\", round(fm_dt_disability_1[\"TPR\"], 2), round(fm_dt_disability_0[\"TPR\"], 2), round(fm_dt_disability_1[\"TPR\"], 2) - round(fm_dt_disability_0[\"TPR\"], 2), round(fm_dt_disability_1[\"FPR\"], 2), round(fm_dt_disability_0[\"FPR\"], 2), round(fm_dt_disability_1[\"FPR\"], 2) - round(fm_dt_disability_0[\"FPR\"], 2), round(fm_dt_disability_1[\"PPP\"], 2), round(fm_dt_disability_0[\"PPP\"], 2), round(fm_dt_disability_1[\"PPP\"], 2) - round(fm_dt_disability_0[\"PPP\"], 2), round(fm_dt_disability_1[\"FNR\"], 2), round(fm_dt_disability_0[\"FNR\"], 2), round(fm_dt_disability_1[\"FNR\"], 2) - round(fm_dt_disability_0[\"FNR\"], 2)]],\n",
    "                headers=[\"Model\", \"TPR disab. 1\", \"TPR disab. 0\", \"\\u0394\", \"FPR disab. 1\", \"FPR disab. 0\", \"\\u0394\", \"PPP disab. 1\", \"PPP disab. 0\", \"\\u0394\", \"FNR disab. 1\", \"FNR disab. 0\", \"\\u0394\"]))"
   ]
  },
  {
   "cell_type": "code",
   "execution_count": 62,
   "metadata": {},
   "outputs": [],
   "source": [
    "# print(tabulate([[\"LR\", round(fm_lr_disability_1[\"TPR\"], 2), round(fm_lr_disability_1[\"FPR\"], 2), round(fm_lr_disability_1[\"PPP\"], 2), round(fm_lr_disability_1[\"FNR\"], 2)],\n",
    "#                 [\"SVC\", round(fm_svc_disability_1[\"TPR\"], 2), round(fm_svc_disability_1[\"FPR\"], 2), round(fm_svc_disability_1[\"PPP\"], 2), round(fm_svc_disability_1[\"FNR\"], 2)],\n",
    "#                 [\"KNEAREST\", round(fm_knearest_disability_1[\"TPR\"], 2), round(fm_knearest_disability_1[\"FPR\"], 2), round(fm_knearest_disability_1[\"PPP\"], 2), round(fm_knearest_disability_1[\"FNR\"], 2)],\n",
    "#                 [\"DT\", round(fm_dt_disability_1[\"TPR\"], 2), round(fm_dt_disability_1[\"FPR\"], 2), round(fm_dt_disability_1[\"PPP\"], 2), round(fm_dt_disability_1[\"FNR\"], 2)]],\n",
    "#                 headers=[\"Model\", \"TPR\", \"FPR\", \"PPP\", \"FNR\"]))"
   ]
  },
  {
   "cell_type": "code",
   "execution_count": 63,
   "metadata": {},
   "outputs": [],
   "source": [
    "# print(tabulate([[\"LR\", round(fm_lr_disability_0[\"TPR\"], 2), round(fm_lr_disability_0[\"FPR\"], 2), round(fm_lr_disability_0[\"PPP\"], 2), round(fm_lr_disability_0[\"FNR\"], 2)],\n",
    "#                 [\"SVC\", round(fm_svc_disability_0[\"TPR\"], 2), round(fm_svc_disability_0[\"FPR\"], 2), round(fm_svc_disability_0[\"PPP\"], 2), round(fm_svc_disability_0[\"FNR\"], 2)],\n",
    "#                 [\"KNEAREST\", round(fm_knearest_disability_0[\"TPR\"], 2), round(fm_knearest_disability_0[\"FPR\"], 2), round(fm_knearest_disability_0[\"PPP\"], 2), round(fm_knearest_disability_0[\"FNR\"], 2)],\n",
    "#                 [\"DT\", round(fm_dt_disability_0[\"TPR\"], 2), round(fm_dt_disability_0[\"FPR\"], 2), round(fm_dt_disability_0[\"PPP\"], 2), round(fm_dt_disability_0[\"FNR\"], 2)]],\n",
    "#                 headers=[\"Model\", \"TPR\", \"FPR\", \"PPP\", \"FNR\"]))"
   ]
  },
  {
   "cell_type": "code",
   "execution_count": null,
   "metadata": {},
   "outputs": [],
   "source": []
  },
  {
   "cell_type": "code",
   "execution_count": null,
   "metadata": {},
   "outputs": [],
   "source": []
  },
  {
   "cell_type": "markdown",
   "metadata": {},
   "source": [
    "## Determining groups from the probability estimates of the models"
   ]
  },
  {
   "cell_type": "code",
   "execution_count": 68,
   "metadata": {},
   "outputs": [],
   "source": [
    "# Determine groups thresholds\n",
    "proba_estimates_lr = clf_lr.predict_proba(X_test)"
   ]
  },
  {
   "cell_type": "code",
   "execution_count": 69,
   "metadata": {},
   "outputs": [
    {
     "data": {
      "text/plain": [
       "Text(0.5, 1.0, 'Probability estimates for class 1')"
      ]
     },
     "execution_count": 69,
     "metadata": {},
     "output_type": "execute_result"
    },
    {
     "data": {
      "image/png": "[encoded data removed]",
      "text/plain": [
       "<Figure size 432x288 with 1 Axes>"
      ]
     },
     "metadata": {
      "needs_background": "light"
     },
     "output_type": "display_data"
    }
   ],
   "source": [
    "plot = sns.histplot(data=proba_estimates_lr[:,1], kde=True, color=\"blue\") # kernel density estimation\n",
    "plot.set_title(label=\"Probability estimates for class 1\")"
   ]
  },
  {
   "cell_type": "code",
   "execution_count": null,
   "metadata": {},
   "outputs": [],
   "source": []
  },
  {
   "cell_type": "code",
   "execution_count": null,
   "metadata": {},
   "outputs": [],
   "source": []
  }
 ],
 "metadata": {
  "kernelspec": {
   "display_name": "Python 3.10.4 ('env': venv)",
   "language": "python",
   "name": "python3"
  },
  "language_info": {
   "codemirror_mode": {
    "name": "ipython",
    "version": 3
   },
   "file_extension": ".py",
   "mimetype": "text/x-python",
   "name": "python",
   "nbconvert_exporter": "python",
   "pygments_lexer": "ipython3",
   "version": "3.10.4"
  },
  "orig_nbformat": 4,
  "vscode": {
   "interpreter": {
    "hash": "6f232859c35808c32414ed7392a3d2d166834ac936b1e4fa11fad72d2414503a"
   }
  }
 },
 "nbformat": 4,
 "nbformat_minor": 2
}
