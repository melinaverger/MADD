{
 "cells": [
  {
   "cell_type": "code",
   "execution_count": 11,
   "metadata": {},
   "outputs": [],
   "source": [
    "\"\"\"\n",
    "Created on: Fri. 14 Oct. 2022\n",
    "Updated on: Wed. 2 Nov. 2022\n",
    "Updated on: Thu. 3 Nov. 2022\n",
    "Author: Mélina Verger\n",
    "\n",
    "Compute mean density error metric.\n",
    "\"\"\"\n",
    "\n",
    "# To exit script\n",
    "from sys import exit\n",
    "\n",
    "# To load the trained models\n",
    "import pickle\n",
    "\n",
    "# For data manipulation\n",
    "import pandas as pd\n",
    "import numpy as np\n",
    "from scipy.signal import find_peaks\n",
    "\n",
    "# To print with tabular format\n",
    "from tabulate import tabulate\n",
    "\n",
    "# Plotting module\n",
    "import matplotlib.pyplot as plt"
   ]
  },
  {
   "cell_type": "markdown",
   "metadata": {},
   "source": [
    "## Loading"
   ]
  },
  {
   "cell_type": "code",
   "execution_count": 12,
   "metadata": {},
   "outputs": [
    {
     "name": "stdout",
     "output_type": "stream",
     "text": [
      "stInfo\n",
      "7030\n",
      "['gender', 'imd_band', 'disability']\n"
     ]
    }
   ],
   "source": [
    "DATA = pickle.load(open(\"../data/DATA\", \"rb\"))\n",
    "SPLIT = pickle.load(open(\"../data/SPLIT\", \"rb\"))\n",
    "SFEATURES = pickle.load(open(\"../data/SFEATURES\", \"rb\"))\n",
    "\n",
    "print(DATA)\n",
    "print(SPLIT)\n",
    "print(SFEATURES)"
   ]
  },
  {
   "cell_type": "code",
   "execution_count": 13,
   "metadata": {},
   "outputs": [],
   "source": [
    "# Load test sets\n",
    "\n",
    "X_test = pd.read_csv(\"../data/X_test\" + \"_\" + DATA + \"_\" + SPLIT + \".csv\")\n",
    "y_test = pd.read_csv(\"../data/y_test\" + \"_\" + DATA + \"_\" + SPLIT + \".csv\")"
   ]
  },
  {
   "cell_type": "code",
   "execution_count": 14,
   "metadata": {},
   "outputs": [],
   "source": [
    "# Load trained models\n",
    "\n",
    "MODELS = pickle.load(open(\"../data/MODELS\", \"rb\"))  # dict with names and trained models\n",
    "models = MODELS"
   ]
  },
  {
   "cell_type": "code",
   "execution_count": 15,
   "metadata": {},
   "outputs": [],
   "source": [
    "if \"clf_svc\" in models:\n",
    "    del models[\"clf_svc\"]  # except svc model because no probability outputs "
   ]
  },
  {
   "cell_type": "markdown",
   "metadata": {},
   "source": [
    "## Separate data sets by (un-)protected groups"
   ]
  },
  {
   "cell_type": "markdown",
   "metadata": {},
   "source": [
    "/!\\ The following only works for binary sensitive features."
   ]
  },
  {
   "cell_type": "code",
   "execution_count": 16,
   "metadata": {},
   "outputs": [],
   "source": [
    "dict_subsets_test = dict()\n",
    "\n",
    "for sensfeat in SFEATURES:\n",
    "    # X_test_{sensitive feature and group 1/0}\n",
    "    dict_subsets_test[\"X\"+ \"_test_\" + sensfeat + \"_\"+ \"1\"] = X_test[X_test[sensfeat] == 1]\n",
    "    dict_subsets_test[\"X\"+ \"_test_\" + sensfeat + \"_\"+ \"0\"] = X_test[X_test[sensfeat] == 0]\n",
    "    # y_test_{sensitive feature and group 1/0}\n",
    "    dict_subsets_test[\"y\"+ \"_test_\" + sensfeat + \"_\"+ \"1\"] = y_test.loc[dict_subsets_test[\"X\" + \"_test_\" + sensfeat + \"_\" + \"1\"].index]\n",
    "    dict_subsets_test[\"y\"+ \"_test_\" + sensfeat + \"_\"+ \"0\"] = y_test.loc[dict_subsets_test[\"X\" + \"_test_\" + sensfeat + \"_\" + \"0\"].index]"
   ]
  },
  {
   "cell_type": "markdown",
   "metadata": {},
   "source": [
    "## Prediction **probabilities**"
   ]
  },
  {
   "cell_type": "code",
   "execution_count": 17,
   "metadata": {},
   "outputs": [],
   "source": [
    "dict_subsets_PP = dict()\n",
    "\n",
    "for mod_names in models:\n",
    "\n",
    "    if mod_names == \"clf_lr\":\n",
    "        modl = \"lr\"\n",
    "    elif mod_names == \"clf_kn\":\n",
    "        modl = \"kn\"\n",
    "    elif mod_names == \"clf_dt\":\n",
    "        modl = \"dt\" \n",
    "    elif mod_names == \"clf_rf\":\n",
    "        modl = \"rf\"\n",
    "    else:\n",
    "        print(\"Invalid model.\")\n",
    "        exit()\n",
    "\n",
    "    # y_PP for X_test_{sensitive feature and group 1/0}\n",
    "    for sensfeat in SFEATURES:\n",
    "        dict_subsets_PP[\"y\" + \"_PP_\" + modl + \"_\" + sensfeat + \"_\" + \"1\"] = models[mod_names].predict_proba(dict_subsets_test[\"X\"+ \"_test_\" + sensfeat + \"_\"+ \"1\"])[:, 1]  # [:, 1] because propa of being in the class 1\n",
    "        dict_subsets_PP[\"y\" + \"_PP_\" + modl + \"_\" + sensfeat + \"_\" + \"0\"] = models[mod_names].predict_proba(dict_subsets_test[\"X\"+ \"_test_\" + sensfeat + \"_\"+ \"0\"])[:, 0]  # [:, 1] because propa of being in the class 0"
   ]
  },
  {
   "cell_type": "markdown",
   "metadata": {},
   "source": [
    "## Mean density error ($\\overline{d}$)"
   ]
  },
  {
   "cell_type": "markdown",
   "metadata": {},
   "source": [
    "/!\\ The vectors does not have the same length but it is handled by the density vector."
   ]
  },
  {
   "cell_type": "code",
   "execution_count": 18,
   "metadata": {},
   "outputs": [],
   "source": [
    "def normalized_density_vector(pred_proba_array):\n",
    "\n",
    "    PP_rounded = np.around(pred_proba_array, decimals=2)\n",
    "\n",
    "    density_vector = np.zeros(101)  # empty\n",
    "    proba_values = np.linspace(0, 1, 101)  # 101 elems\n",
    "\n",
    "    for i in range(len(proba_values)):\n",
    "        compar = proba_values[i]\n",
    "        count = 0\n",
    "        for x in PP_rounded:\n",
    "            if x == compar:\n",
    "                count = count + 1\n",
    "        density_vector[i] = count\n",
    "    \n",
    "    normalized_density_vec = density_vector / np.sum(density_vector)\n",
    "\n",
    "    return normalized_density_vec"
   ]
  },
  {
   "cell_type": "code",
   "execution_count": 19,
   "metadata": {},
   "outputs": [],
   "source": [
    "def mean_density_error(norm_densvect_1, norm_densvect_0):\n",
    "    return np.absolute(norm_densvect_1 - norm_densvect_0).sum()"
   ]
  },
  {
   "cell_type": "code",
   "execution_count": 20,
   "metadata": {},
   "outputs": [
    {
     "name": "stdout",
     "output_type": "stream",
     "text": [
      "Sensitive feature    Model        d\n",
      "-------------------  -------  ----------\n",
      "gender               lr             1.73\n",
      "gender               kn             0.92\n",
      "gender               dt             1.58\n",
      "gender               rf             1.72\n",
      "imd_band             lr             1.88\n",
      "imd_band             kn             1.11\n",
      "imd_band             dt             1.62\n",
      "imd_band             rf             1.73\n",
      "disability           lr             1.76\n",
      "disability           kn             0.94\n",
      "disability           dt             1.52\n",
      "disability           rf             1.56\n"
     ]
    }
   ],
   "source": [
    "d_res = list()\n",
    "\n",
    "for sensfeat in SFEATURES:\n",
    "\n",
    "    for mod_name in models:\n",
    "\n",
    "        if mod_name == \"clf_lr\":\n",
    "            modl = \"lr\"\n",
    "        elif mod_name == \"clf_kn\":\n",
    "            modl = \"kn\"  # model that generates FutureWarning\n",
    "        elif mod_name == \"clf_dt\":\n",
    "            modl = \"dt\" \n",
    "        elif mod_name == \"clf_rf\":\n",
    "            modl = \"rf\"\n",
    "        else:\n",
    "            print(\"Invalid model.\")\n",
    "            exit()\n",
    "    \n",
    "        d_subres = list()\n",
    "        d_subres.append(sensfeat)\n",
    "        d_subres.append(modl)\n",
    "        norm_densvect1 = normalized_density_vector(dict_subsets_PP[\"y\" + \"_PP_\" + modl + \"_\" + sensfeat + \"_\" + \"1\"])\n",
    "        norm_densvect0 = normalized_density_vector(dict_subsets_PP[\"y\" + \"_PP_\" + modl + \"_\" + sensfeat + \"_\" + \"0\"])\n",
    "        d = round(mean_density_error(norm_densvect1, norm_densvect0), 2)\n",
    "        d_subres.append(d)\n",
    "        d_res.append(d_subres)\n",
    "\n",
    "print(tabulate(d_res, headers=[\"Sensitive feature\", \"Model\", \"  d     \"]))"
   ]
  }
 ],
 "metadata": {
  "kernelspec": {
   "display_name": "Python 3.10.4 ('env': venv)",
   "language": "python",
   "name": "python3"
  },
  "language_info": {
   "codemirror_mode": {
    "name": "ipython",
    "version": 3
   },
   "file_extension": ".py",
   "mimetype": "text/x-python",
   "name": "python",
   "nbconvert_exporter": "python",
   "pygments_lexer": "ipython3",
   "version": "3.10.4"
  },
  "orig_nbformat": 4,
  "vscode": {
   "interpreter": {
    "hash": "6f232859c35808c32414ed7392a3d2d166834ac936b1e4fa11fad72d2414503a"
   }
  }
 },
 "nbformat": 4,
 "nbformat_minor": 2
}
