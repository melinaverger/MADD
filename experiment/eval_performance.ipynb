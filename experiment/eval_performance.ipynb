{
 "cells": [
  {
   "cell_type": "code",
   "execution_count": 1,
   "metadata": {},
   "outputs": [],
   "source": [
    "\"\"\"\n",
    "Author: Mélina Verger\n",
    "\n",
    "Test the models and return their accuracies and feature importance.\n",
    "\"\"\"\n",
    "\n",
    "# For data manipulation\n",
    "import pandas as pd\n",
    "\n",
    "# To load the trained models\n",
    "import pickle\n",
    "\n",
    "# For cross-validation\n",
    "from sklearn.model_selection import cross_val_score\n",
    "\n",
    "# Metric\n",
    "from sklearn.metrics import accuracy_score\n",
    "\n",
    "# Plotting module\n",
    "import matplotlib.pyplot as plt\n",
    "\n",
    "import warnings\n",
    "warnings.simplefilter(action='ignore', category=FutureWarning)"
   ]
  },
  {
   "cell_type": "markdown",
   "metadata": {},
   "source": [
    "## Load data sets and trained models"
   ]
  },
  {
   "cell_type": "code",
   "execution_count": 2,
   "metadata": {},
   "outputs": [
    {
     "name": "stdout",
     "output_type": "stream",
     "text": [
      "stClick\n",
      "7030\n"
     ]
    }
   ],
   "source": [
    "DATA = pickle.load(open(\"../data/DATA\", \"rb\"))\n",
    "SPLIT = pickle.load(open(\"../data/SPLIT\", \"rb\"))\n",
    "\n",
    "print(DATA)\n",
    "print(SPLIT)"
   ]
  },
  {
   "cell_type": "code",
   "execution_count": 3,
   "metadata": {},
   "outputs": [],
   "source": [
    "# Load train and test sets\n",
    "\n",
    "X_train = pd.read_csv(\"../data/X_train\" + \"_\" + DATA + \"_\" + SPLIT + \".csv\")\n",
    "X_test = pd.read_csv(\"../data/X_test\" + \"_\" + DATA + \"_\" + SPLIT + \".csv\")\n",
    "y_train = pd.read_csv(\"../data/y_train\" + \"_\" + DATA + \"_\" + SPLIT + \".csv\")\n",
    "y_test = pd.read_csv(\"../data/y_test\" + \"_\" + DATA + \"_\" + SPLIT + \".csv\")\n",
    "y_train = y_train.values.ravel()\n",
    "y_test = y_test.values.ravel()"
   ]
  },
  {
   "cell_type": "code",
   "execution_count": 4,
   "metadata": {},
   "outputs": [],
   "source": [
    "# Load trained models\n",
    "\n",
    "MODELS = pickle.load(open(\"../data/MODELS\", \"rb\"))  # dict with names and trained models\n",
    "models = MODELS"
   ]
  },
  {
   "cell_type": "markdown",
   "metadata": {},
   "source": [
    "## Accuracies on train and test sets"
   ]
  },
  {
   "cell_type": "code",
   "execution_count": 5,
   "metadata": {},
   "outputs": [],
   "source": [
    "NB_FOLD = 5"
   ]
  },
  {
   "cell_type": "code",
   "execution_count": 6,
   "metadata": {},
   "outputs": [
    {
     "name": "stdout",
     "output_type": "stream",
     "text": [
      "----- Model: clf_lr -----\n",
      "Accuracy on the train set with cross-validation: \n",
      " - 0.72 with a standard deviation of 0.01\n",
      "Accuracy on the test set: \n",
      " - 0.72\n",
      "----- Model: clf_kn -----\n",
      "Accuracy on the train set with cross-validation: \n",
      " - 0.76 with a standard deviation of 0.01\n",
      "Accuracy on the test set: \n",
      " - 0.73\n",
      "----- Model: clf_dt -----\n",
      "Accuracy on the train set with cross-validation: \n",
      " - 0.71 with a standard deviation of 0.01\n",
      "Accuracy on the test set: \n",
      " - 0.71\n",
      "----- Model: clf_cnb -----\n",
      "Accuracy on the train set with cross-validation: \n",
      " - 0.59 with a standard deviation of 0.01\n",
      "Accuracy on the test set: \n",
      " - 0.58\n"
     ]
    }
   ],
   "source": [
    "for mod_name in models:\n",
    "    print(f\"----- Model: {mod_name} -----\")\n",
    "    scores_train = cross_val_score(models[mod_name], X_train, y_train, cv=NB_FOLD)\n",
    "    print(\"Accuracy on the train set with cross-validation: \\n - %0.2f with a standard deviation of %0.2f\" % (scores_train.mean(), scores_train.std()))\n",
    "    print(f\"Accuracy on the test set: \\n - {round(accuracy_score(y_test, models[mod_name].predict(X_test)), 2)}\")\n",
    "    "
   ]
  },
  {
   "cell_type": "markdown",
   "metadata": {},
   "source": [
    "## (Optional) Feature importance (FI)"
   ]
  },
  {
   "cell_type": "code",
   "execution_count": 7,
   "metadata": {},
   "outputs": [
    {
     "data": {
      "image/png": "[encoded data removed]",
      "text/plain": [
       "<Figure size 432x288 with 1 Axes>"
      ]
     },
     "metadata": {
      "needs_background": "light"
     },
     "output_type": "display_data"
    },
    {
     "data": {
      "image/png": "[encoded data removed]",
      "text/plain": [
       "<Figure size 432x288 with 1 Axes>"
      ]
     },
     "metadata": {
      "needs_background": "light"
     },
     "output_type": "display_data"
    },
    {
     "name": "stdout",
     "output_type": "stream",
     "text": [
      "\n",
      "\n",
      "clf_cnb has no feature importance outputs.\n"
     ]
    }
   ],
   "source": [
    "for mod_name in models:\n",
    "    if mod_name != \"clf_kn\":  # no FI for KN\n",
    "\n",
    "        if mod_name == \"clf_lr\":\n",
    "            pd.DataFrame(models[mod_name].coef_, columns=X_train.columns,\n",
    "                        index=[\"coef\"]).T.sort_values(by='coef',\n",
    "                        axis=0, ascending=False, key=abs).plot.bar(color='b')\n",
    "            if DATA == \"stInfo\":\n",
    "                plt.ylim((-2.5,2))\n",
    "            elif DATA == \"stAll\":\n",
    "                plt.ylim((-2.5,9.5))\n",
    "            plt.title(\"Logisitic regression\")\n",
    "        \n",
    "        elif mod_name == \"clf_dt\":\n",
    "            pd.DataFrame(models[mod_name].feature_importances_, index=X_train.columns,\n",
    "                         columns=[\"coef\"]).sort_values(by='coef', axis=0, ascending=False,\n",
    "                         key=abs).plot.bar(color='b')\n",
    "            if DATA == \"stInfo\":\n",
    "                plt.ylim((-2.5,2))\n",
    "            elif DATA == \"stAll\":\n",
    "                plt.ylim((-2.5,9.5))\n",
    "            plt.title(\"Decision tree\")\n",
    "        \n",
    "        elif mod_name == \"clf_rf\":\n",
    "            pd.DataFrame(models[mod_name].feature_importances_, index=X_train.columns,\n",
    "                         columns=[\"coef\"]).sort_values(by='coef', axis=0, ascending=False,\n",
    "                         key=abs).plot.bar(color='b')\n",
    "            if DATA == \"stInfo\":\n",
    "                plt.ylim((-2.5,2))\n",
    "            elif DATA == \"stAll\":\n",
    "                plt.ylim((-2.5,9.5))\n",
    "            plt.title(\"Random forest\")\n",
    "        \n",
    "        elif mod_name == \"clf_svc\":\n",
    "            pd.DataFrame(models[mod_name].coef_, columns=X_train.columns,\n",
    "                         index=[\"coef\"]).T.sort_values(by='coef',\n",
    "                         axis=0, ascending=False, key=abs).plot.bar(color='b')\n",
    "            if DATA == \"stInfo\":\n",
    "                plt.ylim((-2.5,2))\n",
    "            elif DATA == \"stAll\":\n",
    "                plt.ylim((-2.5,9.5))\n",
    "            plt.title(\"Linear support vector\")\n",
    "        \n",
    "        else:\n",
    "            print(\"\\n\")\n",
    "            print(f\"{mod_name} has no feature importance outputs.\")\n",
    "\n",
    "        plt.show()"
   ]
  }
 ],
 "metadata": {
  "kernelspec": {
   "display_name": "env",
   "language": "python",
   "name": "python3"
  },
  "language_info": {
   "codemirror_mode": {
    "name": "ipython",
    "version": 3
   },
   "file_extension": ".py",
   "mimetype": "text/x-python",
   "name": "python",
   "nbconvert_exporter": "python",
   "pygments_lexer": "ipython3",
   "version": "3.10.4"
  },
  "orig_nbformat": 4,
  "vscode": {
   "interpreter": {
    "hash": "5cef891c3fc98daa8792b401a053fdbb8f4a3a3dac726435bc2247b8e2bd1cdc"
   }
  }
 },
 "nbformat": 4,
 "nbformat_minor": 2
}
