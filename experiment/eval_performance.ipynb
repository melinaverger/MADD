{
 "cells": [
  {
   "cell_type": "code",
<<<<<<< HEAD
   "execution_count": 76,
=======
   "execution_count": 1,
>>>>>>> master-holder
   "metadata": {},
   "outputs": [],
   "source": [
    "\"\"\"\n",
    "Created on: Wed. 5 Oct. 2022\n",
    "Updated on: Mon. 14 Nov. 2022\n",
    "Updated on: Thu. 5 Jan. 2022\n",
<<<<<<< HEAD
<<<<<<< HEAD
=======
    "Updated on: Fri. 6 Jan. 2023\n",
>>>>>>> master-holder
=======
    "Updated on: Fri. 6 Jan. 2023\n",
>>>>>>> master-holder
    "Author: Mélina Verger\n",
    "\n",
    "Test the models and return their accuracies and feature importance.\n",
    "\"\"\"\n",
    "\n",
    "# For data manipulation\n",
    "import pandas as pd\n",
    "\n",
    "# To load the trained models\n",
    "import pickle\n",
    "\n",
    "# For cross-validation\n",
    "from sklearn.model_selection import cross_val_score\n",
    "\n",
    "# Metric\n",
    "from sklearn.metrics import accuracy_score\n",
    "\n",
    "# Plotting module\n",
<<<<<<< HEAD
<<<<<<< HEAD
    "import matplotlib.pyplot as plt"
=======
=======
>>>>>>> master-holder
    "import matplotlib.pyplot as plt\n",
    "\n",
    "import warnings\n",
    "warnings.simplefilter(action='ignore', category=FutureWarning)"
<<<<<<< HEAD
>>>>>>> master-holder
=======
>>>>>>> master-holder
   ]
  },
  {
   "cell_type": "markdown",
   "metadata": {},
   "source": [
    "## Load data sets and trained models"
   ]
  },
  {
   "cell_type": "code",
<<<<<<< HEAD
   "execution_count": 77,
=======
   "execution_count": 2,
>>>>>>> master-holder
   "metadata": {},
   "outputs": [
    {
     "name": "stdout",
     "output_type": "stream",
     "text": [
      "stClick\n",
      "7030\n"
     ]
    }
   ],
   "source": [
    "DATA = pickle.load(open(\"../data/DATA\", \"rb\"))\n",
    "SPLIT = pickle.load(open(\"../data/SPLIT\", \"rb\"))\n",
    "\n",
    "print(DATA)\n",
    "print(SPLIT)"
   ]
  },
  {
   "cell_type": "code",
<<<<<<< HEAD
   "execution_count": 78,
=======
   "execution_count": 3,
>>>>>>> master-holder
   "metadata": {},
   "outputs": [],
   "source": [
    "# Load train and test sets\n",
    "\n",
    "X_train = pd.read_csv(\"../data/X_train\" + \"_\" + DATA + \"_\" + SPLIT + \".csv\")\n",
    "X_test = pd.read_csv(\"../data/X_test\" + \"_\" + DATA + \"_\" + SPLIT + \".csv\")\n",
    "y_train = pd.read_csv(\"../data/y_train\" + \"_\" + DATA + \"_\" + SPLIT + \".csv\")\n",
    "y_test = pd.read_csv(\"../data/y_test\" + \"_\" + DATA + \"_\" + SPLIT + \".csv\")\n",
    "y_train = y_train.values.ravel()\n",
    "y_test = y_test.values.ravel()"
   ]
  },
  {
   "cell_type": "code",
<<<<<<< HEAD
   "execution_count": 79,
=======
   "execution_count": 4,
>>>>>>> master-holder
   "metadata": {},
   "outputs": [],
   "source": [
    "# Load trained models\n",
    "\n",
    "MODELS = pickle.load(open(\"../data/MODELS\", \"rb\"))  # dict with names and trained models\n",
    "models = MODELS"
   ]
  },
  {
   "cell_type": "markdown",
   "metadata": {},
   "source": [
    "## Accuracies on train and test sets"
   ]
  },
  {
   "cell_type": "code",
<<<<<<< HEAD
   "execution_count": 80,
=======
   "execution_count": 5,
>>>>>>> master-holder
   "metadata": {},
   "outputs": [],
   "source": [
    "NB_FOLD = 5"
   ]
  },
  {
   "cell_type": "code",
<<<<<<< HEAD
   "execution_count": 81,
=======
   "execution_count": 6,
>>>>>>> master-holder
   "metadata": {},
   "outputs": [
    {
     "name": "stdout",
     "output_type": "stream",
     "text": [
      "----- Model: clf_lr -----\n",
      "Accuracy on the train set with cross-validation: \n",
<<<<<<< HEAD
      " - 0.76 with a standard deviation of 0.01\n",
      "Accuracy on the test set: \n",
      " - 0.77\n",
      "----- Model: clf_dt -----\n",
      "Accuracy on the train set with cross-validation: \n",
      " - 0.71 with a standard deviation of 0.00\n",
=======
      " - 0.72 with a standard deviation of 0.01\n",
      "Accuracy on the test set: \n",
      " - 0.72\n",
      "----- Model: clf_kn -----\n",
      "Accuracy on the train set with cross-validation: \n",
      " - 0.76 with a standard deviation of 0.01\n",
      "Accuracy on the test set: \n",
      " - 0.73\n",
      "----- Model: clf_dt -----\n",
      "Accuracy on the train set with cross-validation: \n",
      " - 0.71 with a standard deviation of 0.01\n",
>>>>>>> master-holder
      "Accuracy on the test set: \n",
      " - 0.71\n",
      "----- Model: clf_cnb -----\n",
      "Accuracy on the train set with cross-validation: \n",
<<<<<<< HEAD
      " - 0.63 with a standard deviation of 0.01\n",
      "Accuracy on the test set: \n",
      " - 0.64\n",
      "----- Model: clf_mnb -----\n",
      "Accuracy on the train set with cross-validation: \n",
      " - 0.68 with a standard deviation of 0.00\n",
      "Accuracy on the test set: \n",
      " - 0.68\n"
=======
      " - 0.59 with a standard deviation of 0.01\n",
      "Accuracy on the test set: \n",
      " - 0.58\n"
>>>>>>> master-holder
     ]
    }
   ],
   "source": [
    "for mod_name in models:\n",
    "    print(f\"----- Model: {mod_name} -----\")\n",
    "    scores_train = cross_val_score(models[mod_name], X_train, y_train, cv=NB_FOLD)\n",
    "    print(\"Accuracy on the train set with cross-validation: \\n - %0.2f with a standard deviation of %0.2f\" % (scores_train.mean(), scores_train.std()))\n",
    "    print(f\"Accuracy on the test set: \\n - {round(accuracy_score(y_test, models[mod_name].predict(X_test)), 2)}\")\n",
    "    "
   ]
  },
  {
   "cell_type": "markdown",
   "metadata": {},
   "source": [
<<<<<<< HEAD
<<<<<<< HEAD
    "## Feature importance (FI)"
=======
    "## (Optional) Feature importance (FI)"
>>>>>>> master-holder
=======
    "## (Optional) Feature importance (FI)"
>>>>>>> master-holder
   ]
  },
  {
   "cell_type": "code",
<<<<<<< HEAD
   "execution_count": 82,
=======
   "execution_count": 7,
>>>>>>> master-holder
   "metadata": {},
   "outputs": [
    {
     "data": {
<<<<<<< HEAD
      "image/png": "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",
=======
      "image/png": "iVBORw0KGgoAAAANSUhEUgAAAXIAAAFwCAYAAACl7PACAAAAOXRFWHRTb2Z0d2FyZQBNYXRwbG90bGliIHZlcnNpb24zLjUuMiwgaHR0cHM6Ly9tYXRwbG90bGliLm9yZy8qNh9FAAAACXBIWXMAAAsTAAALEwEAmpwYAAAqA0lEQVR4nO3dd5gkZbn+8e9N0BUFFVhR4qIiEtwlLIKgoIAREDMiIHBU1IOZcxAP5qx4/AkYEEUQRZKCERFJiiC4S1DC6kERYRFlXQSWnO7fH1XN9s72JKanq97h/lxXX9NVXV31dM/MU2+99QbZJiIiyrVM0wFERMTEJJFHRBQuiTwionBJ5BERhUsij4goXBJ5REThksijUZKOkPShMWx3paTnj/D6zyXt3c/Y2kjSHpLOaDqOaBelHXmMlaRrgTfbPrPhOD4KPN32nk3GEdEWKZFH1CQt1+b9RQwniTwmTNKjJX1J0t/rx5ckPbrr9QMl3Vi/9mZJlvT0+rVjJH2yfr6qpJ9KukXSzZLOk7RM/dq1knaU9BLgf4DdJN0u6ff16+dKenPXMd8iaZ6kRZKukrTZMLFb0v6SrgaurtftLOmyOo4LJM3s2n4zSZfW+z1Z0old8T9f0nxJ75f0D+BoSctIOkjSXyQtlHSSpJXr7adJ+m69/hZJcyStVr+2j6Rr6uP8VdIeXet/0xXP1vX7bq1/bt312rmSPiHp/Ho/Z0hadSK/62inJPLoh4OBrYBNgFnAs4EPAtSJ933AjsDTgeePsJ8DgPnAdGA1qoS9RN2f7dOBTwMn2n6c7VlDdyLptcBHgTcCKwEvBxaOcNxXAFsCG0raFPgW8FZgFeDrwI/rk9WjgFOBY4CVgeOBVw7Z15Pr19YB9gPeWe9/O2B14N/AV+pt9wYeD6xVH+ttwF2SHgscBrzU9orA1sBlPT7nysDP6m1XAb4I/EzSKl2bvQHYF3gS8Cjgv0b4HqJQSeTRD3sAH7d9k+0FwMeAverXXgccbftK23dSJdjh3Ac8BVjH9n22z/PDu4nzZuDztue48mfbfxth+8/Yvtn2XVTJ9+u2L7L9gO1vA/dQnai2ApYDDqvjOwX43ZB9PQh8xPY99f7eBhxse77te+rP/5q62uU+qgT89PpYF9u+rWs/G0t6jO0bbV/ZI+6dgKttf8f2/baPB/4I7NK1zdG2/6+O5SSqk21MMUnk0Q+rA92J8m/1us5r13e91v18qEOAPwNn1NUKBz3MeNYC/jKO7btjWgc4oK7quEXSLfX+Vq8fNww5uQz9PAts3z1kf6d27Wse8ADVFcd3gF8AJ9TVTp+XtLztO4DdqE4CN0r6maRn9oh76PdOvbxG1/I/up7fCTyu91cQJUsij374O1XC6li7XgdwI7Bm12trDbcT24tsH2D7qVTVIe+TtEOvTUeJ53rgaaNG3Xt/1wOfsv2ErscKdWn3RmANSerafujnGRrb9VRVJN37m2b7hrpU/zHbG1JVn+xMVR2E7V/YfiHVFcofgW/0iHvo9w7Vd3/D2D96TAVJ5DFey9c36TqP5ajqij8oaXp9M+3DwHfr7U8C9pW0gaQVgGHbjNc3GZ9eJ8pbqUquD/bY9J/AjM6N0B6+CfyXpM1VebqkoQlvON8A3iZpy/q9j5W0k6QVgd/WMb1D0nKSdqW6HzCSI4BPdY5ff0e71s9fIOlZkpYFbqOqanlQ0mqSdq3ryu8Bbh/mezgNeIakN9Tx7AZsCPx0jJ81pogk8hiv04C7uh4fBT4JzAX+AFwOXFKvw/bPqW7GnUNVbXJhvZ97eux7PeBMqsT1W+Crts/psd3J9c+Fki4Z+qLtk4FPAd8DFgE/pLoBOSrbc4G3AF+mujH5Z2Cf+rV7gVcBbwJuAfakSpq9PkvHocCPqaqLFlF9/i3r154MfJ8qic8DfkVV3bIM1Q3ivwM3U90ofXuPWBdSleIPoLqZeyCws+1/jeWzxtSRDkExUJI2AK4AHm37/qbjmShJFwFH2D666VjikSsl8ph0kl5ZN997IvA54CelJnFJ20l6cl2VsTcwEzi96bjikS2JPAbhrcBNVC1JHqBHNUFB1gd+T1W1cgDwGts3NhpRPOKlaiUionApkUdEFK6RQX1WXXVVz5gxo4lDR0QU6+KLL/6X7elD1zeSyGfMmMHcuXObOHRERLEk9RxqIlUrERGFSyKPiChcEnlEROEyg0lEFOe+++5j/vz53H333aNvXKBp06ax5pprsvzyy49p+yTyiCjO/PnzWXHFFZkxYwZLDkZZPtssXLiQ+fPns+66647pPalaiYji3H333ayyyipTLokDSGKVVVYZ19VGEnlEFGkqJvGO8X62JPKIiMK1OpFL/X9ExNRTYp6455572HHHHdlkk0048cQTJ7Sv3OyMiGjApZdeCsBll1024X21ukQeEdFWxx57LDNnzmTWrFnstddeXHvttWy//fbMnDmTHXbYgeuuuw6ABQsW8OpXv5otttiCLbbYgvPPP5+bbrqJPffckzlz5rDJJpvwl7+MZ67wHmwP/LH55pt7LKD/j4go31VXXbXE8qDzxBVXXOH11lvPCxYssG0vXLjQO++8s4855hjb9lFHHeVdd93Vtr377rv7vPPOs23/7W9/8zOf+Uzb9jnnnOOddtppzJ+x+pzMdY+cmqqViIhxOvvss3nta1/LqquuCsDKK6/Mb3/7W0455RQA9tprLw488EAAzjzzTK666qqH3nvbbbdx++239zWeJPKIiEn04IMPcuGFFzJt2rRJO0bqyCMixmn77bfn5JNPZuHChQDcfPPNbL311pxwwgkAHHfccTzvec8D4EUvehGHH374Q+/tx83NoVIij4jiDXrGyo022oiDDz6Y7bbbjmWXXZZNN92Uww8/nH333ZdDDjmE6dOnc/TRRwNw2GGHsf/++zNz5kzuv/9+tt12W4444oi+xtPInJ2zZ8/2WCaWmIz2nJmiNKJ88+bNY4MNNmg6jEnV6zNKutj27KHbpmolIqJwSeQREYVLIo+IIjVRLTwo4/1sSeQRUZxp06axcOHCKZnMXY9HPp7mimNutSLpW8DOwE22N67XrQycCMwArgVeZ/vf44g5ImLc1lxzTebPn8+CBQuaDmVSdGYIGqvxND88BvgycGzXuoOAs2x/VtJB9fL7x7HPiIhxW3755cc8e84jwZirVmz/Grh5yOpdgW/Xz78NvKI/YUVExFhNtI58Nds31s//Aaw23IaS9pM0V9LcqXo5FBHRhL7d7KxH5hr2zoPtI23Ptj17+vTp/TpsRMQj3kQT+T8lPQWg/nnTxEOKiIjxmGgi/zGwd/18b+BHE9xfRESM05gTuaTjgd8C60uaL+lNwGeBF0q6GtixXo6IiAEac/ND27sP89IOfYolIiIehvTsjIgoXBJ5REThksgjIgqXRB4RUbgk8oiIwiWRR0QULok8IqJwSeQREYVLIo+IKFwSeURE4ZLIIyIKl0QeEVG4JPKIiMIlkUdEFC6JPCKicEnkERGFSyKPiChcEnlEROGSyCMiCpdEHhFRuCTyiIjC9SWRS3qvpCslXSHpeEnT+rHfiIgY3YQTuaQ1gHcBs21vDCwLvH6i+42IiLHpV9XKcsBjJC0HrAD8vU/7jYiIUUw4kdu+AfgCcB1wI3Cr7TOGbidpP0lzJc1dsGDBRA8bERG1flStPBHYFVgXWB14rKQ9h25n+0jbs23Pnj59+kQPGxERtX5UrewI/NX2Atv3AacAW/dhvxERMQb9SOTXAVtJWkGSgB2AeX3Yb0REjEE/6sgvAr4PXAJcXu/zyInuNyIixma5fuzE9keAj/RjXxERMT7p2RkRUbgk8oiIwiWRR0QULok8IqJwSeQREYVLIo+IKFwSeURE4ZLIIyIKl0QeEVG4JPKIiMIlkUdEFC6JPCKicEnkERGFSyKPiChcEnlEROGSyCMiCpdEHhFRuCTyiIjCJZFHRBQuiTwionBJ5BERhetLIpf0BEnfl/RHSfMkPacf+42IiNEt16f9HAqcbvs1kh4FrNCn/UZExCgmnMglPR7YFtgHwPa9wL0T3W9ERIxNP6pW1gUWAEdLulTSNyU9duhGkvaTNFfS3AULFvThsBERAf1J5MsBmwFfs70pcAdw0NCNbB9pe7bt2dOnT+/DYSMiAvqTyOcD821fVC9/nyqxR0TEAEw4kdv+B3C9pPXrVTsAV010vxERMTb9arXyTuC4usXKNcC+fdpvRESMoi+J3PZlwOx+7CsiIsYnPTsjIgqXRB4RUbgk8oiIwiWRR0QULok8IqJwSeQREYVLIo+IKFwSeURE4ZLIIyIKl0QeEVG4JPKIiMIlkUdEFC6JPCKicEnkERGFSyKPiChcEnlEROGSyCMiCpdEHhFRuCTyiIjCJZFHRBQuiTwionB9S+SSlpV0qaSf9mufERExun6WyN8NzOvj/iIiYgz6ksglrQnsBHyzH/uLiIix61eJ/EvAgcCDw20gaT9JcyXNXbBgQZ8OGxERE07kknYGbrJ98Ujb2T7S9mzbs6dPnz7Rw0ZERK0fJfJtgJdLuhY4Adhe0nf7sN+IiBiDCSdy2x+wvabtGcDrgbNt7znhyCIiYkzSjjwionDL9XNnts8Fzu3nPiMiYmQpkUdEFC6JPCKicEnkERGFSyKPiChcEnlEROGSyCMiCpdEHhFRuCTyiIjCJZFHRBQuiTwionBJ5BERhUsij4goXBJ5REThksgjIgqXRB4RUbgk8oiIwiWRR0QULok8IqJwSeQREYVLIo+IKFwSeURE4SacyCWtJekcSVdJulLSu/sRWEREjM1yfdjH/cABti+RtCJwsaRf2r6qD/uOiIhRTLhEbvtG25fUzxcB84A1JrrfiIgYm77WkUuaAWwKXNTjtf0kzZU0d8GCBf08bETEI1rfErmkxwE/AN5j+7ahr9s+0vZs27OnT5/er8NGRDzi9SWRS1qeKokfZ/uUfuwzIiLGZsI3OyUJOAqYZ/uLEw8pJovU/33a/d9nRIxPP0rk2wB7AdtLuqx+vKwP+42IiDGYcInc9m+ASSjrRUTEWKRnZ0RE4ZLIIyIKl0QeEVG4JPKIiMIlkUdEFC6JPCKicEnkERGFSyKPiChcEnlEROGSyCMiCpdEHhFRuCTyiIjCJZFHRBQuiTwionBJ5BERhUsij4goXBJ5REThksgjIgqXRB4RUbgk8oiIwvUlkUt6iaQ/SfqzpIP6sc+IeGSR+vt4JJlwIpe0LPAV4KXAhsDukjac6H4jImJs+lEifzbwZ9vX2L4XOAHYtQ/7jYiIMViuD/tYA7i+a3k+sOXQjSTtB+wHsPbaa49px3YfohuAybiMm4zPnu+zvxJn+/fZb239Lgd2s9P2kbZn2549ffr0QR02ImLK60eJ/AZgra7lNet1ERFTSluvGvpRIp8DrCdpXUmPAl4P/LgP+42IiDGYcInc9v2S3gH8AlgW+JbtKyccWUREjEk/qlawfRpwWj/2FRH91dbqgOif9OyMiChcX0rkEf1USgmylDhj6kuJPCKicEnkERGFSyKPiChcEnlEROGSyCMiCpdEHhFRuCTyiIjCJZFHRBQuiTwionBJ5BERhUsij4goXBJ5REThksgjIgqXRB4RUbgk8oiIwiWRR0QULok8IqJwSeQREYVLIo+IKNyEErmkQyT9UdIfJJ0q6Ql9iisiIsZooiXyXwIb254J/B/wgYmHFBER4zGhRG77DNv314sXAmtOPKSIiBiPftaR/wfw8+FelLSfpLmS5i5YsKCPh42IeGRbbrQNJJ0JPLnHSwfb/lG9zcHA/cBxw+3H9pHAkQCzZ8/2w4o2IiKWMmoit73jSK9L2gfYGdjBdhJ0RMSAjZrIRyLpJcCBwHa27+xPSOXJ6SsimjTROvIvAysCv5R0maQj+hBTRESMw4RK5Laf3q9AIiLi4UnPzoiIwiWRR0QULok8IqJwSeQREYVLIo+IKFwSeURE4ZLIIyIKpyZ61UtaAPytz7tdFfhXn/c5GRJn/5QQIyTOfnskx7mO7elDVzaSyCeDpLm2Zzcdx2gSZ/+UECMkzn5LnEtL1UpEROGSyCMiCjeVEvmRTQcwRomzf0qIERJnvyXOIaZMHXlExCPVVCqRR0Q8IiWRR0QULok8IqJwRSdySZv3WLdzE7FExOSTtELTMfQiaVlJ723q+EUncuAbkjbuLEjaHfhQg/H0JGkbSY+tn+8p6YuS1mk6rhJJOkXSTpJa/bdbyu9c0sWS9pf0xKZjGYmkrSVdBfyxXp4l6asNh/UQ2w8Auzd1/Fb/M4zBa4BjJT1T0luA/wRe1HBMvXwNuFPSLOAA4C/Asc2GtDRJr5J0taRbJd0maZGk25qOa4ivAm8Arpb0WUnrNx3QMIr4nQO7AasDcySdIOnFktR0UD38P+DFwEIA278Htm00oqWdL+nLkp4nabPOYxAHLr75oaRnAD8ErgNeafuuZiNamqRLbG8m6cPADbaP6qxrOrZukv4M7GJ7XtOxjEbS46lKQAcD1wPfAL5r+75GA6uV8jvvqK9wdqY6AT0AHA0cavvmRgOrSbrI9paSLrW9ab3u97ZnNR1bh6Rzeqy27e0n+9gTmny5KZIuB7rPQCsDywIXScL2zGYiG9YiSR8A9gS2rf9plm84pl7+WUgSX4Xqu9wLuBQ4DngusDfw/OYiW0Ipv3MkzQT2BV4G/IDF3+fZwCbNRbaE6yVtDVjS8sC7gVb9rdp+QVPHLrJEPlpdo+1+j6w4IZKeTFUdMMf2eZLWBp5vu1WX2pIOBZ5MdYVzT2e97VOaimkoSacC6wPfAY6xfWPXa60ZTKmg3/nFwC3AUcAPbN/T9doptl/VVGzdJK0KHArsCAg4A3i37YWNBtZF0mrAp4HVbb9U0obAc2wfNenHLjGRd0jaCrjS9qJ6eSVgA9sXNRvZkiR9zvb7R1vXNElH91ht2/8x8GCGIelltk8bsu7R3QmoDQr6nT/V9jVD1q1r+69NxVQqST+nqpI62PYsScsBl9p+1qQfu/BEfimwmesPUV++zm1bPWSvulFJf2hhFVDrDfNdtq7uuZTf+TBxXmx7qaa9TZJ0WI/Vt1L9v/9o0PH0ImmO7S2G1ONfZnuTyT52kXXkXeSuM5HtB+uzYCtIejtVS5qnSvpD10srAuc3E9XwJK0JHA5sU686j+rydX5zUVXqqoo1gMdI2pTq8hpgJaA1bYtH+Z1f0ExUS5P0TGAj4PGSuqtPVgKmNRPViKYBzwROrpdfDfwVmCXpBbbf01RgXe6o7990CpZbUZ1sJl1rkt7DdI2kd1HdaYfqH+iaEbYftO8BPwc+AxzUtX5RW1oDDHE0VcyvrZf3rNe9sLGIFnsxsA+wJvC/LE7ktwH/01BMvZTyO1+fqpXKE4BdutYvAt7SRECjmAlsU7fXRtLXqAoazwUubzKwLu8Dfgw8TdL5wHSqJtKTrvSqlScBhwHbU50FzwLeY/umRgProW5P+lyqOM+3fUnDIS2l12XgoC4Nx6KuOtvd9nFNxzIcSSvZvk3Syr1eb1kyR9JzbP+26ThGI+lPwLNt31ovPx74ne31u6symlbXCKxPVdD406CawxZdIq8T9uubjmM0kj4EvA7otP44WtLJtj/ZYFi9LJS0J3B8vbw7dQeMNqirzt5L1Tyurb5HVdK9mOqk3d25xsBTmwhqKEkH2v488AZVPaKXYPtdDYQ1ks8Dl0k6l+o73Rb4tKres2c2GdiQqqluz6ibQ096q68iS+SdP0JJh7Nke3KgfX+EdWlilu276+XHAJfZblWvxLpZ5+HAc6i+1wuAd9m+rtHAukj6LNWEticCd3TWt62k23aSdrH9E0l793rd9rcHHdNoJK1O1XdgHvA4YL7tXzcb1RKtvZ4EbE3V/h7gBcAFtid9/KdSS+SdjgBzG41i7P5OdbPm7nr50cANzYXTW93+/uVNxzGK3eqf+3eta1NJd8TWM22pUrP9k/pn6xJ2L5LeTNUJaE3gMmAr4LdU1aqNsr0vgKQzgA07fRskPQU4ZhAxFFkiL42kHwJbAL+kSjovBH4HzIfmryBKu8Jps65u2tOA2cDvqaoCZlI1lXtOU7F1k/QTevyuO2y36oRe9+beArjQ9iZ1q5tPt6XDEoCkebY36FpehqqfywYjvK0viiyRl/ZHCJxaPzrObSiO4RRzhaNqGNP3AWvb3k/SesD6tn/acGjA4m7akk6h6uNweb28MfDRBkMb6gtNBzBOd9u+W1KnA9gf1b4B086S9AsW32PajQHV3xeZyCnsj7Dtl6+dy2zgTtsnd78m6bU93tKko6luJG5dL99A1ba4FYm8y/qdJA5g+wpJk14yGyvbv2o6hnGaL+kJVMNH/FLSv4FWDcVh+x31jc/n1auOtH3qSO/pl6KrVuo71nfZfrBeXhZ4tO07m41sSaomu/gEsA7VyVNUXd9XajSwIUroNdkZT0UtHgUPQNLxVDdjv1uv2gN4nO3GxqzuJukk26/T0gPQdf42W9UDtZuk7YDHA6fbvrfpeNqg1BJ5x1lUg+jcXi8/hmowna2HfUczvgS8CrjcLTxzSnop1ch3awzpCr0ScH8zUQ3r3rrVT6f33NPoGuCrRfYF3k51gw7g1yzuuNYGnbiKm1GrrVcTdWn8c1StV8QAC2ylJ/JptjtJHNu3q51TQV0PXNHGJF77O1X9+Mupqi06FgGNTV81jI8CpwNrSTqOajiBfZoMqJe6PvcI4DTbf2o6nqE6LSts/60e/uDZVCfHObb/0Whw5fo8DY3nX3rVyvnAOztNulTN4fnltrQM6JC0BVXVyq9YcnjYLzYWVA+Slh9UT7SJqMez2IqqxHOh7X81HNJSJL0cOAR4lO11JW0CfLxtN+LrZn0fpmr7LGA7qji/1WhgBZJ0vu1tRt9yEo5deCLfAjiBqkQpqrG0d7N98YhvHLC6fentVGNCPNhZb/tjjQXVQ90C5DPAhnQNnGS7FW204aEWS98Dfmz7jtG2b4qqcb63B87tqsu/3AMY0nQ86s5qW7se17s+SV7Qts5qJVCD4/kXXbVie07dnrTzR7fE2AaSXmj7l81Et4TVbW88+maNOxr4CNX8iC+gqudt27yuX6Bq1vVZSXOoTuQ/7fSabZH7bN+qJae/bGOpaSFVFVrHIlo0LENhVgLuZMl5g83ioTkmTdEl8tG0pcWFpM8DZ9o+o+lYRtIZh7q75KgWjk0ND7VQ2p5qpL6XtLAF0FFUN+MPohpy9V3A8rbf1mhgNUnvq59uAjwL+BFV0tkV+IPtfZqJLB6OtpW2+q0ts4G/HThd0t1q7+z0APfUvdGulvQOSa+kGtOiVepWK68G3kbV26+N7fTfSTXe9z1UVUG3Au9pMqAhVqwff6GqCuiU6H5ENc53jJOkZ0g6S9IV9fJMSR8cyLFTIo+O+p7DPKoxqj9Bdal4iO0Lm4yrm6STqFpYnE41cNavOv0I2qK+WjjTDU7GG4Mn6VfAfwNf77ovcsUgqlWLriMvhaqK0j2AdW1/QtJawFNs/67h0JZge0799Haq+vE2OopqTPIHmg5kOLYfkPSgpMe7Hj+7rSRNBw6kunrovsHd+GBUBVrB9u+G3BcZSD+MqV61cm3TAdS+SjU07Bvq5duBrzQXTm+Sfll3g+4sP7EeO6JNzgb2l/T9+vFOScs3HVQPtwOXSzpK0mGdR9NB9XAc8EdgXeBjVP8zc0Z6QwzrX3UHtU5ntdcANw7iwEVXrdSXsDsBM+i6umhh++xLbG9WQLfyh+IbaV2TJH0TWJ7F9eJ7AQ/YfnNzUS1NhYzz3XWD+6GJoVVPItx0bKWR9FTgSKqe5f+mutewRz089KQqvWrlJ1RjfC/RPruF7qtPOp0z9XTaGe+DktZ2PZGEqokm2nam32LICfBsSb9vLJrhfZ9qxL7OHJPLUo1D3zad5ro3StqJqk9Gz2nqYlSvAE4DzqGq7bgD2LE+WV42mQcuPZGv2ebBfbocRjWM7ZMkfYpqQtYPNRtSTwcDv6lv2ohqFLf9mg1pKQ9Ieprtv8BDpaA21peXMg7QJ1XNf3kA1exQK9G+YRlKMbt+/Jjq/2dP4A/A21RN7fj5yTpw6VUrnwPOanv7bIC649IOVL/gs5oYj2EsJK1K1f0dWtj9XdIOVB2XrqlXzQD2tX3OsG9qgFo+kXX0n6RfAy/rjP8k6XHAz4CXABfb3nCyjl36zc4LgVMl3dXm9tmSvmP7j7a/YvvLtudJ+k7TcQ0laVuq7vm31Y8N63Vtcj7wdaqqqZvr522cBf4OdU37Vo8DdFeD8fQk6fOSVpK0fN0GeoGqCbhj/J7EkiNx3gesZvsuJnmEztKrVr5I1RqklcPDdtmoe6GuL21db0mqNrAd06jaa3fGDGmLY6lOMp+ol98AfAdo2wQY7wFOlrTEOECNRtTbi2wfWHf+upZquOVfs3gc9Ri744CLJP2oXt4F+J6qeROumswDl57IWz08rKQPAP8DPKbrSkHAvcA3GgtsGLZ36V6u27t/qZlohrXxkEvUcyRN6j/Jw1HQOECdHLATcHKP8WFijOo+Ij+nGloZ4G22O9Mn7jGZxy69jvwYqtnTf067h4f9jO0PNB3HeNUdma6czLq98ZL0Xaqhii+sl7cE9rf9xmYjG5+29DqW9Fmq1hZ3UV2BPYFqELItGwwrxqn0Evlf68ej6kdbPXvoCkln2d6hiWCGI+lwFjc3XIZqQKVLGguot82BCyRdVy+vDfxJ9ZRlhbRigpaMA2T7oHpQt1vrHql3UA2cFQUpOpG3bTzvoSRNAx4LrCrpiSz+510JWKOxwIY3t+v5/cDxts9vKphhvKTpAPqk0UthSdvbPlvV9GSddd2bTPrQq9E/RSdySefQ4x+iReNEvJXqptfqVDcNO/8ptwFfbiimYbWt12Evg+gl9wixLdVwB7tQ/Q9pyM8k8oIUnciB/+p6Po1qaNPWTBZs+1DgUEnvtH140/EMR0vPpL6EgqorSnJtw8dfpGpM8itYnMChfT15YwyKTuQ9pnQ7X1KrRhQEsH24pI1Zegq1Y5uLagmdmdT3r3922rjvSf6xx6W7qqKXzrRftkfcbgA648yvTzWm+4+okvkuQOv+h2Jkpbda6R4TYhmq7rGHtm2+QUkfAZ5PlchPA14K/Mb2a5qMa6hhBs1qReuKUkg6un76JKru+GfXyy+gmgtz555vbEjdG3En24vq5RWBn9luW0ewGEHRJXKqeufOZeF9VJerb2oyoGG8BpgFXGp7X0mr0c4OF5K0TecGp6StKb/370DZ3hcemnB7Q9s31stPAY5pMLThrEbVr6Hj3npdFKT0RP5+4HTbt0n6ELAZ1eSnbXOX7Qcl3S9pJeAmYK2mg+rhTcC36kGUAG4B/qO5cIq2VieJ1/5J1VSybY4Ffifp1Hr5FbTzhBMjKD2Rf9D2SZKeS9WN/AvA14C2dWaYW0/Y8A2qq4jbaeH4IPU9h1mdRN722W1a7qx6Uo7j6+XdgDMbjKcn25+qeyM+r161r+1Lm4wpxq/0OvJLbW8q6TNU4618r20TIQwlaQawku0/dK3byPaVzUX1UByrAZ8GVrf9UkkbAs+xfVTDoRWpHr+kU9f8a9unjrR9xMNVeiL/KXAD8EKqapW7gN+1bead0bTlhmJdMjsaONj2LEnLUdXrP6vh0IpUT8yxnu0zJa0ALNu5qRjRT6XfyHod8AvgxbZvoZrZ5L9HfEc7taK7NrCq7ZOoZy+yfT/tnLSh9SS9hWqWoK/Xq9YAfthYQDGlFV1HbvtOunqg1TeXBjLZaZ+15bLoDkmrsHhKuq2A1JM/PPtTjbFzEYDtqyU9qdmQYqoqOpFH372Papqqp0k6H5hO1XQyxu8e2/d2xi+pq6nacsKOKSaJvB3uHX2TyWf7EknbUfX2E+0dQ7sEv5LUGYv+hcB/Uk0WHtF3Rd/sLIWkn1A1Q/uR7TuajufhastN2RJIWoaqXf6LqE6KvwC+2dZJUKJsSeQDUJdyd6OahWUOcALV4P13NxrYOLW9aWfEI1US+QDVc3VuD7wFeIntlRoOaVxSIh+dpJNsv264ESUzkmRMhtSRD4ikx1CNLLcbVZv31o/9HQ/Lu+ufrRocK6a2JPIBkHQSVVO006kmlPiV7QebjWppkh5t+54R1l07+KjK0hlfJRNgxCClamUAJL0YONN2qzvX9Ko6SXXK+EhaxMiTdBRVnRZlSIl8MM4DPiBpbdv7SVoPWN/2T5sODEDSk6l6Hj5G0qYsObfoCo0FViDbKwJI+gRV57TvUH2fewBPaTC0mMJSIh8ASSdSjXr4Rtsb1+NuXGB7k2Yjq0jaG9iHamKOOSxO5IuAYzqz2sTYSfr90DF/eq2L6IeUyAfjabZ3k7Q7VEMLaMiU5U2qJ13+tqRX2/5B0/FMEXdI2oOqqamB3YFi+xBEu5U+aFYp7q1brXTGMHkacM/Ib2nEmpJWUuWbki6R9KKmgyrUG6gGdftn/XhtvS6i71K1MgB1F+0PUs3ZeQawDbCP7XObjGuozqV/fXP2bVQxfyc3OyPaLVUrk6zuqv1E4FXAVlT1z++2/a9GA+utU93zMuBY21e2qQqoJPUkzL06BGXqvOi7lMgHQNJc27ObjmM0dfJZA1iXarLoZYFzbW/eaGAFkvTqrsVpwCuBv9t+V0MhxRSWRD4Akj4L/As4ka4bXrZvbiyoHuqrh02Aa2zfUo9Nvkb3tHTx8NTf7W9sb910LDH1pGplMHarf+7ftc7AUxuIZSSmqsffGfg48Fiq0mRM3HpAJpaISZESeTxE0teopnnb3vYGkp4InGF7i4ZDK06PHp7/AD6Q5p0xGVIiHwBJ06gmFngu1T/3ecARLRzGdkvbm0m6FMD2vyU9qumgStTp4RkxCGlHPhjHAhsBh1MNmrURVdfttrmvHmq30959OvVEzDE+ks4ay7qIfkiJfDA2tr1h1/I5kq5qLJrhHQacCjxJ0qeo5uv8YLMhlaW++loBWLWumuoet2aNxgKLKS2JfDAukbSV7QsBJG0JzG04pqXYPk7SxcAOVAnoFbbnNRxWad4KvAdYnWp8HVFd4SyiuiKL6Lvc7BwASfOoJjS+rl61NvAn4H7AbZo1pq5aWY2uk7zt64Z/R/Qi6cPAl2zfJulDVJOJfML2JQ2HFlNQEvkASFpnlE1us/3vgQQzAknvBD5CNTbIA9SlyTadaEoh6Q+2Z0p6LvAJ4AvAh21v2XBoMQWlamUARpstRtIlVCW2pr2bapz0hU0HMgV0JhHZCfiG7Z9J+mSTAcXUlVYr7dCW8UyuB25tOogp4gZJX6fqDHaapEeT/7eYJKlaaYGmp1OT9L766UZUdfk/o2uYXdtfbCKuktWTh7wEuNz21ZKeAjzL9hkNhxZTUKpWAqDTeeW6+vGo+hEPk+07gVO6lm+kmvotou9SIp9Ekta1/dcxbHep7U0HEVNETD1J5JNI0sW2N5d0lu0dRthu5TaMhCjpJyw9hvatVG3ev97CIQUiglStTLZlJP0P8IyueuiHdOqe25DEa9cA04Hj6+XdqDqyPAP4BrBXQ3FFxAiSyCfX64FXUH3PJQyitPWQkQ5/ImmO7S0kXdlYVBExoiTySWT7T8Dn6s4hP286njF4nKS1Oz05Ja0NPK5+7d7mwoqIkSSRD8YFkr4IbFsv/wr4uO22tdk+APiNpL9QtW1fF/hPSY8Fvt1oZBExrNzsHABJPwCuYHEy3AuYZftVzUXVW91x5Zn14p9ygzOi/ZLIB0DSZbY3GW1dUyRtb/tsST1PLLZP6bU+ItohVSuDcZek59r+DYCkbYC7Go6p23bA2cAu9XLn7N4ZgjWJPKLFUiIfAEmzqGYJeny96t/A3m2bnb6eFOHVwAwWn+Rt++ONBRURo0qJfABs/x6YJWmlevm27tcl7W27DTcTfwjcAlwCdOrGc6aPaLmUyFug6UGzuuK4wvbGTccREeOTYTXboS3D2F4g6VlNBxER45OqlXZo9LJI0uV1DMsB+0q6hmoY28wQFFGAJPJ2aLpEvnPDx4+ICUgib4fzmzz4aFPRRUS75WbnAEh6AvBGlmzWh+13NRRSREwhKZEPxmnAhcDlwIMNxxIRU0xK5APQluaFETE1JZEPgKT3ArcDP2XJSY3bMqFERBQsVSuDcS9wCHAwi5saGnhqYxFFxJSREvkA1O2yn237X03HEhFTT3p2DsafgTubDiIipqZUrQzGHcBlks5hyTryND+MiAlLIh+MH9aPiIi+Sx15REThUiIfAEl/pcfAWLbTaiUiJiyJfDBmdz2fBrwWWLmhWCJiiknVSkMkXWx786bjiIjypUQ+AJK6u+cvQ1VCz3cfEX2RZDIY/8viOvL7gWupqlciIiYsVSsDkNnpI2IypUQ+GD9k6dnpIyL6IiXyAcjs9BExmTLWymBkdvqImDQpkQ+ApKuApwN/JbPTR0SfJZEPgKR1eq3PpMcR0Q9J5BERhUsdeURE4ZLIIyIKl0QeEVG4JPKIiML9f7zbel3xvStuAAAAAElFTkSuQmCC",
>>>>>>> master-holder
      "text/plain": [
       "<Figure size 432x288 with 1 Axes>"
      ]
     },
     "metadata": {
      "needs_background": "light"
     },
     "output_type": "display_data"
    },
    {
     "data": {
<<<<<<< HEAD
      "image/png": "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",
=======
      "image/png": "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",
>>>>>>> master-holder
      "text/plain": [
       "<Figure size 432x288 with 1 Axes>"
      ]
     },
     "metadata": {
      "needs_background": "light"
     },
     "output_type": "display_data"
    },
    {
     "name": "stdout",
     "output_type": "stream",
     "text": [
      "\n",
      "\n",
<<<<<<< HEAD
      "clf_cnb has no feature importance outputs.\n",
      "\n",
      "\n",
      "clf_mnb has no feature importance outputs.\n"
=======
      "clf_cnb has no feature importance outputs.\n"
>>>>>>> master-holder
     ]
    }
   ],
   "source": [
    "for mod_name in models:\n",
    "    if mod_name != \"clf_kn\":  # no FI for KN\n",
    "\n",
    "        if mod_name == \"clf_lr\":\n",
    "            pd.DataFrame(models[mod_name].coef_, columns=X_train.columns,\n",
    "                        index=[\"coef\"]).T.sort_values(by='coef',\n",
    "                        axis=0, ascending=False, key=abs).plot.bar(color='b')\n",
    "            if DATA == \"stInfo\":\n",
    "                plt.ylim((-2.5,2))\n",
    "            elif DATA == \"stAll\":\n",
    "                plt.ylim((-2.5,9.5))\n",
    "            plt.title(\"Logisitic regression\")\n",
    "        \n",
    "        elif mod_name == \"clf_dt\":\n",
    "            pd.DataFrame(models[mod_name].feature_importances_, index=X_train.columns,\n",
    "                         columns=[\"coef\"]).sort_values(by='coef', axis=0, ascending=False,\n",
    "                         key=abs).plot.bar(color='b')\n",
    "            if DATA == \"stInfo\":\n",
    "                plt.ylim((-2.5,2))\n",
    "            elif DATA == \"stAll\":\n",
    "                plt.ylim((-2.5,9.5))\n",
    "            plt.title(\"Decision tree\")\n",
    "        \n",
    "        elif mod_name == \"clf_rf\":\n",
    "            pd.DataFrame(models[mod_name].feature_importances_, index=X_train.columns,\n",
    "                         columns=[\"coef\"]).sort_values(by='coef', axis=0, ascending=False,\n",
    "                         key=abs).plot.bar(color='b')\n",
    "            if DATA == \"stInfo\":\n",
    "                plt.ylim((-2.5,2))\n",
    "            elif DATA == \"stAll\":\n",
    "                plt.ylim((-2.5,9.5))\n",
    "            plt.title(\"Random forest\")\n",
    "        \n",
    "        elif mod_name == \"clf_svc\":\n",
    "            pd.DataFrame(models[mod_name].coef_, columns=X_train.columns,\n",
    "                         index=[\"coef\"]).T.sort_values(by='coef',\n",
    "                         axis=0, ascending=False, key=abs).plot.bar(color='b')\n",
    "            if DATA == \"stInfo\":\n",
    "                plt.ylim((-2.5,2))\n",
    "            elif DATA == \"stAll\":\n",
    "                plt.ylim((-2.5,9.5))\n",
    "            plt.title(\"Linear support vector\")\n",
    "        \n",
    "        else:\n",
    "            print(\"\\n\")\n",
    "            print(f\"{mod_name} has no feature importance outputs.\")\n",
    "\n",
    "        plt.show()"
   ]
  }
 ],
 "metadata": {
  "kernelspec": {
   "display_name": "Python 3.10.4 ('env': venv)",
   "language": "python",
   "name": "python3"
  },
  "language_info": {
   "codemirror_mode": {
    "name": "ipython",
    "version": 3
   },
   "file_extension": ".py",
   "mimetype": "text/x-python",
   "name": "python",
   "nbconvert_exporter": "python",
   "pygments_lexer": "ipython3",
   "version": "3.10.4"
  },
  "orig_nbformat": 4,
  "vscode": {
   "interpreter": {
<<<<<<< HEAD
<<<<<<< HEAD
    "hash": "6f232859c35808c32414ed7392a3d2d166834ac936b1e4fa11fad72d2414503a"
=======
    "hash": "7794b610cce7cccecfd60aa985ac55dc433fec93c81a2cb6a4f77df7b18549da"
>>>>>>> master-holder
=======
    "hash": "21c4ed702692d19955eb0025fa7aa561bec320aaa8d61ef761b1902fdff2beb6"
>>>>>>> master-holder
   }
  }
 },
 "nbformat": 4,
 "nbformat_minor": 2
}
