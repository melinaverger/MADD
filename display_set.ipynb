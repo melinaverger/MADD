{
 "cells": [
  {
   "cell_type": "code",
   "execution_count": 53,
   "metadata": {},
   "outputs": [
    {
     "data": {
      "text/plain": [
       "'\\nCreated on: Fri. 30 Sep. 2022\\nAuthor: Mélina Verger\\n'"
      ]
     },
     "execution_count": 53,
     "metadata": {},
     "output_type": "execute_result"
    }
   ],
   "source": [
    "\"\"\"\n",
    "Created on: Fri. 30 Sep. 2022\n",
    "Author: Mélina Verger\n",
    "\n",
    "Get to know the different sets.\n",
    "\"\"\""
   ]
  },
  {
   "cell_type": "code",
   "execution_count": 54,
   "metadata": {},
   "outputs": [],
   "source": [
    "## Libraries\n",
    "\n",
    "# For data manipulation\n",
    "import pandas as pd\n",
    "\n",
    "# To handle ZIP files\n",
    "import zipfile\n",
    "\n",
    "# For the drop-down list\n",
    "from ipywidgets import interact \n",
    "\n",
    "# To display a DataFrame when printed\n",
    "from IPython.display import display"
   ]
  },
  {
   "cell_type": "code",
   "execution_count": 55,
   "metadata": {},
   "outputs": [],
   "source": [
    "zf = zipfile.ZipFile(\"./data/data.zip\") "
   ]
  },
  {
   "cell_type": "code",
   "execution_count": 56,
   "metadata": {},
   "outputs": [
    {
     "name": "stdout",
     "output_type": "stream",
     "text": [
      "File Name                                             Modified             Size\n",
      "studentAssessment.csv                          2015-09-25 12:36:10      5690310\n",
      "studentVle.csv                                 2015-09-25 12:36:12    453836331\n",
      "assessments.csv                                2015-09-25 12:36:24         8200\n",
      "courses.csv                                    2015-09-25 12:36:24          526\n",
      "studentInfo.csv                                2015-09-25 12:36:24      3461652\n",
      "studentRegistration.csv                        2015-09-25 12:36:24      1109984\n",
      "vle.csv                                        2015-09-25 12:36:24       260126\n"
     ]
    }
   ],
   "source": [
    "# Print what is inside the zip folder (and retrieve all the files names)\n",
    "files = zf.namelist()\n",
    "zf.printdir()"
   ]
  },
  {
   "cell_type": "markdown",
   "metadata": {},
   "source": [
    "## Display a set"
   ]
  },
  {
   "cell_type": "code",
   "execution_count": 57,
   "metadata": {},
   "outputs": [],
   "source": [
    "def table(set_show : str):\n",
    "    df = pd.read_csv(zf.open(set_show))\n",
    "    display(df.head())\n",
    "    return df\n",
    "\n",
    "def display_table(set_exp : str):\n",
    "    \"\"\"Execute actions from choose_set() and table() in a row.\"\"\"\n",
    "    print(\"Choose the name of the set to explore. Wait for loading.\")\n",
    "    data = table(set_exp)"
   ]
  },
  {
   "cell_type": "code",
   "execution_count": 58,
   "metadata": {},
   "outputs": [
    {
     "data": {
      "application/vnd.jupyter.widget-view+json": {
       "model_id": "153c01a4656047f8bbfe48dd6abc8045",
       "version_major": 2,
       "version_minor": 0
      },
      "text/plain": [
       "interactive(children=(Dropdown(description='set_exp', options=('studentAssessment.csv', 'studentVle.csv', 'ass…"
      ]
     },
     "metadata": {},
     "output_type": "display_data"
    }
   ],
   "source": [
    "response = input(\"Do you want to display a set? y/n\")\n",
    "\n",
    "if response == 'y':\n",
    "    interact(display_table, set_exp=files)  # drop-down list\n",
    "\n",
    "else:\n",
    "    print(\"You choose 'no'.\")"
   ]
  }
 ],
 "metadata": {
  "kernelspec": {
   "display_name": "Python 3.10.4 ('env': venv)",
   "language": "python",
   "name": "python3"
  },
  "language_info": {
   "codemirror_mode": {
    "name": "ipython",
    "version": 3
   },
   "file_extension": ".py",
   "mimetype": "text/x-python",
   "name": "python",
   "nbconvert_exporter": "python",
   "pygments_lexer": "ipython3",
   "version": "3.10.4"
  },
  "orig_nbformat": 4,
  "vscode": {
   "interpreter": {
    "hash": "6f232859c35808c32414ed7392a3d2d166834ac936b1e4fa11fad72d2414503a"
   }
  }
 },
 "nbformat": 4,
 "nbformat_minor": 2
}
